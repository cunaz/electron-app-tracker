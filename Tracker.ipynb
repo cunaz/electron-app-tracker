{
 "cells": [
  {
   "cell_type": "markdown",
   "id": "a87e1929-bbb8-4f3b-8e19-faaf9e5aa092",
   "metadata": {},
   "source": [
    "# Electron Vulnerability Tracker: The Notebook\n",
    "\n",
    "This notebook serves as a PoC as well proof of execution of the script."
   ]
  },
  {
   "cell_type": "code",
   "execution_count": 163,
   "id": "4f66512b-d32f-467f-a120-68219f989e81",
   "metadata": {
    "tags": []
   },
   "outputs": [],
   "source": [
    "# Set Autreload\n",
    "%load_ext autoreload\n",
    "%autoreload 2"
   ]
  },
  {
   "cell_type": "code",
   "execution_count": 164,
   "id": "6319ece1-191a-457c-b497-747e04893c7c",
   "metadata": {
    "tags": []
   },
   "outputs": [],
   "source": [
    "# Import Deps\n",
    "from electron_tracker import *\n",
    "# Set Logging Level\n",
    "LOG_LEVEL = INFO"
   ]
  },
  {
   "cell_type": "code",
   "execution_count": 159,
   "id": "bb4cba4a-c9cd-454f-9e11-801d521d310e",
   "metadata": {
    "tags": []
   },
   "outputs": [],
   "source": [
    "# Define Globals\n",
    "PACKAGE_JSON = \"package.json\"\n"
   ]
  },
  {
   "cell_type": "code",
   "execution_count": 166,
   "id": "d0294dd1-cdc2-4826-b4f1-fc1ecfbed941",
   "metadata": {
    "tags": []
   },
   "outputs": [],
   "source": [
    "with open(\"electron_apps.csv\") as f:\n",
    "    reader = csv.DictReader(f)\n",
    "    apps = [l for l in reader]\n"
   ]
  },
  {
   "cell_type": "code",
   "execution_count": 195,
   "id": "aa74bc2c-82e1-47bc-bdc4-83611b9d3d9e",
   "metadata": {
    "tags": []
   },
   "outputs": [],
   "source": [
    "for a in apps:\n",
    "    if a[\"repo\"] == \"None\":\n",
    "        a[\"repo\"] = \"\""
   ]
  },
  {
   "cell_type": "code",
   "execution_count": 168,
   "id": "8b4429c5-2393-4fbb-80c5-5f4d730822db",
   "metadata": {
    "tags": []
   },
   "outputs": [],
   "source": [
    "apps_with_repos = [a for a in apps if a[\"repo\"] != \"\"]"
   ]
  },
  {
   "cell_type": "code",
   "execution_count": 169,
   "id": "3cd10a0a-f076-44b8-8b09-5259f0d5efcc",
   "metadata": {
    "tags": []
   },
   "outputs": [
    {
     "data": {
      "text/plain": [
       "{'app_name': 'Advanced REST Client',\n",
       " 'repo': 'https://github.com/advanced-rest-client/arc-electron',\n",
       " 'electron_version': '^17.0.0',\n",
       " 'vulnerable_cve_2023_4863': 'TRUE',\n",
       " 'date_accessed': None}"
      ]
     },
     "execution_count": 169,
     "metadata": {},
     "output_type": "execute_result"
    }
   ],
   "source": [
    "apps_with_repos[1]"
   ]
  },
  {
   "cell_type": "code",
   "execution_count": 68,
   "id": "78f8e1a6-f3b5-435d-b0e2-4d5265c25999",
   "metadata": {
    "tags": []
   },
   "outputs": [],
   "source": [
    "apps_missing_versions = [a for a in apps_with_repos if a[\"electron_version\"] == \"\"]"
   ]
  },
  {
   "cell_type": "code",
   "execution_count": 196,
   "id": "4c782105-de26-44d7-b989-1d9e1f69e1e7",
   "metadata": {},
   "outputs": [
    {
     "data": {
      "text/html": [
       "<pre style=\"white-space:pre;overflow-x:auto;line-height:normal;font-family:Menlo,'DejaVu Sans Mono',consolas,'Courier New',monospace\"><span style=\"color: #008080; text-decoration-color: #008080; font-weight: bold\">[+] Getting repo: </span><span style=\"color: #008080; text-decoration-color: #008080; font-weight: bold; text-decoration: underline\">https://github.com/wiziple/1clipboard</span>\n",
       "</pre>\n"
      ],
      "text/plain": [
       "\u001b[1;36m[\u001b[0m\u001b[1;36m+\u001b[0m\u001b[1;36m]\u001b[0m\u001b[1;36m Getting repo: \u001b[0m\u001b[1;4;36mhttps://github.com/wiziple/1clipboard\u001b[0m\n"
      ]
     },
     "metadata": {},
     "output_type": "display_data"
    },
    {
     "data": {
      "text/html": [
       "<pre style=\"white-space:pre;overflow-x:auto;line-height:normal;font-family:Menlo,'DejaVu Sans Mono',consolas,'Courier New',monospace\"><span style=\"color: #008080; text-decoration-color: #008080; font-weight: bold\">[+] Successfully retrieved repo: </span><span style=\"color: #008080; text-decoration-color: #008080; font-weight: bold; text-decoration: underline\">https://github.com/wiziple/1clipboard</span>\n",
       "</pre>\n"
      ],
      "text/plain": [
       "\u001b[1;36m[\u001b[0m\u001b[1;36m+\u001b[0m\u001b[1;36m]\u001b[0m\u001b[1;36m Successfully retrieved repo: \u001b[0m\u001b[1;4;36mhttps://github.com/wiziple/1clipboard\u001b[0m\n"
      ]
     },
     "metadata": {},
     "output_type": "display_data"
    },
    {
     "data": {
      "text/html": [
       "<pre style=\"white-space:pre;overflow-x:auto;line-height:normal;font-family:Menlo,'DejaVu Sans Mono',consolas,'Courier New',monospace\"><span style=\"color: #ff5f00; text-decoration-color: #ff5f00; font-weight: bold\">[!] Package.json not found at root; trying directories</span>\n",
       "</pre>\n"
      ],
      "text/plain": [
       "\u001b[1;38;5;202m[\u001b[0m\u001b[1;38;5;202m!\u001b[0m\u001b[1;38;5;202m]\u001b[0m\u001b[1;38;5;202m Package.json not found at root; trying directories\u001b[0m\n"
      ]
     },
     "metadata": {},
     "output_type": "display_data"
    },
    {
     "data": {
      "text/html": [
       "<pre style=\"white-space:pre;overflow-x:auto;line-height:normal;font-family:Menlo,'DejaVu Sans Mono',consolas,'Courier New',monospace\"><span style=\"color: #008080; text-decoration-color: #008080; font-weight: bold\">[+] Trying </span><span style=\"color: #008080; text-decoration-color: #008080; font-weight: bold; text-decoration: underline\">https://github.com/wiziple/1Clipboard/tree/master/resources/github</span>\n",
       "</pre>\n"
      ],
      "text/plain": [
       "\u001b[1;36m[\u001b[0m\u001b[1;36m+\u001b[0m\u001b[1;36m]\u001b[0m\u001b[1;36m Trying \u001b[0m\u001b[1;4;36mhttps://github.com/wiziple/1Clipboard/tree/master/resources/github\u001b[0m\n"
      ]
     },
     "metadata": {},
     "output_type": "display_data"
    },
    {
     "data": {
      "text/html": [
       "<pre style=\"white-space:pre;overflow-x:auto;line-height:normal;font-family:Menlo,'DejaVu Sans Mono',consolas,'Courier New',monospace\"><span style=\"color: #800000; text-decoration-color: #800000; font-weight: bold\">[💀] Could not find package.json in first-level-subdirs</span>\n",
       "</pre>\n"
      ],
      "text/plain": [
       "\u001b[1;31m[\u001b[0m\u001b[1;31m💀\u001b[0m\u001b[1;31m]\u001b[0m\u001b[1;31m Could not find package.json in first-level-subdirs\u001b[0m\n"
      ]
     },
     "metadata": {},
     "output_type": "display_data"
    },
    {
     "data": {
      "text/html": [
       "<pre style=\"white-space:pre;overflow-x:auto;line-height:normal;font-family:Menlo,'DejaVu Sans Mono',consolas,'Courier New',monospace\"><span style=\"color: #008080; text-decoration-color: #008080; font-weight: bold\">[+] Getting repo: </span><span style=\"color: #008080; text-decoration-color: #008080; font-weight: bold; text-decoration: underline\">https://github.com/advanced-rest-client/arc-electron</span>\n",
       "</pre>\n"
      ],
      "text/plain": [
       "\u001b[1;36m[\u001b[0m\u001b[1;36m+\u001b[0m\u001b[1;36m]\u001b[0m\u001b[1;36m Getting repo: \u001b[0m\u001b[1;4;36mhttps://github.com/advanced-rest-client/arc-electron\u001b[0m\n"
      ]
     },
     "metadata": {},
     "output_type": "display_data"
    },
    {
     "data": {
      "text/html": [
       "<pre style=\"white-space:pre;overflow-x:auto;line-height:normal;font-family:Menlo,'DejaVu Sans Mono',consolas,'Courier New',monospace\"><span style=\"color: #008080; text-decoration-color: #008080; font-weight: bold\">[+] Successfully retrieved repo: </span><span style=\"color: #008080; text-decoration-color: #008080; font-weight: bold; text-decoration: underline\">https://github.com/advanced-rest-client/arc-electron</span>\n",
       "</pre>\n"
      ],
      "text/plain": [
       "\u001b[1;36m[\u001b[0m\u001b[1;36m+\u001b[0m\u001b[1;36m]\u001b[0m\u001b[1;36m Successfully retrieved repo: \u001b[0m\u001b[1;4;36mhttps://github.com/advanced-rest-client/arc-electron\u001b[0m\n"
      ]
     },
     "metadata": {},
     "output_type": "display_data"
    },
    {
     "data": {
      "text/html": [
       "<pre style=\"white-space:pre;overflow-x:auto;line-height:normal;font-family:Menlo,'DejaVu Sans Mono',consolas,'Courier New',monospace\"><span style=\"color: #008080; text-decoration-color: #008080; font-weight: bold\">[+] Found package.json at /</span>\n",
       "</pre>\n"
      ],
      "text/plain": [
       "\u001b[1;36m[\u001b[0m\u001b[1;36m+\u001b[0m\u001b[1;36m]\u001b[0m\u001b[1;36m Found package.json at \u001b[0m\u001b[1;36m/\u001b[0m\n"
      ]
     },
     "metadata": {},
     "output_type": "display_data"
    },
    {
     "data": {
      "text/html": [
       "<pre style=\"white-space:pre;overflow-x:auto;line-height:normal;font-family:Menlo,'DejaVu Sans Mono',consolas,'Courier New',monospace\"><span style=\"color: #008080; text-decoration-color: #008080; font-weight: bold\">[+] Getting </span><span style=\"color: #008080; text-decoration-color: #008080; font-weight: bold; text-decoration: underline\">https://github.com/advanced-rest-client/arc-electron/blob/master/package.json</span>\n",
       "</pre>\n"
      ],
      "text/plain": [
       "\u001b[1;36m[\u001b[0m\u001b[1;36m+\u001b[0m\u001b[1;36m]\u001b[0m\u001b[1;36m Getting \u001b[0m\u001b[1;4;36mhttps://github.com/advanced-rest-client/arc-electron/blob/master/package.json\u001b[0m\n"
      ]
     },
     "metadata": {},
     "output_type": "display_data"
    },
    {
     "data": {
      "text/html": [
       "<pre style=\"white-space:pre;overflow-x:auto;line-height:normal;font-family:Menlo,'DejaVu Sans Mono',consolas,'Courier New',monospace\"><span style=\"color: #008080; text-decoration-color: #008080; font-weight: bold\">[+] Getting repo: </span><span style=\"color: #008080; text-decoration-color: #008080; font-weight: bold; text-decoration: underline\">https://github.com/leinelissen/aeon</span>\n",
       "</pre>\n"
      ],
      "text/plain": [
       "\u001b[1;36m[\u001b[0m\u001b[1;36m+\u001b[0m\u001b[1;36m]\u001b[0m\u001b[1;36m Getting repo: \u001b[0m\u001b[1;4;36mhttps://github.com/leinelissen/aeon\u001b[0m\n"
      ]
     },
     "metadata": {},
     "output_type": "display_data"
    },
    {
     "data": {
      "text/html": [
       "<pre style=\"white-space:pre;overflow-x:auto;line-height:normal;font-family:Menlo,'DejaVu Sans Mono',consolas,'Courier New',monospace\"><span style=\"color: #008080; text-decoration-color: #008080; font-weight: bold\">[+] Successfully retrieved repo: </span><span style=\"color: #008080; text-decoration-color: #008080; font-weight: bold; text-decoration: underline\">https://github.com/leinelissen/aeon</span>\n",
       "</pre>\n"
      ],
      "text/plain": [
       "\u001b[1;36m[\u001b[0m\u001b[1;36m+\u001b[0m\u001b[1;36m]\u001b[0m\u001b[1;36m Successfully retrieved repo: \u001b[0m\u001b[1;4;36mhttps://github.com/leinelissen/aeon\u001b[0m\n"
      ]
     },
     "metadata": {},
     "output_type": "display_data"
    },
    {
     "data": {
      "text/html": [
       "<pre style=\"white-space:pre;overflow-x:auto;line-height:normal;font-family:Menlo,'DejaVu Sans Mono',consolas,'Courier New',monospace\"><span style=\"color: #008080; text-decoration-color: #008080; font-weight: bold\">[+] Found package.json at /</span>\n",
       "</pre>\n"
      ],
      "text/plain": [
       "\u001b[1;36m[\u001b[0m\u001b[1;36m+\u001b[0m\u001b[1;36m]\u001b[0m\u001b[1;36m Found package.json at \u001b[0m\u001b[1;36m/\u001b[0m\n"
      ]
     },
     "metadata": {},
     "output_type": "display_data"
    },
    {
     "data": {
      "text/html": [
       "<pre style=\"white-space:pre;overflow-x:auto;line-height:normal;font-family:Menlo,'DejaVu Sans Mono',consolas,'Courier New',monospace\"><span style=\"color: #008080; text-decoration-color: #008080; font-weight: bold\">[+] Getting </span><span style=\"color: #008080; text-decoration-color: #008080; font-weight: bold; text-decoration: underline\">https://github.com/leinelissen/aeon/blob/master/package.json</span>\n",
       "</pre>\n"
      ],
      "text/plain": [
       "\u001b[1;36m[\u001b[0m\u001b[1;36m+\u001b[0m\u001b[1;36m]\u001b[0m\u001b[1;36m Getting \u001b[0m\u001b[1;4;36mhttps://github.com/leinelissen/aeon/blob/master/package.json\u001b[0m\n"
      ]
     },
     "metadata": {},
     "output_type": "display_data"
    },
    {
     "data": {
      "text/html": [
       "<pre style=\"white-space:pre;overflow-x:auto;line-height:normal;font-family:Menlo,'DejaVu Sans Mono',consolas,'Courier New',monospace\"><span style=\"color: #008080; text-decoration-color: #008080; font-weight: bold\">[+] Getting repo: </span><span style=\"color: #008080; text-decoration-color: #008080; font-weight: bold; text-decoration: underline\">https://github.com/aethereans/aether-app</span>\n",
       "</pre>\n"
      ],
      "text/plain": [
       "\u001b[1;36m[\u001b[0m\u001b[1;36m+\u001b[0m\u001b[1;36m]\u001b[0m\u001b[1;36m Getting repo: \u001b[0m\u001b[1;4;36mhttps://github.com/aethereans/aether-app\u001b[0m\n"
      ]
     },
     "metadata": {},
     "output_type": "display_data"
    },
    {
     "data": {
      "text/html": [
       "<pre style=\"white-space:pre;overflow-x:auto;line-height:normal;font-family:Menlo,'DejaVu Sans Mono',consolas,'Courier New',monospace\"><span style=\"color: #008080; text-decoration-color: #008080; font-weight: bold\">[+] Successfully retrieved repo: </span><span style=\"color: #008080; text-decoration-color: #008080; font-weight: bold; text-decoration: underline\">https://github.com/aethereans/aether-app</span>\n",
       "</pre>\n"
      ],
      "text/plain": [
       "\u001b[1;36m[\u001b[0m\u001b[1;36m+\u001b[0m\u001b[1;36m]\u001b[0m\u001b[1;36m Successfully retrieved repo: \u001b[0m\u001b[1;4;36mhttps://github.com/aethereans/aether-app\u001b[0m\n"
      ]
     },
     "metadata": {},
     "output_type": "display_data"
    },
    {
     "data": {
      "text/html": [
       "<pre style=\"white-space:pre;overflow-x:auto;line-height:normal;font-family:Menlo,'DejaVu Sans Mono',consolas,'Courier New',monospace\"><span style=\"color: #ff5f00; text-decoration-color: #ff5f00; font-weight: bold\">[!] Package.json not found at root; trying directories</span>\n",
       "</pre>\n"
      ],
      "text/plain": [
       "\u001b[1;38;5;202m[\u001b[0m\u001b[1;38;5;202m!\u001b[0m\u001b[1;38;5;202m]\u001b[0m\u001b[1;38;5;202m Package.json not found at root; trying directories\u001b[0m\n"
      ]
     },
     "metadata": {},
     "output_type": "display_data"
    },
    {
     "data": {
      "text/html": [
       "<pre style=\"white-space:pre;overflow-x:auto;line-height:normal;font-family:Menlo,'DejaVu Sans Mono',consolas,'Courier New',monospace\"><span style=\"color: #008080; text-decoration-color: #008080; font-weight: bold\">[+] Trying </span><span style=\"color: #008080; text-decoration-color: #008080; font-weight: bold; text-decoration: underline\">https://github.com/aethereans/aether-app/tree/master/.github</span>\n",
       "</pre>\n"
      ],
      "text/plain": [
       "\u001b[1;36m[\u001b[0m\u001b[1;36m+\u001b[0m\u001b[1;36m]\u001b[0m\u001b[1;36m Trying \u001b[0m\u001b[1;4;36mhttps://github.com/aethereans/aether-app/tree/master/.github\u001b[0m\n"
      ]
     },
     "metadata": {},
     "output_type": "display_data"
    },
    {
     "data": {
      "text/html": [
       "<pre style=\"white-space:pre;overflow-x:auto;line-height:normal;font-family:Menlo,'DejaVu Sans Mono',consolas,'Courier New',monospace\"><span style=\"color: #008080; text-decoration-color: #008080; font-weight: bold\">[+] Trying </span><span style=\"color: #008080; text-decoration-color: #008080; font-weight: bold; text-decoration: underline\">https://github.com/aethereans/aether-app/tree/master/aether-core</span>\n",
       "</pre>\n"
      ],
      "text/plain": [
       "\u001b[1;36m[\u001b[0m\u001b[1;36m+\u001b[0m\u001b[1;36m]\u001b[0m\u001b[1;36m Trying \u001b[0m\u001b[1;4;36mhttps://github.com/aethereans/aether-app/tree/master/aether-core\u001b[0m\n"
      ]
     },
     "metadata": {},
     "output_type": "display_data"
    },
    {
     "data": {
      "text/html": [
       "<pre style=\"white-space:pre;overflow-x:auto;line-height:normal;font-family:Menlo,'DejaVu Sans Mono',consolas,'Courier New',monospace\"><span style=\"color: #800000; text-decoration-color: #800000; font-weight: bold\">[💀] Could not find package.json in first-level-subdirs</span>\n",
       "</pre>\n"
      ],
      "text/plain": [
       "\u001b[1;31m[\u001b[0m\u001b[1;31m💀\u001b[0m\u001b[1;31m]\u001b[0m\u001b[1;31m Could not find package.json in first-level-subdirs\u001b[0m\n"
      ]
     },
     "metadata": {},
     "output_type": "display_data"
    },
    {
     "data": {
      "text/html": [
       "<pre style=\"white-space:pre;overflow-x:auto;line-height:normal;font-family:Menlo,'DejaVu Sans Mono',consolas,'Courier New',monospace\"><span style=\"color: #008080; text-decoration-color: #008080; font-weight: bold\">[+] Getting repo: </span><span style=\"color: #008080; text-decoration-color: #008080; font-weight: bold; text-decoration: underline\">https://github.com/netless-io/flat</span>\n",
       "</pre>\n"
      ],
      "text/plain": [
       "\u001b[1;36m[\u001b[0m\u001b[1;36m+\u001b[0m\u001b[1;36m]\u001b[0m\u001b[1;36m Getting repo: \u001b[0m\u001b[1;4;36mhttps://github.com/netless-io/flat\u001b[0m\n"
      ]
     },
     "metadata": {},
     "output_type": "display_data"
    },
    {
     "data": {
      "text/html": [
       "<pre style=\"white-space:pre;overflow-x:auto;line-height:normal;font-family:Menlo,'DejaVu Sans Mono',consolas,'Courier New',monospace\"><span style=\"color: #008080; text-decoration-color: #008080; font-weight: bold\">[+] Successfully retrieved repo: </span><span style=\"color: #008080; text-decoration-color: #008080; font-weight: bold; text-decoration: underline\">https://github.com/netless-io/flat</span>\n",
       "</pre>\n"
      ],
      "text/plain": [
       "\u001b[1;36m[\u001b[0m\u001b[1;36m+\u001b[0m\u001b[1;36m]\u001b[0m\u001b[1;36m Successfully retrieved repo: \u001b[0m\u001b[1;4;36mhttps://github.com/netless-io/flat\u001b[0m\n"
      ]
     },
     "metadata": {},
     "output_type": "display_data"
    },
    {
     "data": {
      "text/html": [
       "<pre style=\"white-space:pre;overflow-x:auto;line-height:normal;font-family:Menlo,'DejaVu Sans Mono',consolas,'Courier New',monospace\"><span style=\"color: #008080; text-decoration-color: #008080; font-weight: bold\">[+] Found package.json at /</span>\n",
       "</pre>\n"
      ],
      "text/plain": [
       "\u001b[1;36m[\u001b[0m\u001b[1;36m+\u001b[0m\u001b[1;36m]\u001b[0m\u001b[1;36m Found package.json at \u001b[0m\u001b[1;36m/\u001b[0m\n"
      ]
     },
     "metadata": {},
     "output_type": "display_data"
    },
    {
     "data": {
      "text/html": [
       "<pre style=\"white-space:pre;overflow-x:auto;line-height:normal;font-family:Menlo,'DejaVu Sans Mono',consolas,'Courier New',monospace\"><span style=\"color: #008080; text-decoration-color: #008080; font-weight: bold\">[+] Getting </span><span style=\"color: #008080; text-decoration-color: #008080; font-weight: bold; text-decoration: underline\">https://github.com/netless-io/flat/blob/main/package.json</span>\n",
       "</pre>\n"
      ],
      "text/plain": [
       "\u001b[1;36m[\u001b[0m\u001b[1;36m+\u001b[0m\u001b[1;36m]\u001b[0m\u001b[1;36m Getting \u001b[0m\u001b[1;4;36mhttps://github.com/netless-io/flat/blob/main/package.json\u001b[0m\n"
      ]
     },
     "metadata": {},
     "output_type": "display_data"
    },
    {
     "data": {
      "text/html": [
       "<pre style=\"white-space:pre;overflow-x:auto;line-height:normal;font-family:Menlo,'DejaVu Sans Mono',consolas,'Courier New',monospace\"><span style=\"color: #008080; text-decoration-color: #008080; font-weight: bold\">[+] Getting repo: </span><span style=\"color: #008080; text-decoration-color: #008080; font-weight: bold; text-decoration: underline\">https://github.com/imolorhe/altair</span>\n",
       "</pre>\n"
      ],
      "text/plain": [
       "\u001b[1;36m[\u001b[0m\u001b[1;36m+\u001b[0m\u001b[1;36m]\u001b[0m\u001b[1;36m Getting repo: \u001b[0m\u001b[1;4;36mhttps://github.com/imolorhe/altair\u001b[0m\n"
      ]
     },
     "metadata": {},
     "output_type": "display_data"
    },
    {
     "data": {
      "text/html": [
       "<pre style=\"white-space:pre;overflow-x:auto;line-height:normal;font-family:Menlo,'DejaVu Sans Mono',consolas,'Courier New',monospace\"><span style=\"color: #008080; text-decoration-color: #008080; font-weight: bold\">[+] Successfully retrieved repo: </span><span style=\"color: #008080; text-decoration-color: #008080; font-weight: bold; text-decoration: underline\">https://github.com/imolorhe/altair</span>\n",
       "</pre>\n"
      ],
      "text/plain": [
       "\u001b[1;36m[\u001b[0m\u001b[1;36m+\u001b[0m\u001b[1;36m]\u001b[0m\u001b[1;36m Successfully retrieved repo: \u001b[0m\u001b[1;4;36mhttps://github.com/imolorhe/altair\u001b[0m\n"
      ]
     },
     "metadata": {},
     "output_type": "display_data"
    },
    {
     "data": {
      "text/html": [
       "<pre style=\"white-space:pre;overflow-x:auto;line-height:normal;font-family:Menlo,'DejaVu Sans Mono',consolas,'Courier New',monospace\"><span style=\"color: #008080; text-decoration-color: #008080; font-weight: bold\">[+] Found package.json at /</span>\n",
       "</pre>\n"
      ],
      "text/plain": [
       "\u001b[1;36m[\u001b[0m\u001b[1;36m+\u001b[0m\u001b[1;36m]\u001b[0m\u001b[1;36m Found package.json at \u001b[0m\u001b[1;36m/\u001b[0m\n"
      ]
     },
     "metadata": {},
     "output_type": "display_data"
    },
    {
     "data": {
      "text/html": [
       "<pre style=\"white-space:pre;overflow-x:auto;line-height:normal;font-family:Menlo,'DejaVu Sans Mono',consolas,'Courier New',monospace\"><span style=\"color: #008080; text-decoration-color: #008080; font-weight: bold\">[+] Getting </span><span style=\"color: #008080; text-decoration-color: #008080; font-weight: bold; text-decoration: underline\">https://github.com/altair-graphql/altair/blob/master/package.json</span>\n",
       "</pre>\n"
      ],
      "text/plain": [
       "\u001b[1;36m[\u001b[0m\u001b[1;36m+\u001b[0m\u001b[1;36m]\u001b[0m\u001b[1;36m Getting \u001b[0m\u001b[1;4;36mhttps://github.com/altair-graphql/altair/blob/master/package.json\u001b[0m\n"
      ]
     },
     "metadata": {},
     "output_type": "display_data"
    },
    {
     "data": {
      "text/html": [
       "<pre style=\"white-space:pre;overflow-x:auto;line-height:normal;font-family:Menlo,'DejaVu Sans Mono',consolas,'Courier New',monospace\"><span style=\"color: #008080; text-decoration-color: #008080; font-weight: bold\">[+] Getting repo: </span><span style=\"color: #008080; text-decoration-color: #008080; font-weight: bold; text-decoration: underline\">https://github.com/Fabio286/antares</span>\n",
       "</pre>\n"
      ],
      "text/plain": [
       "\u001b[1;36m[\u001b[0m\u001b[1;36m+\u001b[0m\u001b[1;36m]\u001b[0m\u001b[1;36m Getting repo: \u001b[0m\u001b[1;4;36mhttps://github.com/Fabio286/antares\u001b[0m\n"
      ]
     },
     "metadata": {},
     "output_type": "display_data"
    },
    {
     "data": {
      "text/html": [
       "<pre style=\"white-space:pre;overflow-x:auto;line-height:normal;font-family:Menlo,'DejaVu Sans Mono',consolas,'Courier New',monospace\"><span style=\"color: #008080; text-decoration-color: #008080; font-weight: bold\">[+] Successfully retrieved repo: </span><span style=\"color: #008080; text-decoration-color: #008080; font-weight: bold; text-decoration: underline\">https://github.com/Fabio286/antares</span>\n",
       "</pre>\n"
      ],
      "text/plain": [
       "\u001b[1;36m[\u001b[0m\u001b[1;36m+\u001b[0m\u001b[1;36m]\u001b[0m\u001b[1;36m Successfully retrieved repo: \u001b[0m\u001b[1;4;36mhttps://github.com/Fabio286/antares\u001b[0m\n"
      ]
     },
     "metadata": {},
     "output_type": "display_data"
    },
    {
     "data": {
      "text/html": [
       "<pre style=\"white-space:pre;overflow-x:auto;line-height:normal;font-family:Menlo,'DejaVu Sans Mono',consolas,'Courier New',monospace\"><span style=\"color: #008080; text-decoration-color: #008080; font-weight: bold\">[+] Found package.json at /</span>\n",
       "</pre>\n"
      ],
      "text/plain": [
       "\u001b[1;36m[\u001b[0m\u001b[1;36m+\u001b[0m\u001b[1;36m]\u001b[0m\u001b[1;36m Found package.json at \u001b[0m\u001b[1;36m/\u001b[0m\n"
      ]
     },
     "metadata": {},
     "output_type": "display_data"
    },
    {
     "data": {
      "text/html": [
       "<pre style=\"white-space:pre;overflow-x:auto;line-height:normal;font-family:Menlo,'DejaVu Sans Mono',consolas,'Courier New',monospace\"><span style=\"color: #008080; text-decoration-color: #008080; font-weight: bold\">[+] Getting </span><span style=\"color: #008080; text-decoration-color: #008080; font-weight: bold; text-decoration: underline\">https://github.com/antares-sql/antares/blob/master/package.json</span>\n",
       "</pre>\n"
      ],
      "text/plain": [
       "\u001b[1;36m[\u001b[0m\u001b[1;36m+\u001b[0m\u001b[1;36m]\u001b[0m\u001b[1;36m Getting \u001b[0m\u001b[1;4;36mhttps://github.com/antares-sql/antares/blob/master/package.json\u001b[0m\n"
      ]
     },
     "metadata": {},
     "output_type": "display_data"
    },
    {
     "data": {
      "text/html": [
       "<pre style=\"white-space:pre;overflow-x:auto;line-height:normal;font-family:Menlo,'DejaVu Sans Mono',consolas,'Courier New',monospace\"><span style=\"color: #008080; text-decoration-color: #008080; font-weight: bold\">[+] Getting repo: </span><span style=\"color: #008080; text-decoration-color: #008080; font-weight: bold; text-decoration: underline\">https://github.com/appium/appium-desktop</span>\n",
       "</pre>\n"
      ],
      "text/plain": [
       "\u001b[1;36m[\u001b[0m\u001b[1;36m+\u001b[0m\u001b[1;36m]\u001b[0m\u001b[1;36m Getting repo: \u001b[0m\u001b[1;4;36mhttps://github.com/appium/appium-desktop\u001b[0m\n"
      ]
     },
     "metadata": {},
     "output_type": "display_data"
    },
    {
     "data": {
      "text/html": [
       "<pre style=\"white-space:pre;overflow-x:auto;line-height:normal;font-family:Menlo,'DejaVu Sans Mono',consolas,'Courier New',monospace\"><span style=\"color: #008080; text-decoration-color: #008080; font-weight: bold\">[+] Successfully retrieved repo: </span><span style=\"color: #008080; text-decoration-color: #008080; font-weight: bold; text-decoration: underline\">https://github.com/appium/appium-desktop</span>\n",
       "</pre>\n"
      ],
      "text/plain": [
       "\u001b[1;36m[\u001b[0m\u001b[1;36m+\u001b[0m\u001b[1;36m]\u001b[0m\u001b[1;36m Successfully retrieved repo: \u001b[0m\u001b[1;4;36mhttps://github.com/appium/appium-desktop\u001b[0m\n"
      ]
     },
     "metadata": {},
     "output_type": "display_data"
    },
    {
     "data": {
      "text/html": [
       "<pre style=\"white-space:pre;overflow-x:auto;line-height:normal;font-family:Menlo,'DejaVu Sans Mono',consolas,'Courier New',monospace\"><span style=\"color: #008080; text-decoration-color: #008080; font-weight: bold\">[+] Found package.json at /</span>\n",
       "</pre>\n"
      ],
      "text/plain": [
       "\u001b[1;36m[\u001b[0m\u001b[1;36m+\u001b[0m\u001b[1;36m]\u001b[0m\u001b[1;36m Found package.json at \u001b[0m\u001b[1;36m/\u001b[0m\n"
      ]
     },
     "metadata": {},
     "output_type": "display_data"
    },
    {
     "data": {
      "text/html": [
       "<pre style=\"white-space:pre;overflow-x:auto;line-height:normal;font-family:Menlo,'DejaVu Sans Mono',consolas,'Courier New',monospace\"><span style=\"color: #008080; text-decoration-color: #008080; font-weight: bold\">[+] Getting </span><span style=\"color: #008080; text-decoration-color: #008080; font-weight: bold; text-decoration: underline\">https://github.com/appium/appium-desktop/blob/master/package.json</span>\n",
       "</pre>\n"
      ],
      "text/plain": [
       "\u001b[1;36m[\u001b[0m\u001b[1;36m+\u001b[0m\u001b[1;36m]\u001b[0m\u001b[1;36m Getting \u001b[0m\u001b[1;4;36mhttps://github.com/appium/appium-desktop/blob/master/package.json\u001b[0m\n"
      ]
     },
     "metadata": {},
     "output_type": "display_data"
    },
    {
     "data": {
      "text/html": [
       "<pre style=\"white-space:pre;overflow-x:auto;line-height:normal;font-family:Menlo,'DejaVu Sans Mono',consolas,'Courier New',monospace\"><span style=\"color: #008080; text-decoration-color: #008080; font-weight: bold\">[+] Getting repo: </span><span style=\"color: #008080; text-decoration-color: #008080; font-weight: bold; text-decoration: underline\">https://github.com/tazzben/Assessment-Disaggregation.git</span>\n",
       "</pre>\n"
      ],
      "text/plain": [
       "\u001b[1;36m[\u001b[0m\u001b[1;36m+\u001b[0m\u001b[1;36m]\u001b[0m\u001b[1;36m Getting repo: \u001b[0m\u001b[1;4;36mhttps://github.com/tazzben/Assessment-Disaggregation.git\u001b[0m\n"
      ]
     },
     "metadata": {},
     "output_type": "display_data"
    },
    {
     "data": {
      "text/html": [
       "<pre style=\"white-space:pre;overflow-x:auto;line-height:normal;font-family:Menlo,'DejaVu Sans Mono',consolas,'Courier New',monospace\"><span style=\"color: #008080; text-decoration-color: #008080; font-weight: bold\">[+] Successfully retrieved repo: </span><span style=\"color: #008080; text-decoration-color: #008080; font-weight: bold; text-decoration: underline\">https://github.com/tazzben/Assessment-Disaggregation.git</span>\n",
       "</pre>\n"
      ],
      "text/plain": [
       "\u001b[1;36m[\u001b[0m\u001b[1;36m+\u001b[0m\u001b[1;36m]\u001b[0m\u001b[1;36m Successfully retrieved repo: \u001b[0m\u001b[1;4;36mhttps://github.com/tazzben/Assessment-Disaggregation.git\u001b[0m\n"
      ]
     },
     "metadata": {},
     "output_type": "display_data"
    },
    {
     "data": {
      "text/html": [
       "<pre style=\"white-space:pre;overflow-x:auto;line-height:normal;font-family:Menlo,'DejaVu Sans Mono',consolas,'Courier New',monospace\"><span style=\"color: #008080; text-decoration-color: #008080; font-weight: bold\">[+] Found package.json at /</span>\n",
       "</pre>\n"
      ],
      "text/plain": [
       "\u001b[1;36m[\u001b[0m\u001b[1;36m+\u001b[0m\u001b[1;36m]\u001b[0m\u001b[1;36m Found package.json at \u001b[0m\u001b[1;36m/\u001b[0m\n"
      ]
     },
     "metadata": {},
     "output_type": "display_data"
    },
    {
     "data": {
      "text/html": [
       "<pre style=\"white-space:pre;overflow-x:auto;line-height:normal;font-family:Menlo,'DejaVu Sans Mono',consolas,'Courier New',monospace\"><span style=\"color: #008080; text-decoration-color: #008080; font-weight: bold\">[+] Getting </span><span style=\"color: #008080; text-decoration-color: #008080; font-weight: bold; text-decoration: underline\">https://github.com/tazzben/Assessment-Disaggregation/blob/main/package.json</span>\n",
       "</pre>\n"
      ],
      "text/plain": [
       "\u001b[1;36m[\u001b[0m\u001b[1;36m+\u001b[0m\u001b[1;36m]\u001b[0m\u001b[1;36m Getting \u001b[0m\u001b[1;4;36mhttps://github.com/tazzben/Assessment-Disaggregation/blob/main/package.json\u001b[0m\n"
      ]
     },
     "metadata": {},
     "output_type": "display_data"
    },
    {
     "data": {
      "text/html": [
       "<pre style=\"white-space:pre;overflow-x:auto;line-height:normal;font-family:Menlo,'DejaVu Sans Mono',consolas,'Courier New',monospace\"><span style=\"color: #008080; text-decoration-color: #008080; font-weight: bold\">[+] Getting repo: </span><span style=\"color: #008080; text-decoration-color: #008080; font-weight: bold; text-decoration: underline\">https://github.com/atom/atom</span>\n",
       "</pre>\n"
      ],
      "text/plain": [
       "\u001b[1;36m[\u001b[0m\u001b[1;36m+\u001b[0m\u001b[1;36m]\u001b[0m\u001b[1;36m Getting repo: \u001b[0m\u001b[1;4;36mhttps://github.com/atom/atom\u001b[0m\n"
      ]
     },
     "metadata": {},
     "output_type": "display_data"
    },
    {
     "data": {
      "text/html": [
       "<pre style=\"white-space:pre;overflow-x:auto;line-height:normal;font-family:Menlo,'DejaVu Sans Mono',consolas,'Courier New',monospace\"><span style=\"color: #008080; text-decoration-color: #008080; font-weight: bold\">[+] Successfully retrieved repo: </span><span style=\"color: #008080; text-decoration-color: #008080; font-weight: bold; text-decoration: underline\">https://github.com/atom/atom</span>\n",
       "</pre>\n"
      ],
      "text/plain": [
       "\u001b[1;36m[\u001b[0m\u001b[1;36m+\u001b[0m\u001b[1;36m]\u001b[0m\u001b[1;36m Successfully retrieved repo: \u001b[0m\u001b[1;4;36mhttps://github.com/atom/atom\u001b[0m\n"
      ]
     },
     "metadata": {},
     "output_type": "display_data"
    },
    {
     "data": {
      "text/html": [
       "<pre style=\"white-space:pre;overflow-x:auto;line-height:normal;font-family:Menlo,'DejaVu Sans Mono',consolas,'Courier New',monospace\"><span style=\"color: #008080; text-decoration-color: #008080; font-weight: bold\">[+] Found package.json at /</span>\n",
       "</pre>\n"
      ],
      "text/plain": [
       "\u001b[1;36m[\u001b[0m\u001b[1;36m+\u001b[0m\u001b[1;36m]\u001b[0m\u001b[1;36m Found package.json at \u001b[0m\u001b[1;36m/\u001b[0m\n"
      ]
     },
     "metadata": {},
     "output_type": "display_data"
    },
    {
     "data": {
      "text/html": [
       "<pre style=\"white-space:pre;overflow-x:auto;line-height:normal;font-family:Menlo,'DejaVu Sans Mono',consolas,'Courier New',monospace\"><span style=\"color: #008080; text-decoration-color: #008080; font-weight: bold\">[+] Getting </span><span style=\"color: #008080; text-decoration-color: #008080; font-weight: bold; text-decoration: underline\">https://github.com/atom/atom/blob/master/package.json</span>\n",
       "</pre>\n"
      ],
      "text/plain": [
       "\u001b[1;36m[\u001b[0m\u001b[1;36m+\u001b[0m\u001b[1;36m]\u001b[0m\u001b[1;36m Getting \u001b[0m\u001b[1;4;36mhttps://github.com/atom/atom/blob/master/package.json\u001b[0m\n"
      ]
     },
     "metadata": {},
     "output_type": "display_data"
    },
    {
     "data": {
      "text/html": [
       "<pre style=\"white-space:pre;overflow-x:auto;line-height:normal;font-family:Menlo,'DejaVu Sans Mono',consolas,'Courier New',monospace\"><span style=\"color: #008080; text-decoration-color: #008080; font-weight: bold\">[+] Getting repo: </span><span style=\"color: #008080; text-decoration-color: #008080; font-weight: bold; text-decoration: underline\">https://github.com/kanekotic/barklarm</span>\n",
       "</pre>\n"
      ],
      "text/plain": [
       "\u001b[1;36m[\u001b[0m\u001b[1;36m+\u001b[0m\u001b[1;36m]\u001b[0m\u001b[1;36m Getting repo: \u001b[0m\u001b[1;4;36mhttps://github.com/kanekotic/barklarm\u001b[0m\n"
      ]
     },
     "metadata": {},
     "output_type": "display_data"
    },
    {
     "data": {
      "text/html": [
       "<pre style=\"white-space:pre;overflow-x:auto;line-height:normal;font-family:Menlo,'DejaVu Sans Mono',consolas,'Courier New',monospace\"><span style=\"color: #008080; text-decoration-color: #008080; font-weight: bold\">[+] Successfully retrieved repo: </span><span style=\"color: #008080; text-decoration-color: #008080; font-weight: bold; text-decoration: underline\">https://github.com/kanekotic/barklarm</span>\n",
       "</pre>\n"
      ],
      "text/plain": [
       "\u001b[1;36m[\u001b[0m\u001b[1;36m+\u001b[0m\u001b[1;36m]\u001b[0m\u001b[1;36m Successfully retrieved repo: \u001b[0m\u001b[1;4;36mhttps://github.com/kanekotic/barklarm\u001b[0m\n"
      ]
     },
     "metadata": {},
     "output_type": "display_data"
    },
    {
     "data": {
      "text/html": [
       "<pre style=\"white-space:pre;overflow-x:auto;line-height:normal;font-family:Menlo,'DejaVu Sans Mono',consolas,'Courier New',monospace\"><span style=\"color: #008080; text-decoration-color: #008080; font-weight: bold\">[+] Found package.json at /</span>\n",
       "</pre>\n"
      ],
      "text/plain": [
       "\u001b[1;36m[\u001b[0m\u001b[1;36m+\u001b[0m\u001b[1;36m]\u001b[0m\u001b[1;36m Found package.json at \u001b[0m\u001b[1;36m/\u001b[0m\n"
      ]
     },
     "metadata": {},
     "output_type": "display_data"
    },
    {
     "data": {
      "text/html": [
       "<pre style=\"white-space:pre;overflow-x:auto;line-height:normal;font-family:Menlo,'DejaVu Sans Mono',consolas,'Courier New',monospace\"><span style=\"color: #008080; text-decoration-color: #008080; font-weight: bold\">[+] Getting </span><span style=\"color: #008080; text-decoration-color: #008080; font-weight: bold; text-decoration: underline\">https://github.com/Barklarm/barklarm-app/blob/main/package.json</span>\n",
       "</pre>\n"
      ],
      "text/plain": [
       "\u001b[1;36m[\u001b[0m\u001b[1;36m+\u001b[0m\u001b[1;36m]\u001b[0m\u001b[1;36m Getting \u001b[0m\u001b[1;4;36mhttps://github.com/Barklarm/barklarm-app/blob/main/package.json\u001b[0m\n"
      ]
     },
     "metadata": {},
     "output_type": "display_data"
    },
    {
     "data": {
      "text/html": [
       "<pre style=\"white-space:pre;overflow-x:auto;line-height:normal;font-family:Menlo,'DejaVu Sans Mono',consolas,'Courier New',monospace\"><span style=\"color: #008080; text-decoration-color: #008080; font-weight: bold\">[+] Getting repo: </span><span style=\"color: #008080; text-decoration-color: #008080; font-weight: bold; text-decoration: underline\">https://github.com/beakerbrowser/beaker</span>\n",
       "</pre>\n"
      ],
      "text/plain": [
       "\u001b[1;36m[\u001b[0m\u001b[1;36m+\u001b[0m\u001b[1;36m]\u001b[0m\u001b[1;36m Getting repo: \u001b[0m\u001b[1;4;36mhttps://github.com/beakerbrowser/beaker\u001b[0m\n"
      ]
     },
     "metadata": {},
     "output_type": "display_data"
    },
    {
     "data": {
      "text/html": [
       "<pre style=\"white-space:pre;overflow-x:auto;line-height:normal;font-family:Menlo,'DejaVu Sans Mono',consolas,'Courier New',monospace\"><span style=\"color: #008080; text-decoration-color: #008080; font-weight: bold\">[+] Successfully retrieved repo: </span><span style=\"color: #008080; text-decoration-color: #008080; font-weight: bold; text-decoration: underline\">https://github.com/beakerbrowser/beaker</span>\n",
       "</pre>\n"
      ],
      "text/plain": [
       "\u001b[1;36m[\u001b[0m\u001b[1;36m+\u001b[0m\u001b[1;36m]\u001b[0m\u001b[1;36m Successfully retrieved repo: \u001b[0m\u001b[1;4;36mhttps://github.com/beakerbrowser/beaker\u001b[0m\n"
      ]
     },
     "metadata": {},
     "output_type": "display_data"
    },
    {
     "data": {
      "text/html": [
       "<pre style=\"white-space:pre;overflow-x:auto;line-height:normal;font-family:Menlo,'DejaVu Sans Mono',consolas,'Courier New',monospace\"><span style=\"color: #ff5f00; text-decoration-color: #ff5f00; font-weight: bold\">[!] Package.json not found at root; trying directories</span>\n",
       "</pre>\n"
      ],
      "text/plain": [
       "\u001b[1;38;5;202m[\u001b[0m\u001b[1;38;5;202m!\u001b[0m\u001b[1;38;5;202m]\u001b[0m\u001b[1;38;5;202m Package.json not found at root; trying directories\u001b[0m\n"
      ]
     },
     "metadata": {},
     "output_type": "display_data"
    },
    {
     "data": {
      "text/html": [
       "<pre style=\"white-space:pre;overflow-x:auto;line-height:normal;font-family:Menlo,'DejaVu Sans Mono',consolas,'Courier New',monospace\"><span style=\"color: #008080; text-decoration-color: #008080; font-weight: bold\">[+] Trying </span><span style=\"color: #008080; text-decoration-color: #008080; font-weight: bold; text-decoration: underline\">https://github.com/beakerbrowser/beaker/tree/master/.github/ISSUE_TEMPLATE</span>\n",
       "</pre>\n"
      ],
      "text/plain": [
       "\u001b[1;36m[\u001b[0m\u001b[1;36m+\u001b[0m\u001b[1;36m]\u001b[0m\u001b[1;36m Trying \u001b[0m\u001b[1;4;36mhttps://github.com/beakerbrowser/beaker/tree/master/.github/ISSUE_TEMPLATE\u001b[0m\n"
      ]
     },
     "metadata": {},
     "output_type": "display_data"
    },
    {
     "data": {
      "text/html": [
       "<pre style=\"white-space:pre;overflow-x:auto;line-height:normal;font-family:Menlo,'DejaVu Sans Mono',consolas,'Courier New',monospace\"><span style=\"color: #008080; text-decoration-color: #008080; font-weight: bold\">[+] Trying </span><span style=\"color: #008080; text-decoration-color: #008080; font-weight: bold; text-decoration: underline\">https://github.com/beakerbrowser/beaker/tree/master/app</span>\n",
       "</pre>\n"
      ],
      "text/plain": [
       "\u001b[1;36m[\u001b[0m\u001b[1;36m+\u001b[0m\u001b[1;36m]\u001b[0m\u001b[1;36m Trying \u001b[0m\u001b[1;4;36mhttps://github.com/beakerbrowser/beaker/tree/master/app\u001b[0m\n"
      ]
     },
     "metadata": {},
     "output_type": "display_data"
    },
    {
     "data": {
      "text/html": [
       "<pre style=\"white-space:pre;overflow-x:auto;line-height:normal;font-family:Menlo,'DejaVu Sans Mono',consolas,'Courier New',monospace\"><span style=\"color: #008080; text-decoration-color: #008080; font-weight: bold\">[+] Trying </span><span style=\"color: #008080; text-decoration-color: #008080; font-weight: bold; text-decoration: underline\">https://github.com/beakerbrowser/beaker/tree/master/build</span>\n",
       "</pre>\n"
      ],
      "text/plain": [
       "\u001b[1;36m[\u001b[0m\u001b[1;36m+\u001b[0m\u001b[1;36m]\u001b[0m\u001b[1;36m Trying \u001b[0m\u001b[1;4;36mhttps://github.com/beakerbrowser/beaker/tree/master/build\u001b[0m\n"
      ]
     },
     "metadata": {},
     "output_type": "display_data"
    },
    {
     "data": {
      "text/html": [
       "<pre style=\"white-space:pre;overflow-x:auto;line-height:normal;font-family:Menlo,'DejaVu Sans Mono',consolas,'Courier New',monospace\"><span style=\"color: #008080; text-decoration-color: #008080; font-weight: bold\">[+] Trying </span><span style=\"color: #008080; text-decoration-color: #008080; font-weight: bold; text-decoration: underline\">https://github.com/beakerbrowser/beaker/tree/master/scripts</span>\n",
       "</pre>\n"
      ],
      "text/plain": [
       "\u001b[1;36m[\u001b[0m\u001b[1;36m+\u001b[0m\u001b[1;36m]\u001b[0m\u001b[1;36m Trying \u001b[0m\u001b[1;4;36mhttps://github.com/beakerbrowser/beaker/tree/master/scripts\u001b[0m\n"
      ]
     },
     "metadata": {},
     "output_type": "display_data"
    },
    {
     "data": {
      "text/html": [
       "<pre style=\"white-space:pre;overflow-x:auto;line-height:normal;font-family:Menlo,'DejaVu Sans Mono',consolas,'Courier New',monospace\"><span style=\"color: #008080; text-decoration-color: #008080; font-weight: bold\">[+] Trying </span><span style=\"color: #008080; text-decoration-color: #008080; font-weight: bold; text-decoration: underline\">https://github.com/beakerbrowser/beaker/tree/master/tests/session-perms-test</span>\n",
       "</pre>\n"
      ],
      "text/plain": [
       "\u001b[1;36m[\u001b[0m\u001b[1;36m+\u001b[0m\u001b[1;36m]\u001b[0m\u001b[1;36m Trying \u001b[0m\u001b[1;4;36mhttps://github.com/beakerbrowser/beaker/tree/master/tests/session-perms-test\u001b[0m\n"
      ]
     },
     "metadata": {},
     "output_type": "display_data"
    },
    {
     "data": {
      "text/html": [
       "<pre style=\"white-space:pre;overflow-x:auto;line-height:normal;font-family:Menlo,'DejaVu Sans Mono',consolas,'Courier New',monospace\"><span style=\"color: #800000; text-decoration-color: #800000; font-weight: bold\">[💀] Could not find package.json in first-level-subdirs</span>\n",
       "</pre>\n"
      ],
      "text/plain": [
       "\u001b[1;31m[\u001b[0m\u001b[1;31m💀\u001b[0m\u001b[1;31m]\u001b[0m\u001b[1;31m Could not find package.json in first-level-subdirs\u001b[0m\n"
      ]
     },
     "metadata": {},
     "output_type": "display_data"
    },
    {
     "data": {
      "text/html": [
       "<pre style=\"white-space:pre;overflow-x:auto;line-height:normal;font-family:Menlo,'DejaVu Sans Mono',consolas,'Courier New',monospace\"><span style=\"color: #008080; text-decoration-color: #008080; font-weight: bold\">[+] Getting repo: </span><span style=\"color: #008080; text-decoration-color: #008080; font-weight: bold; text-decoration: underline\">https://github.com/beekeeper-studio/beekeeper-studio</span>\n",
       "</pre>\n"
      ],
      "text/plain": [
       "\u001b[1;36m[\u001b[0m\u001b[1;36m+\u001b[0m\u001b[1;36m]\u001b[0m\u001b[1;36m Getting repo: \u001b[0m\u001b[1;4;36mhttps://github.com/beekeeper-studio/beekeeper-studio\u001b[0m\n"
      ]
     },
     "metadata": {},
     "output_type": "display_data"
    },
    {
     "data": {
      "text/html": [
       "<pre style=\"white-space:pre;overflow-x:auto;line-height:normal;font-family:Menlo,'DejaVu Sans Mono',consolas,'Courier New',monospace\"><span style=\"color: #008080; text-decoration-color: #008080; font-weight: bold\">[+] Successfully retrieved repo: </span><span style=\"color: #008080; text-decoration-color: #008080; font-weight: bold; text-decoration: underline\">https://github.com/beekeeper-studio/beekeeper-studio</span>\n",
       "</pre>\n"
      ],
      "text/plain": [
       "\u001b[1;36m[\u001b[0m\u001b[1;36m+\u001b[0m\u001b[1;36m]\u001b[0m\u001b[1;36m Successfully retrieved repo: \u001b[0m\u001b[1;4;36mhttps://github.com/beekeeper-studio/beekeeper-studio\u001b[0m\n"
      ]
     },
     "metadata": {},
     "output_type": "display_data"
    },
    {
     "data": {
      "text/html": [
       "<pre style=\"white-space:pre;overflow-x:auto;line-height:normal;font-family:Menlo,'DejaVu Sans Mono',consolas,'Courier New',monospace\"><span style=\"color: #008080; text-decoration-color: #008080; font-weight: bold\">[+] Found package.json at /</span>\n",
       "</pre>\n"
      ],
      "text/plain": [
       "\u001b[1;36m[\u001b[0m\u001b[1;36m+\u001b[0m\u001b[1;36m]\u001b[0m\u001b[1;36m Found package.json at \u001b[0m\u001b[1;36m/\u001b[0m\n"
      ]
     },
     "metadata": {},
     "output_type": "display_data"
    },
    {
     "data": {
      "text/html": [
       "<pre style=\"white-space:pre;overflow-x:auto;line-height:normal;font-family:Menlo,'DejaVu Sans Mono',consolas,'Courier New',monospace\"><span style=\"color: #008080; text-decoration-color: #008080; font-weight: bold\">[+] Getting </span><span style=\"color: #008080; text-decoration-color: #008080; font-weight: bold; text-decoration: underline\">https://github.com/beekeeper-studio/beekeeper-studio/blob/master/package.json</span>\n",
       "</pre>\n"
      ],
      "text/plain": [
       "\u001b[1;36m[\u001b[0m\u001b[1;36m+\u001b[0m\u001b[1;36m]\u001b[0m\u001b[1;36m Getting \u001b[0m\u001b[1;4;36mhttps://github.com/beekeeper-studio/beekeeper-studio/blob/master/package.json\u001b[0m\n"
      ]
     },
     "metadata": {},
     "output_type": "display_data"
    },
    {
     "data": {
      "text/html": [
       "<pre style=\"white-space:pre;overflow-x:auto;line-height:normal;font-family:Menlo,'DejaVu Sans Mono',consolas,'Courier New',monospace\"><span style=\"color: #008080; text-decoration-color: #008080; font-weight: bold\">[+] Getting repo: </span><span style=\"color: #008080; text-decoration-color: #008080; font-weight: bold; text-decoration: underline\">https://github.com/Bible-Projects/believers-sword-app</span>\n",
       "</pre>\n"
      ],
      "text/plain": [
       "\u001b[1;36m[\u001b[0m\u001b[1;36m+\u001b[0m\u001b[1;36m]\u001b[0m\u001b[1;36m Getting repo: \u001b[0m\u001b[1;4;36mhttps://github.com/Bible-Projects/believers-sword-app\u001b[0m\n"
      ]
     },
     "metadata": {},
     "output_type": "display_data"
    },
    {
     "data": {
      "text/html": [
       "<pre style=\"white-space:pre;overflow-x:auto;line-height:normal;font-family:Menlo,'DejaVu Sans Mono',consolas,'Courier New',monospace\"><span style=\"color: #008080; text-decoration-color: #008080; font-weight: bold\">[+] Successfully retrieved repo: </span><span style=\"color: #008080; text-decoration-color: #008080; font-weight: bold; text-decoration: underline\">https://github.com/Bible-Projects/believers-sword-app</span>\n",
       "</pre>\n"
      ],
      "text/plain": [
       "\u001b[1;36m[\u001b[0m\u001b[1;36m+\u001b[0m\u001b[1;36m]\u001b[0m\u001b[1;36m Successfully retrieved repo: \u001b[0m\u001b[1;4;36mhttps://github.com/Bible-Projects/believers-sword-app\u001b[0m\n"
      ]
     },
     "metadata": {},
     "output_type": "display_data"
    },
    {
     "data": {
      "text/html": [
       "<pre style=\"white-space:pre;overflow-x:auto;line-height:normal;font-family:Menlo,'DejaVu Sans Mono',consolas,'Courier New',monospace\"><span style=\"color: #008080; text-decoration-color: #008080; font-weight: bold\">[+] Found package.json at /</span>\n",
       "</pre>\n"
      ],
      "text/plain": [
       "\u001b[1;36m[\u001b[0m\u001b[1;36m+\u001b[0m\u001b[1;36m]\u001b[0m\u001b[1;36m Found package.json at \u001b[0m\u001b[1;36m/\u001b[0m\n"
      ]
     },
     "metadata": {},
     "output_type": "display_data"
    },
    {
     "data": {
      "text/html": [
       "<pre style=\"white-space:pre;overflow-x:auto;line-height:normal;font-family:Menlo,'DejaVu Sans Mono',consolas,'Courier New',monospace\"><span style=\"color: #008080; text-decoration-color: #008080; font-weight: bold\">[+] Getting </span><span style=\"color: #008080; text-decoration-color: #008080; font-weight: bold; text-decoration: underline\">https://github.com/Bible-Projects/believers-sword-app/blob/main/package.json</span>\n",
       "</pre>\n"
      ],
      "text/plain": [
       "\u001b[1;36m[\u001b[0m\u001b[1;36m+\u001b[0m\u001b[1;36m]\u001b[0m\u001b[1;36m Getting \u001b[0m\u001b[1;4;36mhttps://github.com/Bible-Projects/believers-sword-app/blob/main/package.json\u001b[0m\n"
      ]
     },
     "metadata": {},
     "output_type": "display_data"
    },
    {
     "data": {
      "text/html": [
       "<pre style=\"white-space:pre;overflow-x:auto;line-height:normal;font-family:Menlo,'DejaVu Sans Mono',consolas,'Courier New',monospace\"><span style=\"color: #008080; text-decoration-color: #008080; font-weight: bold\">[+] Getting repo: </span><span style=\"color: #008080; text-decoration-color: #008080; font-weight: bold; text-decoration: underline\">https://github.com/andreafeccomandi/bibisco/</span>\n",
       "</pre>\n"
      ],
      "text/plain": [
       "\u001b[1;36m[\u001b[0m\u001b[1;36m+\u001b[0m\u001b[1;36m]\u001b[0m\u001b[1;36m Getting repo: \u001b[0m\u001b[1;4;36mhttps://github.com/andreafeccomandi/bibisco/\u001b[0m\n"
      ]
     },
     "metadata": {},
     "output_type": "display_data"
    },
    {
     "data": {
      "text/html": [
       "<pre style=\"white-space:pre;overflow-x:auto;line-height:normal;font-family:Menlo,'DejaVu Sans Mono',consolas,'Courier New',monospace\"><span style=\"color: #008080; text-decoration-color: #008080; font-weight: bold\">[+] Successfully retrieved repo: </span><span style=\"color: #008080; text-decoration-color: #008080; font-weight: bold; text-decoration: underline\">https://github.com/andreafeccomandi/bibisco/</span>\n",
       "</pre>\n"
      ],
      "text/plain": [
       "\u001b[1;36m[\u001b[0m\u001b[1;36m+\u001b[0m\u001b[1;36m]\u001b[0m\u001b[1;36m Successfully retrieved repo: \u001b[0m\u001b[1;4;36mhttps://github.com/andreafeccomandi/bibisco/\u001b[0m\n"
      ]
     },
     "metadata": {},
     "output_type": "display_data"
    },
    {
     "data": {
      "text/html": [
       "<pre style=\"white-space:pre;overflow-x:auto;line-height:normal;font-family:Menlo,'DejaVu Sans Mono',consolas,'Courier New',monospace\"><span style=\"color: #ff5f00; text-decoration-color: #ff5f00; font-weight: bold\">[!] Package.json not found at root; trying directories</span>\n",
       "</pre>\n"
      ],
      "text/plain": [
       "\u001b[1;38;5;202m[\u001b[0m\u001b[1;38;5;202m!\u001b[0m\u001b[1;38;5;202m]\u001b[0m\u001b[1;38;5;202m Package.json not found at root; trying directories\u001b[0m\n"
      ]
     },
     "metadata": {},
     "output_type": "display_data"
    },
    {
     "data": {
      "text/html": [
       "<pre style=\"white-space:pre;overflow-x:auto;line-height:normal;font-family:Menlo,'DejaVu Sans Mono',consolas,'Courier New',monospace\"><span style=\"color: #008080; text-decoration-color: #008080; font-weight: bold\">[+] Trying </span><span style=\"color: #008080; text-decoration-color: #008080; font-weight: bold; text-decoration: underline\">https://github.com/andreafeccomandi/bibisco/tree/master/bibisco</span>\n",
       "</pre>\n"
      ],
      "text/plain": [
       "\u001b[1;36m[\u001b[0m\u001b[1;36m+\u001b[0m\u001b[1;36m]\u001b[0m\u001b[1;36m Trying \u001b[0m\u001b[1;4;36mhttps://github.com/andreafeccomandi/bibisco/tree/master/bibisco\u001b[0m\n"
      ]
     },
     "metadata": {},
     "output_type": "display_data"
    },
    {
     "data": {
      "text/html": [
       "<pre style=\"white-space:pre;overflow-x:auto;line-height:normal;font-family:Menlo,'DejaVu Sans Mono',consolas,'Courier New',monospace\"><span style=\"color: #008080; text-decoration-color: #008080; font-weight: bold\">[+] Trying </span><span style=\"color: #008080; text-decoration-color: #008080; font-weight: bold; text-decoration: underline\">https://github.com/andreafeccomandi/bibisco/tree/master/images</span>\n",
       "</pre>\n"
      ],
      "text/plain": [
       "\u001b[1;36m[\u001b[0m\u001b[1;36m+\u001b[0m\u001b[1;36m]\u001b[0m\u001b[1;36m Trying \u001b[0m\u001b[1;4;36mhttps://github.com/andreafeccomandi/bibisco/tree/master/images\u001b[0m\n"
      ]
     },
     "metadata": {},
     "output_type": "display_data"
    },
    {
     "data": {
      "text/html": [
       "<pre style=\"white-space:pre;overflow-x:auto;line-height:normal;font-family:Menlo,'DejaVu Sans Mono',consolas,'Courier New',monospace\"><span style=\"color: #800000; text-decoration-color: #800000; font-weight: bold\">[💀] Could not find package.json in first-level-subdirs</span>\n",
       "</pre>\n"
      ],
      "text/plain": [
       "\u001b[1;31m[\u001b[0m\u001b[1;31m💀\u001b[0m\u001b[1;31m]\u001b[0m\u001b[1;31m Could not find package.json in first-level-subdirs\u001b[0m\n"
      ]
     },
     "metadata": {},
     "output_type": "display_data"
    },
    {
     "data": {
      "text/html": [
       "<pre style=\"white-space:pre;overflow-x:auto;line-height:normal;font-family:Menlo,'DejaVu Sans Mono',consolas,'Courier New',monospace\"><span style=\"color: #008080; text-decoration-color: #008080; font-weight: bold\">[+] Getting repo: </span><span style=\"color: #008080; text-decoration-color: #008080; font-weight: bold; text-decoration: underline\">https://github.com/JannisX11/blockbench</span>\n",
       "</pre>\n"
      ],
      "text/plain": [
       "\u001b[1;36m[\u001b[0m\u001b[1;36m+\u001b[0m\u001b[1;36m]\u001b[0m\u001b[1;36m Getting repo: \u001b[0m\u001b[1;4;36mhttps://github.com/JannisX11/blockbench\u001b[0m\n"
      ]
     },
     "metadata": {},
     "output_type": "display_data"
    },
    {
     "data": {
      "text/html": [
       "<pre style=\"white-space:pre;overflow-x:auto;line-height:normal;font-family:Menlo,'DejaVu Sans Mono',consolas,'Courier New',monospace\"><span style=\"color: #008080; text-decoration-color: #008080; font-weight: bold\">[+] Successfully retrieved repo: </span><span style=\"color: #008080; text-decoration-color: #008080; font-weight: bold; text-decoration: underline\">https://github.com/JannisX11/blockbench</span>\n",
       "</pre>\n"
      ],
      "text/plain": [
       "\u001b[1;36m[\u001b[0m\u001b[1;36m+\u001b[0m\u001b[1;36m]\u001b[0m\u001b[1;36m Successfully retrieved repo: \u001b[0m\u001b[1;4;36mhttps://github.com/JannisX11/blockbench\u001b[0m\n"
      ]
     },
     "metadata": {},
     "output_type": "display_data"
    },
    {
     "data": {
      "text/html": [
       "<pre style=\"white-space:pre;overflow-x:auto;line-height:normal;font-family:Menlo,'DejaVu Sans Mono',consolas,'Courier New',monospace\"><span style=\"color: #008080; text-decoration-color: #008080; font-weight: bold\">[+] Found package.json at /</span>\n",
       "</pre>\n"
      ],
      "text/plain": [
       "\u001b[1;36m[\u001b[0m\u001b[1;36m+\u001b[0m\u001b[1;36m]\u001b[0m\u001b[1;36m Found package.json at \u001b[0m\u001b[1;36m/\u001b[0m\n"
      ]
     },
     "metadata": {},
     "output_type": "display_data"
    },
    {
     "data": {
      "text/html": [
       "<pre style=\"white-space:pre;overflow-x:auto;line-height:normal;font-family:Menlo,'DejaVu Sans Mono',consolas,'Courier New',monospace\"><span style=\"color: #008080; text-decoration-color: #008080; font-weight: bold\">[+] Getting </span><span style=\"color: #008080; text-decoration-color: #008080; font-weight: bold; text-decoration: underline\">https://github.com/JannisX11/blockbench/blob/master/package.json</span>\n",
       "</pre>\n"
      ],
      "text/plain": [
       "\u001b[1;36m[\u001b[0m\u001b[1;36m+\u001b[0m\u001b[1;36m]\u001b[0m\u001b[1;36m Getting \u001b[0m\u001b[1;4;36mhttps://github.com/JannisX11/blockbench/blob/master/package.json\u001b[0m\n"
      ]
     },
     "metadata": {},
     "output_type": "display_data"
    },
    {
     "data": {
      "text/html": [
       "<pre style=\"white-space:pre;overflow-x:auto;line-height:normal;font-family:Menlo,'DejaVu Sans Mono',consolas,'Courier New',monospace\"><span style=\"color: #008080; text-decoration-color: #008080; font-weight: bold\">[+] Getting repo: </span><span style=\"color: #008080; text-decoration-color: #008080; font-weight: bold; text-decoration: underline\">https://github.com/bgpworks/boxhero-electron</span>\n",
       "</pre>\n"
      ],
      "text/plain": [
       "\u001b[1;36m[\u001b[0m\u001b[1;36m+\u001b[0m\u001b[1;36m]\u001b[0m\u001b[1;36m Getting repo: \u001b[0m\u001b[1;4;36mhttps://github.com/bgpworks/boxhero-electron\u001b[0m\n"
      ]
     },
     "metadata": {},
     "output_type": "display_data"
    },
    {
     "data": {
      "text/html": [
       "<pre style=\"white-space:pre;overflow-x:auto;line-height:normal;font-family:Menlo,'DejaVu Sans Mono',consolas,'Courier New',monospace\"><span style=\"color: #008080; text-decoration-color: #008080; font-weight: bold\">[+] Successfully retrieved repo: </span><span style=\"color: #008080; text-decoration-color: #008080; font-weight: bold; text-decoration: underline\">https://github.com/bgpworks/boxhero-electron</span>\n",
       "</pre>\n"
      ],
      "text/plain": [
       "\u001b[1;36m[\u001b[0m\u001b[1;36m+\u001b[0m\u001b[1;36m]\u001b[0m\u001b[1;36m Successfully retrieved repo: \u001b[0m\u001b[1;4;36mhttps://github.com/bgpworks/boxhero-electron\u001b[0m\n"
      ]
     },
     "metadata": {},
     "output_type": "display_data"
    },
    {
     "data": {
      "text/html": [
       "<pre style=\"white-space:pre;overflow-x:auto;line-height:normal;font-family:Menlo,'DejaVu Sans Mono',consolas,'Courier New',monospace\"><span style=\"color: #008080; text-decoration-color: #008080; font-weight: bold\">[+] Found package.json at /</span>\n",
       "</pre>\n"
      ],
      "text/plain": [
       "\u001b[1;36m[\u001b[0m\u001b[1;36m+\u001b[0m\u001b[1;36m]\u001b[0m\u001b[1;36m Found package.json at \u001b[0m\u001b[1;36m/\u001b[0m\n"
      ]
     },
     "metadata": {},
     "output_type": "display_data"
    },
    {
     "data": {
      "text/html": [
       "<pre style=\"white-space:pre;overflow-x:auto;line-height:normal;font-family:Menlo,'DejaVu Sans Mono',consolas,'Courier New',monospace\"><span style=\"color: #008080; text-decoration-color: #008080; font-weight: bold\">[+] Getting </span><span style=\"color: #008080; text-decoration-color: #008080; font-weight: bold; text-decoration: underline\">https://github.com/bgpworks/boxhero-electron/blob/master/package.json</span>\n",
       "</pre>\n"
      ],
      "text/plain": [
       "\u001b[1;36m[\u001b[0m\u001b[1;36m+\u001b[0m\u001b[1;36m]\u001b[0m\u001b[1;36m Getting \u001b[0m\u001b[1;4;36mhttps://github.com/bgpworks/boxhero-electron/blob/master/package.json\u001b[0m\n"
      ]
     },
     "metadata": {},
     "output_type": "display_data"
    },
    {
     "data": {
      "text/html": [
       "<pre style=\"white-space:pre;overflow-x:auto;line-height:normal;font-family:Menlo,'DejaVu Sans Mono',consolas,'Courier New',monospace\"><span style=\"color: #008080; text-decoration-color: #008080; font-weight: bold\">[+] Getting repo: </span><span style=\"color: #008080; text-decoration-color: #008080; font-weight: bold; text-decoration: underline\">https://github.com/brimsec/brim</span>\n",
       "</pre>\n"
      ],
      "text/plain": [
       "\u001b[1;36m[\u001b[0m\u001b[1;36m+\u001b[0m\u001b[1;36m]\u001b[0m\u001b[1;36m Getting repo: \u001b[0m\u001b[1;4;36mhttps://github.com/brimsec/brim\u001b[0m\n"
      ]
     },
     "metadata": {},
     "output_type": "display_data"
    },
    {
     "data": {
      "text/html": [
       "<pre style=\"white-space:pre;overflow-x:auto;line-height:normal;font-family:Menlo,'DejaVu Sans Mono',consolas,'Courier New',monospace\"><span style=\"color: #008080; text-decoration-color: #008080; font-weight: bold\">[+] Successfully retrieved repo: </span><span style=\"color: #008080; text-decoration-color: #008080; font-weight: bold; text-decoration: underline\">https://github.com/brimsec/brim</span>\n",
       "</pre>\n"
      ],
      "text/plain": [
       "\u001b[1;36m[\u001b[0m\u001b[1;36m+\u001b[0m\u001b[1;36m]\u001b[0m\u001b[1;36m Successfully retrieved repo: \u001b[0m\u001b[1;4;36mhttps://github.com/brimsec/brim\u001b[0m\n"
      ]
     },
     "metadata": {},
     "output_type": "display_data"
    },
    {
     "data": {
      "text/html": [
       "<pre style=\"white-space:pre;overflow-x:auto;line-height:normal;font-family:Menlo,'DejaVu Sans Mono',consolas,'Courier New',monospace\"><span style=\"color: #008080; text-decoration-color: #008080; font-weight: bold\">[+] Found package.json at /</span>\n",
       "</pre>\n"
      ],
      "text/plain": [
       "\u001b[1;36m[\u001b[0m\u001b[1;36m+\u001b[0m\u001b[1;36m]\u001b[0m\u001b[1;36m Found package.json at \u001b[0m\u001b[1;36m/\u001b[0m\n"
      ]
     },
     "metadata": {},
     "output_type": "display_data"
    },
    {
     "data": {
      "text/html": [
       "<pre style=\"white-space:pre;overflow-x:auto;line-height:normal;font-family:Menlo,'DejaVu Sans Mono',consolas,'Courier New',monospace\"><span style=\"color: #008080; text-decoration-color: #008080; font-weight: bold\">[+] Getting </span><span style=\"color: #008080; text-decoration-color: #008080; font-weight: bold; text-decoration: underline\">https://github.com/brimdata/zui/blob/main/package.json</span>\n",
       "</pre>\n"
      ],
      "text/plain": [
       "\u001b[1;36m[\u001b[0m\u001b[1;36m+\u001b[0m\u001b[1;36m]\u001b[0m\u001b[1;36m Getting \u001b[0m\u001b[1;4;36mhttps://github.com/brimdata/zui/blob/main/package.json\u001b[0m\n"
      ]
     },
     "metadata": {},
     "output_type": "display_data"
    },
    {
     "data": {
      "text/html": [
       "<pre style=\"white-space:pre;overflow-x:auto;line-height:normal;font-family:Menlo,'DejaVu Sans Mono',consolas,'Courier New',monospace\"><span style=\"color: #008080; text-decoration-color: #008080; font-weight: bold\">[+] Getting repo: </span><span style=\"color: #008080; text-decoration-color: #008080; font-weight: bold; text-decoration: underline\">https://github.com/buttercup/buttercup-desktop</span>\n",
       "</pre>\n"
      ],
      "text/plain": [
       "\u001b[1;36m[\u001b[0m\u001b[1;36m+\u001b[0m\u001b[1;36m]\u001b[0m\u001b[1;36m Getting repo: \u001b[0m\u001b[1;4;36mhttps://github.com/buttercup/buttercup-desktop\u001b[0m\n"
      ]
     },
     "metadata": {},
     "output_type": "display_data"
    },
    {
     "data": {
      "text/html": [
       "<pre style=\"white-space:pre;overflow-x:auto;line-height:normal;font-family:Menlo,'DejaVu Sans Mono',consolas,'Courier New',monospace\"><span style=\"color: #008080; text-decoration-color: #008080; font-weight: bold\">[+] Successfully retrieved repo: </span><span style=\"color: #008080; text-decoration-color: #008080; font-weight: bold; text-decoration: underline\">https://github.com/buttercup/buttercup-desktop</span>\n",
       "</pre>\n"
      ],
      "text/plain": [
       "\u001b[1;36m[\u001b[0m\u001b[1;36m+\u001b[0m\u001b[1;36m]\u001b[0m\u001b[1;36m Successfully retrieved repo: \u001b[0m\u001b[1;4;36mhttps://github.com/buttercup/buttercup-desktop\u001b[0m\n"
      ]
     },
     "metadata": {},
     "output_type": "display_data"
    },
    {
     "data": {
      "text/html": [
       "<pre style=\"white-space:pre;overflow-x:auto;line-height:normal;font-family:Menlo,'DejaVu Sans Mono',consolas,'Courier New',monospace\"><span style=\"color: #008080; text-decoration-color: #008080; font-weight: bold\">[+] Found package.json at /</span>\n",
       "</pre>\n"
      ],
      "text/plain": [
       "\u001b[1;36m[\u001b[0m\u001b[1;36m+\u001b[0m\u001b[1;36m]\u001b[0m\u001b[1;36m Found package.json at \u001b[0m\u001b[1;36m/\u001b[0m\n"
      ]
     },
     "metadata": {},
     "output_type": "display_data"
    },
    {
     "data": {
      "text/html": [
       "<pre style=\"white-space:pre;overflow-x:auto;line-height:normal;font-family:Menlo,'DejaVu Sans Mono',consolas,'Courier New',monospace\"><span style=\"color: #008080; text-decoration-color: #008080; font-weight: bold\">[+] Getting </span><span style=\"color: #008080; text-decoration-color: #008080; font-weight: bold; text-decoration: underline\">https://github.com/buttercup/buttercup-desktop/blob/master/package.json</span>\n",
       "</pre>\n"
      ],
      "text/plain": [
       "\u001b[1;36m[\u001b[0m\u001b[1;36m+\u001b[0m\u001b[1;36m]\u001b[0m\u001b[1;36m Getting \u001b[0m\u001b[1;4;36mhttps://github.com/buttercup/buttercup-desktop/blob/master/package.json\u001b[0m\n"
      ]
     },
     "metadata": {},
     "output_type": "display_data"
    },
    {
     "data": {
      "text/html": [
       "<pre style=\"white-space:pre;overflow-x:auto;line-height:normal;font-family:Menlo,'DejaVu Sans Mono',consolas,'Courier New',monospace\"><span style=\"color: #008080; text-decoration-color: #008080; font-weight: bold\">[+] Getting repo: </span><span style=\"color: #008080; text-decoration-color: #008080; font-weight: bold; text-decoration: underline\">https://github.com/camunda/camunda-modeler/</span>\n",
       "</pre>\n"
      ],
      "text/plain": [
       "\u001b[1;36m[\u001b[0m\u001b[1;36m+\u001b[0m\u001b[1;36m]\u001b[0m\u001b[1;36m Getting repo: \u001b[0m\u001b[1;4;36mhttps://github.com/camunda/camunda-modeler/\u001b[0m\n"
      ]
     },
     "metadata": {},
     "output_type": "display_data"
    },
    {
     "data": {
      "text/html": [
       "<pre style=\"white-space:pre;overflow-x:auto;line-height:normal;font-family:Menlo,'DejaVu Sans Mono',consolas,'Courier New',monospace\"><span style=\"color: #008080; text-decoration-color: #008080; font-weight: bold\">[+] Successfully retrieved repo: </span><span style=\"color: #008080; text-decoration-color: #008080; font-weight: bold; text-decoration: underline\">https://github.com/camunda/camunda-modeler/</span>\n",
       "</pre>\n"
      ],
      "text/plain": [
       "\u001b[1;36m[\u001b[0m\u001b[1;36m+\u001b[0m\u001b[1;36m]\u001b[0m\u001b[1;36m Successfully retrieved repo: \u001b[0m\u001b[1;4;36mhttps://github.com/camunda/camunda-modeler/\u001b[0m\n"
      ]
     },
     "metadata": {},
     "output_type": "display_data"
    },
    {
     "data": {
      "text/html": [
       "<pre style=\"white-space:pre;overflow-x:auto;line-height:normal;font-family:Menlo,'DejaVu Sans Mono',consolas,'Courier New',monospace\"><span style=\"color: #008080; text-decoration-color: #008080; font-weight: bold\">[+] Found package.json at /</span>\n",
       "</pre>\n"
      ],
      "text/plain": [
       "\u001b[1;36m[\u001b[0m\u001b[1;36m+\u001b[0m\u001b[1;36m]\u001b[0m\u001b[1;36m Found package.json at \u001b[0m\u001b[1;36m/\u001b[0m\n"
      ]
     },
     "metadata": {},
     "output_type": "display_data"
    },
    {
     "data": {
      "text/html": [
       "<pre style=\"white-space:pre;overflow-x:auto;line-height:normal;font-family:Menlo,'DejaVu Sans Mono',consolas,'Courier New',monospace\"><span style=\"color: #008080; text-decoration-color: #008080; font-weight: bold\">[+] Getting </span><span style=\"color: #008080; text-decoration-color: #008080; font-weight: bold; text-decoration: underline\">https://github.com/camunda/camunda-modeler/blob/develop/package.json</span>\n",
       "</pre>\n"
      ],
      "text/plain": [
       "\u001b[1;36m[\u001b[0m\u001b[1;36m+\u001b[0m\u001b[1;36m]\u001b[0m\u001b[1;36m Getting \u001b[0m\u001b[1;4;36mhttps://github.com/camunda/camunda-modeler/blob/develop/package.json\u001b[0m\n"
      ]
     },
     "metadata": {},
     "output_type": "display_data"
    },
    {
     "data": {
      "text/html": [
       "<pre style=\"white-space:pre;overflow-x:auto;line-height:normal;font-family:Menlo,'DejaVu Sans Mono',consolas,'Courier New',monospace\"><span style=\"color: #008080; text-decoration-color: #008080; font-weight: bold\">[+] Getting repo: </span><span style=\"color: #008080; text-decoration-color: #008080; font-weight: bold; text-decoration: underline\">https://github.com/ciderapp/Cider</span>\n",
       "</pre>\n"
      ],
      "text/plain": [
       "\u001b[1;36m[\u001b[0m\u001b[1;36m+\u001b[0m\u001b[1;36m]\u001b[0m\u001b[1;36m Getting repo: \u001b[0m\u001b[1;4;36mhttps://github.com/ciderapp/Cider\u001b[0m\n"
      ]
     },
     "metadata": {},
     "output_type": "display_data"
    },
    {
     "data": {
      "text/html": [
       "<pre style=\"white-space:pre;overflow-x:auto;line-height:normal;font-family:Menlo,'DejaVu Sans Mono',consolas,'Courier New',monospace\"><span style=\"color: #008080; text-decoration-color: #008080; font-weight: bold\">[+] Successfully retrieved repo: </span><span style=\"color: #008080; text-decoration-color: #008080; font-weight: bold; text-decoration: underline\">https://github.com/ciderapp/Cider</span>\n",
       "</pre>\n"
      ],
      "text/plain": [
       "\u001b[1;36m[\u001b[0m\u001b[1;36m+\u001b[0m\u001b[1;36m]\u001b[0m\u001b[1;36m Successfully retrieved repo: \u001b[0m\u001b[1;4;36mhttps://github.com/ciderapp/Cider\u001b[0m\n"
      ]
     },
     "metadata": {},
     "output_type": "display_data"
    },
    {
     "data": {
      "text/html": [
       "<pre style=\"white-space:pre;overflow-x:auto;line-height:normal;font-family:Menlo,'DejaVu Sans Mono',consolas,'Courier New',monospace\"><span style=\"color: #008080; text-decoration-color: #008080; font-weight: bold\">[+] Found package.json at /</span>\n",
       "</pre>\n"
      ],
      "text/plain": [
       "\u001b[1;36m[\u001b[0m\u001b[1;36m+\u001b[0m\u001b[1;36m]\u001b[0m\u001b[1;36m Found package.json at \u001b[0m\u001b[1;36m/\u001b[0m\n"
      ]
     },
     "metadata": {},
     "output_type": "display_data"
    },
    {
     "data": {
      "text/html": [
       "<pre style=\"white-space:pre;overflow-x:auto;line-height:normal;font-family:Menlo,'DejaVu Sans Mono',consolas,'Courier New',monospace\"><span style=\"color: #008080; text-decoration-color: #008080; font-weight: bold\">[+] Getting </span><span style=\"color: #008080; text-decoration-color: #008080; font-weight: bold; text-decoration: underline\">https://github.com/ciderapp/Cider/blob/main/package.json</span>\n",
       "</pre>\n"
      ],
      "text/plain": [
       "\u001b[1;36m[\u001b[0m\u001b[1;36m+\u001b[0m\u001b[1;36m]\u001b[0m\u001b[1;36m Getting \u001b[0m\u001b[1;4;36mhttps://github.com/ciderapp/Cider/blob/main/package.json\u001b[0m\n"
      ]
     },
     "metadata": {},
     "output_type": "display_data"
    },
    {
     "data": {
      "text/html": [
       "<pre style=\"white-space:pre;overflow-x:auto;line-height:normal;font-family:Menlo,'DejaVu Sans Mono',consolas,'Courier New',monospace\"><span style=\"color: #008080; text-decoration-color: #008080; font-weight: bold\">[+] Getting repo: </span><span style=\"color: #008080; text-decoration-color: #008080; font-weight: bold; text-decoration: underline\">https://github.com/webcatalog/neutron</span>\n",
       "</pre>\n"
      ],
      "text/plain": [
       "\u001b[1;36m[\u001b[0m\u001b[1;36m+\u001b[0m\u001b[1;36m]\u001b[0m\u001b[1;36m Getting repo: \u001b[0m\u001b[1;4;36mhttps://github.com/webcatalog/neutron\u001b[0m\n"
      ]
     },
     "metadata": {},
     "output_type": "display_data"
    },
    {
     "data": {
      "text/html": [
       "<pre style=\"white-space:pre;overflow-x:auto;line-height:normal;font-family:Menlo,'DejaVu Sans Mono',consolas,'Courier New',monospace\"><span style=\"color: #008080; text-decoration-color: #008080; font-weight: bold\">[+] Successfully retrieved repo: </span><span style=\"color: #008080; text-decoration-color: #008080; font-weight: bold; text-decoration: underline\">https://github.com/webcatalog/neutron</span>\n",
       "</pre>\n"
      ],
      "text/plain": [
       "\u001b[1;36m[\u001b[0m\u001b[1;36m+\u001b[0m\u001b[1;36m]\u001b[0m\u001b[1;36m Successfully retrieved repo: \u001b[0m\u001b[1;4;36mhttps://github.com/webcatalog/neutron\u001b[0m\n"
      ]
     },
     "metadata": {},
     "output_type": "display_data"
    },
    {
     "data": {
      "text/html": [
       "<pre style=\"white-space:pre;overflow-x:auto;line-height:normal;font-family:Menlo,'DejaVu Sans Mono',consolas,'Courier New',monospace\"><span style=\"color: #008080; text-decoration-color: #008080; font-weight: bold\">[+] Found package.json at /</span>\n",
       "</pre>\n"
      ],
      "text/plain": [
       "\u001b[1;36m[\u001b[0m\u001b[1;36m+\u001b[0m\u001b[1;36m]\u001b[0m\u001b[1;36m Found package.json at \u001b[0m\u001b[1;36m/\u001b[0m\n"
      ]
     },
     "metadata": {},
     "output_type": "display_data"
    },
    {
     "data": {
      "text/html": [
       "<pre style=\"white-space:pre;overflow-x:auto;line-height:normal;font-family:Menlo,'DejaVu Sans Mono',consolas,'Courier New',monospace\"><span style=\"color: #008080; text-decoration-color: #008080; font-weight: bold\">[+] Getting </span><span style=\"color: #008080; text-decoration-color: #008080; font-weight: bold; text-decoration: underline\">https://github.com/webcatalog/neutron/blob/master/package.json</span>\n",
       "</pre>\n"
      ],
      "text/plain": [
       "\u001b[1;36m[\u001b[0m\u001b[1;36m+\u001b[0m\u001b[1;36m]\u001b[0m\u001b[1;36m Getting \u001b[0m\u001b[1;4;36mhttps://github.com/webcatalog/neutron/blob/master/package.json\u001b[0m\n"
      ]
     },
     "metadata": {},
     "output_type": "display_data"
    },
    {
     "data": {
      "text/html": [
       "<pre style=\"white-space:pre;overflow-x:auto;line-height:normal;font-family:Menlo,'DejaVu Sans Mono',consolas,'Courier New',monospace\"><span style=\"color: #008080; text-decoration-color: #008080; font-weight: bold\">[+] Getting repo: </span><span style=\"color: #008080; text-decoration-color: #008080; font-weight: bold; text-decoration: underline\">https://github.com/cocos-creator/engine</span>\n",
       "</pre>\n"
      ],
      "text/plain": [
       "\u001b[1;36m[\u001b[0m\u001b[1;36m+\u001b[0m\u001b[1;36m]\u001b[0m\u001b[1;36m Getting repo: \u001b[0m\u001b[1;4;36mhttps://github.com/cocos-creator/engine\u001b[0m\n"
      ]
     },
     "metadata": {},
     "output_type": "display_data"
    },
    {
     "data": {
      "text/html": [
       "<pre style=\"white-space:pre;overflow-x:auto;line-height:normal;font-family:Menlo,'DejaVu Sans Mono',consolas,'Courier New',monospace\"><span style=\"color: #008080; text-decoration-color: #008080; font-weight: bold\">[+] Successfully retrieved repo: </span><span style=\"color: #008080; text-decoration-color: #008080; font-weight: bold; text-decoration: underline\">https://github.com/cocos-creator/engine</span>\n",
       "</pre>\n"
      ],
      "text/plain": [
       "\u001b[1;36m[\u001b[0m\u001b[1;36m+\u001b[0m\u001b[1;36m]\u001b[0m\u001b[1;36m Successfully retrieved repo: \u001b[0m\u001b[1;4;36mhttps://github.com/cocos-creator/engine\u001b[0m\n"
      ]
     },
     "metadata": {},
     "output_type": "display_data"
    },
    {
     "data": {
      "text/html": [
       "<pre style=\"white-space:pre;overflow-x:auto;line-height:normal;font-family:Menlo,'DejaVu Sans Mono',consolas,'Courier New',monospace\"><span style=\"color: #008080; text-decoration-color: #008080; font-weight: bold\">[+] Found package.json at /</span>\n",
       "</pre>\n"
      ],
      "text/plain": [
       "\u001b[1;36m[\u001b[0m\u001b[1;36m+\u001b[0m\u001b[1;36m]\u001b[0m\u001b[1;36m Found package.json at \u001b[0m\u001b[1;36m/\u001b[0m\n"
      ]
     },
     "metadata": {},
     "output_type": "display_data"
    },
    {
     "data": {
      "text/html": [
       "<pre style=\"white-space:pre;overflow-x:auto;line-height:normal;font-family:Menlo,'DejaVu Sans Mono',consolas,'Courier New',monospace\"><span style=\"color: #008080; text-decoration-color: #008080; font-weight: bold\">[+] Getting </span><span style=\"color: #008080; text-decoration-color: #008080; font-weight: bold; text-decoration: underline\">https://github.com/cocos/cocos-engine/blob/develop/package.json</span>\n",
       "</pre>\n"
      ],
      "text/plain": [
       "\u001b[1;36m[\u001b[0m\u001b[1;36m+\u001b[0m\u001b[1;36m]\u001b[0m\u001b[1;36m Getting \u001b[0m\u001b[1;4;36mhttps://github.com/cocos/cocos-engine/blob/develop/package.json\u001b[0m\n"
      ]
     },
     "metadata": {},
     "output_type": "display_data"
    },
    {
     "data": {
      "text/html": [
       "<pre style=\"white-space:pre;overflow-x:auto;line-height:normal;font-family:Menlo,'DejaVu Sans Mono',consolas,'Courier New',monospace\"><span style=\"color: #008080; text-decoration-color: #008080; font-weight: bold\">[+] Getting repo: </span><span style=\"color: #008080; text-decoration-color: #008080; font-weight: bold; text-decoration: underline\">https://github.com/jcv8000/Codex</span>\n",
       "</pre>\n"
      ],
      "text/plain": [
       "\u001b[1;36m[\u001b[0m\u001b[1;36m+\u001b[0m\u001b[1;36m]\u001b[0m\u001b[1;36m Getting repo: \u001b[0m\u001b[1;4;36mhttps://github.com/jcv8000/Codex\u001b[0m\n"
      ]
     },
     "metadata": {},
     "output_type": "display_data"
    },
    {
     "data": {
      "text/html": [
       "<pre style=\"white-space:pre;overflow-x:auto;line-height:normal;font-family:Menlo,'DejaVu Sans Mono',consolas,'Courier New',monospace\"><span style=\"color: #008080; text-decoration-color: #008080; font-weight: bold\">[+] Successfully retrieved repo: </span><span style=\"color: #008080; text-decoration-color: #008080; font-weight: bold; text-decoration: underline\">https://github.com/jcv8000/Codex</span>\n",
       "</pre>\n"
      ],
      "text/plain": [
       "\u001b[1;36m[\u001b[0m\u001b[1;36m+\u001b[0m\u001b[1;36m]\u001b[0m\u001b[1;36m Successfully retrieved repo: \u001b[0m\u001b[1;4;36mhttps://github.com/jcv8000/Codex\u001b[0m\n"
      ]
     },
     "metadata": {},
     "output_type": "display_data"
    },
    {
     "data": {
      "text/html": [
       "<pre style=\"white-space:pre;overflow-x:auto;line-height:normal;font-family:Menlo,'DejaVu Sans Mono',consolas,'Courier New',monospace\"><span style=\"color: #008080; text-decoration-color: #008080; font-weight: bold\">[+] Found package.json at /</span>\n",
       "</pre>\n"
      ],
      "text/plain": [
       "\u001b[1;36m[\u001b[0m\u001b[1;36m+\u001b[0m\u001b[1;36m]\u001b[0m\u001b[1;36m Found package.json at \u001b[0m\u001b[1;36m/\u001b[0m\n"
      ]
     },
     "metadata": {},
     "output_type": "display_data"
    },
    {
     "data": {
      "text/html": [
       "<pre style=\"white-space:pre;overflow-x:auto;line-height:normal;font-family:Menlo,'DejaVu Sans Mono',consolas,'Courier New',monospace\"><span style=\"color: #008080; text-decoration-color: #008080; font-weight: bold\">[+] Getting </span><span style=\"color: #008080; text-decoration-color: #008080; font-weight: bold; text-decoration: underline\">https://github.com/jcv8000/Codex/blob/master/package.json</span>\n",
       "</pre>\n"
      ],
      "text/plain": [
       "\u001b[1;36m[\u001b[0m\u001b[1;36m+\u001b[0m\u001b[1;36m]\u001b[0m\u001b[1;36m Getting \u001b[0m\u001b[1;4;36mhttps://github.com/jcv8000/Codex/blob/master/package.json\u001b[0m\n"
      ]
     },
     "metadata": {},
     "output_type": "display_data"
    },
    {
     "data": {
      "text/html": [
       "<pre style=\"white-space:pre;overflow-x:auto;line-height:normal;font-family:Menlo,'DejaVu Sans Mono',consolas,'Courier New',monospace\"><span style=\"color: #008080; text-decoration-color: #008080; font-weight: bold\">[+] Getting repo: </span><span style=\"color: #008080; text-decoration-color: #008080; font-weight: bold; text-decoration: underline\">https://github.com/Toinane/colorpicker</span>\n",
       "</pre>\n"
      ],
      "text/plain": [
       "\u001b[1;36m[\u001b[0m\u001b[1;36m+\u001b[0m\u001b[1;36m]\u001b[0m\u001b[1;36m Getting repo: \u001b[0m\u001b[1;4;36mhttps://github.com/Toinane/colorpicker\u001b[0m\n"
      ]
     },
     "metadata": {},
     "output_type": "display_data"
    },
    {
     "data": {
      "text/html": [
       "<pre style=\"white-space:pre;overflow-x:auto;line-height:normal;font-family:Menlo,'DejaVu Sans Mono',consolas,'Courier New',monospace\"><span style=\"color: #008080; text-decoration-color: #008080; font-weight: bold\">[+] Successfully retrieved repo: </span><span style=\"color: #008080; text-decoration-color: #008080; font-weight: bold; text-decoration: underline\">https://github.com/Toinane/colorpicker</span>\n",
       "</pre>\n"
      ],
      "text/plain": [
       "\u001b[1;36m[\u001b[0m\u001b[1;36m+\u001b[0m\u001b[1;36m]\u001b[0m\u001b[1;36m Successfully retrieved repo: \u001b[0m\u001b[1;4;36mhttps://github.com/Toinane/colorpicker\u001b[0m\n"
      ]
     },
     "metadata": {},
     "output_type": "display_data"
    },
    {
     "data": {
      "text/html": [
       "<pre style=\"white-space:pre;overflow-x:auto;line-height:normal;font-family:Menlo,'DejaVu Sans Mono',consolas,'Courier New',monospace\"><span style=\"color: #008080; text-decoration-color: #008080; font-weight: bold\">[+] Found package.json at /</span>\n",
       "</pre>\n"
      ],
      "text/plain": [
       "\u001b[1;36m[\u001b[0m\u001b[1;36m+\u001b[0m\u001b[1;36m]\u001b[0m\u001b[1;36m Found package.json at \u001b[0m\u001b[1;36m/\u001b[0m\n"
      ]
     },
     "metadata": {},
     "output_type": "display_data"
    },
    {
     "data": {
      "text/html": [
       "<pre style=\"white-space:pre;overflow-x:auto;line-height:normal;font-family:Menlo,'DejaVu Sans Mono',consolas,'Courier New',monospace\"><span style=\"color: #008080; text-decoration-color: #008080; font-weight: bold\">[+] Getting </span><span style=\"color: #008080; text-decoration-color: #008080; font-weight: bold; text-decoration: underline\">https://github.com/Toinane/colorpicker/blob/master/package.json</span>\n",
       "</pre>\n"
      ],
      "text/plain": [
       "\u001b[1;36m[\u001b[0m\u001b[1;36m+\u001b[0m\u001b[1;36m]\u001b[0m\u001b[1;36m Getting \u001b[0m\u001b[1;4;36mhttps://github.com/Toinane/colorpicker/blob/master/package.json\u001b[0m\n"
      ]
     },
     "metadata": {},
     "output_type": "display_data"
    },
    {
     "data": {
      "text/html": [
       "<pre style=\"white-space:pre;overflow-x:auto;line-height:normal;font-family:Menlo,'DejaVu Sans Mono',consolas,'Courier New',monospace\"><span style=\"color: #008080; text-decoration-color: #008080; font-weight: bold\">[+] Getting repo: </span><span style=\"color: #008080; text-decoration-color: #008080; font-weight: bold; text-decoration: underline\">https://github.com/commandeer/open</span>\n",
       "</pre>\n"
      ],
      "text/plain": [
       "\u001b[1;36m[\u001b[0m\u001b[1;36m+\u001b[0m\u001b[1;36m]\u001b[0m\u001b[1;36m Getting repo: \u001b[0m\u001b[1;4;36mhttps://github.com/commandeer/open\u001b[0m\n"
      ]
     },
     "metadata": {},
     "output_type": "display_data"
    },
    {
     "data": {
      "text/html": [
       "<pre style=\"white-space:pre;overflow-x:auto;line-height:normal;font-family:Menlo,'DejaVu Sans Mono',consolas,'Courier New',monospace\"><span style=\"color: #008080; text-decoration-color: #008080; font-weight: bold\">[+] Successfully retrieved repo: </span><span style=\"color: #008080; text-decoration-color: #008080; font-weight: bold; text-decoration: underline\">https://github.com/commandeer/open</span>\n",
       "</pre>\n"
      ],
      "text/plain": [
       "\u001b[1;36m[\u001b[0m\u001b[1;36m+\u001b[0m\u001b[1;36m]\u001b[0m\u001b[1;36m Successfully retrieved repo: \u001b[0m\u001b[1;4;36mhttps://github.com/commandeer/open\u001b[0m\n"
      ]
     },
     "metadata": {},
     "output_type": "display_data"
    },
    {
     "data": {
      "text/html": [
       "<pre style=\"white-space:pre;overflow-x:auto;line-height:normal;font-family:Menlo,'DejaVu Sans Mono',consolas,'Courier New',monospace\"><span style=\"color: #008080; text-decoration-color: #008080; font-weight: bold\">[+] Found package.json at /</span>\n",
       "</pre>\n"
      ],
      "text/plain": [
       "\u001b[1;36m[\u001b[0m\u001b[1;36m+\u001b[0m\u001b[1;36m]\u001b[0m\u001b[1;36m Found package.json at \u001b[0m\u001b[1;36m/\u001b[0m\n"
      ]
     },
     "metadata": {},
     "output_type": "display_data"
    },
    {
     "data": {
      "text/html": [
       "<pre style=\"white-space:pre;overflow-x:auto;line-height:normal;font-family:Menlo,'DejaVu Sans Mono',consolas,'Courier New',monospace\"><span style=\"color: #008080; text-decoration-color: #008080; font-weight: bold\">[+] Getting </span><span style=\"color: #008080; text-decoration-color: #008080; font-weight: bold; text-decoration: underline\">https://github.com/commandeer/open/blob/development/package.json</span>\n",
       "</pre>\n"
      ],
      "text/plain": [
       "\u001b[1;36m[\u001b[0m\u001b[1;36m+\u001b[0m\u001b[1;36m]\u001b[0m\u001b[1;36m Getting \u001b[0m\u001b[1;4;36mhttps://github.com/commandeer/open/blob/development/package.json\u001b[0m\n"
      ]
     },
     "metadata": {},
     "output_type": "display_data"
    },
    {
     "data": {
      "text/html": [
       "<pre style=\"white-space:pre;overflow-x:auto;line-height:normal;font-family:Menlo,'DejaVu Sans Mono',consolas,'Courier New',monospace\"><span style=\"color: #008080; text-decoration-color: #008080; font-weight: bold\">[+] Getting repo: </span><span style=\"color: #008080; text-decoration-color: #008080; font-weight: bold; text-decoration: underline\">https://github.com/cozy-labs/cozy-desktop</span>\n",
       "</pre>\n"
      ],
      "text/plain": [
       "\u001b[1;36m[\u001b[0m\u001b[1;36m+\u001b[0m\u001b[1;36m]\u001b[0m\u001b[1;36m Getting repo: \u001b[0m\u001b[1;4;36mhttps://github.com/cozy-labs/cozy-desktop\u001b[0m\n"
      ]
     },
     "metadata": {},
     "output_type": "display_data"
    },
    {
     "data": {
      "text/html": [
       "<pre style=\"white-space:pre;overflow-x:auto;line-height:normal;font-family:Menlo,'DejaVu Sans Mono',consolas,'Courier New',monospace\"><span style=\"color: #008080; text-decoration-color: #008080; font-weight: bold\">[+] Successfully retrieved repo: </span><span style=\"color: #008080; text-decoration-color: #008080; font-weight: bold; text-decoration: underline\">https://github.com/cozy-labs/cozy-desktop</span>\n",
       "</pre>\n"
      ],
      "text/plain": [
       "\u001b[1;36m[\u001b[0m\u001b[1;36m+\u001b[0m\u001b[1;36m]\u001b[0m\u001b[1;36m Successfully retrieved repo: \u001b[0m\u001b[1;4;36mhttps://github.com/cozy-labs/cozy-desktop\u001b[0m\n"
      ]
     },
     "metadata": {},
     "output_type": "display_data"
    },
    {
     "data": {
      "text/html": [
       "<pre style=\"white-space:pre;overflow-x:auto;line-height:normal;font-family:Menlo,'DejaVu Sans Mono',consolas,'Courier New',monospace\"><span style=\"color: #008080; text-decoration-color: #008080; font-weight: bold\">[+] Found package.json at /</span>\n",
       "</pre>\n"
      ],
      "text/plain": [
       "\u001b[1;36m[\u001b[0m\u001b[1;36m+\u001b[0m\u001b[1;36m]\u001b[0m\u001b[1;36m Found package.json at \u001b[0m\u001b[1;36m/\u001b[0m\n"
      ]
     },
     "metadata": {},
     "output_type": "display_data"
    },
    {
     "data": {
      "text/html": [
       "<pre style=\"white-space:pre;overflow-x:auto;line-height:normal;font-family:Menlo,'DejaVu Sans Mono',consolas,'Courier New',monospace\"><span style=\"color: #008080; text-decoration-color: #008080; font-weight: bold\">[+] Getting </span><span style=\"color: #008080; text-decoration-color: #008080; font-weight: bold; text-decoration: underline\">https://github.com/cozy-labs/cozy-desktop/blob/master/package.json</span>\n",
       "</pre>\n"
      ],
      "text/plain": [
       "\u001b[1;36m[\u001b[0m\u001b[1;36m+\u001b[0m\u001b[1;36m]\u001b[0m\u001b[1;36m Getting \u001b[0m\u001b[1;4;36mhttps://github.com/cozy-labs/cozy-desktop/blob/master/package.json\u001b[0m\n"
      ]
     },
     "metadata": {},
     "output_type": "display_data"
    },
    {
     "data": {
      "text/html": [
       "<pre style=\"white-space:pre;overflow-x:auto;line-height:normal;font-family:Menlo,'DejaVu Sans Mono',consolas,'Courier New',monospace\"><span style=\"color: #008080; text-decoration-color: #008080; font-weight: bold\">[+] Getting repo: </span><span style=\"color: #008080; text-decoration-color: #008080; font-weight: bold; text-decoration: underline\">https://github.com/TrustedRu/CryptoARMGOST</span>\n",
       "</pre>\n"
      ],
      "text/plain": [
       "\u001b[1;36m[\u001b[0m\u001b[1;36m+\u001b[0m\u001b[1;36m]\u001b[0m\u001b[1;36m Getting repo: \u001b[0m\u001b[1;4;36mhttps://github.com/TrustedRu/CryptoARMGOST\u001b[0m\n"
      ]
     },
     "metadata": {},
     "output_type": "display_data"
    },
    {
     "data": {
      "text/html": [
       "<pre style=\"white-space:pre;overflow-x:auto;line-height:normal;font-family:Menlo,'DejaVu Sans Mono',consolas,'Courier New',monospace\"><span style=\"color: #008080; text-decoration-color: #008080; font-weight: bold\">[+] Successfully retrieved repo: </span><span style=\"color: #008080; text-decoration-color: #008080; font-weight: bold; text-decoration: underline\">https://github.com/TrustedRu/CryptoARMGOST</span>\n",
       "</pre>\n"
      ],
      "text/plain": [
       "\u001b[1;36m[\u001b[0m\u001b[1;36m+\u001b[0m\u001b[1;36m]\u001b[0m\u001b[1;36m Successfully retrieved repo: \u001b[0m\u001b[1;4;36mhttps://github.com/TrustedRu/CryptoARMGOST\u001b[0m\n"
      ]
     },
     "metadata": {},
     "output_type": "display_data"
    },
    {
     "data": {
      "text/html": [
       "<pre style=\"white-space:pre;overflow-x:auto;line-height:normal;font-family:Menlo,'DejaVu Sans Mono',consolas,'Courier New',monospace\"><span style=\"color: #008080; text-decoration-color: #008080; font-weight: bold\">[+] Found package.json at /</span>\n",
       "</pre>\n"
      ],
      "text/plain": [
       "\u001b[1;36m[\u001b[0m\u001b[1;36m+\u001b[0m\u001b[1;36m]\u001b[0m\u001b[1;36m Found package.json at \u001b[0m\u001b[1;36m/\u001b[0m\n"
      ]
     },
     "metadata": {},
     "output_type": "display_data"
    },
    {
     "data": {
      "text/html": [
       "<pre style=\"white-space:pre;overflow-x:auto;line-height:normal;font-family:Menlo,'DejaVu Sans Mono',consolas,'Courier New',monospace\"><span style=\"color: #008080; text-decoration-color: #008080; font-weight: bold\">[+] Getting </span><span style=\"color: #008080; text-decoration-color: #008080; font-weight: bold; text-decoration: underline\">https://github.com/CryptoARM/CryptoARMGOST/blob/master/package.json</span>\n",
       "</pre>\n"
      ],
      "text/plain": [
       "\u001b[1;36m[\u001b[0m\u001b[1;36m+\u001b[0m\u001b[1;36m]\u001b[0m\u001b[1;36m Getting \u001b[0m\u001b[1;4;36mhttps://github.com/CryptoARM/CryptoARMGOST/blob/master/package.json\u001b[0m\n"
      ]
     },
     "metadata": {},
     "output_type": "display_data"
    },
    {
     "data": {
      "text/html": [
       "<pre style=\"white-space:pre;overflow-x:auto;line-height:normal;font-family:Menlo,'DejaVu Sans Mono',consolas,'Courier New',monospace\"><span style=\"color: #008080; text-decoration-color: #008080; font-weight: bold\">[+] Getting repo: </span><span style=\"color: #008080; text-decoration-color: #008080; font-weight: bold; text-decoration: underline\">https://github.com/caesiumstudio/csBooks-updates.git</span>\n",
       "</pre>\n"
      ],
      "text/plain": [
       "\u001b[1;36m[\u001b[0m\u001b[1;36m+\u001b[0m\u001b[1;36m]\u001b[0m\u001b[1;36m Getting repo: \u001b[0m\u001b[1;4;36mhttps://github.com/caesiumstudio/csBooks-updates.git\u001b[0m\n"
      ]
     },
     "metadata": {},
     "output_type": "display_data"
    },
    {
     "data": {
      "text/html": [
       "<pre style=\"white-space:pre;overflow-x:auto;line-height:normal;font-family:Menlo,'DejaVu Sans Mono',consolas,'Courier New',monospace\"><span style=\"color: #008080; text-decoration-color: #008080; font-weight: bold\">[+] Successfully retrieved repo: </span><span style=\"color: #008080; text-decoration-color: #008080; font-weight: bold; text-decoration: underline\">https://github.com/caesiumstudio/csBooks-updates.git</span>\n",
       "</pre>\n"
      ],
      "text/plain": [
       "\u001b[1;36m[\u001b[0m\u001b[1;36m+\u001b[0m\u001b[1;36m]\u001b[0m\u001b[1;36m Successfully retrieved repo: \u001b[0m\u001b[1;4;36mhttps://github.com/caesiumstudio/csBooks-updates.git\u001b[0m\n"
      ]
     },
     "metadata": {},
     "output_type": "display_data"
    },
    {
     "data": {
      "text/html": [
       "<pre style=\"white-space:pre;overflow-x:auto;line-height:normal;font-family:Menlo,'DejaVu Sans Mono',consolas,'Courier New',monospace\"><span style=\"color: #ff5f00; text-decoration-color: #ff5f00; font-weight: bold\">[!] Package.json not found at root; trying directories</span>\n",
       "</pre>\n"
      ],
      "text/plain": [
       "\u001b[1;38;5;202m[\u001b[0m\u001b[1;38;5;202m!\u001b[0m\u001b[1;38;5;202m]\u001b[0m\u001b[1;38;5;202m Package.json not found at root; trying directories\u001b[0m\n"
      ]
     },
     "metadata": {},
     "output_type": "display_data"
    },
    {
     "data": {
      "text/html": [
       "<pre style=\"white-space:pre;overflow-x:auto;line-height:normal;font-family:Menlo,'DejaVu Sans Mono',consolas,'Courier New',monospace\"><span style=\"color: #008080; text-decoration-color: #008080; font-weight: bold\">[+] Trying </span><span style=\"color: #008080; text-decoration-color: #008080; font-weight: bold; text-decoration: underline\">https://github.com/caesiumstudio/csBooks-updates/tree/master/.github</span>\n",
       "</pre>\n"
      ],
      "text/plain": [
       "\u001b[1;36m[\u001b[0m\u001b[1;36m+\u001b[0m\u001b[1;36m]\u001b[0m\u001b[1;36m Trying \u001b[0m\u001b[1;4;36mhttps://github.com/caesiumstudio/csBooks-updates/tree/master/.github\u001b[0m\n"
      ]
     },
     "metadata": {},
     "output_type": "display_data"
    },
    {
     "data": {
      "text/html": [
       "<pre style=\"white-space:pre;overflow-x:auto;line-height:normal;font-family:Menlo,'DejaVu Sans Mono',consolas,'Courier New',monospace\"><span style=\"color: #008080; text-decoration-color: #008080; font-weight: bold\">[+] Trying </span><span style=\"color: #008080; text-decoration-color: #008080; font-weight: bold; text-decoration: underline\">https://github.com/caesiumstudio/csBooks-updates/tree/master/assets</span>\n",
       "</pre>\n"
      ],
      "text/plain": [
       "\u001b[1;36m[\u001b[0m\u001b[1;36m+\u001b[0m\u001b[1;36m]\u001b[0m\u001b[1;36m Trying \u001b[0m\u001b[1;4;36mhttps://github.com/caesiumstudio/csBooks-updates/tree/master/assets\u001b[0m\n"
      ]
     },
     "metadata": {},
     "output_type": "display_data"
    },
    {
     "data": {
      "text/html": [
       "<pre style=\"white-space:pre;overflow-x:auto;line-height:normal;font-family:Menlo,'DejaVu Sans Mono',consolas,'Courier New',monospace\"><span style=\"color: #800000; text-decoration-color: #800000; font-weight: bold\">[💀] Could not find package.json in first-level-subdirs</span>\n",
       "</pre>\n"
      ],
      "text/plain": [
       "\u001b[1;31m[\u001b[0m\u001b[1;31m💀\u001b[0m\u001b[1;31m]\u001b[0m\u001b[1;31m Could not find package.json in first-level-subdirs\u001b[0m\n"
      ]
     },
     "metadata": {},
     "output_type": "display_data"
    },
    {
     "data": {
      "text/html": [
       "<pre style=\"white-space:pre;overflow-x:auto;line-height:normal;font-family:Menlo,'DejaVu Sans Mono',consolas,'Courier New',monospace\"><span style=\"color: #008080; text-decoration-color: #008080; font-weight: bold\">[+] Getting repo: </span><span style=\"color: #008080; text-decoration-color: #008080; font-weight: bold; text-decoration: underline\">https://github.com/datproject/dat-desktop</span>\n",
       "</pre>\n"
      ],
      "text/plain": [
       "\u001b[1;36m[\u001b[0m\u001b[1;36m+\u001b[0m\u001b[1;36m]\u001b[0m\u001b[1;36m Getting repo: \u001b[0m\u001b[1;4;36mhttps://github.com/datproject/dat-desktop\u001b[0m\n"
      ]
     },
     "metadata": {},
     "output_type": "display_data"
    },
    {
     "data": {
      "text/html": [
       "<pre style=\"white-space:pre;overflow-x:auto;line-height:normal;font-family:Menlo,'DejaVu Sans Mono',consolas,'Courier New',monospace\"><span style=\"color: #008080; text-decoration-color: #008080; font-weight: bold\">[+] Successfully retrieved repo: </span><span style=\"color: #008080; text-decoration-color: #008080; font-weight: bold; text-decoration: underline\">https://github.com/datproject/dat-desktop</span>\n",
       "</pre>\n"
      ],
      "text/plain": [
       "\u001b[1;36m[\u001b[0m\u001b[1;36m+\u001b[0m\u001b[1;36m]\u001b[0m\u001b[1;36m Successfully retrieved repo: \u001b[0m\u001b[1;4;36mhttps://github.com/datproject/dat-desktop\u001b[0m\n"
      ]
     },
     "metadata": {},
     "output_type": "display_data"
    },
    {
     "data": {
      "text/html": [
       "<pre style=\"white-space:pre;overflow-x:auto;line-height:normal;font-family:Menlo,'DejaVu Sans Mono',consolas,'Courier New',monospace\"><span style=\"color: #008080; text-decoration-color: #008080; font-weight: bold\">[+] Found package.json at /</span>\n",
       "</pre>\n"
      ],
      "text/plain": [
       "\u001b[1;36m[\u001b[0m\u001b[1;36m+\u001b[0m\u001b[1;36m]\u001b[0m\u001b[1;36m Found package.json at \u001b[0m\u001b[1;36m/\u001b[0m\n"
      ]
     },
     "metadata": {},
     "output_type": "display_data"
    },
    {
     "data": {
      "text/html": [
       "<pre style=\"white-space:pre;overflow-x:auto;line-height:normal;font-family:Menlo,'DejaVu Sans Mono',consolas,'Courier New',monospace\"><span style=\"color: #008080; text-decoration-color: #008080; font-weight: bold\">[+] Getting </span><span style=\"color: #008080; text-decoration-color: #008080; font-weight: bold; text-decoration: underline\">https://github.com/dat-ecosystem-archive/dat-desktop/blob/master/package.json</span>\n",
       "</pre>\n"
      ],
      "text/plain": [
       "\u001b[1;36m[\u001b[0m\u001b[1;36m+\u001b[0m\u001b[1;36m]\u001b[0m\u001b[1;36m Getting \u001b[0m\u001b[1;4;36mhttps://github.com/dat-ecosystem-archive/dat-desktop/blob/master/package.json\u001b[0m\n"
      ]
     },
     "metadata": {},
     "output_type": "display_data"
    },
    {
     "data": {
      "text/html": [
       "<pre style=\"white-space:pre;overflow-x:auto;line-height:normal;font-family:Menlo,'DejaVu Sans Mono',consolas,'Courier New',monospace\"><span style=\"color: #008080; text-decoration-color: #008080; font-weight: bold\">[+] Getting repo: </span><span style=\"color: #008080; text-decoration-color: #008080; font-weight: bold; text-decoration: underline\">https://github.com/felipeleivav/dbcloner-app</span>\n",
       "</pre>\n"
      ],
      "text/plain": [
       "\u001b[1;36m[\u001b[0m\u001b[1;36m+\u001b[0m\u001b[1;36m]\u001b[0m\u001b[1;36m Getting repo: \u001b[0m\u001b[1;4;36mhttps://github.com/felipeleivav/dbcloner-app\u001b[0m\n"
      ]
     },
     "metadata": {},
     "output_type": "display_data"
    },
    {
     "data": {
      "text/html": [
       "<pre style=\"white-space:pre;overflow-x:auto;line-height:normal;font-family:Menlo,'DejaVu Sans Mono',consolas,'Courier New',monospace\"><span style=\"color: #008080; text-decoration-color: #008080; font-weight: bold\">[+] Successfully retrieved repo: </span><span style=\"color: #008080; text-decoration-color: #008080; font-weight: bold; text-decoration: underline\">https://github.com/felipeleivav/dbcloner-app</span>\n",
       "</pre>\n"
      ],
      "text/plain": [
       "\u001b[1;36m[\u001b[0m\u001b[1;36m+\u001b[0m\u001b[1;36m]\u001b[0m\u001b[1;36m Successfully retrieved repo: \u001b[0m\u001b[1;4;36mhttps://github.com/felipeleivav/dbcloner-app\u001b[0m\n"
      ]
     },
     "metadata": {},
     "output_type": "display_data"
    },
    {
     "data": {
      "text/html": [
       "<pre style=\"white-space:pre;overflow-x:auto;line-height:normal;font-family:Menlo,'DejaVu Sans Mono',consolas,'Courier New',monospace\"><span style=\"color: #ff5f00; text-decoration-color: #ff5f00; font-weight: bold\">[!] Package.json not found at root; trying directories</span>\n",
       "</pre>\n"
      ],
      "text/plain": [
       "\u001b[1;38;5;202m[\u001b[0m\u001b[1;38;5;202m!\u001b[0m\u001b[1;38;5;202m]\u001b[0m\u001b[1;38;5;202m Package.json not found at root; trying directories\u001b[0m\n"
      ]
     },
     "metadata": {},
     "output_type": "display_data"
    },
    {
     "data": {
      "text/html": [
       "<pre style=\"white-space:pre;overflow-x:auto;line-height:normal;font-family:Menlo,'DejaVu Sans Mono',consolas,'Courier New',monospace\"><span style=\"color: #008080; text-decoration-color: #008080; font-weight: bold\">[+] Trying </span><span style=\"color: #008080; text-decoration-color: #008080; font-weight: bold; text-decoration: underline\">https://github.com/felipeleivav/dbcloner-app/tree/main/assets</span>\n",
       "</pre>\n"
      ],
      "text/plain": [
       "\u001b[1;36m[\u001b[0m\u001b[1;36m+\u001b[0m\u001b[1;36m]\u001b[0m\u001b[1;36m Trying \u001b[0m\u001b[1;4;36mhttps://github.com/felipeleivav/dbcloner-app/tree/main/assets\u001b[0m\n"
      ]
     },
     "metadata": {},
     "output_type": "display_data"
    },
    {
     "data": {
      "text/html": [
       "<pre style=\"white-space:pre;overflow-x:auto;line-height:normal;font-family:Menlo,'DejaVu Sans Mono',consolas,'Courier New',monospace\"><span style=\"color: #800000; text-decoration-color: #800000; font-weight: bold\">[💀] Could not find package.json in first-level-subdirs</span>\n",
       "</pre>\n"
      ],
      "text/plain": [
       "\u001b[1;31m[\u001b[0m\u001b[1;31m💀\u001b[0m\u001b[1;31m]\u001b[0m\u001b[1;31m Could not find package.json in first-level-subdirs\u001b[0m\n"
      ]
     },
     "metadata": {},
     "output_type": "display_data"
    },
    {
     "data": {
      "text/html": [
       "<pre style=\"white-space:pre;overflow-x:auto;line-height:normal;font-family:Menlo,'DejaVu Sans Mono',consolas,'Courier New',monospace\"><span style=\"color: #008080; text-decoration-color: #008080; font-weight: bold\">[+] Getting repo: </span><span style=\"color: #008080; text-decoration-color: #008080; font-weight: bold; text-decoration: underline\">https://github.com/dbgate/dbgate</span>\n",
       "</pre>\n"
      ],
      "text/plain": [
       "\u001b[1;36m[\u001b[0m\u001b[1;36m+\u001b[0m\u001b[1;36m]\u001b[0m\u001b[1;36m Getting repo: \u001b[0m\u001b[1;4;36mhttps://github.com/dbgate/dbgate\u001b[0m\n"
      ]
     },
     "metadata": {},
     "output_type": "display_data"
    },
    {
     "data": {
      "text/html": [
       "<pre style=\"white-space:pre;overflow-x:auto;line-height:normal;font-family:Menlo,'DejaVu Sans Mono',consolas,'Courier New',monospace\"><span style=\"color: #008080; text-decoration-color: #008080; font-weight: bold\">[+] Successfully retrieved repo: </span><span style=\"color: #008080; text-decoration-color: #008080; font-weight: bold; text-decoration: underline\">https://github.com/dbgate/dbgate</span>\n",
       "</pre>\n"
      ],
      "text/plain": [
       "\u001b[1;36m[\u001b[0m\u001b[1;36m+\u001b[0m\u001b[1;36m]\u001b[0m\u001b[1;36m Successfully retrieved repo: \u001b[0m\u001b[1;4;36mhttps://github.com/dbgate/dbgate\u001b[0m\n"
      ]
     },
     "metadata": {},
     "output_type": "display_data"
    },
    {
     "data": {
      "text/html": [
       "<pre style=\"white-space:pre;overflow-x:auto;line-height:normal;font-family:Menlo,'DejaVu Sans Mono',consolas,'Courier New',monospace\"><span style=\"color: #008080; text-decoration-color: #008080; font-weight: bold\">[+] Found package.json at /</span>\n",
       "</pre>\n"
      ],
      "text/plain": [
       "\u001b[1;36m[\u001b[0m\u001b[1;36m+\u001b[0m\u001b[1;36m]\u001b[0m\u001b[1;36m Found package.json at \u001b[0m\u001b[1;36m/\u001b[0m\n"
      ]
     },
     "metadata": {},
     "output_type": "display_data"
    },
    {
     "data": {
      "text/html": [
       "<pre style=\"white-space:pre;overflow-x:auto;line-height:normal;font-family:Menlo,'DejaVu Sans Mono',consolas,'Courier New',monospace\"><span style=\"color: #008080; text-decoration-color: #008080; font-weight: bold\">[+] Getting </span><span style=\"color: #008080; text-decoration-color: #008080; font-weight: bold; text-decoration: underline\">https://github.com/dbgate/dbgate/blob/master/package.json</span>\n",
       "</pre>\n"
      ],
      "text/plain": [
       "\u001b[1;36m[\u001b[0m\u001b[1;36m+\u001b[0m\u001b[1;36m]\u001b[0m\u001b[1;36m Getting \u001b[0m\u001b[1;4;36mhttps://github.com/dbgate/dbgate/blob/master/package.json\u001b[0m\n"
      ]
     },
     "metadata": {},
     "output_type": "display_data"
    },
    {
     "data": {
      "text/html": [
       "<pre style=\"white-space:pre;overflow-x:auto;line-height:normal;font-family:Menlo,'DejaVu Sans Mono',consolas,'Courier New',monospace\"><span style=\"color: #008080; text-decoration-color: #008080; font-weight: bold\">[+] Getting repo: </span><span style=\"color: #008080; text-decoration-color: #008080; font-weight: bold; text-decoration: underline\">https://github.com/web-pal/DBGlass</span>\n",
       "</pre>\n"
      ],
      "text/plain": [
       "\u001b[1;36m[\u001b[0m\u001b[1;36m+\u001b[0m\u001b[1;36m]\u001b[0m\u001b[1;36m Getting repo: \u001b[0m\u001b[1;4;36mhttps://github.com/web-pal/DBGlass\u001b[0m\n"
      ]
     },
     "metadata": {},
     "output_type": "display_data"
    },
    {
     "data": {
      "text/html": [
       "<pre style=\"white-space:pre;overflow-x:auto;line-height:normal;font-family:Menlo,'DejaVu Sans Mono',consolas,'Courier New',monospace\"><span style=\"color: #008080; text-decoration-color: #008080; font-weight: bold\">[+] Successfully retrieved repo: </span><span style=\"color: #008080; text-decoration-color: #008080; font-weight: bold; text-decoration: underline\">https://github.com/web-pal/DBGlass</span>\n",
       "</pre>\n"
      ],
      "text/plain": [
       "\u001b[1;36m[\u001b[0m\u001b[1;36m+\u001b[0m\u001b[1;36m]\u001b[0m\u001b[1;36m Successfully retrieved repo: \u001b[0m\u001b[1;4;36mhttps://github.com/web-pal/DBGlass\u001b[0m\n"
      ]
     },
     "metadata": {},
     "output_type": "display_data"
    },
    {
     "data": {
      "text/html": [
       "<pre style=\"white-space:pre;overflow-x:auto;line-height:normal;font-family:Menlo,'DejaVu Sans Mono',consolas,'Courier New',monospace\"><span style=\"color: #008080; text-decoration-color: #008080; font-weight: bold\">[+] Found package.json at /</span>\n",
       "</pre>\n"
      ],
      "text/plain": [
       "\u001b[1;36m[\u001b[0m\u001b[1;36m+\u001b[0m\u001b[1;36m]\u001b[0m\u001b[1;36m Found package.json at \u001b[0m\u001b[1;36m/\u001b[0m\n"
      ]
     },
     "metadata": {},
     "output_type": "display_data"
    },
    {
     "data": {
      "text/html": [
       "<pre style=\"white-space:pre;overflow-x:auto;line-height:normal;font-family:Menlo,'DejaVu Sans Mono',consolas,'Courier New',monospace\"><span style=\"color: #008080; text-decoration-color: #008080; font-weight: bold\">[+] Getting </span><span style=\"color: #008080; text-decoration-color: #008080; font-weight: bold; text-decoration: underline\">https://github.com/web-pal/DBGlass/blob/master/package.json</span>\n",
       "</pre>\n"
      ],
      "text/plain": [
       "\u001b[1;36m[\u001b[0m\u001b[1;36m+\u001b[0m\u001b[1;36m]\u001b[0m\u001b[1;36m Getting \u001b[0m\u001b[1;4;36mhttps://github.com/web-pal/DBGlass/blob/master/package.json\u001b[0m\n"
      ]
     },
     "metadata": {},
     "output_type": "display_data"
    },
    {
     "data": {
      "text/html": [
       "<pre style=\"white-space:pre;overflow-x:auto;line-height:normal;font-family:Menlo,'DejaVu Sans Mono',consolas,'Courier New',monospace\"><span style=\"color: #008080; text-decoration-color: #008080; font-weight: bold\">[+] Getting repo: </span><span style=\"color: #008080; text-decoration-color: #008080; font-weight: bold; text-decoration: underline\">https://github.com/sfx101/docker-stacks</span>\n",
       "</pre>\n"
      ],
      "text/plain": [
       "\u001b[1;36m[\u001b[0m\u001b[1;36m+\u001b[0m\u001b[1;36m]\u001b[0m\u001b[1;36m Getting repo: \u001b[0m\u001b[1;4;36mhttps://github.com/sfx101/docker-stacks\u001b[0m\n"
      ]
     },
     "metadata": {},
     "output_type": "display_data"
    },
    {
     "data": {
      "text/html": [
       "<pre style=\"white-space:pre;overflow-x:auto;line-height:normal;font-family:Menlo,'DejaVu Sans Mono',consolas,'Courier New',monospace\"><span style=\"color: #008080; text-decoration-color: #008080; font-weight: bold\">[+] Successfully retrieved repo: </span><span style=\"color: #008080; text-decoration-color: #008080; font-weight: bold; text-decoration: underline\">https://github.com/sfx101/docker-stacks</span>\n",
       "</pre>\n"
      ],
      "text/plain": [
       "\u001b[1;36m[\u001b[0m\u001b[1;36m+\u001b[0m\u001b[1;36m]\u001b[0m\u001b[1;36m Successfully retrieved repo: \u001b[0m\u001b[1;4;36mhttps://github.com/sfx101/docker-stacks\u001b[0m\n"
      ]
     },
     "metadata": {},
     "output_type": "display_data"
    },
    {
     "data": {
      "text/html": [
       "<pre style=\"white-space:pre;overflow-x:auto;line-height:normal;font-family:Menlo,'DejaVu Sans Mono',consolas,'Courier New',monospace\"><span style=\"color: #008080; text-decoration-color: #008080; font-weight: bold\">[+] Found package.json at /</span>\n",
       "</pre>\n"
      ],
      "text/plain": [
       "\u001b[1;36m[\u001b[0m\u001b[1;36m+\u001b[0m\u001b[1;36m]\u001b[0m\u001b[1;36m Found package.json at \u001b[0m\u001b[1;36m/\u001b[0m\n"
      ]
     },
     "metadata": {},
     "output_type": "display_data"
    },
    {
     "data": {
      "text/html": [
       "<pre style=\"white-space:pre;overflow-x:auto;line-height:normal;font-family:Menlo,'DejaVu Sans Mono',consolas,'Courier New',monospace\"><span style=\"color: #008080; text-decoration-color: #008080; font-weight: bold\">[+] Getting </span><span style=\"color: #008080; text-decoration-color: #008080; font-weight: bold; text-decoration: underline\">https://github.com/sfx101/deck/blob/master/package.json</span>\n",
       "</pre>\n"
      ],
      "text/plain": [
       "\u001b[1;36m[\u001b[0m\u001b[1;36m+\u001b[0m\u001b[1;36m]\u001b[0m\u001b[1;36m Getting \u001b[0m\u001b[1;4;36mhttps://github.com/sfx101/deck/blob/master/package.json\u001b[0m\n"
      ]
     },
     "metadata": {},
     "output_type": "display_data"
    },
    {
     "data": {
      "text/html": [
       "<pre style=\"white-space:pre;overflow-x:auto;line-height:normal;font-family:Menlo,'DejaVu Sans Mono',consolas,'Courier New',monospace\"><span style=\"color: #008080; text-decoration-color: #008080; font-weight: bold\">[+] Getting repo: </span><span style=\"color: #008080; text-decoration-color: #008080; font-weight: bold; text-decoration: underline\">https://github.com/rivafarabi/deckboard</span>\n",
       "</pre>\n"
      ],
      "text/plain": [
       "\u001b[1;36m[\u001b[0m\u001b[1;36m+\u001b[0m\u001b[1;36m]\u001b[0m\u001b[1;36m Getting repo: \u001b[0m\u001b[1;4;36mhttps://github.com/rivafarabi/deckboard\u001b[0m\n"
      ]
     },
     "metadata": {},
     "output_type": "display_data"
    },
    {
     "data": {
      "text/html": [
       "<pre style=\"white-space:pre;overflow-x:auto;line-height:normal;font-family:Menlo,'DejaVu Sans Mono',consolas,'Courier New',monospace\"><span style=\"color: #008080; text-decoration-color: #008080; font-weight: bold\">[+] Successfully retrieved repo: </span><span style=\"color: #008080; text-decoration-color: #008080; font-weight: bold; text-decoration: underline\">https://github.com/rivafarabi/deckboard</span>\n",
       "</pre>\n"
      ],
      "text/plain": [
       "\u001b[1;36m[\u001b[0m\u001b[1;36m+\u001b[0m\u001b[1;36m]\u001b[0m\u001b[1;36m Successfully retrieved repo: \u001b[0m\u001b[1;4;36mhttps://github.com/rivafarabi/deckboard\u001b[0m\n"
      ]
     },
     "metadata": {},
     "output_type": "display_data"
    },
    {
     "data": {
      "text/html": [
       "<pre style=\"white-space:pre;overflow-x:auto;line-height:normal;font-family:Menlo,'DejaVu Sans Mono',consolas,'Courier New',monospace\"><span style=\"color: #ff5f00; text-decoration-color: #ff5f00; font-weight: bold\">[!] Package.json not found at root; trying directories</span>\n",
       "</pre>\n"
      ],
      "text/plain": [
       "\u001b[1;38;5;202m[\u001b[0m\u001b[1;38;5;202m!\u001b[0m\u001b[1;38;5;202m]\u001b[0m\u001b[1;38;5;202m Package.json not found at root; trying directories\u001b[0m\n"
      ]
     },
     "metadata": {},
     "output_type": "display_data"
    },
    {
     "data": {
      "text/html": [
       "<pre style=\"white-space:pre;overflow-x:auto;line-height:normal;font-family:Menlo,'DejaVu Sans Mono',consolas,'Courier New',monospace\"><span style=\"color: #008080; text-decoration-color: #008080; font-weight: bold\">[+] Trying </span><span style=\"color: #008080; text-decoration-color: #008080; font-weight: bold; text-decoration: underline\">https://github.com/rivafarabi/deckboard/tree/master/.github</span>\n",
       "</pre>\n"
      ],
      "text/plain": [
       "\u001b[1;36m[\u001b[0m\u001b[1;36m+\u001b[0m\u001b[1;36m]\u001b[0m\u001b[1;36m Trying \u001b[0m\u001b[1;4;36mhttps://github.com/rivafarabi/deckboard/tree/master/.github\u001b[0m\n"
      ]
     },
     "metadata": {},
     "output_type": "display_data"
    },
    {
     "data": {
      "text/html": [
       "<pre style=\"white-space:pre;overflow-x:auto;line-height:normal;font-family:Menlo,'DejaVu Sans Mono',consolas,'Courier New',monospace\"><span style=\"color: #008080; text-decoration-color: #008080; font-weight: bold\">[+] Trying </span><span style=\"color: #008080; text-decoration-color: #008080; font-weight: bold; text-decoration: underline\">https://github.com/rivafarabi/deckboard/tree/master/media</span>\n",
       "</pre>\n"
      ],
      "text/plain": [
       "\u001b[1;36m[\u001b[0m\u001b[1;36m+\u001b[0m\u001b[1;36m]\u001b[0m\u001b[1;36m Trying \u001b[0m\u001b[1;4;36mhttps://github.com/rivafarabi/deckboard/tree/master/media\u001b[0m\n"
      ]
     },
     "metadata": {},
     "output_type": "display_data"
    },
    {
     "data": {
      "text/html": [
       "<pre style=\"white-space:pre;overflow-x:auto;line-height:normal;font-family:Menlo,'DejaVu Sans Mono',consolas,'Courier New',monospace\"><span style=\"color: #008080; text-decoration-color: #008080; font-weight: bold\">[+] Trying </span><span style=\"color: #008080; text-decoration-color: #008080; font-weight: bold; text-decoration: underline\">https://github.com/rivafarabi/deckboard/tree/master/static</span>\n",
       "</pre>\n"
      ],
      "text/plain": [
       "\u001b[1;36m[\u001b[0m\u001b[1;36m+\u001b[0m\u001b[1;36m]\u001b[0m\u001b[1;36m Trying \u001b[0m\u001b[1;4;36mhttps://github.com/rivafarabi/deckboard/tree/master/static\u001b[0m\n"
      ]
     },
     "metadata": {},
     "output_type": "display_data"
    },
    {
     "data": {
      "text/html": [
       "<pre style=\"white-space:pre;overflow-x:auto;line-height:normal;font-family:Menlo,'DejaVu Sans Mono',consolas,'Courier New',monospace\"><span style=\"color: #800000; text-decoration-color: #800000; font-weight: bold\">[💀] Could not find package.json in first-level-subdirs</span>\n",
       "</pre>\n"
      ],
      "text/plain": [
       "\u001b[1;31m[\u001b[0m\u001b[1;31m💀\u001b[0m\u001b[1;31m]\u001b[0m\u001b[1;31m Could not find package.json in first-level-subdirs\u001b[0m\n"
      ]
     },
     "metadata": {},
     "output_type": "display_data"
    },
    {
     "data": {
      "text/html": [
       "<pre style=\"white-space:pre;overflow-x:auto;line-height:normal;font-family:Menlo,'DejaVu Sans Mono',consolas,'Courier New',monospace\"><span style=\"color: #008080; text-decoration-color: #008080; font-weight: bold\">[+] Getting repo: </span><span style=\"color: #008080; text-decoration-color: #008080; font-weight: bold; text-decoration: underline\">https://github.com/TheOtterlord/deckmaster</span>\n",
       "</pre>\n"
      ],
      "text/plain": [
       "\u001b[1;36m[\u001b[0m\u001b[1;36m+\u001b[0m\u001b[1;36m]\u001b[0m\u001b[1;36m Getting repo: \u001b[0m\u001b[1;4;36mhttps://github.com/TheOtterlord/deckmaster\u001b[0m\n"
      ]
     },
     "metadata": {},
     "output_type": "display_data"
    },
    {
     "data": {
      "text/html": [
       "<pre style=\"white-space:pre;overflow-x:auto;line-height:normal;font-family:Menlo,'DejaVu Sans Mono',consolas,'Courier New',monospace\"><span style=\"color: #008080; text-decoration-color: #008080; font-weight: bold\">[+] Successfully retrieved repo: </span><span style=\"color: #008080; text-decoration-color: #008080; font-weight: bold; text-decoration: underline\">https://github.com/TheOtterlord/deckmaster</span>\n",
       "</pre>\n"
      ],
      "text/plain": [
       "\u001b[1;36m[\u001b[0m\u001b[1;36m+\u001b[0m\u001b[1;36m]\u001b[0m\u001b[1;36m Successfully retrieved repo: \u001b[0m\u001b[1;4;36mhttps://github.com/TheOtterlord/deckmaster\u001b[0m\n"
      ]
     },
     "metadata": {},
     "output_type": "display_data"
    },
    {
     "data": {
      "text/html": [
       "<pre style=\"white-space:pre;overflow-x:auto;line-height:normal;font-family:Menlo,'DejaVu Sans Mono',consolas,'Courier New',monospace\"><span style=\"color: #008080; text-decoration-color: #008080; font-weight: bold\">[+] Found package.json at /</span>\n",
       "</pre>\n"
      ],
      "text/plain": [
       "\u001b[1;36m[\u001b[0m\u001b[1;36m+\u001b[0m\u001b[1;36m]\u001b[0m\u001b[1;36m Found package.json at \u001b[0m\u001b[1;36m/\u001b[0m\n"
      ]
     },
     "metadata": {},
     "output_type": "display_data"
    },
    {
     "data": {
      "text/html": [
       "<pre style=\"white-space:pre;overflow-x:auto;line-height:normal;font-family:Menlo,'DejaVu Sans Mono',consolas,'Courier New',monospace\"><span style=\"color: #008080; text-decoration-color: #008080; font-weight: bold\">[+] Getting </span><span style=\"color: #008080; text-decoration-color: #008080; font-weight: bold; text-decoration: underline\">https://github.com/TheOtterlord/deckmaster/blob/main/package.json</span>\n",
       "</pre>\n"
      ],
      "text/plain": [
       "\u001b[1;36m[\u001b[0m\u001b[1;36m+\u001b[0m\u001b[1;36m]\u001b[0m\u001b[1;36m Getting \u001b[0m\u001b[1;4;36mhttps://github.com/TheOtterlord/deckmaster/blob/main/package.json\u001b[0m\n"
      ]
     },
     "metadata": {},
     "output_type": "display_data"
    },
    {
     "data": {
      "text/html": [
       "<pre style=\"white-space:pre;overflow-x:auto;line-height:normal;font-family:Menlo,'DejaVu Sans Mono',consolas,'Courier New',monospace\"><span style=\"color: #008080; text-decoration-color: #008080; font-weight: bold\">[+] Getting repo: </span><span style=\"color: #008080; text-decoration-color: #008080; font-weight: bold; text-decoration: underline\">https://github.com/decosoftware/deco-ide</span>\n",
       "</pre>\n"
      ],
      "text/plain": [
       "\u001b[1;36m[\u001b[0m\u001b[1;36m+\u001b[0m\u001b[1;36m]\u001b[0m\u001b[1;36m Getting repo: \u001b[0m\u001b[1;4;36mhttps://github.com/decosoftware/deco-ide\u001b[0m\n"
      ]
     },
     "metadata": {},
     "output_type": "display_data"
    },
    {
     "data": {
      "text/html": [
       "<pre style=\"white-space:pre;overflow-x:auto;line-height:normal;font-family:Menlo,'DejaVu Sans Mono',consolas,'Courier New',monospace\"><span style=\"color: #008080; text-decoration-color: #008080; font-weight: bold\">[+] Successfully retrieved repo: </span><span style=\"color: #008080; text-decoration-color: #008080; font-weight: bold; text-decoration: underline\">https://github.com/decosoftware/deco-ide</span>\n",
       "</pre>\n"
      ],
      "text/plain": [
       "\u001b[1;36m[\u001b[0m\u001b[1;36m+\u001b[0m\u001b[1;36m]\u001b[0m\u001b[1;36m Successfully retrieved repo: \u001b[0m\u001b[1;4;36mhttps://github.com/decosoftware/deco-ide\u001b[0m\n"
      ]
     },
     "metadata": {},
     "output_type": "display_data"
    },
    {
     "data": {
      "text/html": [
       "<pre style=\"white-space:pre;overflow-x:auto;line-height:normal;font-family:Menlo,'DejaVu Sans Mono',consolas,'Courier New',monospace\"><span style=\"color: #ff5f00; text-decoration-color: #ff5f00; font-weight: bold\">[!] Package.json not found at root; trying directories</span>\n",
       "</pre>\n"
      ],
      "text/plain": [
       "\u001b[1;38;5;202m[\u001b[0m\u001b[1;38;5;202m!\u001b[0m\u001b[1;38;5;202m]\u001b[0m\u001b[1;38;5;202m Package.json not found at root; trying directories\u001b[0m\n"
      ]
     },
     "metadata": {},
     "output_type": "display_data"
    },
    {
     "data": {
      "text/html": [
       "<pre style=\"white-space:pre;overflow-x:auto;line-height:normal;font-family:Menlo,'DejaVu Sans Mono',consolas,'Courier New',monospace\"><span style=\"color: #008080; text-decoration-color: #008080; font-weight: bold\">[+] Trying </span><span style=\"color: #008080; text-decoration-color: #008080; font-weight: bold; text-decoration: underline\">https://github.com/decosoftware/deco-ide/tree/master/build</span>\n",
       "</pre>\n"
      ],
      "text/plain": [
       "\u001b[1;36m[\u001b[0m\u001b[1;36m+\u001b[0m\u001b[1;36m]\u001b[0m\u001b[1;36m Trying \u001b[0m\u001b[1;4;36mhttps://github.com/decosoftware/deco-ide/tree/master/build\u001b[0m\n"
      ]
     },
     "metadata": {},
     "output_type": "display_data"
    },
    {
     "data": {
      "text/html": [
       "<pre style=\"white-space:pre;overflow-x:auto;line-height:normal;font-family:Menlo,'DejaVu Sans Mono',consolas,'Courier New',monospace\"><span style=\"color: #008080; text-decoration-color: #008080; font-weight: bold\">[+] Trying </span><span style=\"color: #008080; text-decoration-color: #008080; font-weight: bold; text-decoration: underline\">https://github.com/decosoftware/deco-ide/tree/master/desktop</span>\n",
       "</pre>\n"
      ],
      "text/plain": [
       "\u001b[1;36m[\u001b[0m\u001b[1;36m+\u001b[0m\u001b[1;36m]\u001b[0m\u001b[1;36m Trying \u001b[0m\u001b[1;4;36mhttps://github.com/decosoftware/deco-ide/tree/master/desktop\u001b[0m\n"
      ]
     },
     "metadata": {},
     "output_type": "display_data"
    },
    {
     "data": {
      "text/html": [
       "<pre style=\"white-space:pre;overflow-x:auto;line-height:normal;font-family:Menlo,'DejaVu Sans Mono',consolas,'Courier New',monospace\"><span style=\"color: #008080; text-decoration-color: #008080; font-weight: bold\">[+] Trying </span><span style=\"color: #008080; text-decoration-color: #008080; font-weight: bold; text-decoration: underline\">https://github.com/decosoftware/deco-ide/tree/master/shared</span>\n",
       "</pre>\n"
      ],
      "text/plain": [
       "\u001b[1;36m[\u001b[0m\u001b[1;36m+\u001b[0m\u001b[1;36m]\u001b[0m\u001b[1;36m Trying \u001b[0m\u001b[1;4;36mhttps://github.com/decosoftware/deco-ide/tree/master/shared\u001b[0m\n"
      ]
     },
     "metadata": {},
     "output_type": "display_data"
    },
    {
     "data": {
      "text/html": [
       "<pre style=\"white-space:pre;overflow-x:auto;line-height:normal;font-family:Menlo,'DejaVu Sans Mono',consolas,'Courier New',monospace\"><span style=\"color: #008080; text-decoration-color: #008080; font-weight: bold\">[+] Trying </span><span style=\"color: #008080; text-decoration-color: #008080; font-weight: bold; text-decoration: underline\">https://github.com/decosoftware/deco-ide/tree/master/web</span>\n",
       "</pre>\n"
      ],
      "text/plain": [
       "\u001b[1;36m[\u001b[0m\u001b[1;36m+\u001b[0m\u001b[1;36m]\u001b[0m\u001b[1;36m Trying \u001b[0m\u001b[1;4;36mhttps://github.com/decosoftware/deco-ide/tree/master/web\u001b[0m\n"
      ]
     },
     "metadata": {},
     "output_type": "display_data"
    },
    {
     "data": {
      "text/html": [
       "<pre style=\"white-space:pre;overflow-x:auto;line-height:normal;font-family:Menlo,'DejaVu Sans Mono',consolas,'Courier New',monospace\"><span style=\"color: #800000; text-decoration-color: #800000; font-weight: bold\">[💀] Could not find package.json in first-level-subdirs</span>\n",
       "</pre>\n"
      ],
      "text/plain": [
       "\u001b[1;31m[\u001b[0m\u001b[1;31m💀\u001b[0m\u001b[1;31m]\u001b[0m\u001b[1;31m Could not find package.json in first-level-subdirs\u001b[0m\n"
      ]
     },
     "metadata": {},
     "output_type": "display_data"
    },
    {
     "data": {
      "text/html": [
       "<pre style=\"white-space:pre;overflow-x:auto;line-height:normal;font-family:Menlo,'DejaVu Sans Mono',consolas,'Courier New',monospace\"><span style=\"color: #008080; text-decoration-color: #008080; font-weight: bold\">[+] Getting repo: </span><span style=\"color: #008080; text-decoration-color: #008080; font-weight: bold; text-decoration: underline\">https://github.com/deskfiler/deskfiler</span>\n",
       "</pre>\n"
      ],
      "text/plain": [
       "\u001b[1;36m[\u001b[0m\u001b[1;36m+\u001b[0m\u001b[1;36m]\u001b[0m\u001b[1;36m Getting repo: \u001b[0m\u001b[1;4;36mhttps://github.com/deskfiler/deskfiler\u001b[0m\n"
      ]
     },
     "metadata": {},
     "output_type": "display_data"
    },
    {
     "data": {
      "text/html": [
       "<pre style=\"white-space:pre;overflow-x:auto;line-height:normal;font-family:Menlo,'DejaVu Sans Mono',consolas,'Courier New',monospace\"><span style=\"color: #008080; text-decoration-color: #008080; font-weight: bold\">[+] Successfully retrieved repo: </span><span style=\"color: #008080; text-decoration-color: #008080; font-weight: bold; text-decoration: underline\">https://github.com/deskfiler/deskfiler</span>\n",
       "</pre>\n"
      ],
      "text/plain": [
       "\u001b[1;36m[\u001b[0m\u001b[1;36m+\u001b[0m\u001b[1;36m]\u001b[0m\u001b[1;36m Successfully retrieved repo: \u001b[0m\u001b[1;4;36mhttps://github.com/deskfiler/deskfiler\u001b[0m\n"
      ]
     },
     "metadata": {},
     "output_type": "display_data"
    },
    {
     "data": {
      "text/html": [
       "<pre style=\"white-space:pre;overflow-x:auto;line-height:normal;font-family:Menlo,'DejaVu Sans Mono',consolas,'Courier New',monospace\"><span style=\"color: #008080; text-decoration-color: #008080; font-weight: bold\">[+] Found package.json at /</span>\n",
       "</pre>\n"
      ],
      "text/plain": [
       "\u001b[1;36m[\u001b[0m\u001b[1;36m+\u001b[0m\u001b[1;36m]\u001b[0m\u001b[1;36m Found package.json at \u001b[0m\u001b[1;36m/\u001b[0m\n"
      ]
     },
     "metadata": {},
     "output_type": "display_data"
    },
    {
     "data": {
      "text/html": [
       "<pre style=\"white-space:pre;overflow-x:auto;line-height:normal;font-family:Menlo,'DejaVu Sans Mono',consolas,'Courier New',monospace\"><span style=\"color: #008080; text-decoration-color: #008080; font-weight: bold\">[+] Getting </span><span style=\"color: #008080; text-decoration-color: #008080; font-weight: bold; text-decoration: underline\">https://github.com/deskfiler/deskfiler/blob/master/package.json</span>\n",
       "</pre>\n"
      ],
      "text/plain": [
       "\u001b[1;36m[\u001b[0m\u001b[1;36m+\u001b[0m\u001b[1;36m]\u001b[0m\u001b[1;36m Getting \u001b[0m\u001b[1;4;36mhttps://github.com/deskfiler/deskfiler/blob/master/package.json\u001b[0m\n"
      ]
     },
     "metadata": {},
     "output_type": "display_data"
    },
    {
     "data": {
      "text/html": [
       "<pre style=\"white-space:pre;overflow-x:auto;line-height:normal;font-family:Menlo,'DejaVu Sans Mono',consolas,'Courier New',monospace\"><span style=\"color: #008080; text-decoration-color: #008080; font-weight: bold\">[+] Getting repo: </span><span style=\"color: #008080; text-decoration-color: #008080; font-weight: bold; text-decoration: underline\">https://github.com/bryht/Dict</span>\n",
       "</pre>\n"
      ],
      "text/plain": [
       "\u001b[1;36m[\u001b[0m\u001b[1;36m+\u001b[0m\u001b[1;36m]\u001b[0m\u001b[1;36m Getting repo: \u001b[0m\u001b[1;4;36mhttps://github.com/bryht/Dict\u001b[0m\n"
      ]
     },
     "metadata": {},
     "output_type": "display_data"
    },
    {
     "data": {
      "text/html": [
       "<pre style=\"white-space:pre;overflow-x:auto;line-height:normal;font-family:Menlo,'DejaVu Sans Mono',consolas,'Courier New',monospace\"><span style=\"color: #008080; text-decoration-color: #008080; font-weight: bold\">[+] Successfully retrieved repo: </span><span style=\"color: #008080; text-decoration-color: #008080; font-weight: bold; text-decoration: underline\">https://github.com/bryht/Dict</span>\n",
       "</pre>\n"
      ],
      "text/plain": [
       "\u001b[1;36m[\u001b[0m\u001b[1;36m+\u001b[0m\u001b[1;36m]\u001b[0m\u001b[1;36m Successfully retrieved repo: \u001b[0m\u001b[1;4;36mhttps://github.com/bryht/Dict\u001b[0m\n"
      ]
     },
     "metadata": {},
     "output_type": "display_data"
    },
    {
     "data": {
      "text/html": [
       "<pre style=\"white-space:pre;overflow-x:auto;line-height:normal;font-family:Menlo,'DejaVu Sans Mono',consolas,'Courier New',monospace\"><span style=\"color: #008080; text-decoration-color: #008080; font-weight: bold\">[+] Found package.json at /</span>\n",
       "</pre>\n"
      ],
      "text/plain": [
       "\u001b[1;36m[\u001b[0m\u001b[1;36m+\u001b[0m\u001b[1;36m]\u001b[0m\u001b[1;36m Found package.json at \u001b[0m\u001b[1;36m/\u001b[0m\n"
      ]
     },
     "metadata": {},
     "output_type": "display_data"
    },
    {
     "data": {
      "text/html": [
       "<pre style=\"white-space:pre;overflow-x:auto;line-height:normal;font-family:Menlo,'DejaVu Sans Mono',consolas,'Courier New',monospace\"><span style=\"color: #008080; text-decoration-color: #008080; font-weight: bold\">[+] Getting </span><span style=\"color: #008080; text-decoration-color: #008080; font-weight: bold; text-decoration: underline\">https://github.com/bryht/dian/blob/master/package.json</span>\n",
       "</pre>\n"
      ],
      "text/plain": [
       "\u001b[1;36m[\u001b[0m\u001b[1;36m+\u001b[0m\u001b[1;36m]\u001b[0m\u001b[1;36m Getting \u001b[0m\u001b[1;4;36mhttps://github.com/bryht/dian/blob/master/package.json\u001b[0m\n"
      ]
     },
     "metadata": {},
     "output_type": "display_data"
    },
    {
     "data": {
      "text/html": [
       "<pre style=\"white-space:pre;overflow-x:auto;line-height:normal;font-family:Menlo,'DejaVu Sans Mono',consolas,'Courier New',monospace\"><span style=\"color: #008080; text-decoration-color: #008080; font-weight: bold\">[+] Getting repo: </span><span style=\"color: #008080; text-decoration-color: #008080; font-weight: bold; text-decoration: underline\">https://github.com/icidasset/diffuse</span>\n",
       "</pre>\n"
      ],
      "text/plain": [
       "\u001b[1;36m[\u001b[0m\u001b[1;36m+\u001b[0m\u001b[1;36m]\u001b[0m\u001b[1;36m Getting repo: \u001b[0m\u001b[1;4;36mhttps://github.com/icidasset/diffuse\u001b[0m\n"
      ]
     },
     "metadata": {},
     "output_type": "display_data"
    },
    {
     "data": {
      "text/html": [
       "<pre style=\"white-space:pre;overflow-x:auto;line-height:normal;font-family:Menlo,'DejaVu Sans Mono',consolas,'Courier New',monospace\"><span style=\"color: #008080; text-decoration-color: #008080; font-weight: bold\">[+] Successfully retrieved repo: </span><span style=\"color: #008080; text-decoration-color: #008080; font-weight: bold; text-decoration: underline\">https://github.com/icidasset/diffuse</span>\n",
       "</pre>\n"
      ],
      "text/plain": [
       "\u001b[1;36m[\u001b[0m\u001b[1;36m+\u001b[0m\u001b[1;36m]\u001b[0m\u001b[1;36m Successfully retrieved repo: \u001b[0m\u001b[1;4;36mhttps://github.com/icidasset/diffuse\u001b[0m\n"
      ]
     },
     "metadata": {},
     "output_type": "display_data"
    },
    {
     "data": {
      "text/html": [
       "<pre style=\"white-space:pre;overflow-x:auto;line-height:normal;font-family:Menlo,'DejaVu Sans Mono',consolas,'Courier New',monospace\"><span style=\"color: #008080; text-decoration-color: #008080; font-weight: bold\">[+] Found package.json at /</span>\n",
       "</pre>\n"
      ],
      "text/plain": [
       "\u001b[1;36m[\u001b[0m\u001b[1;36m+\u001b[0m\u001b[1;36m]\u001b[0m\u001b[1;36m Found package.json at \u001b[0m\u001b[1;36m/\u001b[0m\n"
      ]
     },
     "metadata": {},
     "output_type": "display_data"
    },
    {
     "data": {
      "text/html": [
       "<pre style=\"white-space:pre;overflow-x:auto;line-height:normal;font-family:Menlo,'DejaVu Sans Mono',consolas,'Courier New',monospace\"><span style=\"color: #008080; text-decoration-color: #008080; font-weight: bold\">[+] Getting </span><span style=\"color: #008080; text-decoration-color: #008080; font-weight: bold; text-decoration: underline\">https://github.com/icidasset/diffuse/blob/main/package.json</span>\n",
       "</pre>\n"
      ],
      "text/plain": [
       "\u001b[1;36m[\u001b[0m\u001b[1;36m+\u001b[0m\u001b[1;36m]\u001b[0m\u001b[1;36m Getting \u001b[0m\u001b[1;4;36mhttps://github.com/icidasset/diffuse/blob/main/package.json\u001b[0m\n"
      ]
     },
     "metadata": {},
     "output_type": "display_data"
    },
    {
     "data": {
      "text/html": [
       "<pre style=\"white-space:pre;overflow-x:auto;line-height:normal;font-family:Menlo,'DejaVu Sans Mono',consolas,'Courier New',monospace\"><span style=\"color: #008080; text-decoration-color: #008080; font-weight: bold\">[+] Getting repo: </span><span style=\"color: #008080; text-decoration-color: #008080; font-weight: bold; text-decoration: underline\">https://github.com/thatonecalculator/discordrpcmaker</span>\n",
       "</pre>\n"
      ],
      "text/plain": [
       "\u001b[1;36m[\u001b[0m\u001b[1;36m+\u001b[0m\u001b[1;36m]\u001b[0m\u001b[1;36m Getting repo: \u001b[0m\u001b[1;4;36mhttps://github.com/thatonecalculator/discordrpcmaker\u001b[0m\n"
      ]
     },
     "metadata": {},
     "output_type": "display_data"
    },
    {
     "data": {
      "text/html": [
       "<pre style=\"white-space:pre;overflow-x:auto;line-height:normal;font-family:Menlo,'DejaVu Sans Mono',consolas,'Courier New',monospace\"><span style=\"color: #008080; text-decoration-color: #008080; font-weight: bold\">[+] Successfully retrieved repo: </span><span style=\"color: #008080; text-decoration-color: #008080; font-weight: bold; text-decoration: underline\">https://github.com/thatonecalculator/discordrpcmaker</span>\n",
       "</pre>\n"
      ],
      "text/plain": [
       "\u001b[1;36m[\u001b[0m\u001b[1;36m+\u001b[0m\u001b[1;36m]\u001b[0m\u001b[1;36m Successfully retrieved repo: \u001b[0m\u001b[1;4;36mhttps://github.com/thatonecalculator/discordrpcmaker\u001b[0m\n"
      ]
     },
     "metadata": {},
     "output_type": "display_data"
    },
    {
     "data": {
      "text/html": [
       "<pre style=\"white-space:pre;overflow-x:auto;line-height:normal;font-family:Menlo,'DejaVu Sans Mono',consolas,'Courier New',monospace\"><span style=\"color: #008080; text-decoration-color: #008080; font-weight: bold\">[+] Found package.json at /</span>\n",
       "</pre>\n"
      ],
      "text/plain": [
       "\u001b[1;36m[\u001b[0m\u001b[1;36m+\u001b[0m\u001b[1;36m]\u001b[0m\u001b[1;36m Found package.json at \u001b[0m\u001b[1;36m/\u001b[0m\n"
      ]
     },
     "metadata": {},
     "output_type": "display_data"
    },
    {
     "data": {
      "text/html": [
       "<pre style=\"white-space:pre;overflow-x:auto;line-height:normal;font-family:Menlo,'DejaVu Sans Mono',consolas,'Courier New',monospace\"><span style=\"color: #008080; text-decoration-color: #008080; font-weight: bold\">[+] Getting </span><span style=\"color: #008080; text-decoration-color: #008080; font-weight: bold; text-decoration: underline\">https://github.com/ThatOneCalculator/DiscordRPCMaker/blob/main/package.json</span>\n",
       "</pre>\n"
      ],
      "text/plain": [
       "\u001b[1;36m[\u001b[0m\u001b[1;36m+\u001b[0m\u001b[1;36m]\u001b[0m\u001b[1;36m Getting \u001b[0m\u001b[1;4;36mhttps://github.com/ThatOneCalculator/DiscordRPCMaker/blob/main/package.json\u001b[0m\n"
      ]
     },
     "metadata": {},
     "output_type": "display_data"
    },
    {
     "data": {
      "text/html": [
       "<pre style=\"white-space:pre;overflow-x:auto;line-height:normal;font-family:Menlo,'DejaVu Sans Mono',consolas,'Courier New',monospace\"><span style=\"color: #008080; text-decoration-color: #008080; font-weight: bold\">[+] Getting repo: </span><span style=\"color: #008080; text-decoration-color: #008080; font-weight: bold; text-decoration: underline\">https://github.com/synle/display-dj</span>\n",
       "</pre>\n"
      ],
      "text/plain": [
       "\u001b[1;36m[\u001b[0m\u001b[1;36m+\u001b[0m\u001b[1;36m]\u001b[0m\u001b[1;36m Getting repo: \u001b[0m\u001b[1;4;36mhttps://github.com/synle/display-dj\u001b[0m\n"
      ]
     },
     "metadata": {},
     "output_type": "display_data"
    },
    {
     "data": {
      "text/html": [
       "<pre style=\"white-space:pre;overflow-x:auto;line-height:normal;font-family:Menlo,'DejaVu Sans Mono',consolas,'Courier New',monospace\"><span style=\"color: #008080; text-decoration-color: #008080; font-weight: bold\">[+] Successfully retrieved repo: </span><span style=\"color: #008080; text-decoration-color: #008080; font-weight: bold; text-decoration: underline\">https://github.com/synle/display-dj</span>\n",
       "</pre>\n"
      ],
      "text/plain": [
       "\u001b[1;36m[\u001b[0m\u001b[1;36m+\u001b[0m\u001b[1;36m]\u001b[0m\u001b[1;36m Successfully retrieved repo: \u001b[0m\u001b[1;4;36mhttps://github.com/synle/display-dj\u001b[0m\n"
      ]
     },
     "metadata": {},
     "output_type": "display_data"
    },
    {
     "data": {
      "text/html": [
       "<pre style=\"white-space:pre;overflow-x:auto;line-height:normal;font-family:Menlo,'DejaVu Sans Mono',consolas,'Courier New',monospace\"><span style=\"color: #008080; text-decoration-color: #008080; font-weight: bold\">[+] Found package.json at /</span>\n",
       "</pre>\n"
      ],
      "text/plain": [
       "\u001b[1;36m[\u001b[0m\u001b[1;36m+\u001b[0m\u001b[1;36m]\u001b[0m\u001b[1;36m Found package.json at \u001b[0m\u001b[1;36m/\u001b[0m\n"
      ]
     },
     "metadata": {},
     "output_type": "display_data"
    },
    {
     "data": {
      "text/html": [
       "<pre style=\"white-space:pre;overflow-x:auto;line-height:normal;font-family:Menlo,'DejaVu Sans Mono',consolas,'Courier New',monospace\"><span style=\"color: #008080; text-decoration-color: #008080; font-weight: bold\">[+] Getting </span><span style=\"color: #008080; text-decoration-color: #008080; font-weight: bold; text-decoration: underline\">https://github.com/synle/display-dj/blob/main/package.json</span>\n",
       "</pre>\n"
      ],
      "text/plain": [
       "\u001b[1;36m[\u001b[0m\u001b[1;36m+\u001b[0m\u001b[1;36m]\u001b[0m\u001b[1;36m Getting \u001b[0m\u001b[1;4;36mhttps://github.com/synle/display-dj/blob/main/package.json\u001b[0m\n"
      ]
     },
     "metadata": {},
     "output_type": "display_data"
    },
    {
     "data": {
      "text/html": [
       "<pre style=\"white-space:pre;overflow-x:auto;line-height:normal;font-family:Menlo,'DejaVu Sans Mono',consolas,'Courier New',monospace\"><span style=\"color: #008080; text-decoration-color: #008080; font-weight: bold\">[+] Getting repo: </span><span style=\"color: #008080; text-decoration-color: #008080; font-weight: bold; text-decoration: underline\">https://github.com/dixahq/dixa-desktop-app-release</span>\n",
       "</pre>\n"
      ],
      "text/plain": [
       "\u001b[1;36m[\u001b[0m\u001b[1;36m+\u001b[0m\u001b[1;36m]\u001b[0m\u001b[1;36m Getting repo: \u001b[0m\u001b[1;4;36mhttps://github.com/dixahq/dixa-desktop-app-release\u001b[0m\n"
      ]
     },
     "metadata": {},
     "output_type": "display_data"
    },
    {
     "data": {
      "text/html": [
       "<pre style=\"white-space:pre;overflow-x:auto;line-height:normal;font-family:Menlo,'DejaVu Sans Mono',consolas,'Courier New',monospace\"><span style=\"color: #008080; text-decoration-color: #008080; font-weight: bold\">[+] Successfully retrieved repo: </span><span style=\"color: #008080; text-decoration-color: #008080; font-weight: bold; text-decoration: underline\">https://github.com/dixahq/dixa-desktop-app-release</span>\n",
       "</pre>\n"
      ],
      "text/plain": [
       "\u001b[1;36m[\u001b[0m\u001b[1;36m+\u001b[0m\u001b[1;36m]\u001b[0m\u001b[1;36m Successfully retrieved repo: \u001b[0m\u001b[1;4;36mhttps://github.com/dixahq/dixa-desktop-app-release\u001b[0m\n"
      ]
     },
     "metadata": {},
     "output_type": "display_data"
    },
    {
     "data": {
      "text/html": [
       "<pre style=\"white-space:pre;overflow-x:auto;line-height:normal;font-family:Menlo,'DejaVu Sans Mono',consolas,'Courier New',monospace\"><span style=\"color: #ff5f00; text-decoration-color: #ff5f00; font-weight: bold\">[!] Package.json not found at root; trying directories</span>\n",
       "</pre>\n"
      ],
      "text/plain": [
       "\u001b[1;38;5;202m[\u001b[0m\u001b[1;38;5;202m!\u001b[0m\u001b[1;38;5;202m]\u001b[0m\u001b[1;38;5;202m Package.json not found at root; trying directories\u001b[0m\n"
      ]
     },
     "metadata": {},
     "output_type": "display_data"
    },
    {
     "data": {
      "text/html": [
       "<pre style=\"white-space:pre;overflow-x:auto;line-height:normal;font-family:Menlo,'DejaVu Sans Mono',consolas,'Courier New',monospace\"><span style=\"color: #008080; text-decoration-color: #008080; font-weight: bold\">[+] Trying </span><span style=\"color: #008080; text-decoration-color: #008080; font-weight: bold; text-decoration: underline\">https://github.com/dixahq/dixa-desktop-app-release/tree/master/.github</span>\n",
       "</pre>\n"
      ],
      "text/plain": [
       "\u001b[1;36m[\u001b[0m\u001b[1;36m+\u001b[0m\u001b[1;36m]\u001b[0m\u001b[1;36m Trying \u001b[0m\u001b[1;4;36mhttps://github.com/dixahq/dixa-desktop-app-release/tree/master/.github\u001b[0m\n"
      ]
     },
     "metadata": {},
     "output_type": "display_data"
    },
    {
     "data": {
      "text/html": [
       "<pre style=\"white-space:pre;overflow-x:auto;line-height:normal;font-family:Menlo,'DejaVu Sans Mono',consolas,'Courier New',monospace\"><span style=\"color: #800000; text-decoration-color: #800000; font-weight: bold\">[💀] Could not find package.json in first-level-subdirs</span>\n",
       "</pre>\n"
      ],
      "text/plain": [
       "\u001b[1;31m[\u001b[0m\u001b[1;31m💀\u001b[0m\u001b[1;31m]\u001b[0m\u001b[1;31m Could not find package.json in first-level-subdirs\u001b[0m\n"
      ]
     },
     "metadata": {},
     "output_type": "display_data"
    },
    {
     "data": {
      "text/html": [
       "<pre style=\"white-space:pre;overflow-x:auto;line-height:normal;font-family:Menlo,'DejaVu Sans Mono',consolas,'Courier New',monospace\"><span style=\"color: #008080; text-decoration-color: #008080; font-weight: bold\">[+] Getting repo: </span><span style=\"color: #008080; text-decoration-color: #008080; font-weight: bold; text-decoration: underline\">https://github.com/DokiDokiModManager/Mod-Manager</span>\n",
       "</pre>\n"
      ],
      "text/plain": [
       "\u001b[1;36m[\u001b[0m\u001b[1;36m+\u001b[0m\u001b[1;36m]\u001b[0m\u001b[1;36m Getting repo: \u001b[0m\u001b[1;4;36mhttps://github.com/DokiDokiModManager/Mod-Manager\u001b[0m\n"
      ]
     },
     "metadata": {},
     "output_type": "display_data"
    },
    {
     "data": {
      "text/html": [
       "<pre style=\"white-space:pre;overflow-x:auto;line-height:normal;font-family:Menlo,'DejaVu Sans Mono',consolas,'Courier New',monospace\"><span style=\"color: #008080; text-decoration-color: #008080; font-weight: bold\">[+] Successfully retrieved repo: </span><span style=\"color: #008080; text-decoration-color: #008080; font-weight: bold; text-decoration: underline\">https://github.com/DokiDokiModManager/Mod-Manager</span>\n",
       "</pre>\n"
      ],
      "text/plain": [
       "\u001b[1;36m[\u001b[0m\u001b[1;36m+\u001b[0m\u001b[1;36m]\u001b[0m\u001b[1;36m Successfully retrieved repo: \u001b[0m\u001b[1;4;36mhttps://github.com/DokiDokiModManager/Mod-Manager\u001b[0m\n"
      ]
     },
     "metadata": {},
     "output_type": "display_data"
    },
    {
     "data": {
      "text/html": [
       "<pre style=\"white-space:pre;overflow-x:auto;line-height:normal;font-family:Menlo,'DejaVu Sans Mono',consolas,'Courier New',monospace\"><span style=\"color: #008080; text-decoration-color: #008080; font-weight: bold\">[+] Found package.json at /</span>\n",
       "</pre>\n"
      ],
      "text/plain": [
       "\u001b[1;36m[\u001b[0m\u001b[1;36m+\u001b[0m\u001b[1;36m]\u001b[0m\u001b[1;36m Found package.json at \u001b[0m\u001b[1;36m/\u001b[0m\n"
      ]
     },
     "metadata": {},
     "output_type": "display_data"
    },
    {
     "data": {
      "text/html": [
       "<pre style=\"white-space:pre;overflow-x:auto;line-height:normal;font-family:Menlo,'DejaVu Sans Mono',consolas,'Courier New',monospace\"><span style=\"color: #008080; text-decoration-color: #008080; font-weight: bold\">[+] Getting </span><span style=\"color: #008080; text-decoration-color: #008080; font-weight: bold; text-decoration: underline\">https://github.com/DokiDokiModManager/Mod-Manager/blob/master/package.json</span>\n",
       "</pre>\n"
      ],
      "text/plain": [
       "\u001b[1;36m[\u001b[0m\u001b[1;36m+\u001b[0m\u001b[1;36m]\u001b[0m\u001b[1;36m Getting \u001b[0m\u001b[1;4;36mhttps://github.com/DokiDokiModManager/Mod-Manager/blob/master/package.json\u001b[0m\n"
      ]
     },
     "metadata": {},
     "output_type": "display_data"
    },
    {
     "data": {
      "text/html": [
       "<pre style=\"white-space:pre;overflow-x:auto;line-height:normal;font-family:Menlo,'DejaVu Sans Mono',consolas,'Courier New',monospace\"><span style=\"color: #008080; text-decoration-color: #008080; font-weight: bold\">[+] Getting repo: </span><span style=\"color: #008080; text-decoration-color: #008080; font-weight: bold; text-decoration: underline\">https://github.com/darawish/domainbook</span>\n",
       "</pre>\n"
      ],
      "text/plain": [
       "\u001b[1;36m[\u001b[0m\u001b[1;36m+\u001b[0m\u001b[1;36m]\u001b[0m\u001b[1;36m Getting repo: \u001b[0m\u001b[1;4;36mhttps://github.com/darawish/domainbook\u001b[0m\n"
      ]
     },
     "metadata": {},
     "output_type": "display_data"
    },
    {
     "data": {
      "text/html": [
       "<pre style=\"white-space:pre;overflow-x:auto;line-height:normal;font-family:Menlo,'DejaVu Sans Mono',consolas,'Courier New',monospace\"><span style=\"color: #008080; text-decoration-color: #008080; font-weight: bold\">[+] Successfully retrieved repo: </span><span style=\"color: #008080; text-decoration-color: #008080; font-weight: bold; text-decoration: underline\">https://github.com/darawish/domainbook</span>\n",
       "</pre>\n"
      ],
      "text/plain": [
       "\u001b[1;36m[\u001b[0m\u001b[1;36m+\u001b[0m\u001b[1;36m]\u001b[0m\u001b[1;36m Successfully retrieved repo: \u001b[0m\u001b[1;4;36mhttps://github.com/darawish/domainbook\u001b[0m\n"
      ]
     },
     "metadata": {},
     "output_type": "display_data"
    },
    {
     "data": {
      "text/html": [
       "<pre style=\"white-space:pre;overflow-x:auto;line-height:normal;font-family:Menlo,'DejaVu Sans Mono',consolas,'Courier New',monospace\"><span style=\"color: #ff5f00; text-decoration-color: #ff5f00; font-weight: bold\">[!] Package.json not found at root; trying directories</span>\n",
       "</pre>\n"
      ],
      "text/plain": [
       "\u001b[1;38;5;202m[\u001b[0m\u001b[1;38;5;202m!\u001b[0m\u001b[1;38;5;202m]\u001b[0m\u001b[1;38;5;202m Package.json not found at root; trying directories\u001b[0m\n"
      ]
     },
     "metadata": {},
     "output_type": "display_data"
    },
    {
     "data": {
      "text/html": [
       "<pre style=\"white-space:pre;overflow-x:auto;line-height:normal;font-family:Menlo,'DejaVu Sans Mono',consolas,'Courier New',monospace\"><span style=\"color: #008080; text-decoration-color: #008080; font-weight: bold\">[+] Trying </span><span style=\"color: #008080; text-decoration-color: #008080; font-weight: bold; text-decoration: underline\">https://github.com/darawish/domainbook/tree/master/.github</span>\n",
       "</pre>\n"
      ],
      "text/plain": [
       "\u001b[1;36m[\u001b[0m\u001b[1;36m+\u001b[0m\u001b[1;36m]\u001b[0m\u001b[1;36m Trying \u001b[0m\u001b[1;4;36mhttps://github.com/darawish/domainbook/tree/master/.github\u001b[0m\n"
      ]
     },
     "metadata": {},
     "output_type": "display_data"
    },
    {
     "data": {
      "text/html": [
       "<pre style=\"white-space:pre;overflow-x:auto;line-height:normal;font-family:Menlo,'DejaVu Sans Mono',consolas,'Courier New',monospace\"><span style=\"color: #008080; text-decoration-color: #008080; font-weight: bold\">[+] Trying </span><span style=\"color: #008080; text-decoration-color: #008080; font-weight: bold; text-decoration: underline\">https://github.com/darawish/domainbook/tree/master/domains</span>\n",
       "</pre>\n"
      ],
      "text/plain": [
       "\u001b[1;36m[\u001b[0m\u001b[1;36m+\u001b[0m\u001b[1;36m]\u001b[0m\u001b[1;36m Trying \u001b[0m\u001b[1;4;36mhttps://github.com/darawish/domainbook/tree/master/domains\u001b[0m\n"
      ]
     },
     "metadata": {},
     "output_type": "display_data"
    },
    {
     "data": {
      "text/html": [
       "<pre style=\"white-space:pre;overflow-x:auto;line-height:normal;font-family:Menlo,'DejaVu Sans Mono',consolas,'Courier New',monospace\"><span style=\"color: #800000; text-decoration-color: #800000; font-weight: bold\">[💀] Could not find package.json in first-level-subdirs</span>\n",
       "</pre>\n"
      ],
      "text/plain": [
       "\u001b[1;31m[\u001b[0m\u001b[1;31m💀\u001b[0m\u001b[1;31m]\u001b[0m\u001b[1;31m Could not find package.json in first-level-subdirs\u001b[0m\n"
      ]
     },
     "metadata": {},
     "output_type": "display_data"
    },
    {
     "data": {
      "text/html": [
       "<pre style=\"white-space:pre;overflow-x:auto;line-height:normal;font-family:Menlo,'DejaVu Sans Mono',consolas,'Courier New',monospace\"><span style=\"color: #008080; text-decoration-color: #008080; font-weight: bold\">[+] Getting repo: </span><span style=\"color: #008080; text-decoration-color: #008080; font-weight: bold; text-decoration: underline\">https://github.com/PerBothner/DomTerm</span>\n",
       "</pre>\n"
      ],
      "text/plain": [
       "\u001b[1;36m[\u001b[0m\u001b[1;36m+\u001b[0m\u001b[1;36m]\u001b[0m\u001b[1;36m Getting repo: \u001b[0m\u001b[1;4;36mhttps://github.com/PerBothner/DomTerm\u001b[0m\n"
      ]
     },
     "metadata": {},
     "output_type": "display_data"
    },
    {
     "data": {
      "text/html": [
       "<pre style=\"white-space:pre;overflow-x:auto;line-height:normal;font-family:Menlo,'DejaVu Sans Mono',consolas,'Courier New',monospace\"><span style=\"color: #008080; text-decoration-color: #008080; font-weight: bold\">[+] Successfully retrieved repo: </span><span style=\"color: #008080; text-decoration-color: #008080; font-weight: bold; text-decoration: underline\">https://github.com/PerBothner/DomTerm</span>\n",
       "</pre>\n"
      ],
      "text/plain": [
       "\u001b[1;36m[\u001b[0m\u001b[1;36m+\u001b[0m\u001b[1;36m]\u001b[0m\u001b[1;36m Successfully retrieved repo: \u001b[0m\u001b[1;4;36mhttps://github.com/PerBothner/DomTerm\u001b[0m\n"
      ]
     },
     "metadata": {},
     "output_type": "display_data"
    },
    {
     "data": {
      "text/html": [
       "<pre style=\"white-space:pre;overflow-x:auto;line-height:normal;font-family:Menlo,'DejaVu Sans Mono',consolas,'Courier New',monospace\"><span style=\"color: #008080; text-decoration-color: #008080; font-weight: bold\">[+] Found package.json at /</span>\n",
       "</pre>\n"
      ],
      "text/plain": [
       "\u001b[1;36m[\u001b[0m\u001b[1;36m+\u001b[0m\u001b[1;36m]\u001b[0m\u001b[1;36m Found package.json at \u001b[0m\u001b[1;36m/\u001b[0m\n"
      ]
     },
     "metadata": {},
     "output_type": "display_data"
    },
    {
     "data": {
      "text/html": [
       "<pre style=\"white-space:pre;overflow-x:auto;line-height:normal;font-family:Menlo,'DejaVu Sans Mono',consolas,'Courier New',monospace\"><span style=\"color: #008080; text-decoration-color: #008080; font-weight: bold\">[+] Getting </span><span style=\"color: #008080; text-decoration-color: #008080; font-weight: bold; text-decoration: underline\">https://github.com/PerBothner/DomTerm/blob/master/package.json</span>\n",
       "</pre>\n"
      ],
      "text/plain": [
       "\u001b[1;36m[\u001b[0m\u001b[1;36m+\u001b[0m\u001b[1;36m]\u001b[0m\u001b[1;36m Getting \u001b[0m\u001b[1;4;36mhttps://github.com/PerBothner/DomTerm/blob/master/package.json\u001b[0m\n"
      ]
     },
     "metadata": {},
     "output_type": "display_data"
    },
    {
     "data": {
      "text/html": [
       "<pre style=\"white-space:pre;overflow-x:auto;line-height:normal;font-family:Menlo,'DejaVu Sans Mono',consolas,'Courier New',monospace\"><span style=\"color: #008080; text-decoration-color: #008080; font-weight: bold\">[+] Getting repo: </span><span style=\"color: #008080; text-decoration-color: #008080; font-weight: bold; text-decoration: underline\">https://github.com/digimezzo/dopamine</span>\n",
       "</pre>\n"
      ],
      "text/plain": [
       "\u001b[1;36m[\u001b[0m\u001b[1;36m+\u001b[0m\u001b[1;36m]\u001b[0m\u001b[1;36m Getting repo: \u001b[0m\u001b[1;4;36mhttps://github.com/digimezzo/dopamine\u001b[0m\n"
      ]
     },
     "metadata": {},
     "output_type": "display_data"
    },
    {
     "data": {
      "text/html": [
       "<pre style=\"white-space:pre;overflow-x:auto;line-height:normal;font-family:Menlo,'DejaVu Sans Mono',consolas,'Courier New',monospace\"><span style=\"color: #008080; text-decoration-color: #008080; font-weight: bold\">[+] Successfully retrieved repo: </span><span style=\"color: #008080; text-decoration-color: #008080; font-weight: bold; text-decoration: underline\">https://github.com/digimezzo/dopamine</span>\n",
       "</pre>\n"
      ],
      "text/plain": [
       "\u001b[1;36m[\u001b[0m\u001b[1;36m+\u001b[0m\u001b[1;36m]\u001b[0m\u001b[1;36m Successfully retrieved repo: \u001b[0m\u001b[1;4;36mhttps://github.com/digimezzo/dopamine\u001b[0m\n"
      ]
     },
     "metadata": {},
     "output_type": "display_data"
    },
    {
     "data": {
      "text/html": [
       "<pre style=\"white-space:pre;overflow-x:auto;line-height:normal;font-family:Menlo,'DejaVu Sans Mono',consolas,'Courier New',monospace\"><span style=\"color: #008080; text-decoration-color: #008080; font-weight: bold\">[+] Found package.json at /</span>\n",
       "</pre>\n"
      ],
      "text/plain": [
       "\u001b[1;36m[\u001b[0m\u001b[1;36m+\u001b[0m\u001b[1;36m]\u001b[0m\u001b[1;36m Found package.json at \u001b[0m\u001b[1;36m/\u001b[0m\n"
      ]
     },
     "metadata": {},
     "output_type": "display_data"
    },
    {
     "data": {
      "text/html": [
       "<pre style=\"white-space:pre;overflow-x:auto;line-height:normal;font-family:Menlo,'DejaVu Sans Mono',consolas,'Courier New',monospace\"><span style=\"color: #008080; text-decoration-color: #008080; font-weight: bold\">[+] Getting </span><span style=\"color: #008080; text-decoration-color: #008080; font-weight: bold; text-decoration: underline\">https://github.com/digimezzo/dopamine/blob/master/package.json</span>\n",
       "</pre>\n"
      ],
      "text/plain": [
       "\u001b[1;36m[\u001b[0m\u001b[1;36m+\u001b[0m\u001b[1;36m]\u001b[0m\u001b[1;36m Getting \u001b[0m\u001b[1;4;36mhttps://github.com/digimezzo/dopamine/blob/master/package.json\u001b[0m\n"
      ]
     },
     "metadata": {},
     "output_type": "display_data"
    },
    {
     "data": {
      "text/html": [
       "<pre style=\"white-space:pre;overflow-x:auto;line-height:normal;font-family:Menlo,'DejaVu Sans Mono',consolas,'Courier New',monospace\"><span style=\"color: #008080; text-decoration-color: #008080; font-weight: bold\">[+] Getting repo: </span><span style=\"color: #008080; text-decoration-color: #008080; font-weight: bold; text-decoration: underline\">https://github.com/GameGodS3/DropPoint</span>\n",
       "</pre>\n"
      ],
      "text/plain": [
       "\u001b[1;36m[\u001b[0m\u001b[1;36m+\u001b[0m\u001b[1;36m]\u001b[0m\u001b[1;36m Getting repo: \u001b[0m\u001b[1;4;36mhttps://github.com/GameGodS3/DropPoint\u001b[0m\n"
      ]
     },
     "metadata": {},
     "output_type": "display_data"
    },
    {
     "data": {
      "text/html": [
       "<pre style=\"white-space:pre;overflow-x:auto;line-height:normal;font-family:Menlo,'DejaVu Sans Mono',consolas,'Courier New',monospace\"><span style=\"color: #008080; text-decoration-color: #008080; font-weight: bold\">[+] Successfully retrieved repo: </span><span style=\"color: #008080; text-decoration-color: #008080; font-weight: bold; text-decoration: underline\">https://github.com/GameGodS3/DropPoint</span>\n",
       "</pre>\n"
      ],
      "text/plain": [
       "\u001b[1;36m[\u001b[0m\u001b[1;36m+\u001b[0m\u001b[1;36m]\u001b[0m\u001b[1;36m Successfully retrieved repo: \u001b[0m\u001b[1;4;36mhttps://github.com/GameGodS3/DropPoint\u001b[0m\n"
      ]
     },
     "metadata": {},
     "output_type": "display_data"
    },
    {
     "data": {
      "text/html": [
       "<pre style=\"white-space:pre;overflow-x:auto;line-height:normal;font-family:Menlo,'DejaVu Sans Mono',consolas,'Courier New',monospace\"><span style=\"color: #008080; text-decoration-color: #008080; font-weight: bold\">[+] Found package.json at /</span>\n",
       "</pre>\n"
      ],
      "text/plain": [
       "\u001b[1;36m[\u001b[0m\u001b[1;36m+\u001b[0m\u001b[1;36m]\u001b[0m\u001b[1;36m Found package.json at \u001b[0m\u001b[1;36m/\u001b[0m\n"
      ]
     },
     "metadata": {},
     "output_type": "display_data"
    },
    {
     "data": {
      "text/html": [
       "<pre style=\"white-space:pre;overflow-x:auto;line-height:normal;font-family:Menlo,'DejaVu Sans Mono',consolas,'Courier New',monospace\"><span style=\"color: #008080; text-decoration-color: #008080; font-weight: bold\">[+] Getting </span><span style=\"color: #008080; text-decoration-color: #008080; font-weight: bold; text-decoration: underline\">https://github.com/GameGodS3/DropPoint/blob/main/package.json</span>\n",
       "</pre>\n"
      ],
      "text/plain": [
       "\u001b[1;36m[\u001b[0m\u001b[1;36m+\u001b[0m\u001b[1;36m]\u001b[0m\u001b[1;36m Getting \u001b[0m\u001b[1;4;36mhttps://github.com/GameGodS3/DropPoint/blob/main/package.json\u001b[0m\n"
      ]
     },
     "metadata": {},
     "output_type": "display_data"
    },
    {
     "data": {
      "text/html": [
       "<pre style=\"white-space:pre;overflow-x:auto;line-height:normal;font-family:Menlo,'DejaVu Sans Mono',consolas,'Courier New',monospace\"><span style=\"color: #008080; text-decoration-color: #008080; font-weight: bold\">[+] Getting repo: </span><span style=\"color: #008080; text-decoration-color: #008080; font-weight: bold; text-decoration: underline\">https://github.com/Aveek-Saha/MusicPlayer</span>\n",
       "</pre>\n"
      ],
      "text/plain": [
       "\u001b[1;36m[\u001b[0m\u001b[1;36m+\u001b[0m\u001b[1;36m]\u001b[0m\u001b[1;36m Getting repo: \u001b[0m\u001b[1;4;36mhttps://github.com/Aveek-Saha/MusicPlayer\u001b[0m\n"
      ]
     },
     "metadata": {},
     "output_type": "display_data"
    },
    {
     "data": {
      "text/html": [
       "<pre style=\"white-space:pre;overflow-x:auto;line-height:normal;font-family:Menlo,'DejaVu Sans Mono',consolas,'Courier New',monospace\"><span style=\"color: #008080; text-decoration-color: #008080; font-weight: bold\">[+] Successfully retrieved repo: </span><span style=\"color: #008080; text-decoration-color: #008080; font-weight: bold; text-decoration: underline\">https://github.com/Aveek-Saha/MusicPlayer</span>\n",
       "</pre>\n"
      ],
      "text/plain": [
       "\u001b[1;36m[\u001b[0m\u001b[1;36m+\u001b[0m\u001b[1;36m]\u001b[0m\u001b[1;36m Successfully retrieved repo: \u001b[0m\u001b[1;4;36mhttps://github.com/Aveek-Saha/MusicPlayer\u001b[0m\n"
      ]
     },
     "metadata": {},
     "output_type": "display_data"
    },
    {
     "data": {
      "text/html": [
       "<pre style=\"white-space:pre;overflow-x:auto;line-height:normal;font-family:Menlo,'DejaVu Sans Mono',consolas,'Courier New',monospace\"><span style=\"color: #008080; text-decoration-color: #008080; font-weight: bold\">[+] Found package.json at /</span>\n",
       "</pre>\n"
      ],
      "text/plain": [
       "\u001b[1;36m[\u001b[0m\u001b[1;36m+\u001b[0m\u001b[1;36m]\u001b[0m\u001b[1;36m Found package.json at \u001b[0m\u001b[1;36m/\u001b[0m\n"
      ]
     },
     "metadata": {},
     "output_type": "display_data"
    },
    {
     "data": {
      "text/html": [
       "<pre style=\"white-space:pre;overflow-x:auto;line-height:normal;font-family:Menlo,'DejaVu Sans Mono',consolas,'Courier New',monospace\"><span style=\"color: #008080; text-decoration-color: #008080; font-weight: bold\">[+] Getting </span><span style=\"color: #008080; text-decoration-color: #008080; font-weight: bold; text-decoration: underline\">https://github.com/Aveek-Saha/DuskPlayer/blob/master/package.json</span>\n",
       "</pre>\n"
      ],
      "text/plain": [
       "\u001b[1;36m[\u001b[0m\u001b[1;36m+\u001b[0m\u001b[1;36m]\u001b[0m\u001b[1;36m Getting \u001b[0m\u001b[1;4;36mhttps://github.com/Aveek-Saha/DuskPlayer/blob/master/package.json\u001b[0m\n"
      ]
     },
     "metadata": {},
     "output_type": "display_data"
    },
    {
     "data": {
      "text/html": [
       "<pre style=\"white-space:pre;overflow-x:auto;line-height:normal;font-family:Menlo,'DejaVu Sans Mono',consolas,'Courier New',monospace\"><span style=\"color: #008080; text-decoration-color: #008080; font-weight: bold\">[+] Getting repo: </span><span style=\"color: #008080; text-decoration-color: #008080; font-weight: bold; text-decoration: underline\">https://github.com/EricTerrell/EBTCalc</span>\n",
       "</pre>\n"
      ],
      "text/plain": [
       "\u001b[1;36m[\u001b[0m\u001b[1;36m+\u001b[0m\u001b[1;36m]\u001b[0m\u001b[1;36m Getting repo: \u001b[0m\u001b[1;4;36mhttps://github.com/EricTerrell/EBTCalc\u001b[0m\n"
      ]
     },
     "metadata": {},
     "output_type": "display_data"
    },
    {
     "data": {
      "text/html": [
       "<pre style=\"white-space:pre;overflow-x:auto;line-height:normal;font-family:Menlo,'DejaVu Sans Mono',consolas,'Courier New',monospace\"><span style=\"color: #008080; text-decoration-color: #008080; font-weight: bold\">[+] Successfully retrieved repo: </span><span style=\"color: #008080; text-decoration-color: #008080; font-weight: bold; text-decoration: underline\">https://github.com/EricTerrell/EBTCalc</span>\n",
       "</pre>\n"
      ],
      "text/plain": [
       "\u001b[1;36m[\u001b[0m\u001b[1;36m+\u001b[0m\u001b[1;36m]\u001b[0m\u001b[1;36m Successfully retrieved repo: \u001b[0m\u001b[1;4;36mhttps://github.com/EricTerrell/EBTCalc\u001b[0m\n"
      ]
     },
     "metadata": {},
     "output_type": "display_data"
    },
    {
     "data": {
      "text/html": [
       "<pre style=\"white-space:pre;overflow-x:auto;line-height:normal;font-family:Menlo,'DejaVu Sans Mono',consolas,'Courier New',monospace\"><span style=\"color: #008080; text-decoration-color: #008080; font-weight: bold\">[+] Found package.json at /</span>\n",
       "</pre>\n"
      ],
      "text/plain": [
       "\u001b[1;36m[\u001b[0m\u001b[1;36m+\u001b[0m\u001b[1;36m]\u001b[0m\u001b[1;36m Found package.json at \u001b[0m\u001b[1;36m/\u001b[0m\n"
      ]
     },
     "metadata": {},
     "output_type": "display_data"
    },
    {
     "data": {
      "text/html": [
       "<pre style=\"white-space:pre;overflow-x:auto;line-height:normal;font-family:Menlo,'DejaVu Sans Mono',consolas,'Courier New',monospace\"><span style=\"color: #008080; text-decoration-color: #008080; font-weight: bold\">[+] Getting </span><span style=\"color: #008080; text-decoration-color: #008080; font-weight: bold; text-decoration: underline\">https://github.com/EricTerrell/EBTCalc/blob/master/package.json</span>\n",
       "</pre>\n"
      ],
      "text/plain": [
       "\u001b[1;36m[\u001b[0m\u001b[1;36m+\u001b[0m\u001b[1;36m]\u001b[0m\u001b[1;36m Getting \u001b[0m\u001b[1;4;36mhttps://github.com/EricTerrell/EBTCalc/blob/master/package.json\u001b[0m\n"
      ]
     },
     "metadata": {},
     "output_type": "display_data"
    },
    {
     "data": {
      "text/html": [
       "<pre style=\"white-space:pre;overflow-x:auto;line-height:normal;font-family:Menlo,'DejaVu Sans Mono',consolas,'Courier New',monospace\"><span style=\"color: #008080; text-decoration-color: #008080; font-weight: bold\">[+] Getting repo: </span><span style=\"color: #008080; text-decoration-color: #008080; font-weight: bold; text-decoration: underline\">https://github.com/afractal/echo-app</span>\n",
       "</pre>\n"
      ],
      "text/plain": [
       "\u001b[1;36m[\u001b[0m\u001b[1;36m+\u001b[0m\u001b[1;36m]\u001b[0m\u001b[1;36m Getting repo: \u001b[0m\u001b[1;4;36mhttps://github.com/afractal/echo-app\u001b[0m\n"
      ]
     },
     "metadata": {},
     "output_type": "display_data"
    },
    {
     "data": {
      "text/html": [
       "<pre style=\"white-space:pre;overflow-x:auto;line-height:normal;font-family:Menlo,'DejaVu Sans Mono',consolas,'Courier New',monospace\"><span style=\"color: #008080; text-decoration-color: #008080; font-weight: bold\">[+] Successfully retrieved repo: </span><span style=\"color: #008080; text-decoration-color: #008080; font-weight: bold; text-decoration: underline\">https://github.com/afractal/echo-app</span>\n",
       "</pre>\n"
      ],
      "text/plain": [
       "\u001b[1;36m[\u001b[0m\u001b[1;36m+\u001b[0m\u001b[1;36m]\u001b[0m\u001b[1;36m Successfully retrieved repo: \u001b[0m\u001b[1;4;36mhttps://github.com/afractal/echo-app\u001b[0m\n"
      ]
     },
     "metadata": {},
     "output_type": "display_data"
    },
    {
     "data": {
      "text/html": [
       "<pre style=\"white-space:pre;overflow-x:auto;line-height:normal;font-family:Menlo,'DejaVu Sans Mono',consolas,'Courier New',monospace\"><span style=\"color: #008080; text-decoration-color: #008080; font-weight: bold\">[+] Found package.json at /</span>\n",
       "</pre>\n"
      ],
      "text/plain": [
       "\u001b[1;36m[\u001b[0m\u001b[1;36m+\u001b[0m\u001b[1;36m]\u001b[0m\u001b[1;36m Found package.json at \u001b[0m\u001b[1;36m/\u001b[0m\n"
      ]
     },
     "metadata": {},
     "output_type": "display_data"
    },
    {
     "data": {
      "text/html": [
       "<pre style=\"white-space:pre;overflow-x:auto;line-height:normal;font-family:Menlo,'DejaVu Sans Mono',consolas,'Courier New',monospace\"><span style=\"color: #008080; text-decoration-color: #008080; font-weight: bold\">[+] Getting </span><span style=\"color: #008080; text-decoration-color: #008080; font-weight: bold; text-decoration: underline\">https://github.com/afractal/echo-app/blob/main/package.json</span>\n",
       "</pre>\n"
      ],
      "text/plain": [
       "\u001b[1;36m[\u001b[0m\u001b[1;36m+\u001b[0m\u001b[1;36m]\u001b[0m\u001b[1;36m Getting \u001b[0m\u001b[1;4;36mhttps://github.com/afractal/echo-app/blob/main/package.json\u001b[0m\n"
      ]
     },
     "metadata": {},
     "output_type": "display_data"
    },
    {
     "data": {
      "text/html": [
       "<pre style=\"white-space:pre;overflow-x:auto;line-height:normal;font-family:Menlo,'DejaVu Sans Mono',consolas,'Courier New',monospace\"><span style=\"color: #008080; text-decoration-color: #008080; font-weight: bold\">[+] Getting repo: </span><span style=\"color: #008080; text-decoration-color: #008080; font-weight: bold; text-decoration: underline\">https://github.com/garrylachman/ElectroCRUD</span>\n",
       "</pre>\n"
      ],
      "text/plain": [
       "\u001b[1;36m[\u001b[0m\u001b[1;36m+\u001b[0m\u001b[1;36m]\u001b[0m\u001b[1;36m Getting repo: \u001b[0m\u001b[1;4;36mhttps://github.com/garrylachman/ElectroCRUD\u001b[0m\n"
      ]
     },
     "metadata": {},
     "output_type": "display_data"
    },
    {
     "data": {
      "text/html": [
       "<pre style=\"white-space:pre;overflow-x:auto;line-height:normal;font-family:Menlo,'DejaVu Sans Mono',consolas,'Courier New',monospace\"><span style=\"color: #008080; text-decoration-color: #008080; font-weight: bold\">[+] Successfully retrieved repo: </span><span style=\"color: #008080; text-decoration-color: #008080; font-weight: bold; text-decoration: underline\">https://github.com/garrylachman/ElectroCRUD</span>\n",
       "</pre>\n"
      ],
      "text/plain": [
       "\u001b[1;36m[\u001b[0m\u001b[1;36m+\u001b[0m\u001b[1;36m]\u001b[0m\u001b[1;36m Successfully retrieved repo: \u001b[0m\u001b[1;4;36mhttps://github.com/garrylachman/ElectroCRUD\u001b[0m\n"
      ]
     },
     "metadata": {},
     "output_type": "display_data"
    },
    {
     "data": {
      "text/html": [
       "<pre style=\"white-space:pre;overflow-x:auto;line-height:normal;font-family:Menlo,'DejaVu Sans Mono',consolas,'Courier New',monospace\"><span style=\"color: #008080; text-decoration-color: #008080; font-weight: bold\">[+] Found package.json at /</span>\n",
       "</pre>\n"
      ],
      "text/plain": [
       "\u001b[1;36m[\u001b[0m\u001b[1;36m+\u001b[0m\u001b[1;36m]\u001b[0m\u001b[1;36m Found package.json at \u001b[0m\u001b[1;36m/\u001b[0m\n"
      ]
     },
     "metadata": {},
     "output_type": "display_data"
    },
    {
     "data": {
      "text/html": [
       "<pre style=\"white-space:pre;overflow-x:auto;line-height:normal;font-family:Menlo,'DejaVu Sans Mono',consolas,'Courier New',monospace\"><span style=\"color: #008080; text-decoration-color: #008080; font-weight: bold\">[+] Getting </span><span style=\"color: #008080; text-decoration-color: #008080; font-weight: bold; text-decoration: underline\">https://github.com/garrylachman/ElectroCRUD/blob/master/package.json</span>\n",
       "</pre>\n"
      ],
      "text/plain": [
       "\u001b[1;36m[\u001b[0m\u001b[1;36m+\u001b[0m\u001b[1;36m]\u001b[0m\u001b[1;36m Getting \u001b[0m\u001b[1;4;36mhttps://github.com/garrylachman/ElectroCRUD/blob/master/package.json\u001b[0m\n"
      ]
     },
     "metadata": {},
     "output_type": "display_data"
    },
    {
     "data": {
      "text/html": [
       "<pre style=\"white-space:pre;overflow-x:auto;line-height:normal;font-family:Menlo,'DejaVu Sans Mono',consolas,'Courier New',monospace\"><span style=\"color: #008080; text-decoration-color: #008080; font-weight: bold\">[+] Getting repo: </span><span style=\"color: #008080; text-decoration-color: #008080; font-weight: bold; text-decoration: underline\">https://github.com/Electron-Store/electron-app-store</span>\n",
       "</pre>\n"
      ],
      "text/plain": [
       "\u001b[1;36m[\u001b[0m\u001b[1;36m+\u001b[0m\u001b[1;36m]\u001b[0m\u001b[1;36m Getting repo: \u001b[0m\u001b[1;4;36mhttps://github.com/Electron-Store/electron-app-store\u001b[0m\n"
      ]
     },
     "metadata": {},
     "output_type": "display_data"
    },
    {
     "data": {
      "text/html": [
       "<pre style=\"white-space:pre;overflow-x:auto;line-height:normal;font-family:Menlo,'DejaVu Sans Mono',consolas,'Courier New',monospace\"><span style=\"color: #008080; text-decoration-color: #008080; font-weight: bold\">[+] Successfully retrieved repo: </span><span style=\"color: #008080; text-decoration-color: #008080; font-weight: bold; text-decoration: underline\">https://github.com/Electron-Store/electron-app-store</span>\n",
       "</pre>\n"
      ],
      "text/plain": [
       "\u001b[1;36m[\u001b[0m\u001b[1;36m+\u001b[0m\u001b[1;36m]\u001b[0m\u001b[1;36m Successfully retrieved repo: \u001b[0m\u001b[1;4;36mhttps://github.com/Electron-Store/electron-app-store\u001b[0m\n"
      ]
     },
     "metadata": {},
     "output_type": "display_data"
    },
    {
     "data": {
      "text/html": [
       "<pre style=\"white-space:pre;overflow-x:auto;line-height:normal;font-family:Menlo,'DejaVu Sans Mono',consolas,'Courier New',monospace\"><span style=\"color: #008080; text-decoration-color: #008080; font-weight: bold\">[+] Found package.json at /</span>\n",
       "</pre>\n"
      ],
      "text/plain": [
       "\u001b[1;36m[\u001b[0m\u001b[1;36m+\u001b[0m\u001b[1;36m]\u001b[0m\u001b[1;36m Found package.json at \u001b[0m\u001b[1;36m/\u001b[0m\n"
      ]
     },
     "metadata": {},
     "output_type": "display_data"
    },
    {
     "data": {
      "text/html": [
       "<pre style=\"white-space:pre;overflow-x:auto;line-height:normal;font-family:Menlo,'DejaVu Sans Mono',consolas,'Courier New',monospace\"><span style=\"color: #008080; text-decoration-color: #008080; font-weight: bold\">[+] Getting </span><span style=\"color: #008080; text-decoration-color: #008080; font-weight: bold; text-decoration: underline\">https://github.com/Electron-Store/electron-app-store/blob/main/package.json</span>\n",
       "</pre>\n"
      ],
      "text/plain": [
       "\u001b[1;36m[\u001b[0m\u001b[1;36m+\u001b[0m\u001b[1;36m]\u001b[0m\u001b[1;36m Getting \u001b[0m\u001b[1;4;36mhttps://github.com/Electron-Store/electron-app-store/blob/main/package.json\u001b[0m\n"
      ]
     },
     "metadata": {},
     "output_type": "display_data"
    },
    {
     "data": {
      "text/html": [
       "<pre style=\"white-space:pre;overflow-x:auto;line-height:normal;font-family:Menlo,'DejaVu Sans Mono',consolas,'Courier New',monospace\"><span style=\"color: #008080; text-decoration-color: #008080; font-weight: bold\">[+] Getting repo: </span><span style=\"color: #008080; text-decoration-color: #008080; font-weight: bold; text-decoration: underline\">https://github.com/kunalnagar/encrypt0r</span>\n",
       "</pre>\n"
      ],
      "text/plain": [
       "\u001b[1;36m[\u001b[0m\u001b[1;36m+\u001b[0m\u001b[1;36m]\u001b[0m\u001b[1;36m Getting repo: \u001b[0m\u001b[1;4;36mhttps://github.com/kunalnagar/encrypt0r\u001b[0m\n"
      ]
     },
     "metadata": {},
     "output_type": "display_data"
    },
    {
     "data": {
      "text/html": [
       "<pre style=\"white-space:pre;overflow-x:auto;line-height:normal;font-family:Menlo,'DejaVu Sans Mono',consolas,'Courier New',monospace\"><span style=\"color: #008080; text-decoration-color: #008080; font-weight: bold\">[+] Successfully retrieved repo: </span><span style=\"color: #008080; text-decoration-color: #008080; font-weight: bold; text-decoration: underline\">https://github.com/kunalnagar/encrypt0r</span>\n",
       "</pre>\n"
      ],
      "text/plain": [
       "\u001b[1;36m[\u001b[0m\u001b[1;36m+\u001b[0m\u001b[1;36m]\u001b[0m\u001b[1;36m Successfully retrieved repo: \u001b[0m\u001b[1;4;36mhttps://github.com/kunalnagar/encrypt0r\u001b[0m\n"
      ]
     },
     "metadata": {},
     "output_type": "display_data"
    },
    {
     "data": {
      "text/html": [
       "<pre style=\"white-space:pre;overflow-x:auto;line-height:normal;font-family:Menlo,'DejaVu Sans Mono',consolas,'Courier New',monospace\"><span style=\"color: #008080; text-decoration-color: #008080; font-weight: bold\">[+] Found package.json at /</span>\n",
       "</pre>\n"
      ],
      "text/plain": [
       "\u001b[1;36m[\u001b[0m\u001b[1;36m+\u001b[0m\u001b[1;36m]\u001b[0m\u001b[1;36m Found package.json at \u001b[0m\u001b[1;36m/\u001b[0m\n"
      ]
     },
     "metadata": {},
     "output_type": "display_data"
    },
    {
     "data": {
      "text/html": [
       "<pre style=\"white-space:pre;overflow-x:auto;line-height:normal;font-family:Menlo,'DejaVu Sans Mono',consolas,'Courier New',monospace\"><span style=\"color: #008080; text-decoration-color: #008080; font-weight: bold\">[+] Getting </span><span style=\"color: #008080; text-decoration-color: #008080; font-weight: bold; text-decoration: underline\">https://github.com/kunalnagar/encrypt0r/blob/master/package.json</span>\n",
       "</pre>\n"
      ],
      "text/plain": [
       "\u001b[1;36m[\u001b[0m\u001b[1;36m+\u001b[0m\u001b[1;36m]\u001b[0m\u001b[1;36m Getting \u001b[0m\u001b[1;4;36mhttps://github.com/kunalnagar/encrypt0r/blob/master/package.json\u001b[0m\n"
      ]
     },
     "metadata": {},
     "output_type": "display_data"
    },
    {
     "data": {
      "text/html": [
       "<pre style=\"white-space:pre;overflow-x:auto;line-height:normal;font-family:Menlo,'DejaVu Sans Mono',consolas,'Courier New',monospace\"><span style=\"color: #008080; text-decoration-color: #008080; font-weight: bold\">[+] Getting repo: </span><span style=\"color: #008080; text-decoration-color: #008080; font-weight: bold; text-decoration: underline\">https://github.com/losbiw/erin</span>\n",
       "</pre>\n"
      ],
      "text/plain": [
       "\u001b[1;36m[\u001b[0m\u001b[1;36m+\u001b[0m\u001b[1;36m]\u001b[0m\u001b[1;36m Getting repo: \u001b[0m\u001b[1;4;36mhttps://github.com/losbiw/erin\u001b[0m\n"
      ]
     },
     "metadata": {},
     "output_type": "display_data"
    },
    {
     "data": {
      "text/html": [
       "<pre style=\"white-space:pre;overflow-x:auto;line-height:normal;font-family:Menlo,'DejaVu Sans Mono',consolas,'Courier New',monospace\"><span style=\"color: #008080; text-decoration-color: #008080; font-weight: bold\">[+] Successfully retrieved repo: </span><span style=\"color: #008080; text-decoration-color: #008080; font-weight: bold; text-decoration: underline\">https://github.com/losbiw/erin</span>\n",
       "</pre>\n"
      ],
      "text/plain": [
       "\u001b[1;36m[\u001b[0m\u001b[1;36m+\u001b[0m\u001b[1;36m]\u001b[0m\u001b[1;36m Successfully retrieved repo: \u001b[0m\u001b[1;4;36mhttps://github.com/losbiw/erin\u001b[0m\n"
      ]
     },
     "metadata": {},
     "output_type": "display_data"
    },
    {
     "data": {
      "text/html": [
       "<pre style=\"white-space:pre;overflow-x:auto;line-height:normal;font-family:Menlo,'DejaVu Sans Mono',consolas,'Courier New',monospace\"><span style=\"color: #008080; text-decoration-color: #008080; font-weight: bold\">[+] Found package.json at /</span>\n",
       "</pre>\n"
      ],
      "text/plain": [
       "\u001b[1;36m[\u001b[0m\u001b[1;36m+\u001b[0m\u001b[1;36m]\u001b[0m\u001b[1;36m Found package.json at \u001b[0m\u001b[1;36m/\u001b[0m\n"
      ]
     },
     "metadata": {},
     "output_type": "display_data"
    },
    {
     "data": {
      "text/html": [
       "<pre style=\"white-space:pre;overflow-x:auto;line-height:normal;font-family:Menlo,'DejaVu Sans Mono',consolas,'Courier New',monospace\"><span style=\"color: #008080; text-decoration-color: #008080; font-weight: bold\">[+] Getting </span><span style=\"color: #008080; text-decoration-color: #008080; font-weight: bold; text-decoration: underline\">https://github.com/losbiw/erin/blob/master/package.json</span>\n",
       "</pre>\n"
      ],
      "text/plain": [
       "\u001b[1;36m[\u001b[0m\u001b[1;36m+\u001b[0m\u001b[1;36m]\u001b[0m\u001b[1;36m Getting \u001b[0m\u001b[1;4;36mhttps://github.com/losbiw/erin/blob/master/package.json\u001b[0m\n"
      ]
     },
     "metadata": {},
     "output_type": "display_data"
    },
    {
     "data": {
      "text/html": [
       "<pre style=\"white-space:pre;overflow-x:auto;line-height:normal;font-family:Menlo,'DejaVu Sans Mono',consolas,'Courier New',monospace\"><span style=\"color: #008080; text-decoration-color: #008080; font-weight: bold\">[+] Getting repo: </span><span style=\"color: #008080; text-decoration-color: #008080; font-weight: bold; text-decoration: underline\">https://github.com/xushengfeng/eSearch</span>\n",
       "</pre>\n"
      ],
      "text/plain": [
       "\u001b[1;36m[\u001b[0m\u001b[1;36m+\u001b[0m\u001b[1;36m]\u001b[0m\u001b[1;36m Getting repo: \u001b[0m\u001b[1;4;36mhttps://github.com/xushengfeng/eSearch\u001b[0m\n"
      ]
     },
     "metadata": {},
     "output_type": "display_data"
    },
    {
     "data": {
      "text/html": [
       "<pre style=\"white-space:pre;overflow-x:auto;line-height:normal;font-family:Menlo,'DejaVu Sans Mono',consolas,'Courier New',monospace\"><span style=\"color: #008080; text-decoration-color: #008080; font-weight: bold\">[+] Successfully retrieved repo: </span><span style=\"color: #008080; text-decoration-color: #008080; font-weight: bold; text-decoration: underline\">https://github.com/xushengfeng/eSearch</span>\n",
       "</pre>\n"
      ],
      "text/plain": [
       "\u001b[1;36m[\u001b[0m\u001b[1;36m+\u001b[0m\u001b[1;36m]\u001b[0m\u001b[1;36m Successfully retrieved repo: \u001b[0m\u001b[1;4;36mhttps://github.com/xushengfeng/eSearch\u001b[0m\n"
      ]
     },
     "metadata": {},
     "output_type": "display_data"
    },
    {
     "data": {
      "text/html": [
       "<pre style=\"white-space:pre;overflow-x:auto;line-height:normal;font-family:Menlo,'DejaVu Sans Mono',consolas,'Courier New',monospace\"><span style=\"color: #008080; text-decoration-color: #008080; font-weight: bold\">[+] Found package.json at /</span>\n",
       "</pre>\n"
      ],
      "text/plain": [
       "\u001b[1;36m[\u001b[0m\u001b[1;36m+\u001b[0m\u001b[1;36m]\u001b[0m\u001b[1;36m Found package.json at \u001b[0m\u001b[1;36m/\u001b[0m\n"
      ]
     },
     "metadata": {},
     "output_type": "display_data"
    },
    {
     "data": {
      "text/html": [
       "<pre style=\"white-space:pre;overflow-x:auto;line-height:normal;font-family:Menlo,'DejaVu Sans Mono',consolas,'Courier New',monospace\"><span style=\"color: #008080; text-decoration-color: #008080; font-weight: bold\">[+] Getting </span><span style=\"color: #008080; text-decoration-color: #008080; font-weight: bold; text-decoration: underline\">https://github.com/xushengfeng/eSearch/blob/master/package.json</span>\n",
       "</pre>\n"
      ],
      "text/plain": [
       "\u001b[1;36m[\u001b[0m\u001b[1;36m+\u001b[0m\u001b[1;36m]\u001b[0m\u001b[1;36m Getting \u001b[0m\u001b[1;4;36mhttps://github.com/xushengfeng/eSearch/blob/master/package.json\u001b[0m\n"
      ]
     },
     "metadata": {},
     "output_type": "display_data"
    },
    {
     "data": {
      "text/html": [
       "<pre style=\"white-space:pre;overflow-x:auto;line-height:normal;font-family:Menlo,'DejaVu Sans Mono',consolas,'Courier New',monospace\"><span style=\"color: #008080; text-decoration-color: #008080; font-weight: bold\">[+] Getting repo: </span><span style=\"color: #008080; text-decoration-color: #008080; font-weight: bold; text-decoration: underline\">https://github.com/icellmobilsoft/etcdmanager.git</span>\n",
       "</pre>\n"
      ],
      "text/plain": [
       "\u001b[1;36m[\u001b[0m\u001b[1;36m+\u001b[0m\u001b[1;36m]\u001b[0m\u001b[1;36m Getting repo: \u001b[0m\u001b[1;4;36mhttps://github.com/icellmobilsoft/etcdmanager.git\u001b[0m\n"
      ]
     },
     "metadata": {},
     "output_type": "display_data"
    },
    {
     "data": {
      "text/html": [
       "<pre style=\"white-space:pre;overflow-x:auto;line-height:normal;font-family:Menlo,'DejaVu Sans Mono',consolas,'Courier New',monospace\"><span style=\"color: #008080; text-decoration-color: #008080; font-weight: bold\">[+] Successfully retrieved repo: </span><span style=\"color: #008080; text-decoration-color: #008080; font-weight: bold; text-decoration: underline\">https://github.com/icellmobilsoft/etcdmanager.git</span>\n",
       "</pre>\n"
      ],
      "text/plain": [
       "\u001b[1;36m[\u001b[0m\u001b[1;36m+\u001b[0m\u001b[1;36m]\u001b[0m\u001b[1;36m Successfully retrieved repo: \u001b[0m\u001b[1;4;36mhttps://github.com/icellmobilsoft/etcdmanager.git\u001b[0m\n"
      ]
     },
     "metadata": {},
     "output_type": "display_data"
    },
    {
     "data": {
      "text/html": [
       "<pre style=\"white-space:pre;overflow-x:auto;line-height:normal;font-family:Menlo,'DejaVu Sans Mono',consolas,'Courier New',monospace\"><span style=\"color: #008080; text-decoration-color: #008080; font-weight: bold\">[+] Found package.json at /</span>\n",
       "</pre>\n"
      ],
      "text/plain": [
       "\u001b[1;36m[\u001b[0m\u001b[1;36m+\u001b[0m\u001b[1;36m]\u001b[0m\u001b[1;36m Found package.json at \u001b[0m\u001b[1;36m/\u001b[0m\n"
      ]
     },
     "metadata": {},
     "output_type": "display_data"
    },
    {
     "data": {
      "text/html": [
       "<pre style=\"white-space:pre;overflow-x:auto;line-height:normal;font-family:Menlo,'DejaVu Sans Mono',consolas,'Courier New',monospace\"><span style=\"color: #008080; text-decoration-color: #008080; font-weight: bold\">[+] Getting </span><span style=\"color: #008080; text-decoration-color: #008080; font-weight: bold; text-decoration: underline\">https://github.com/gtamas/etcdmanager/blob/master/package.json</span>\n",
       "</pre>\n"
      ],
      "text/plain": [
       "\u001b[1;36m[\u001b[0m\u001b[1;36m+\u001b[0m\u001b[1;36m]\u001b[0m\u001b[1;36m Getting \u001b[0m\u001b[1;4;36mhttps://github.com/gtamas/etcdmanager/blob/master/package.json\u001b[0m\n"
      ]
     },
     "metadata": {},
     "output_type": "display_data"
    },
    {
     "data": {
      "text/html": [
       "<pre style=\"white-space:pre;overflow-x:auto;line-height:normal;font-family:Menlo,'DejaVu Sans Mono',consolas,'Courier New',monospace\"><span style=\"color: #008080; text-decoration-color: #008080; font-weight: bold\">[+] Getting repo: </span><span style=\"color: #008080; text-decoration-color: #008080; font-weight: bold; text-decoration: underline\">https://github.com/resin-io/etcher</span>\n",
       "</pre>\n"
      ],
      "text/plain": [
       "\u001b[1;36m[\u001b[0m\u001b[1;36m+\u001b[0m\u001b[1;36m]\u001b[0m\u001b[1;36m Getting repo: \u001b[0m\u001b[1;4;36mhttps://github.com/resin-io/etcher\u001b[0m\n"
      ]
     },
     "metadata": {},
     "output_type": "display_data"
    },
    {
     "data": {
      "text/html": [
       "<pre style=\"white-space:pre;overflow-x:auto;line-height:normal;font-family:Menlo,'DejaVu Sans Mono',consolas,'Courier New',monospace\"><span style=\"color: #008080; text-decoration-color: #008080; font-weight: bold\">[+] Successfully retrieved repo: </span><span style=\"color: #008080; text-decoration-color: #008080; font-weight: bold; text-decoration: underline\">https://github.com/resin-io/etcher</span>\n",
       "</pre>\n"
      ],
      "text/plain": [
       "\u001b[1;36m[\u001b[0m\u001b[1;36m+\u001b[0m\u001b[1;36m]\u001b[0m\u001b[1;36m Successfully retrieved repo: \u001b[0m\u001b[1;4;36mhttps://github.com/resin-io/etcher\u001b[0m\n"
      ]
     },
     "metadata": {},
     "output_type": "display_data"
    },
    {
     "data": {
      "text/html": [
       "<pre style=\"white-space:pre;overflow-x:auto;line-height:normal;font-family:Menlo,'DejaVu Sans Mono',consolas,'Courier New',monospace\"><span style=\"color: #008080; text-decoration-color: #008080; font-weight: bold\">[+] Found package.json at /</span>\n",
       "</pre>\n"
      ],
      "text/plain": [
       "\u001b[1;36m[\u001b[0m\u001b[1;36m+\u001b[0m\u001b[1;36m]\u001b[0m\u001b[1;36m Found package.json at \u001b[0m\u001b[1;36m/\u001b[0m\n"
      ]
     },
     "metadata": {},
     "output_type": "display_data"
    },
    {
     "data": {
      "text/html": [
       "<pre style=\"white-space:pre;overflow-x:auto;line-height:normal;font-family:Menlo,'DejaVu Sans Mono',consolas,'Courier New',monospace\"><span style=\"color: #008080; text-decoration-color: #008080; font-weight: bold\">[+] Getting </span><span style=\"color: #008080; text-decoration-color: #008080; font-weight: bold; text-decoration: underline\">https://github.com/balena-io/etcher/blob/master/package.json</span>\n",
       "</pre>\n"
      ],
      "text/plain": [
       "\u001b[1;36m[\u001b[0m\u001b[1;36m+\u001b[0m\u001b[1;36m]\u001b[0m\u001b[1;36m Getting \u001b[0m\u001b[1;4;36mhttps://github.com/balena-io/etcher/blob/master/package.json\u001b[0m\n"
      ]
     },
     "metadata": {},
     "output_type": "display_data"
    },
    {
     "data": {
      "text/html": [
       "<pre style=\"white-space:pre;overflow-x:auto;line-height:normal;font-family:Menlo,'DejaVu Sans Mono',consolas,'Courier New',monospace\"><span style=\"color: #008080; text-decoration-color: #008080; font-weight: bold\">[+] Getting repo: </span><span style=\"color: #008080; text-decoration-color: #008080; font-weight: bold; text-decoration: underline\">https://github.com/szTheory/exifcleaner</span>\n",
       "</pre>\n"
      ],
      "text/plain": [
       "\u001b[1;36m[\u001b[0m\u001b[1;36m+\u001b[0m\u001b[1;36m]\u001b[0m\u001b[1;36m Getting repo: \u001b[0m\u001b[1;4;36mhttps://github.com/szTheory/exifcleaner\u001b[0m\n"
      ]
     },
     "metadata": {},
     "output_type": "display_data"
    },
    {
     "data": {
      "text/html": [
       "<pre style=\"white-space:pre;overflow-x:auto;line-height:normal;font-family:Menlo,'DejaVu Sans Mono',consolas,'Courier New',monospace\"><span style=\"color: #008080; text-decoration-color: #008080; font-weight: bold\">[+] Successfully retrieved repo: </span><span style=\"color: #008080; text-decoration-color: #008080; font-weight: bold; text-decoration: underline\">https://github.com/szTheory/exifcleaner</span>\n",
       "</pre>\n"
      ],
      "text/plain": [
       "\u001b[1;36m[\u001b[0m\u001b[1;36m+\u001b[0m\u001b[1;36m]\u001b[0m\u001b[1;36m Successfully retrieved repo: \u001b[0m\u001b[1;4;36mhttps://github.com/szTheory/exifcleaner\u001b[0m\n"
      ]
     },
     "metadata": {},
     "output_type": "display_data"
    },
    {
     "data": {
      "text/html": [
       "<pre style=\"white-space:pre;overflow-x:auto;line-height:normal;font-family:Menlo,'DejaVu Sans Mono',consolas,'Courier New',monospace\"><span style=\"color: #008080; text-decoration-color: #008080; font-weight: bold\">[+] Found package.json at /</span>\n",
       "</pre>\n"
      ],
      "text/plain": [
       "\u001b[1;36m[\u001b[0m\u001b[1;36m+\u001b[0m\u001b[1;36m]\u001b[0m\u001b[1;36m Found package.json at \u001b[0m\u001b[1;36m/\u001b[0m\n"
      ]
     },
     "metadata": {},
     "output_type": "display_data"
    },
    {
     "data": {
      "text/html": [
       "<pre style=\"white-space:pre;overflow-x:auto;line-height:normal;font-family:Menlo,'DejaVu Sans Mono',consolas,'Courier New',monospace\"><span style=\"color: #008080; text-decoration-color: #008080; font-weight: bold\">[+] Getting </span><span style=\"color: #008080; text-decoration-color: #008080; font-weight: bold; text-decoration: underline\">https://github.com/szTheory/exifcleaner/blob/master/package.json</span>\n",
       "</pre>\n"
      ],
      "text/plain": [
       "\u001b[1;36m[\u001b[0m\u001b[1;36m+\u001b[0m\u001b[1;36m]\u001b[0m\u001b[1;36m Getting \u001b[0m\u001b[1;4;36mhttps://github.com/szTheory/exifcleaner/blob/master/package.json\u001b[0m\n"
      ]
     },
     "metadata": {},
     "output_type": "display_data"
    },
    {
     "data": {
      "text/html": [
       "<pre style=\"white-space:pre;overflow-x:auto;line-height:normal;font-family:Menlo,'DejaVu Sans Mono',consolas,'Courier New',monospace\"><span style=\"color: #008080; text-decoration-color: #008080; font-weight: bold\">[+] Getting repo: </span><span style=\"color: #008080; text-decoration-color: #008080; font-weight: bold; text-decoration: underline\">https://github.com/xizon/F-Curator/</span>\n",
       "</pre>\n"
      ],
      "text/plain": [
       "\u001b[1;36m[\u001b[0m\u001b[1;36m+\u001b[0m\u001b[1;36m]\u001b[0m\u001b[1;36m Getting repo: \u001b[0m\u001b[1;4;36mhttps://github.com/xizon/F-Curator/\u001b[0m\n"
      ]
     },
     "metadata": {},
     "output_type": "display_data"
    },
    {
     "data": {
      "text/html": [
       "<pre style=\"white-space:pre;overflow-x:auto;line-height:normal;font-family:Menlo,'DejaVu Sans Mono',consolas,'Courier New',monospace\"><span style=\"color: #008080; text-decoration-color: #008080; font-weight: bold\">[+] Successfully retrieved repo: </span><span style=\"color: #008080; text-decoration-color: #008080; font-weight: bold; text-decoration: underline\">https://github.com/xizon/F-Curator/</span>\n",
       "</pre>\n"
      ],
      "text/plain": [
       "\u001b[1;36m[\u001b[0m\u001b[1;36m+\u001b[0m\u001b[1;36m]\u001b[0m\u001b[1;36m Successfully retrieved repo: \u001b[0m\u001b[1;4;36mhttps://github.com/xizon/F-Curator/\u001b[0m\n"
      ]
     },
     "metadata": {},
     "output_type": "display_data"
    },
    {
     "data": {
      "text/html": [
       "<pre style=\"white-space:pre;overflow-x:auto;line-height:normal;font-family:Menlo,'DejaVu Sans Mono',consolas,'Courier New',monospace\"><span style=\"color: #008080; text-decoration-color: #008080; font-weight: bold\">[+] Found package.json at /</span>\n",
       "</pre>\n"
      ],
      "text/plain": [
       "\u001b[1;36m[\u001b[0m\u001b[1;36m+\u001b[0m\u001b[1;36m]\u001b[0m\u001b[1;36m Found package.json at \u001b[0m\u001b[1;36m/\u001b[0m\n"
      ]
     },
     "metadata": {},
     "output_type": "display_data"
    },
    {
     "data": {
      "text/html": [
       "<pre style=\"white-space:pre;overflow-x:auto;line-height:normal;font-family:Menlo,'DejaVu Sans Mono',consolas,'Courier New',monospace\"><span style=\"color: #008080; text-decoration-color: #008080; font-weight: bold\">[+] Getting </span><span style=\"color: #008080; text-decoration-color: #008080; font-weight: bold; text-decoration: underline\">https://github.com/xizon/F-Curator/blob/main/package.json</span>\n",
       "</pre>\n"
      ],
      "text/plain": [
       "\u001b[1;36m[\u001b[0m\u001b[1;36m+\u001b[0m\u001b[1;36m]\u001b[0m\u001b[1;36m Getting \u001b[0m\u001b[1;4;36mhttps://github.com/xizon/F-Curator/blob/main/package.json\u001b[0m\n"
      ]
     },
     "metadata": {},
     "output_type": "display_data"
    },
    {
     "data": {
      "text/html": [
       "<pre style=\"white-space:pre;overflow-x:auto;line-height:normal;font-family:Menlo,'DejaVu Sans Mono',consolas,'Courier New',monospace\"><span style=\"color: #008080; text-decoration-color: #008080; font-weight: bold\">[+] Getting repo: </span><span style=\"color: #008080; text-decoration-color: #008080; font-weight: bold; text-decoration: underline\">https://github.com/fairdataihub/FAIRshare</span>\n",
       "</pre>\n"
      ],
      "text/plain": [
       "\u001b[1;36m[\u001b[0m\u001b[1;36m+\u001b[0m\u001b[1;36m]\u001b[0m\u001b[1;36m Getting repo: \u001b[0m\u001b[1;4;36mhttps://github.com/fairdataihub/FAIRshare\u001b[0m\n"
      ]
     },
     "metadata": {},
     "output_type": "display_data"
    },
    {
     "data": {
      "text/html": [
       "<pre style=\"white-space:pre;overflow-x:auto;line-height:normal;font-family:Menlo,'DejaVu Sans Mono',consolas,'Courier New',monospace\"><span style=\"color: #008080; text-decoration-color: #008080; font-weight: bold\">[+] Successfully retrieved repo: </span><span style=\"color: #008080; text-decoration-color: #008080; font-weight: bold; text-decoration: underline\">https://github.com/fairdataihub/FAIRshare</span>\n",
       "</pre>\n"
      ],
      "text/plain": [
       "\u001b[1;36m[\u001b[0m\u001b[1;36m+\u001b[0m\u001b[1;36m]\u001b[0m\u001b[1;36m Successfully retrieved repo: \u001b[0m\u001b[1;4;36mhttps://github.com/fairdataihub/FAIRshare\u001b[0m\n"
      ]
     },
     "metadata": {},
     "output_type": "display_data"
    },
    {
     "data": {
      "text/html": [
       "<pre style=\"white-space:pre;overflow-x:auto;line-height:normal;font-family:Menlo,'DejaVu Sans Mono',consolas,'Courier New',monospace\"><span style=\"color: #008080; text-decoration-color: #008080; font-weight: bold\">[+] Found package.json at /</span>\n",
       "</pre>\n"
      ],
      "text/plain": [
       "\u001b[1;36m[\u001b[0m\u001b[1;36m+\u001b[0m\u001b[1;36m]\u001b[0m\u001b[1;36m Found package.json at \u001b[0m\u001b[1;36m/\u001b[0m\n"
      ]
     },
     "metadata": {},
     "output_type": "display_data"
    },
    {
     "data": {
      "text/html": [
       "<pre style=\"white-space:pre;overflow-x:auto;line-height:normal;font-family:Menlo,'DejaVu Sans Mono',consolas,'Courier New',monospace\"><span style=\"color: #008080; text-decoration-color: #008080; font-weight: bold\">[+] Getting </span><span style=\"color: #008080; text-decoration-color: #008080; font-weight: bold; text-decoration: underline\">https://github.com/fairdataihub/FAIRshare/blob/main/package.json</span>\n",
       "</pre>\n"
      ],
      "text/plain": [
       "\u001b[1;36m[\u001b[0m\u001b[1;36m+\u001b[0m\u001b[1;36m]\u001b[0m\u001b[1;36m Getting \u001b[0m\u001b[1;4;36mhttps://github.com/fairdataihub/FAIRshare/blob/main/package.json\u001b[0m\n"
      ]
     },
     "metadata": {},
     "output_type": "display_data"
    },
    {
     "data": {
      "text/html": [
       "<pre style=\"white-space:pre;overflow-x:auto;line-height:normal;font-family:Menlo,'DejaVu Sans Mono',consolas,'Courier New',monospace\"><span style=\"color: #008080; text-decoration-color: #008080; font-weight: bold\">[+] Getting repo: </span><span style=\"color: #008080; text-decoration-color: #008080; font-weight: bold; text-decoration: underline\">https://github.com/getferdi/ferdi</span>\n",
       "</pre>\n"
      ],
      "text/plain": [
       "\u001b[1;36m[\u001b[0m\u001b[1;36m+\u001b[0m\u001b[1;36m]\u001b[0m\u001b[1;36m Getting repo: \u001b[0m\u001b[1;4;36mhttps://github.com/getferdi/ferdi\u001b[0m\n"
      ]
     },
     "metadata": {},
     "output_type": "display_data"
    },
    {
     "data": {
      "text/html": [
       "<pre style=\"white-space:pre;overflow-x:auto;line-height:normal;font-family:Menlo,'DejaVu Sans Mono',consolas,'Courier New',monospace\"><span style=\"color: #800000; text-decoration-color: #800000; font-weight: bold\">[💀] Could not connect to </span><span style=\"color: #800000; text-decoration-color: #800000; font-weight: bold; text-decoration: underline\">https://github.com/getferdi/ferdi</span>\n",
       "</pre>\n"
      ],
      "text/plain": [
       "\u001b[1;31m[\u001b[0m\u001b[1;31m💀\u001b[0m\u001b[1;31m]\u001b[0m\u001b[1;31m Could not connect to \u001b[0m\u001b[1;4;31mhttps://github.com/getferdi/ferdi\u001b[0m\n"
      ]
     },
     "metadata": {},
     "output_type": "display_data"
    },
    {
     "data": {
      "text/html": [
       "<pre style=\"white-space:pre;overflow-x:auto;line-height:normal;font-family:Menlo,'DejaVu Sans Mono',consolas,'Courier New',monospace\"><span style=\"color: #008080; text-decoration-color: #008080; font-weight: bold\">[+] Getting repo: </span><span style=\"color: #008080; text-decoration-color: #008080; font-weight: bold; text-decoration: underline\">https://github.com/snaildos/Fifo-Browser</span>\n",
       "</pre>\n"
      ],
      "text/plain": [
       "\u001b[1;36m[\u001b[0m\u001b[1;36m+\u001b[0m\u001b[1;36m]\u001b[0m\u001b[1;36m Getting repo: \u001b[0m\u001b[1;4;36mhttps://github.com/snaildos/Fifo-Browser\u001b[0m\n"
      ]
     },
     "metadata": {},
     "output_type": "display_data"
    },
    {
     "data": {
      "text/html": [
       "<pre style=\"white-space:pre;overflow-x:auto;line-height:normal;font-family:Menlo,'DejaVu Sans Mono',consolas,'Courier New',monospace\"><span style=\"color: #008080; text-decoration-color: #008080; font-weight: bold\">[+] Successfully retrieved repo: </span><span style=\"color: #008080; text-decoration-color: #008080; font-weight: bold; text-decoration: underline\">https://github.com/snaildos/Fifo-Browser</span>\n",
       "</pre>\n"
      ],
      "text/plain": [
       "\u001b[1;36m[\u001b[0m\u001b[1;36m+\u001b[0m\u001b[1;36m]\u001b[0m\u001b[1;36m Successfully retrieved repo: \u001b[0m\u001b[1;4;36mhttps://github.com/snaildos/Fifo-Browser\u001b[0m\n"
      ]
     },
     "metadata": {},
     "output_type": "display_data"
    },
    {
     "data": {
      "text/html": [
       "<pre style=\"white-space:pre;overflow-x:auto;line-height:normal;font-family:Menlo,'DejaVu Sans Mono',consolas,'Courier New',monospace\"><span style=\"color: #008080; text-decoration-color: #008080; font-weight: bold\">[+] Found package.json at /</span>\n",
       "</pre>\n"
      ],
      "text/plain": [
       "\u001b[1;36m[\u001b[0m\u001b[1;36m+\u001b[0m\u001b[1;36m]\u001b[0m\u001b[1;36m Found package.json at \u001b[0m\u001b[1;36m/\u001b[0m\n"
      ]
     },
     "metadata": {},
     "output_type": "display_data"
    },
    {
     "data": {
      "text/html": [
       "<pre style=\"white-space:pre;overflow-x:auto;line-height:normal;font-family:Menlo,'DejaVu Sans Mono',consolas,'Courier New',monospace\"><span style=\"color: #008080; text-decoration-color: #008080; font-weight: bold\">[+] Getting </span><span style=\"color: #008080; text-decoration-color: #008080; font-weight: bold; text-decoration: underline\">https://github.com/snaildos/Fifo-Browser/blob/main/package.json</span>\n",
       "</pre>\n"
      ],
      "text/plain": [
       "\u001b[1;36m[\u001b[0m\u001b[1;36m+\u001b[0m\u001b[1;36m]\u001b[0m\u001b[1;36m Getting \u001b[0m\u001b[1;4;36mhttps://github.com/snaildos/Fifo-Browser/blob/main/package.json\u001b[0m\n"
      ]
     },
     "metadata": {},
     "output_type": "display_data"
    },
    {
     "data": {
      "text/html": [
       "<pre style=\"white-space:pre;overflow-x:auto;line-height:normal;font-family:Menlo,'DejaVu Sans Mono',consolas,'Courier New',monospace\"><span style=\"color: #008080; text-decoration-color: #008080; font-weight: bold\">[+] Getting repo: </span><span style=\"color: #008080; text-decoration-color: #008080; font-weight: bold; text-decoration: underline\">https://github.com/tomaschyly/FileCtor</span>\n",
       "</pre>\n"
      ],
      "text/plain": [
       "\u001b[1;36m[\u001b[0m\u001b[1;36m+\u001b[0m\u001b[1;36m]\u001b[0m\u001b[1;36m Getting repo: \u001b[0m\u001b[1;4;36mhttps://github.com/tomaschyly/FileCtor\u001b[0m\n"
      ]
     },
     "metadata": {},
     "output_type": "display_data"
    },
    {
     "data": {
      "text/html": [
       "<pre style=\"white-space:pre;overflow-x:auto;line-height:normal;font-family:Menlo,'DejaVu Sans Mono',consolas,'Courier New',monospace\"><span style=\"color: #008080; text-decoration-color: #008080; font-weight: bold\">[+] Successfully retrieved repo: </span><span style=\"color: #008080; text-decoration-color: #008080; font-weight: bold; text-decoration: underline\">https://github.com/tomaschyly/FileCtor</span>\n",
       "</pre>\n"
      ],
      "text/plain": [
       "\u001b[1;36m[\u001b[0m\u001b[1;36m+\u001b[0m\u001b[1;36m]\u001b[0m\u001b[1;36m Successfully retrieved repo: \u001b[0m\u001b[1;4;36mhttps://github.com/tomaschyly/FileCtor\u001b[0m\n"
      ]
     },
     "metadata": {},
     "output_type": "display_data"
    },
    {
     "data": {
      "text/html": [
       "<pre style=\"white-space:pre;overflow-x:auto;line-height:normal;font-family:Menlo,'DejaVu Sans Mono',consolas,'Courier New',monospace\"><span style=\"color: #008080; text-decoration-color: #008080; font-weight: bold\">[+] Found package.json at /</span>\n",
       "</pre>\n"
      ],
      "text/plain": [
       "\u001b[1;36m[\u001b[0m\u001b[1;36m+\u001b[0m\u001b[1;36m]\u001b[0m\u001b[1;36m Found package.json at \u001b[0m\u001b[1;36m/\u001b[0m\n"
      ]
     },
     "metadata": {},
     "output_type": "display_data"
    },
    {
     "data": {
      "text/html": [
       "<pre style=\"white-space:pre;overflow-x:auto;line-height:normal;font-family:Menlo,'DejaVu Sans Mono',consolas,'Courier New',monospace\"><span style=\"color: #008080; text-decoration-color: #008080; font-weight: bold\">[+] Getting </span><span style=\"color: #008080; text-decoration-color: #008080; font-weight: bold; text-decoration: underline\">https://github.com/tomaschyly/FileCtor/blob/master/package.json</span>\n",
       "</pre>\n"
      ],
      "text/plain": [
       "\u001b[1;36m[\u001b[0m\u001b[1;36m+\u001b[0m\u001b[1;36m]\u001b[0m\u001b[1;36m Getting \u001b[0m\u001b[1;4;36mhttps://github.com/tomaschyly/FileCtor/blob/master/package.json\u001b[0m\n"
      ]
     },
     "metadata": {},
     "output_type": "display_data"
    },
    {
     "data": {
      "text/html": [
       "<pre style=\"white-space:pre;overflow-x:auto;line-height:normal;font-family:Menlo,'DejaVu Sans Mono',consolas,'Courier New',monospace\"><span style=\"color: #008080; text-decoration-color: #008080; font-weight: bold\">[+] Getting repo: </span><span style=\"color: #008080; text-decoration-color: #008080; font-weight: bold; text-decoration: underline\">https://github.com/1zilc/fishing-funds</span>\n",
       "</pre>\n"
      ],
      "text/plain": [
       "\u001b[1;36m[\u001b[0m\u001b[1;36m+\u001b[0m\u001b[1;36m]\u001b[0m\u001b[1;36m Getting repo: \u001b[0m\u001b[1;4;36mhttps://github.com/1zilc/fishing-funds\u001b[0m\n"
      ]
     },
     "metadata": {},
     "output_type": "display_data"
    },
    {
     "data": {
      "text/html": [
       "<pre style=\"white-space:pre;overflow-x:auto;line-height:normal;font-family:Menlo,'DejaVu Sans Mono',consolas,'Courier New',monospace\"><span style=\"color: #008080; text-decoration-color: #008080; font-weight: bold\">[+] Successfully retrieved repo: </span><span style=\"color: #008080; text-decoration-color: #008080; font-weight: bold; text-decoration: underline\">https://github.com/1zilc/fishing-funds</span>\n",
       "</pre>\n"
      ],
      "text/plain": [
       "\u001b[1;36m[\u001b[0m\u001b[1;36m+\u001b[0m\u001b[1;36m]\u001b[0m\u001b[1;36m Successfully retrieved repo: \u001b[0m\u001b[1;4;36mhttps://github.com/1zilc/fishing-funds\u001b[0m\n"
      ]
     },
     "metadata": {},
     "output_type": "display_data"
    },
    {
     "data": {
      "text/html": [
       "<pre style=\"white-space:pre;overflow-x:auto;line-height:normal;font-family:Menlo,'DejaVu Sans Mono',consolas,'Courier New',monospace\"><span style=\"color: #008080; text-decoration-color: #008080; font-weight: bold\">[+] Found package.json at /</span>\n",
       "</pre>\n"
      ],
      "text/plain": [
       "\u001b[1;36m[\u001b[0m\u001b[1;36m+\u001b[0m\u001b[1;36m]\u001b[0m\u001b[1;36m Found package.json at \u001b[0m\u001b[1;36m/\u001b[0m\n"
      ]
     },
     "metadata": {},
     "output_type": "display_data"
    },
    {
     "data": {
      "text/html": [
       "<pre style=\"white-space:pre;overflow-x:auto;line-height:normal;font-family:Menlo,'DejaVu Sans Mono',consolas,'Courier New',monospace\"><span style=\"color: #008080; text-decoration-color: #008080; font-weight: bold\">[+] Getting </span><span style=\"color: #008080; text-decoration-color: #008080; font-weight: bold; text-decoration: underline\">https://github.com/1zilc/fishing-funds/blob/main/package.json</span>\n",
       "</pre>\n"
      ],
      "text/plain": [
       "\u001b[1;36m[\u001b[0m\u001b[1;36m+\u001b[0m\u001b[1;36m]\u001b[0m\u001b[1;36m Getting \u001b[0m\u001b[1;4;36mhttps://github.com/1zilc/fishing-funds/blob/main/package.json\u001b[0m\n"
      ]
     },
     "metadata": {},
     "output_type": "display_data"
    },
    {
     "data": {
      "text/html": [
       "<pre style=\"white-space:pre;overflow-x:auto;line-height:normal;font-family:Menlo,'DejaVu Sans Mono',consolas,'Courier New',monospace\"><span style=\"color: #008080; text-decoration-color: #008080; font-weight: bold\">[+] Getting repo: </span><span style=\"color: #008080; text-decoration-color: #008080; font-weight: bold; text-decoration: underline\">https://github.com/Patrick-web/FLB-Music-Player-Official</span>\n",
       "</pre>\n"
      ],
      "text/plain": [
       "\u001b[1;36m[\u001b[0m\u001b[1;36m+\u001b[0m\u001b[1;36m]\u001b[0m\u001b[1;36m Getting repo: \u001b[0m\u001b[1;4;36mhttps://github.com/Patrick-web/FLB-Music-Player-Official\u001b[0m\n"
      ]
     },
     "metadata": {},
     "output_type": "display_data"
    },
    {
     "data": {
      "text/html": [
       "<pre style=\"white-space:pre;overflow-x:auto;line-height:normal;font-family:Menlo,'DejaVu Sans Mono',consolas,'Courier New',monospace\"><span style=\"color: #008080; text-decoration-color: #008080; font-weight: bold\">[+] Successfully retrieved repo: </span><span style=\"color: #008080; text-decoration-color: #008080; font-weight: bold; text-decoration: underline\">https://github.com/Patrick-web/FLB-Music-Player-Official</span>\n",
       "</pre>\n"
      ],
      "text/plain": [
       "\u001b[1;36m[\u001b[0m\u001b[1;36m+\u001b[0m\u001b[1;36m]\u001b[0m\u001b[1;36m Successfully retrieved repo: \u001b[0m\u001b[1;4;36mhttps://github.com/Patrick-web/FLB-Music-Player-Official\u001b[0m\n"
      ]
     },
     "metadata": {},
     "output_type": "display_data"
    },
    {
     "data": {
      "text/html": [
       "<pre style=\"white-space:pre;overflow-x:auto;line-height:normal;font-family:Menlo,'DejaVu Sans Mono',consolas,'Courier New',monospace\"><span style=\"color: #008080; text-decoration-color: #008080; font-weight: bold\">[+] Found package.json at /</span>\n",
       "</pre>\n"
      ],
      "text/plain": [
       "\u001b[1;36m[\u001b[0m\u001b[1;36m+\u001b[0m\u001b[1;36m]\u001b[0m\u001b[1;36m Found package.json at \u001b[0m\u001b[1;36m/\u001b[0m\n"
      ]
     },
     "metadata": {},
     "output_type": "display_data"
    },
    {
     "data": {
      "text/html": [
       "<pre style=\"white-space:pre;overflow-x:auto;line-height:normal;font-family:Menlo,'DejaVu Sans Mono',consolas,'Courier New',monospace\"><span style=\"color: #008080; text-decoration-color: #008080; font-weight: bold\">[+] Getting </span><span style=\"color: #008080; text-decoration-color: #008080; font-weight: bold; text-decoration: underline\">https://github.com/Patrick-web/FLB-Music-Player-Official/blob/main/package.json</span>\n",
       "</pre>\n"
      ],
      "text/plain": [
       "\u001b[1;36m[\u001b[0m\u001b[1;36m+\u001b[0m\u001b[1;36m]\u001b[0m\u001b[1;36m Getting \u001b[0m\u001b[1;4;36mhttps://github.com/Patrick-web/FLB-Music-Player-Official/blob/main/package.json\u001b[0m\n"
      ]
     },
     "metadata": {},
     "output_type": "display_data"
    },
    {
     "data": {
      "text/html": [
       "<pre style=\"white-space:pre;overflow-x:auto;line-height:normal;font-family:Menlo,'DejaVu Sans Mono',consolas,'Courier New',monospace\"><span style=\"color: #008080; text-decoration-color: #008080; font-weight: bold\">[+] Getting repo: </span><span style=\"color: #008080; text-decoration-color: #008080; font-weight: bold; text-decoration: underline\">https://github.com/yang991178/fluent-reader</span>\n",
       "</pre>\n"
      ],
      "text/plain": [
       "\u001b[1;36m[\u001b[0m\u001b[1;36m+\u001b[0m\u001b[1;36m]\u001b[0m\u001b[1;36m Getting repo: \u001b[0m\u001b[1;4;36mhttps://github.com/yang991178/fluent-reader\u001b[0m\n"
      ]
     },
     "metadata": {},
     "output_type": "display_data"
    },
    {
     "data": {
      "text/html": [
       "<pre style=\"white-space:pre;overflow-x:auto;line-height:normal;font-family:Menlo,'DejaVu Sans Mono',consolas,'Courier New',monospace\"><span style=\"color: #008080; text-decoration-color: #008080; font-weight: bold\">[+] Successfully retrieved repo: </span><span style=\"color: #008080; text-decoration-color: #008080; font-weight: bold; text-decoration: underline\">https://github.com/yang991178/fluent-reader</span>\n",
       "</pre>\n"
      ],
      "text/plain": [
       "\u001b[1;36m[\u001b[0m\u001b[1;36m+\u001b[0m\u001b[1;36m]\u001b[0m\u001b[1;36m Successfully retrieved repo: \u001b[0m\u001b[1;4;36mhttps://github.com/yang991178/fluent-reader\u001b[0m\n"
      ]
     },
     "metadata": {},
     "output_type": "display_data"
    },
    {
     "data": {
      "text/html": [
       "<pre style=\"white-space:pre;overflow-x:auto;line-height:normal;font-family:Menlo,'DejaVu Sans Mono',consolas,'Courier New',monospace\"><span style=\"color: #008080; text-decoration-color: #008080; font-weight: bold\">[+] Found package.json at /</span>\n",
       "</pre>\n"
      ],
      "text/plain": [
       "\u001b[1;36m[\u001b[0m\u001b[1;36m+\u001b[0m\u001b[1;36m]\u001b[0m\u001b[1;36m Found package.json at \u001b[0m\u001b[1;36m/\u001b[0m\n"
      ]
     },
     "metadata": {},
     "output_type": "display_data"
    },
    {
     "data": {
      "text/html": [
       "<pre style=\"white-space:pre;overflow-x:auto;line-height:normal;font-family:Menlo,'DejaVu Sans Mono',consolas,'Courier New',monospace\"><span style=\"color: #008080; text-decoration-color: #008080; font-weight: bold\">[+] Getting </span><span style=\"color: #008080; text-decoration-color: #008080; font-weight: bold; text-decoration: underline\">https://github.com/yang991178/fluent-reader/blob/master/package.json</span>\n",
       "</pre>\n"
      ],
      "text/plain": [
       "\u001b[1;36m[\u001b[0m\u001b[1;36m+\u001b[0m\u001b[1;36m]\u001b[0m\u001b[1;36m Getting \u001b[0m\u001b[1;4;36mhttps://github.com/yang991178/fluent-reader/blob/master/package.json\u001b[0m\n"
      ]
     },
     "metadata": {},
     "output_type": "display_data"
    },
    {
     "data": {
      "text/html": [
       "<pre style=\"white-space:pre;overflow-x:auto;line-height:normal;font-family:Menlo,'DejaVu Sans Mono',consolas,'Courier New',monospace\"><span style=\"color: #008080; text-decoration-color: #008080; font-weight: bold\">[+] Getting repo: </span><span style=\"color: #008080; text-decoration-color: #008080; font-weight: bold; text-decoration: underline\">https://github.com/floating/frame.git</span>\n",
       "</pre>\n"
      ],
      "text/plain": [
       "\u001b[1;36m[\u001b[0m\u001b[1;36m+\u001b[0m\u001b[1;36m]\u001b[0m\u001b[1;36m Getting repo: \u001b[0m\u001b[1;4;36mhttps://github.com/floating/frame.git\u001b[0m\n"
      ]
     },
     "metadata": {},
     "output_type": "display_data"
    },
    {
     "data": {
      "text/html": [
       "<pre style=\"white-space:pre;overflow-x:auto;line-height:normal;font-family:Menlo,'DejaVu Sans Mono',consolas,'Courier New',monospace\"><span style=\"color: #008080; text-decoration-color: #008080; font-weight: bold\">[+] Successfully retrieved repo: </span><span style=\"color: #008080; text-decoration-color: #008080; font-weight: bold; text-decoration: underline\">https://github.com/floating/frame.git</span>\n",
       "</pre>\n"
      ],
      "text/plain": [
       "\u001b[1;36m[\u001b[0m\u001b[1;36m+\u001b[0m\u001b[1;36m]\u001b[0m\u001b[1;36m Successfully retrieved repo: \u001b[0m\u001b[1;4;36mhttps://github.com/floating/frame.git\u001b[0m\n"
      ]
     },
     "metadata": {},
     "output_type": "display_data"
    },
    {
     "data": {
      "text/html": [
       "<pre style=\"white-space:pre;overflow-x:auto;line-height:normal;font-family:Menlo,'DejaVu Sans Mono',consolas,'Courier New',monospace\"><span style=\"color: #008080; text-decoration-color: #008080; font-weight: bold\">[+] Found package.json at /</span>\n",
       "</pre>\n"
      ],
      "text/plain": [
       "\u001b[1;36m[\u001b[0m\u001b[1;36m+\u001b[0m\u001b[1;36m]\u001b[0m\u001b[1;36m Found package.json at \u001b[0m\u001b[1;36m/\u001b[0m\n"
      ]
     },
     "metadata": {},
     "output_type": "display_data"
    },
    {
     "data": {
      "text/html": [
       "<pre style=\"white-space:pre;overflow-x:auto;line-height:normal;font-family:Menlo,'DejaVu Sans Mono',consolas,'Courier New',monospace\"><span style=\"color: #008080; text-decoration-color: #008080; font-weight: bold\">[+] Getting </span><span style=\"color: #008080; text-decoration-color: #008080; font-weight: bold; text-decoration: underline\">https://github.com/floating/frame/blob/develop/package.json</span>\n",
       "</pre>\n"
      ],
      "text/plain": [
       "\u001b[1;36m[\u001b[0m\u001b[1;36m+\u001b[0m\u001b[1;36m]\u001b[0m\u001b[1;36m Getting \u001b[0m\u001b[1;4;36mhttps://github.com/floating/frame/blob/develop/package.json\u001b[0m\n"
      ]
     },
     "metadata": {},
     "output_type": "display_data"
    },
    {
     "data": {
      "text/html": [
       "<pre style=\"white-space:pre;overflow-x:auto;line-height:normal;font-family:Menlo,'DejaVu Sans Mono',consolas,'Courier New',monospace\"><span style=\"color: #008080; text-decoration-color: #008080; font-weight: bold\">[+] Getting repo: </span><span style=\"color: #008080; text-decoration-color: #008080; font-weight: bold; text-decoration: underline\">https://github.com/freechessclub/freechessclub-app</span>\n",
       "</pre>\n"
      ],
      "text/plain": [
       "\u001b[1;36m[\u001b[0m\u001b[1;36m+\u001b[0m\u001b[1;36m]\u001b[0m\u001b[1;36m Getting repo: \u001b[0m\u001b[1;4;36mhttps://github.com/freechessclub/freechessclub-app\u001b[0m\n"
      ]
     },
     "metadata": {},
     "output_type": "display_data"
    },
    {
     "data": {
      "text/html": [
       "<pre style=\"white-space:pre;overflow-x:auto;line-height:normal;font-family:Menlo,'DejaVu Sans Mono',consolas,'Courier New',monospace\"><span style=\"color: #008080; text-decoration-color: #008080; font-weight: bold\">[+] Successfully retrieved repo: </span><span style=\"color: #008080; text-decoration-color: #008080; font-weight: bold; text-decoration: underline\">https://github.com/freechessclub/freechessclub-app</span>\n",
       "</pre>\n"
      ],
      "text/plain": [
       "\u001b[1;36m[\u001b[0m\u001b[1;36m+\u001b[0m\u001b[1;36m]\u001b[0m\u001b[1;36m Successfully retrieved repo: \u001b[0m\u001b[1;4;36mhttps://github.com/freechessclub/freechessclub-app\u001b[0m\n"
      ]
     },
     "metadata": {},
     "output_type": "display_data"
    },
    {
     "data": {
      "text/html": [
       "<pre style=\"white-space:pre;overflow-x:auto;line-height:normal;font-family:Menlo,'DejaVu Sans Mono',consolas,'Courier New',monospace\"><span style=\"color: #008080; text-decoration-color: #008080; font-weight: bold\">[+] Found package.json at /</span>\n",
       "</pre>\n"
      ],
      "text/plain": [
       "\u001b[1;36m[\u001b[0m\u001b[1;36m+\u001b[0m\u001b[1;36m]\u001b[0m\u001b[1;36m Found package.json at \u001b[0m\u001b[1;36m/\u001b[0m\n"
      ]
     },
     "metadata": {},
     "output_type": "display_data"
    },
    {
     "data": {
      "text/html": [
       "<pre style=\"white-space:pre;overflow-x:auto;line-height:normal;font-family:Menlo,'DejaVu Sans Mono',consolas,'Courier New',monospace\"><span style=\"color: #008080; text-decoration-color: #008080; font-weight: bold\">[+] Getting </span><span style=\"color: #008080; text-decoration-color: #008080; font-weight: bold; text-decoration: underline\">https://github.com/freechessclub/freechessclub-app/blob/master/package.json</span>\n",
       "</pre>\n"
      ],
      "text/plain": [
       "\u001b[1;36m[\u001b[0m\u001b[1;36m+\u001b[0m\u001b[1;36m]\u001b[0m\u001b[1;36m Getting \u001b[0m\u001b[1;4;36mhttps://github.com/freechessclub/freechessclub-app/blob/master/package.json\u001b[0m\n"
      ]
     },
     "metadata": {},
     "output_type": "display_data"
    },
    {
     "data": {
      "text/html": [
       "<pre style=\"white-space:pre;overflow-x:auto;line-height:normal;font-family:Menlo,'DejaVu Sans Mono',consolas,'Courier New',monospace\"><span style=\"color: #008080; text-decoration-color: #008080; font-weight: bold\">[+] Getting repo: </span><span style=\"color: #008080; text-decoration-color: #008080; font-weight: bold; text-decoration: underline\">https://github.com/angrykoala/gaucho</span>\n",
       "</pre>\n"
      ],
      "text/plain": [
       "\u001b[1;36m[\u001b[0m\u001b[1;36m+\u001b[0m\u001b[1;36m]\u001b[0m\u001b[1;36m Getting repo: \u001b[0m\u001b[1;4;36mhttps://github.com/angrykoala/gaucho\u001b[0m\n"
      ]
     },
     "metadata": {},
     "output_type": "display_data"
    },
    {
     "data": {
      "text/html": [
       "<pre style=\"white-space:pre;overflow-x:auto;line-height:normal;font-family:Menlo,'DejaVu Sans Mono',consolas,'Courier New',monospace\"><span style=\"color: #008080; text-decoration-color: #008080; font-weight: bold\">[+] Successfully retrieved repo: </span><span style=\"color: #008080; text-decoration-color: #008080; font-weight: bold; text-decoration: underline\">https://github.com/angrykoala/gaucho</span>\n",
       "</pre>\n"
      ],
      "text/plain": [
       "\u001b[1;36m[\u001b[0m\u001b[1;36m+\u001b[0m\u001b[1;36m]\u001b[0m\u001b[1;36m Successfully retrieved repo: \u001b[0m\u001b[1;4;36mhttps://github.com/angrykoala/gaucho\u001b[0m\n"
      ]
     },
     "metadata": {},
     "output_type": "display_data"
    },
    {
     "data": {
      "text/html": [
       "<pre style=\"white-space:pre;overflow-x:auto;line-height:normal;font-family:Menlo,'DejaVu Sans Mono',consolas,'Courier New',monospace\"><span style=\"color: #008080; text-decoration-color: #008080; font-weight: bold\">[+] Found package.json at /</span>\n",
       "</pre>\n"
      ],
      "text/plain": [
       "\u001b[1;36m[\u001b[0m\u001b[1;36m+\u001b[0m\u001b[1;36m]\u001b[0m\u001b[1;36m Found package.json at \u001b[0m\u001b[1;36m/\u001b[0m\n"
      ]
     },
     "metadata": {},
     "output_type": "display_data"
    },
    {
     "data": {
      "text/html": [
       "<pre style=\"white-space:pre;overflow-x:auto;line-height:normal;font-family:Menlo,'DejaVu Sans Mono',consolas,'Courier New',monospace\"><span style=\"color: #008080; text-decoration-color: #008080; font-weight: bold\">[+] Getting </span><span style=\"color: #008080; text-decoration-color: #008080; font-weight: bold; text-decoration: underline\">https://github.com/angrykoala/gaucho/blob/master/package.json</span>\n",
       "</pre>\n"
      ],
      "text/plain": [
       "\u001b[1;36m[\u001b[0m\u001b[1;36m+\u001b[0m\u001b[1;36m]\u001b[0m\u001b[1;36m Getting \u001b[0m\u001b[1;4;36mhttps://github.com/angrykoala/gaucho/blob/master/package.json\u001b[0m\n"
      ]
     },
     "metadata": {},
     "output_type": "display_data"
    },
    {
     "data": {
      "text/html": [
       "<pre style=\"white-space:pre;overflow-x:auto;line-height:normal;font-family:Menlo,'DejaVu Sans Mono',consolas,'Courier New',monospace\"><span style=\"color: #008080; text-decoration-color: #008080; font-weight: bold\">[+] Getting repo: </span><span style=\"color: #008080; text-decoration-color: #008080; font-weight: bold; text-decoration: underline\">https://github.com/4ian/GDevelop</span>\n",
       "</pre>\n"
      ],
      "text/plain": [
       "\u001b[1;36m[\u001b[0m\u001b[1;36m+\u001b[0m\u001b[1;36m]\u001b[0m\u001b[1;36m Getting repo: \u001b[0m\u001b[1;4;36mhttps://github.com/4ian/GDevelop\u001b[0m\n"
      ]
     },
     "metadata": {},
     "output_type": "display_data"
    },
    {
     "data": {
      "text/html": [
       "<pre style=\"white-space:pre;overflow-x:auto;line-height:normal;font-family:Menlo,'DejaVu Sans Mono',consolas,'Courier New',monospace\"><span style=\"color: #008080; text-decoration-color: #008080; font-weight: bold\">[+] Successfully retrieved repo: </span><span style=\"color: #008080; text-decoration-color: #008080; font-weight: bold; text-decoration: underline\">https://github.com/4ian/GDevelop</span>\n",
       "</pre>\n"
      ],
      "text/plain": [
       "\u001b[1;36m[\u001b[0m\u001b[1;36m+\u001b[0m\u001b[1;36m]\u001b[0m\u001b[1;36m Successfully retrieved repo: \u001b[0m\u001b[1;4;36mhttps://github.com/4ian/GDevelop\u001b[0m\n"
      ]
     },
     "metadata": {},
     "output_type": "display_data"
    },
    {
     "data": {
      "text/html": [
       "<pre style=\"white-space:pre;overflow-x:auto;line-height:normal;font-family:Menlo,'DejaVu Sans Mono',consolas,'Courier New',monospace\"><span style=\"color: #ff5f00; text-decoration-color: #ff5f00; font-weight: bold\">[!] Package.json not found at root; trying directories</span>\n",
       "</pre>\n"
      ],
      "text/plain": [
       "\u001b[1;38;5;202m[\u001b[0m\u001b[1;38;5;202m!\u001b[0m\u001b[1;38;5;202m]\u001b[0m\u001b[1;38;5;202m Package.json not found at root; trying directories\u001b[0m\n"
      ]
     },
     "metadata": {},
     "output_type": "display_data"
    },
    {
     "data": {
      "text/html": [
       "<pre style=\"white-space:pre;overflow-x:auto;line-height:normal;font-family:Menlo,'DejaVu Sans Mono',consolas,'Courier New',monospace\"><span style=\"color: #008080; text-decoration-color: #008080; font-weight: bold\">[+] Trying </span><span style=\"color: #008080; text-decoration-color: #008080; font-weight: bold; text-decoration: underline\">https://github.com/4ian/GDevelop/tree/master/.circleci</span>\n",
       "</pre>\n"
      ],
      "text/plain": [
       "\u001b[1;36m[\u001b[0m\u001b[1;36m+\u001b[0m\u001b[1;36m]\u001b[0m\u001b[1;36m Trying \u001b[0m\u001b[1;4;36mhttps://github.com/4ian/GDevelop/tree/master/.circleci\u001b[0m\n"
      ]
     },
     "metadata": {},
     "output_type": "display_data"
    },
    {
     "data": {
      "text/html": [
       "<pre style=\"white-space:pre;overflow-x:auto;line-height:normal;font-family:Menlo,'DejaVu Sans Mono',consolas,'Courier New',monospace\"><span style=\"color: #008080; text-decoration-color: #008080; font-weight: bold\">[+] Trying </span><span style=\"color: #008080; text-decoration-color: #008080; font-weight: bold; text-decoration: underline\">https://github.com/4ian/GDevelop/tree/master/.devcontainer</span>\n",
       "</pre>\n"
      ],
      "text/plain": [
       "\u001b[1;36m[\u001b[0m\u001b[1;36m+\u001b[0m\u001b[1;36m]\u001b[0m\u001b[1;36m Trying \u001b[0m\u001b[1;4;36mhttps://github.com/4ian/GDevelop/tree/master/.devcontainer\u001b[0m\n"
      ]
     },
     "metadata": {},
     "output_type": "display_data"
    },
    {
     "data": {
      "text/html": [
       "<pre style=\"white-space:pre;overflow-x:auto;line-height:normal;font-family:Menlo,'DejaVu Sans Mono',consolas,'Courier New',monospace\"><span style=\"color: #008080; text-decoration-color: #008080; font-weight: bold\">[+] Trying </span><span style=\"color: #008080; text-decoration-color: #008080; font-weight: bold; text-decoration: underline\">https://github.com/4ian/GDevelop/tree/master/.github</span>\n",
       "</pre>\n"
      ],
      "text/plain": [
       "\u001b[1;36m[\u001b[0m\u001b[1;36m+\u001b[0m\u001b[1;36m]\u001b[0m\u001b[1;36m Trying \u001b[0m\u001b[1;4;36mhttps://github.com/4ian/GDevelop/tree/master/.github\u001b[0m\n"
      ]
     },
     "metadata": {},
     "output_type": "display_data"
    },
    {
     "data": {
      "text/html": [
       "<pre style=\"white-space:pre;overflow-x:auto;line-height:normal;font-family:Menlo,'DejaVu Sans Mono',consolas,'Courier New',monospace\"><span style=\"color: #008080; text-decoration-color: #008080; font-weight: bold\">[+] Trying </span><span style=\"color: #008080; text-decoration-color: #008080; font-weight: bold; text-decoration: underline\">https://github.com/4ian/GDevelop/tree/master/.semaphore</span>\n",
       "</pre>\n"
      ],
      "text/plain": [
       "\u001b[1;36m[\u001b[0m\u001b[1;36m+\u001b[0m\u001b[1;36m]\u001b[0m\u001b[1;36m Trying \u001b[0m\u001b[1;4;36mhttps://github.com/4ian/GDevelop/tree/master/.semaphore\u001b[0m\n"
      ]
     },
     "metadata": {},
     "output_type": "display_data"
    },
    {
     "data": {
      "text/html": [
       "<pre style=\"white-space:pre;overflow-x:auto;line-height:normal;font-family:Menlo,'DejaVu Sans Mono',consolas,'Courier New',monospace\"><span style=\"color: #008080; text-decoration-color: #008080; font-weight: bold\">[+] Trying </span><span style=\"color: #008080; text-decoration-color: #008080; font-weight: bold; text-decoration: underline\">https://github.com/4ian/GDevelop/tree/master/.vscode</span>\n",
       "</pre>\n"
      ],
      "text/plain": [
       "\u001b[1;36m[\u001b[0m\u001b[1;36m+\u001b[0m\u001b[1;36m]\u001b[0m\u001b[1;36m Trying \u001b[0m\u001b[1;4;36mhttps://github.com/4ian/GDevelop/tree/master/.vscode\u001b[0m\n"
      ]
     },
     "metadata": {},
     "output_type": "display_data"
    },
    {
     "data": {
      "text/html": [
       "<pre style=\"white-space:pre;overflow-x:auto;line-height:normal;font-family:Menlo,'DejaVu Sans Mono',consolas,'Courier New',monospace\"><span style=\"color: #008080; text-decoration-color: #008080; font-weight: bold\">[+] Trying </span><span style=\"color: #008080; text-decoration-color: #008080; font-weight: bold; text-decoration: underline\">https://github.com/4ian/GDevelop/tree/master/Binaries</span>\n",
       "</pre>\n"
      ],
      "text/plain": [
       "\u001b[1;36m[\u001b[0m\u001b[1;36m+\u001b[0m\u001b[1;36m]\u001b[0m\u001b[1;36m Trying \u001b[0m\u001b[1;4;36mhttps://github.com/4ian/GDevelop/tree/master/Binaries\u001b[0m\n"
      ]
     },
     "metadata": {},
     "output_type": "display_data"
    },
    {
     "data": {
      "text/html": [
       "<pre style=\"white-space:pre;overflow-x:auto;line-height:normal;font-family:Menlo,'DejaVu Sans Mono',consolas,'Courier New',monospace\"><span style=\"color: #008080; text-decoration-color: #008080; font-weight: bold\">[+] Trying </span><span style=\"color: #008080; text-decoration-color: #008080; font-weight: bold; text-decoration: underline\">https://github.com/4ian/GDevelop/tree/master/Core</span>\n",
       "</pre>\n"
      ],
      "text/plain": [
       "\u001b[1;36m[\u001b[0m\u001b[1;36m+\u001b[0m\u001b[1;36m]\u001b[0m\u001b[1;36m Trying \u001b[0m\u001b[1;4;36mhttps://github.com/4ian/GDevelop/tree/master/Core\u001b[0m\n"
      ]
     },
     "metadata": {},
     "output_type": "display_data"
    },
    {
     "data": {
      "text/html": [
       "<pre style=\"white-space:pre;overflow-x:auto;line-height:normal;font-family:Menlo,'DejaVu Sans Mono',consolas,'Courier New',monospace\"><span style=\"color: #008080; text-decoration-color: #008080; font-weight: bold\">[+] Trying </span><span style=\"color: #008080; text-decoration-color: #008080; font-weight: bold; text-decoration: underline\">https://github.com/4ian/GDevelop/tree/master/ExtLibs</span>\n",
       "</pre>\n"
      ],
      "text/plain": [
       "\u001b[1;36m[\u001b[0m\u001b[1;36m+\u001b[0m\u001b[1;36m]\u001b[0m\u001b[1;36m Trying \u001b[0m\u001b[1;4;36mhttps://github.com/4ian/GDevelop/tree/master/ExtLibs\u001b[0m\n"
      ]
     },
     "metadata": {},
     "output_type": "display_data"
    },
    {
     "data": {
      "text/html": [
       "<pre style=\"white-space:pre;overflow-x:auto;line-height:normal;font-family:Menlo,'DejaVu Sans Mono',consolas,'Courier New',monospace\"><span style=\"color: #008080; text-decoration-color: #008080; font-weight: bold\">[+] Trying </span><span style=\"color: #008080; text-decoration-color: #008080; font-weight: bold; text-decoration: underline\">https://github.com/4ian/GDevelop/tree/master/Extensions</span>\n",
       "</pre>\n"
      ],
      "text/plain": [
       "\u001b[1;36m[\u001b[0m\u001b[1;36m+\u001b[0m\u001b[1;36m]\u001b[0m\u001b[1;36m Trying \u001b[0m\u001b[1;4;36mhttps://github.com/4ian/GDevelop/tree/master/Extensions\u001b[0m\n"
      ]
     },
     "metadata": {},
     "output_type": "display_data"
    },
    {
     "data": {
      "text/html": [
       "<pre style=\"white-space:pre;overflow-x:auto;line-height:normal;font-family:Menlo,'DejaVu Sans Mono',consolas,'Courier New',monospace\"><span style=\"color: #008080; text-decoration-color: #008080; font-weight: bold\">[+] Trying </span><span style=\"color: #008080; text-decoration-color: #008080; font-weight: bold; text-decoration: underline\">https://github.com/4ian/GDevelop/tree/master/GDJS</span>\n",
       "</pre>\n"
      ],
      "text/plain": [
       "\u001b[1;36m[\u001b[0m\u001b[1;36m+\u001b[0m\u001b[1;36m]\u001b[0m\u001b[1;36m Trying \u001b[0m\u001b[1;4;36mhttps://github.com/4ian/GDevelop/tree/master/GDJS\u001b[0m\n"
      ]
     },
     "metadata": {},
     "output_type": "display_data"
    },
    {
     "data": {
      "text/html": [
       "<pre style=\"white-space:pre;overflow-x:auto;line-height:normal;font-family:Menlo,'DejaVu Sans Mono',consolas,'Courier New',monospace\"><span style=\"color: #008080; text-decoration-color: #008080; font-weight: bold\">[+] Trying </span><span style=\"color: #008080; text-decoration-color: #008080; font-weight: bold; text-decoration: underline\">https://github.com/4ian/GDevelop/tree/master/GDevelop.js</span>\n",
       "</pre>\n"
      ],
      "text/plain": [
       "\u001b[1;36m[\u001b[0m\u001b[1;36m+\u001b[0m\u001b[1;36m]\u001b[0m\u001b[1;36m Trying \u001b[0m\u001b[1;4;36mhttps://github.com/4ian/GDevelop/tree/master/GDevelop.js\u001b[0m\n"
      ]
     },
     "metadata": {},
     "output_type": "display_data"
    },
    {
     "data": {
      "text/html": [
       "<pre style=\"white-space:pre;overflow-x:auto;line-height:normal;font-family:Menlo,'DejaVu Sans Mono',consolas,'Courier New',monospace\"><span style=\"color: #008080; text-decoration-color: #008080; font-weight: bold\">[+] Trying </span><span style=\"color: #008080; text-decoration-color: #008080; font-weight: bold; text-decoration: underline\">https://github.com/4ian/GDevelop/tree/master/SharedLibs</span>\n",
       "</pre>\n"
      ],
      "text/plain": [
       "\u001b[1;36m[\u001b[0m\u001b[1;36m+\u001b[0m\u001b[1;36m]\u001b[0m\u001b[1;36m Trying \u001b[0m\u001b[1;4;36mhttps://github.com/4ian/GDevelop/tree/master/SharedLibs\u001b[0m\n"
      ]
     },
     "metadata": {},
     "output_type": "display_data"
    },
    {
     "data": {
      "text/html": [
       "<pre style=\"white-space:pre;overflow-x:auto;line-height:normal;font-family:Menlo,'DejaVu Sans Mono',consolas,'Courier New',monospace\"><span style=\"color: #008080; text-decoration-color: #008080; font-weight: bold\">[+] Trying </span><span style=\"color: #008080; text-decoration-color: #008080; font-weight: bold; text-decoration: underline\">https://github.com/4ian/GDevelop/tree/master/newIDE</span>\n",
       "</pre>\n"
      ],
      "text/plain": [
       "\u001b[1;36m[\u001b[0m\u001b[1;36m+\u001b[0m\u001b[1;36m]\u001b[0m\u001b[1;36m Trying \u001b[0m\u001b[1;4;36mhttps://github.com/4ian/GDevelop/tree/master/newIDE\u001b[0m\n"
      ]
     },
     "metadata": {},
     "output_type": "display_data"
    },
    {
     "data": {
      "text/html": [
       "<pre style=\"white-space:pre;overflow-x:auto;line-height:normal;font-family:Menlo,'DejaVu Sans Mono',consolas,'Courier New',monospace\"><span style=\"color: #008080; text-decoration-color: #008080; font-weight: bold\">[+] Trying </span><span style=\"color: #008080; text-decoration-color: #008080; font-weight: bold; text-decoration: underline\">https://github.com/4ian/GDevelop/tree/master/scripts</span>\n",
       "</pre>\n"
      ],
      "text/plain": [
       "\u001b[1;36m[\u001b[0m\u001b[1;36m+\u001b[0m\u001b[1;36m]\u001b[0m\u001b[1;36m Trying \u001b[0m\u001b[1;4;36mhttps://github.com/4ian/GDevelop/tree/master/scripts\u001b[0m\n"
      ]
     },
     "metadata": {},
     "output_type": "display_data"
    },
    {
     "data": {
      "text/html": [
       "<pre style=\"white-space:pre;overflow-x:auto;line-height:normal;font-family:Menlo,'DejaVu Sans Mono',consolas,'Courier New',monospace\"><span style=\"color: #800000; text-decoration-color: #800000; font-weight: bold\">[💀] Could not find package.json in first-level-subdirs</span>\n",
       "</pre>\n"
      ],
      "text/plain": [
       "\u001b[1;31m[\u001b[0m\u001b[1;31m💀\u001b[0m\u001b[1;31m]\u001b[0m\u001b[1;31m Could not find package.json in first-level-subdirs\u001b[0m\n"
      ]
     },
     "metadata": {},
     "output_type": "display_data"
    },
    {
     "data": {
      "text/html": [
       "<pre style=\"white-space:pre;overflow-x:auto;line-height:normal;font-family:Menlo,'DejaVu Sans Mono',consolas,'Courier New',monospace\"><span style=\"color: #008080; text-decoration-color: #008080; font-weight: bold\">[+] Getting repo: </span><span style=\"color: #008080; text-decoration-color: #008080; font-weight: bold; text-decoration: underline\">https://github.com/virejdasani/Geniemoji</span>\n",
       "</pre>\n"
      ],
      "text/plain": [
       "\u001b[1;36m[\u001b[0m\u001b[1;36m+\u001b[0m\u001b[1;36m]\u001b[0m\u001b[1;36m Getting repo: \u001b[0m\u001b[1;4;36mhttps://github.com/virejdasani/Geniemoji\u001b[0m\n"
      ]
     },
     "metadata": {},
     "output_type": "display_data"
    },
    {
     "data": {
      "text/html": [
       "<pre style=\"white-space:pre;overflow-x:auto;line-height:normal;font-family:Menlo,'DejaVu Sans Mono',consolas,'Courier New',monospace\"><span style=\"color: #008080; text-decoration-color: #008080; font-weight: bold\">[+] Successfully retrieved repo: </span><span style=\"color: #008080; text-decoration-color: #008080; font-weight: bold; text-decoration: underline\">https://github.com/virejdasani/Geniemoji</span>\n",
       "</pre>\n"
      ],
      "text/plain": [
       "\u001b[1;36m[\u001b[0m\u001b[1;36m+\u001b[0m\u001b[1;36m]\u001b[0m\u001b[1;36m Successfully retrieved repo: \u001b[0m\u001b[1;4;36mhttps://github.com/virejdasani/Geniemoji\u001b[0m\n"
      ]
     },
     "metadata": {},
     "output_type": "display_data"
    },
    {
     "data": {
      "text/html": [
       "<pre style=\"white-space:pre;overflow-x:auto;line-height:normal;font-family:Menlo,'DejaVu Sans Mono',consolas,'Courier New',monospace\"><span style=\"color: #ff5f00; text-decoration-color: #ff5f00; font-weight: bold\">[!] Package.json not found at root; trying directories</span>\n",
       "</pre>\n"
      ],
      "text/plain": [
       "\u001b[1;38;5;202m[\u001b[0m\u001b[1;38;5;202m!\u001b[0m\u001b[1;38;5;202m]\u001b[0m\u001b[1;38;5;202m Package.json not found at root; trying directories\u001b[0m\n"
      ]
     },
     "metadata": {},
     "output_type": "display_data"
    },
    {
     "data": {
      "text/html": [
       "<pre style=\"white-space:pre;overflow-x:auto;line-height:normal;font-family:Menlo,'DejaVu Sans Mono',consolas,'Courier New',monospace\"><span style=\"color: #008080; text-decoration-color: #008080; font-weight: bold\">[+] Trying </span><span style=\"color: #008080; text-decoration-color: #008080; font-weight: bold; text-decoration: underline\">https://github.com/virejdasani/Geniemoji/tree/master/app</span>\n",
       "</pre>\n"
      ],
      "text/plain": [
       "\u001b[1;36m[\u001b[0m\u001b[1;36m+\u001b[0m\u001b[1;36m]\u001b[0m\u001b[1;36m Trying \u001b[0m\u001b[1;4;36mhttps://github.com/virejdasani/Geniemoji/tree/master/app\u001b[0m\n"
      ]
     },
     "metadata": {},
     "output_type": "display_data"
    },
    {
     "data": {
      "text/html": [
       "<pre style=\"white-space:pre;overflow-x:auto;line-height:normal;font-family:Menlo,'DejaVu Sans Mono',consolas,'Courier New',monospace\"><span style=\"color: #008080; text-decoration-color: #008080; font-weight: bold\">[+] Trying </span><span style=\"color: #008080; text-decoration-color: #008080; font-weight: bold; text-decoration: underline\">https://github.com/virejdasani/Geniemoji/tree/master/assets</span>\n",
       "</pre>\n"
      ],
      "text/plain": [
       "\u001b[1;36m[\u001b[0m\u001b[1;36m+\u001b[0m\u001b[1;36m]\u001b[0m\u001b[1;36m Trying \u001b[0m\u001b[1;4;36mhttps://github.com/virejdasani/Geniemoji/tree/master/assets\u001b[0m\n"
      ]
     },
     "metadata": {},
     "output_type": "display_data"
    },
    {
     "data": {
      "text/html": [
       "<pre style=\"white-space:pre;overflow-x:auto;line-height:normal;font-family:Menlo,'DejaVu Sans Mono',consolas,'Courier New',monospace\"><span style=\"color: #008080; text-decoration-color: #008080; font-weight: bold\">[+] Trying </span><span style=\"color: #008080; text-decoration-color: #008080; font-weight: bold; text-decoration: underline\">https://github.com/virejdasani/Geniemoji/tree/master/builds</span>\n",
       "</pre>\n"
      ],
      "text/plain": [
       "\u001b[1;36m[\u001b[0m\u001b[1;36m+\u001b[0m\u001b[1;36m]\u001b[0m\u001b[1;36m Trying \u001b[0m\u001b[1;4;36mhttps://github.com/virejdasani/Geniemoji/tree/master/builds\u001b[0m\n"
      ]
     },
     "metadata": {},
     "output_type": "display_data"
    },
    {
     "data": {
      "text/html": [
       "<pre style=\"white-space:pre;overflow-x:auto;line-height:normal;font-family:Menlo,'DejaVu Sans Mono',consolas,'Courier New',monospace\"><span style=\"color: #008080; text-decoration-color: #008080; font-weight: bold\">[+] Trying </span><span style=\"color: #008080; text-decoration-color: #008080; font-weight: bold; text-decoration: underline\">https://github.com/virejdasani/Geniemoji/tree/master/docs</span>\n",
       "</pre>\n"
      ],
      "text/plain": [
       "\u001b[1;36m[\u001b[0m\u001b[1;36m+\u001b[0m\u001b[1;36m]\u001b[0m\u001b[1;36m Trying \u001b[0m\u001b[1;4;36mhttps://github.com/virejdasani/Geniemoji/tree/master/docs\u001b[0m\n"
      ]
     },
     "metadata": {},
     "output_type": "display_data"
    },
    {
     "data": {
      "text/html": [
       "<pre style=\"white-space:pre;overflow-x:auto;line-height:normal;font-family:Menlo,'DejaVu Sans Mono',consolas,'Courier New',monospace\"><span style=\"color: #800000; text-decoration-color: #800000; font-weight: bold\">[💀] Could not find package.json in first-level-subdirs</span>\n",
       "</pre>\n"
      ],
      "text/plain": [
       "\u001b[1;31m[\u001b[0m\u001b[1;31m💀\u001b[0m\u001b[1;31m]\u001b[0m\u001b[1;31m Could not find package.json in first-level-subdirs\u001b[0m\n"
      ]
     },
     "metadata": {},
     "output_type": "display_data"
    },
    {
     "data": {
      "text/html": [
       "<pre style=\"white-space:pre;overflow-x:auto;line-height:normal;font-family:Menlo,'DejaVu Sans Mono',consolas,'Courier New',monospace\"><span style=\"color: #008080; text-decoration-color: #008080; font-weight: bold\">[+] Getting repo: </span><span style=\"color: #008080; text-decoration-color: #008080; font-weight: bold; text-decoration: underline\">https://github.com/desktop/desktop</span>\n",
       "</pre>\n"
      ],
      "text/plain": [
       "\u001b[1;36m[\u001b[0m\u001b[1;36m+\u001b[0m\u001b[1;36m]\u001b[0m\u001b[1;36m Getting repo: \u001b[0m\u001b[1;4;36mhttps://github.com/desktop/desktop\u001b[0m\n"
      ]
     },
     "metadata": {},
     "output_type": "display_data"
    },
    {
     "data": {
      "text/html": [
       "<pre style=\"white-space:pre;overflow-x:auto;line-height:normal;font-family:Menlo,'DejaVu Sans Mono',consolas,'Courier New',monospace\"><span style=\"color: #008080; text-decoration-color: #008080; font-weight: bold\">[+] Successfully retrieved repo: </span><span style=\"color: #008080; text-decoration-color: #008080; font-weight: bold; text-decoration: underline\">https://github.com/desktop/desktop</span>\n",
       "</pre>\n"
      ],
      "text/plain": [
       "\u001b[1;36m[\u001b[0m\u001b[1;36m+\u001b[0m\u001b[1;36m]\u001b[0m\u001b[1;36m Successfully retrieved repo: \u001b[0m\u001b[1;4;36mhttps://github.com/desktop/desktop\u001b[0m\n"
      ]
     },
     "metadata": {},
     "output_type": "display_data"
    },
    {
     "data": {
      "text/html": [
       "<pre style=\"white-space:pre;overflow-x:auto;line-height:normal;font-family:Menlo,'DejaVu Sans Mono',consolas,'Courier New',monospace\"><span style=\"color: #008080; text-decoration-color: #008080; font-weight: bold\">[+] Found package.json at /</span>\n",
       "</pre>\n"
      ],
      "text/plain": [
       "\u001b[1;36m[\u001b[0m\u001b[1;36m+\u001b[0m\u001b[1;36m]\u001b[0m\u001b[1;36m Found package.json at \u001b[0m\u001b[1;36m/\u001b[0m\n"
      ]
     },
     "metadata": {},
     "output_type": "display_data"
    },
    {
     "data": {
      "text/html": [
       "<pre style=\"white-space:pre;overflow-x:auto;line-height:normal;font-family:Menlo,'DejaVu Sans Mono',consolas,'Courier New',monospace\"><span style=\"color: #008080; text-decoration-color: #008080; font-weight: bold\">[+] Getting </span><span style=\"color: #008080; text-decoration-color: #008080; font-weight: bold; text-decoration: underline\">https://github.com/desktop/desktop/blob/development/package.json</span>\n",
       "</pre>\n"
      ],
      "text/plain": [
       "\u001b[1;36m[\u001b[0m\u001b[1;36m+\u001b[0m\u001b[1;36m]\u001b[0m\u001b[1;36m Getting \u001b[0m\u001b[1;4;36mhttps://github.com/desktop/desktop/blob/development/package.json\u001b[0m\n"
      ]
     },
     "metadata": {},
     "output_type": "display_data"
    },
    {
     "data": {
      "text/html": [
       "<pre style=\"white-space:pre;overflow-x:auto;line-height:normal;font-family:Menlo,'DejaVu Sans Mono',consolas,'Courier New',monospace\"><span style=\"color: #008080; text-decoration-color: #008080; font-weight: bold\">[+] Getting repo: </span><span style=\"color: #008080; text-decoration-color: #008080; font-weight: bold; text-decoration: underline\">https://github.com/manosim/gitify</span>\n",
       "</pre>\n"
      ],
      "text/plain": [
       "\u001b[1;36m[\u001b[0m\u001b[1;36m+\u001b[0m\u001b[1;36m]\u001b[0m\u001b[1;36m Getting repo: \u001b[0m\u001b[1;4;36mhttps://github.com/manosim/gitify\u001b[0m\n"
      ]
     },
     "metadata": {},
     "output_type": "display_data"
    },
    {
     "data": {
      "text/html": [
       "<pre style=\"white-space:pre;overflow-x:auto;line-height:normal;font-family:Menlo,'DejaVu Sans Mono',consolas,'Courier New',monospace\"><span style=\"color: #008080; text-decoration-color: #008080; font-weight: bold\">[+] Successfully retrieved repo: </span><span style=\"color: #008080; text-decoration-color: #008080; font-weight: bold; text-decoration: underline\">https://github.com/manosim/gitify</span>\n",
       "</pre>\n"
      ],
      "text/plain": [
       "\u001b[1;36m[\u001b[0m\u001b[1;36m+\u001b[0m\u001b[1;36m]\u001b[0m\u001b[1;36m Successfully retrieved repo: \u001b[0m\u001b[1;4;36mhttps://github.com/manosim/gitify\u001b[0m\n"
      ]
     },
     "metadata": {},
     "output_type": "display_data"
    },
    {
     "data": {
      "text/html": [
       "<pre style=\"white-space:pre;overflow-x:auto;line-height:normal;font-family:Menlo,'DejaVu Sans Mono',consolas,'Courier New',monospace\"><span style=\"color: #008080; text-decoration-color: #008080; font-weight: bold\">[+] Found package.json at /</span>\n",
       "</pre>\n"
      ],
      "text/plain": [
       "\u001b[1;36m[\u001b[0m\u001b[1;36m+\u001b[0m\u001b[1;36m]\u001b[0m\u001b[1;36m Found package.json at \u001b[0m\u001b[1;36m/\u001b[0m\n"
      ]
     },
     "metadata": {},
     "output_type": "display_data"
    },
    {
     "data": {
      "text/html": [
       "<pre style=\"white-space:pre;overflow-x:auto;line-height:normal;font-family:Menlo,'DejaVu Sans Mono',consolas,'Courier New',monospace\"><span style=\"color: #008080; text-decoration-color: #008080; font-weight: bold\">[+] Getting </span><span style=\"color: #008080; text-decoration-color: #008080; font-weight: bold; text-decoration: underline\">https://github.com/gitify-app/gitify/blob/main/package.json</span>\n",
       "</pre>\n"
      ],
      "text/plain": [
       "\u001b[1;36m[\u001b[0m\u001b[1;36m+\u001b[0m\u001b[1;36m]\u001b[0m\u001b[1;36m Getting \u001b[0m\u001b[1;4;36mhttps://github.com/gitify-app/gitify/blob/main/package.json\u001b[0m\n"
      ]
     },
     "metadata": {},
     "output_type": "display_data"
    },
    {
     "data": {
      "text/html": [
       "<pre style=\"white-space:pre;overflow-x:auto;line-height:normal;font-family:Menlo,'DejaVu Sans Mono',consolas,'Courier New',monospace\"><span style=\"color: #008080; text-decoration-color: #008080; font-weight: bold\">[+] Getting repo: </span><span style=\"color: #008080; text-decoration-color: #008080; font-weight: bold; text-decoration: underline\">https://github.com/Graviton-Code-Editor/Graviton-App</span>\n",
       "</pre>\n"
      ],
      "text/plain": [
       "\u001b[1;36m[\u001b[0m\u001b[1;36m+\u001b[0m\u001b[1;36m]\u001b[0m\u001b[1;36m Getting repo: \u001b[0m\u001b[1;4;36mhttps://github.com/Graviton-Code-Editor/Graviton-App\u001b[0m\n"
      ]
     },
     "metadata": {},
     "output_type": "display_data"
    },
    {
     "data": {
      "text/html": [
       "<pre style=\"white-space:pre;overflow-x:auto;line-height:normal;font-family:Menlo,'DejaVu Sans Mono',consolas,'Courier New',monospace\"><span style=\"color: #008080; text-decoration-color: #008080; font-weight: bold\">[+] Successfully retrieved repo: </span><span style=\"color: #008080; text-decoration-color: #008080; font-weight: bold; text-decoration: underline\">https://github.com/Graviton-Code-Editor/Graviton-App</span>\n",
       "</pre>\n"
      ],
      "text/plain": [
       "\u001b[1;36m[\u001b[0m\u001b[1;36m+\u001b[0m\u001b[1;36m]\u001b[0m\u001b[1;36m Successfully retrieved repo: \u001b[0m\u001b[1;4;36mhttps://github.com/Graviton-Code-Editor/Graviton-App\u001b[0m\n"
      ]
     },
     "metadata": {},
     "output_type": "display_data"
    },
    {
     "data": {
      "text/html": [
       "<pre style=\"white-space:pre;overflow-x:auto;line-height:normal;font-family:Menlo,'DejaVu Sans Mono',consolas,'Courier New',monospace\"><span style=\"color: #008080; text-decoration-color: #008080; font-weight: bold\">[+] Found package.json at /</span>\n",
       "</pre>\n"
      ],
      "text/plain": [
       "\u001b[1;36m[\u001b[0m\u001b[1;36m+\u001b[0m\u001b[1;36m]\u001b[0m\u001b[1;36m Found package.json at \u001b[0m\u001b[1;36m/\u001b[0m\n"
      ]
     },
     "metadata": {},
     "output_type": "display_data"
    },
    {
     "data": {
      "text/html": [
       "<pre style=\"white-space:pre;overflow-x:auto;line-height:normal;font-family:Menlo,'DejaVu Sans Mono',consolas,'Courier New',monospace\"><span style=\"color: #008080; text-decoration-color: #008080; font-weight: bold\">[+] Getting </span><span style=\"color: #008080; text-decoration-color: #008080; font-weight: bold; text-decoration: underline\">https://github.com/Graviton-Code-Editor/Graviton-App/blob/main/package.json</span>\n",
       "</pre>\n"
      ],
      "text/plain": [
       "\u001b[1;36m[\u001b[0m\u001b[1;36m+\u001b[0m\u001b[1;36m]\u001b[0m\u001b[1;36m Getting \u001b[0m\u001b[1;4;36mhttps://github.com/Graviton-Code-Editor/Graviton-App/blob/main/package.json\u001b[0m\n"
      ]
     },
     "metadata": {},
     "output_type": "display_data"
    },
    {
     "data": {
      "text/html": [
       "<pre style=\"white-space:pre;overflow-x:auto;line-height:normal;font-family:Menlo,'DejaVu Sans Mono',consolas,'Courier New',monospace\"><span style=\"color: #008080; text-decoration-color: #008080; font-weight: bold\">[+] Getting repo: </span><span style=\"color: #008080; text-decoration-color: #008080; font-weight: bold; text-decoration: underline\">https://github.com/sanjevirau/gsubs/</span>\n",
       "</pre>\n"
      ],
      "text/plain": [
       "\u001b[1;36m[\u001b[0m\u001b[1;36m+\u001b[0m\u001b[1;36m]\u001b[0m\u001b[1;36m Getting repo: \u001b[0m\u001b[1;4;36mhttps://github.com/sanjevirau/gsubs/\u001b[0m\n"
      ]
     },
     "metadata": {},
     "output_type": "display_data"
    },
    {
     "data": {
      "text/html": [
       "<pre style=\"white-space:pre;overflow-x:auto;line-height:normal;font-family:Menlo,'DejaVu Sans Mono',consolas,'Courier New',monospace\"><span style=\"color: #008080; text-decoration-color: #008080; font-weight: bold\">[+] Successfully retrieved repo: </span><span style=\"color: #008080; text-decoration-color: #008080; font-weight: bold; text-decoration: underline\">https://github.com/sanjevirau/gsubs/</span>\n",
       "</pre>\n"
      ],
      "text/plain": [
       "\u001b[1;36m[\u001b[0m\u001b[1;36m+\u001b[0m\u001b[1;36m]\u001b[0m\u001b[1;36m Successfully retrieved repo: \u001b[0m\u001b[1;4;36mhttps://github.com/sanjevirau/gsubs/\u001b[0m\n"
      ]
     },
     "metadata": {},
     "output_type": "display_data"
    },
    {
     "data": {
      "text/html": [
       "<pre style=\"white-space:pre;overflow-x:auto;line-height:normal;font-family:Menlo,'DejaVu Sans Mono',consolas,'Courier New',monospace\"><span style=\"color: #008080; text-decoration-color: #008080; font-weight: bold\">[+] Found package.json at /</span>\n",
       "</pre>\n"
      ],
      "text/plain": [
       "\u001b[1;36m[\u001b[0m\u001b[1;36m+\u001b[0m\u001b[1;36m]\u001b[0m\u001b[1;36m Found package.json at \u001b[0m\u001b[1;36m/\u001b[0m\n"
      ]
     },
     "metadata": {},
     "output_type": "display_data"
    },
    {
     "data": {
      "text/html": [
       "<pre style=\"white-space:pre;overflow-x:auto;line-height:normal;font-family:Menlo,'DejaVu Sans Mono',consolas,'Courier New',monospace\"><span style=\"color: #008080; text-decoration-color: #008080; font-weight: bold\">[+] Getting </span><span style=\"color: #008080; text-decoration-color: #008080; font-weight: bold; text-decoration: underline\">https://github.com/sanjevirau/gsubs/blob/master/package.json</span>\n",
       "</pre>\n"
      ],
      "text/plain": [
       "\u001b[1;36m[\u001b[0m\u001b[1;36m+\u001b[0m\u001b[1;36m]\u001b[0m\u001b[1;36m Getting \u001b[0m\u001b[1;4;36mhttps://github.com/sanjevirau/gsubs/blob/master/package.json\u001b[0m\n"
      ]
     },
     "metadata": {},
     "output_type": "display_data"
    },
    {
     "data": {
      "text/html": [
       "<pre style=\"white-space:pre;overflow-x:auto;line-height:normal;font-family:Menlo,'DejaVu Sans Mono',consolas,'Courier New',monospace\"><span style=\"color: #008080; text-decoration-color: #008080; font-weight: bold\">[+] Getting repo: </span><span style=\"color: #008080; text-decoration-color: #008080; font-weight: bold; text-decoration: underline\">https://github.com/SmartHoldemDAPPs/heads-tails</span>\n",
       "</pre>\n"
      ],
      "text/plain": [
       "\u001b[1;36m[\u001b[0m\u001b[1;36m+\u001b[0m\u001b[1;36m]\u001b[0m\u001b[1;36m Getting repo: \u001b[0m\u001b[1;4;36mhttps://github.com/SmartHoldemDAPPs/heads-tails\u001b[0m\n"
      ]
     },
     "metadata": {},
     "output_type": "display_data"
    },
    {
     "data": {
      "text/html": [
       "<pre style=\"white-space:pre;overflow-x:auto;line-height:normal;font-family:Menlo,'DejaVu Sans Mono',consolas,'Courier New',monospace\"><span style=\"color: #008080; text-decoration-color: #008080; font-weight: bold\">[+] Successfully retrieved repo: </span><span style=\"color: #008080; text-decoration-color: #008080; font-weight: bold; text-decoration: underline\">https://github.com/SmartHoldemDAPPs/heads-tails</span>\n",
       "</pre>\n"
      ],
      "text/plain": [
       "\u001b[1;36m[\u001b[0m\u001b[1;36m+\u001b[0m\u001b[1;36m]\u001b[0m\u001b[1;36m Successfully retrieved repo: \u001b[0m\u001b[1;4;36mhttps://github.com/SmartHoldemDAPPs/heads-tails\u001b[0m\n"
      ]
     },
     "metadata": {},
     "output_type": "display_data"
    },
    {
     "data": {
      "text/html": [
       "<pre style=\"white-space:pre;overflow-x:auto;line-height:normal;font-family:Menlo,'DejaVu Sans Mono',consolas,'Courier New',monospace\"><span style=\"color: #ff5f00; text-decoration-color: #ff5f00; font-weight: bold\">[!] Package.json not found at root; trying directories</span>\n",
       "</pre>\n"
      ],
      "text/plain": [
       "\u001b[1;38;5;202m[\u001b[0m\u001b[1;38;5;202m!\u001b[0m\u001b[1;38;5;202m]\u001b[0m\u001b[1;38;5;202m Package.json not found at root; trying directories\u001b[0m\n"
      ]
     },
     "metadata": {},
     "output_type": "display_data"
    },
    {
     "data": {
      "text/html": [
       "<pre style=\"white-space:pre;overflow-x:auto;line-height:normal;font-family:Menlo,'DejaVu Sans Mono',consolas,'Courier New',monospace\"><span style=\"color: #800000; text-decoration-color: #800000; font-weight: bold\">[💀] Could not find package.json in first-level-subdirs</span>\n",
       "</pre>\n"
      ],
      "text/plain": [
       "\u001b[1;31m[\u001b[0m\u001b[1;31m💀\u001b[0m\u001b[1;31m]\u001b[0m\u001b[1;31m Could not find package.json in first-level-subdirs\u001b[0m\n"
      ]
     },
     "metadata": {},
     "output_type": "display_data"
    },
    {
     "data": {
      "text/html": [
       "<pre style=\"white-space:pre;overflow-x:auto;line-height:normal;font-family:Menlo,'DejaVu Sans Mono',consolas,'Courier New',monospace\"><span style=\"color: #008080; text-decoration-color: #008080; font-weight: bold\">[+] Getting repo: </span><span style=\"color: #008080; text-decoration-color: #008080; font-weight: bold; text-decoration: underline\">https://github.com/pablopunk/healthi-app</span>\n",
       "</pre>\n"
      ],
      "text/plain": [
       "\u001b[1;36m[\u001b[0m\u001b[1;36m+\u001b[0m\u001b[1;36m]\u001b[0m\u001b[1;36m Getting repo: \u001b[0m\u001b[1;4;36mhttps://github.com/pablopunk/healthi-app\u001b[0m\n"
      ]
     },
     "metadata": {},
     "output_type": "display_data"
    },
    {
     "data": {
      "text/html": [
       "<pre style=\"white-space:pre;overflow-x:auto;line-height:normal;font-family:Menlo,'DejaVu Sans Mono',consolas,'Courier New',monospace\"><span style=\"color: #008080; text-decoration-color: #008080; font-weight: bold\">[+] Successfully retrieved repo: </span><span style=\"color: #008080; text-decoration-color: #008080; font-weight: bold; text-decoration: underline\">https://github.com/pablopunk/healthi-app</span>\n",
       "</pre>\n"
      ],
      "text/plain": [
       "\u001b[1;36m[\u001b[0m\u001b[1;36m+\u001b[0m\u001b[1;36m]\u001b[0m\u001b[1;36m Successfully retrieved repo: \u001b[0m\u001b[1;4;36mhttps://github.com/pablopunk/healthi-app\u001b[0m\n"
      ]
     },
     "metadata": {},
     "output_type": "display_data"
    },
    {
     "data": {
      "text/html": [
       "<pre style=\"white-space:pre;overflow-x:auto;line-height:normal;font-family:Menlo,'DejaVu Sans Mono',consolas,'Courier New',monospace\"><span style=\"color: #008080; text-decoration-color: #008080; font-weight: bold\">[+] Found package.json at /</span>\n",
       "</pre>\n"
      ],
      "text/plain": [
       "\u001b[1;36m[\u001b[0m\u001b[1;36m+\u001b[0m\u001b[1;36m]\u001b[0m\u001b[1;36m Found package.json at \u001b[0m\u001b[1;36m/\u001b[0m\n"
      ]
     },
     "metadata": {},
     "output_type": "display_data"
    },
    {
     "data": {
      "text/html": [
       "<pre style=\"white-space:pre;overflow-x:auto;line-height:normal;font-family:Menlo,'DejaVu Sans Mono',consolas,'Courier New',monospace\"><span style=\"color: #008080; text-decoration-color: #008080; font-weight: bold\">[+] Getting </span><span style=\"color: #008080; text-decoration-color: #008080; font-weight: bold; text-decoration: underline\">https://github.com/pablopunk/healthi-app/blob/master/package.json</span>\n",
       "</pre>\n"
      ],
      "text/plain": [
       "\u001b[1;36m[\u001b[0m\u001b[1;36m+\u001b[0m\u001b[1;36m]\u001b[0m\u001b[1;36m Getting \u001b[0m\u001b[1;4;36mhttps://github.com/pablopunk/healthi-app/blob/master/package.json\u001b[0m\n"
      ]
     },
     "metadata": {},
     "output_type": "display_data"
    },
    {
     "data": {
      "text/html": [
       "<pre style=\"white-space:pre;overflow-x:auto;line-height:normal;font-family:Menlo,'DejaVu Sans Mono',consolas,'Courier New',monospace\"><span style=\"color: #008080; text-decoration-color: #008080; font-weight: bold\">[+] Getting repo: </span><span style=\"color: #008080; text-decoration-color: #008080; font-weight: bold; text-decoration: underline\">https://github.com/gaoyoubo/hexo-client</span>\n",
       "</pre>\n"
      ],
      "text/plain": [
       "\u001b[1;36m[\u001b[0m\u001b[1;36m+\u001b[0m\u001b[1;36m]\u001b[0m\u001b[1;36m Getting repo: \u001b[0m\u001b[1;4;36mhttps://github.com/gaoyoubo/hexo-client\u001b[0m\n"
      ]
     },
     "metadata": {},
     "output_type": "display_data"
    },
    {
     "data": {
      "text/html": [
       "<pre style=\"white-space:pre;overflow-x:auto;line-height:normal;font-family:Menlo,'DejaVu Sans Mono',consolas,'Courier New',monospace\"><span style=\"color: #008080; text-decoration-color: #008080; font-weight: bold\">[+] Successfully retrieved repo: </span><span style=\"color: #008080; text-decoration-color: #008080; font-weight: bold; text-decoration: underline\">https://github.com/gaoyoubo/hexo-client</span>\n",
       "</pre>\n"
      ],
      "text/plain": [
       "\u001b[1;36m[\u001b[0m\u001b[1;36m+\u001b[0m\u001b[1;36m]\u001b[0m\u001b[1;36m Successfully retrieved repo: \u001b[0m\u001b[1;4;36mhttps://github.com/gaoyoubo/hexo-client\u001b[0m\n"
      ]
     },
     "metadata": {},
     "output_type": "display_data"
    },
    {
     "data": {
      "text/html": [
       "<pre style=\"white-space:pre;overflow-x:auto;line-height:normal;font-family:Menlo,'DejaVu Sans Mono',consolas,'Courier New',monospace\"><span style=\"color: #008080; text-decoration-color: #008080; font-weight: bold\">[+] Found package.json at /</span>\n",
       "</pre>\n"
      ],
      "text/plain": [
       "\u001b[1;36m[\u001b[0m\u001b[1;36m+\u001b[0m\u001b[1;36m]\u001b[0m\u001b[1;36m Found package.json at \u001b[0m\u001b[1;36m/\u001b[0m\n"
      ]
     },
     "metadata": {},
     "output_type": "display_data"
    },
    {
     "data": {
      "text/html": [
       "<pre style=\"white-space:pre;overflow-x:auto;line-height:normal;font-family:Menlo,'DejaVu Sans Mono',consolas,'Courier New',monospace\"><span style=\"color: #008080; text-decoration-color: #008080; font-weight: bold\">[+] Getting </span><span style=\"color: #008080; text-decoration-color: #008080; font-weight: bold; text-decoration: underline\">https://github.com/gaoyoubo/hexo-client/blob/master/package.json</span>\n",
       "</pre>\n"
      ],
      "text/plain": [
       "\u001b[1;36m[\u001b[0m\u001b[1;36m+\u001b[0m\u001b[1;36m]\u001b[0m\u001b[1;36m Getting \u001b[0m\u001b[1;4;36mhttps://github.com/gaoyoubo/hexo-client/blob/master/package.json\u001b[0m\n"
      ]
     },
     "metadata": {},
     "output_type": "display_data"
    },
    {
     "data": {
      "text/html": [
       "<pre style=\"white-space:pre;overflow-x:auto;line-height:normal;font-family:Menlo,'DejaVu Sans Mono',consolas,'Courier New',monospace\"><span style=\"color: #008080; text-decoration-color: #008080; font-weight: bold\">[+] Getting repo: </span><span style=\"color: #008080; text-decoration-color: #008080; font-weight: bold; text-decoration: underline\">https://github.com/httptoolkit</span>\n",
       "</pre>\n"
      ],
      "text/plain": [
       "\u001b[1;36m[\u001b[0m\u001b[1;36m+\u001b[0m\u001b[1;36m]\u001b[0m\u001b[1;36m Getting repo: \u001b[0m\u001b[1;4;36mhttps://github.com/httptoolkit\u001b[0m\n"
      ]
     },
     "metadata": {},
     "output_type": "display_data"
    },
    {
     "data": {
      "text/html": [
       "<pre style=\"white-space:pre;overflow-x:auto;line-height:normal;font-family:Menlo,'DejaVu Sans Mono',consolas,'Courier New',monospace\"><span style=\"color: #008080; text-decoration-color: #008080; font-weight: bold\">[+] Successfully retrieved repo: </span><span style=\"color: #008080; text-decoration-color: #008080; font-weight: bold; text-decoration: underline\">https://github.com/httptoolkit</span>\n",
       "</pre>\n"
      ],
      "text/plain": [
       "\u001b[1;36m[\u001b[0m\u001b[1;36m+\u001b[0m\u001b[1;36m]\u001b[0m\u001b[1;36m Successfully retrieved repo: \u001b[0m\u001b[1;4;36mhttps://github.com/httptoolkit\u001b[0m\n"
      ]
     },
     "metadata": {},
     "output_type": "display_data"
    },
    {
     "data": {
      "text/html": [
       "<pre style=\"white-space:pre;overflow-x:auto;line-height:normal;font-family:Menlo,'DejaVu Sans Mono',consolas,'Courier New',monospace\"><span style=\"color: #ff5f00; text-decoration-color: #ff5f00; font-weight: bold\">[!] Package.json not found at root; trying directories</span>\n",
       "</pre>\n"
      ],
      "text/plain": [
       "\u001b[1;38;5;202m[\u001b[0m\u001b[1;38;5;202m!\u001b[0m\u001b[1;38;5;202m]\u001b[0m\u001b[1;38;5;202m Package.json not found at root; trying directories\u001b[0m\n"
      ]
     },
     "metadata": {},
     "output_type": "display_data"
    },
    {
     "data": {
      "text/html": [
       "<pre style=\"white-space:pre;overflow-x:auto;line-height:normal;font-family:Menlo,'DejaVu Sans Mono',consolas,'Courier New',monospace\"><span style=\"color: #800000; text-decoration-color: #800000; font-weight: bold\">[💀] Could not find package.json in first-level-subdirs</span>\n",
       "</pre>\n"
      ],
      "text/plain": [
       "\u001b[1;31m[\u001b[0m\u001b[1;31m💀\u001b[0m\u001b[1;31m]\u001b[0m\u001b[1;31m Could not find package.json in first-level-subdirs\u001b[0m\n"
      ]
     },
     "metadata": {},
     "output_type": "display_data"
    },
    {
     "data": {
      "text/html": [
       "<pre style=\"white-space:pre;overflow-x:auto;line-height:normal;font-family:Menlo,'DejaVu Sans Mono',consolas,'Courier New',monospace\"><span style=\"color: #008080; text-decoration-color: #008080; font-weight: bold\">[+] Getting repo: </span><span style=\"color: #008080; text-decoration-color: #008080; font-weight: bold; text-decoration: underline\">https://github.com/vercel/hyper</span>\n",
       "</pre>\n"
      ],
      "text/plain": [
       "\u001b[1;36m[\u001b[0m\u001b[1;36m+\u001b[0m\u001b[1;36m]\u001b[0m\u001b[1;36m Getting repo: \u001b[0m\u001b[1;4;36mhttps://github.com/vercel/hyper\u001b[0m\n"
      ]
     },
     "metadata": {},
     "output_type": "display_data"
    },
    {
     "data": {
      "text/html": [
       "<pre style=\"white-space:pre;overflow-x:auto;line-height:normal;font-family:Menlo,'DejaVu Sans Mono',consolas,'Courier New',monospace\"><span style=\"color: #008080; text-decoration-color: #008080; font-weight: bold\">[+] Successfully retrieved repo: </span><span style=\"color: #008080; text-decoration-color: #008080; font-weight: bold; text-decoration: underline\">https://github.com/vercel/hyper</span>\n",
       "</pre>\n"
      ],
      "text/plain": [
       "\u001b[1;36m[\u001b[0m\u001b[1;36m+\u001b[0m\u001b[1;36m]\u001b[0m\u001b[1;36m Successfully retrieved repo: \u001b[0m\u001b[1;4;36mhttps://github.com/vercel/hyper\u001b[0m\n"
      ]
     },
     "metadata": {},
     "output_type": "display_data"
    },
    {
     "data": {
      "text/html": [
       "<pre style=\"white-space:pre;overflow-x:auto;line-height:normal;font-family:Menlo,'DejaVu Sans Mono',consolas,'Courier New',monospace\"><span style=\"color: #008080; text-decoration-color: #008080; font-weight: bold\">[+] Found package.json at /</span>\n",
       "</pre>\n"
      ],
      "text/plain": [
       "\u001b[1;36m[\u001b[0m\u001b[1;36m+\u001b[0m\u001b[1;36m]\u001b[0m\u001b[1;36m Found package.json at \u001b[0m\u001b[1;36m/\u001b[0m\n"
      ]
     },
     "metadata": {},
     "output_type": "display_data"
    },
    {
     "data": {
      "text/html": [
       "<pre style=\"white-space:pre;overflow-x:auto;line-height:normal;font-family:Menlo,'DejaVu Sans Mono',consolas,'Courier New',monospace\"><span style=\"color: #008080; text-decoration-color: #008080; font-weight: bold\">[+] Getting </span><span style=\"color: #008080; text-decoration-color: #008080; font-weight: bold; text-decoration: underline\">https://github.com/vercel/hyper/blob/canary/package.json</span>\n",
       "</pre>\n"
      ],
      "text/plain": [
       "\u001b[1;36m[\u001b[0m\u001b[1;36m+\u001b[0m\u001b[1;36m]\u001b[0m\u001b[1;36m Getting \u001b[0m\u001b[1;4;36mhttps://github.com/vercel/hyper/blob/canary/package.json\u001b[0m\n"
      ]
     },
     "metadata": {},
     "output_type": "display_data"
    },
    {
     "data": {
      "text/html": [
       "<pre style=\"white-space:pre;overflow-x:auto;line-height:normal;font-family:Menlo,'DejaVu Sans Mono',consolas,'Courier New',monospace\"><span style=\"color: #008080; text-decoration-color: #008080; font-weight: bold\">[+] Getting repo: </span><span style=\"color: #008080; text-decoration-color: #008080; font-weight: bold; text-decoration: underline\">https://github.com/stefansl/image-shrinker</span>\n",
       "</pre>\n"
      ],
      "text/plain": [
       "\u001b[1;36m[\u001b[0m\u001b[1;36m+\u001b[0m\u001b[1;36m]\u001b[0m\u001b[1;36m Getting repo: \u001b[0m\u001b[1;4;36mhttps://github.com/stefansl/image-shrinker\u001b[0m\n"
      ]
     },
     "metadata": {},
     "output_type": "display_data"
    },
    {
     "data": {
      "text/html": [
       "<pre style=\"white-space:pre;overflow-x:auto;line-height:normal;font-family:Menlo,'DejaVu Sans Mono',consolas,'Courier New',monospace\"><span style=\"color: #008080; text-decoration-color: #008080; font-weight: bold\">[+] Successfully retrieved repo: </span><span style=\"color: #008080; text-decoration-color: #008080; font-weight: bold; text-decoration: underline\">https://github.com/stefansl/image-shrinker</span>\n",
       "</pre>\n"
      ],
      "text/plain": [
       "\u001b[1;36m[\u001b[0m\u001b[1;36m+\u001b[0m\u001b[1;36m]\u001b[0m\u001b[1;36m Successfully retrieved repo: \u001b[0m\u001b[1;4;36mhttps://github.com/stefansl/image-shrinker\u001b[0m\n"
      ]
     },
     "metadata": {},
     "output_type": "display_data"
    },
    {
     "data": {
      "text/html": [
       "<pre style=\"white-space:pre;overflow-x:auto;line-height:normal;font-family:Menlo,'DejaVu Sans Mono',consolas,'Courier New',monospace\"><span style=\"color: #008080; text-decoration-color: #008080; font-weight: bold\">[+] Found package.json at /</span>\n",
       "</pre>\n"
      ],
      "text/plain": [
       "\u001b[1;36m[\u001b[0m\u001b[1;36m+\u001b[0m\u001b[1;36m]\u001b[0m\u001b[1;36m Found package.json at \u001b[0m\u001b[1;36m/\u001b[0m\n"
      ]
     },
     "metadata": {},
     "output_type": "display_data"
    },
    {
     "data": {
      "text/html": [
       "<pre style=\"white-space:pre;overflow-x:auto;line-height:normal;font-family:Menlo,'DejaVu Sans Mono',consolas,'Courier New',monospace\"><span style=\"color: #008080; text-decoration-color: #008080; font-weight: bold\">[+] Getting </span><span style=\"color: #008080; text-decoration-color: #008080; font-weight: bold; text-decoration: underline\">https://github.com/stefansl/image-shrinker/blob/master/package.json</span>\n",
       "</pre>\n"
      ],
      "text/plain": [
       "\u001b[1;36m[\u001b[0m\u001b[1;36m+\u001b[0m\u001b[1;36m]\u001b[0m\u001b[1;36m Getting \u001b[0m\u001b[1;4;36mhttps://github.com/stefansl/image-shrinker/blob/master/package.json\u001b[0m\n"
      ]
     },
     "metadata": {},
     "output_type": "display_data"
    },
    {
     "data": {
      "text/html": [
       "<pre style=\"white-space:pre;overflow-x:auto;line-height:normal;font-family:Menlo,'DejaVu Sans Mono',consolas,'Courier New',monospace\"><span style=\"color: #008080; text-decoration-color: #008080; font-weight: bold\">[+] Getting repo: </span><span style=\"color: #008080; text-decoration-color: #008080; font-weight: bold; text-decoration: underline\">https://github.com/denysdovhan/inboxer</span>\n",
       "</pre>\n"
      ],
      "text/plain": [
       "\u001b[1;36m[\u001b[0m\u001b[1;36m+\u001b[0m\u001b[1;36m]\u001b[0m\u001b[1;36m Getting repo: \u001b[0m\u001b[1;4;36mhttps://github.com/denysdovhan/inboxer\u001b[0m\n"
      ]
     },
     "metadata": {},
     "output_type": "display_data"
    },
    {
     "data": {
      "text/html": [
       "<pre style=\"white-space:pre;overflow-x:auto;line-height:normal;font-family:Menlo,'DejaVu Sans Mono',consolas,'Courier New',monospace\"><span style=\"color: #008080; text-decoration-color: #008080; font-weight: bold\">[+] Successfully retrieved repo: </span><span style=\"color: #008080; text-decoration-color: #008080; font-weight: bold; text-decoration: underline\">https://github.com/denysdovhan/inboxer</span>\n",
       "</pre>\n"
      ],
      "text/plain": [
       "\u001b[1;36m[\u001b[0m\u001b[1;36m+\u001b[0m\u001b[1;36m]\u001b[0m\u001b[1;36m Successfully retrieved repo: \u001b[0m\u001b[1;4;36mhttps://github.com/denysdovhan/inboxer\u001b[0m\n"
      ]
     },
     "metadata": {},
     "output_type": "display_data"
    },
    {
     "data": {
      "text/html": [
       "<pre style=\"white-space:pre;overflow-x:auto;line-height:normal;font-family:Menlo,'DejaVu Sans Mono',consolas,'Courier New',monospace\"><span style=\"color: #008080; text-decoration-color: #008080; font-weight: bold\">[+] Found package.json at /</span>\n",
       "</pre>\n"
      ],
      "text/plain": [
       "\u001b[1;36m[\u001b[0m\u001b[1;36m+\u001b[0m\u001b[1;36m]\u001b[0m\u001b[1;36m Found package.json at \u001b[0m\u001b[1;36m/\u001b[0m\n"
      ]
     },
     "metadata": {},
     "output_type": "display_data"
    },
    {
     "data": {
      "text/html": [
       "<pre style=\"white-space:pre;overflow-x:auto;line-height:normal;font-family:Menlo,'DejaVu Sans Mono',consolas,'Courier New',monospace\"><span style=\"color: #008080; text-decoration-color: #008080; font-weight: bold\">[+] Getting </span><span style=\"color: #008080; text-decoration-color: #008080; font-weight: bold; text-decoration: underline\">https://github.com/denysdovhan/inboxer/blob/master/package.json</span>\n",
       "</pre>\n"
      ],
      "text/plain": [
       "\u001b[1;36m[\u001b[0m\u001b[1;36m+\u001b[0m\u001b[1;36m]\u001b[0m\u001b[1;36m Getting \u001b[0m\u001b[1;4;36mhttps://github.com/denysdovhan/inboxer/blob/master/package.json\u001b[0m\n"
      ]
     },
     "metadata": {},
     "output_type": "display_data"
    },
    {
     "data": {
      "text/html": [
       "<pre style=\"white-space:pre;overflow-x:auto;line-height:normal;font-family:Menlo,'DejaVu Sans Mono',consolas,'Courier New',monospace\"><span style=\"color: #008080; text-decoration-color: #008080; font-weight: bold\">[+] Getting repo: </span><span style=\"color: #008080; text-decoration-color: #008080; font-weight: bold; text-decoration: underline\">https://github.com/azure06/infiniti-clips.git</span>\n",
       "</pre>\n"
      ],
      "text/plain": [
       "\u001b[1;36m[\u001b[0m\u001b[1;36m+\u001b[0m\u001b[1;36m]\u001b[0m\u001b[1;36m Getting repo: \u001b[0m\u001b[1;4;36mhttps://github.com/azure06/infiniti-clips.git\u001b[0m\n"
      ]
     },
     "metadata": {},
     "output_type": "display_data"
    },
    {
     "data": {
      "text/html": [
       "<pre style=\"white-space:pre;overflow-x:auto;line-height:normal;font-family:Menlo,'DejaVu Sans Mono',consolas,'Courier New',monospace\"><span style=\"color: #008080; text-decoration-color: #008080; font-weight: bold\">[+] Successfully retrieved repo: </span><span style=\"color: #008080; text-decoration-color: #008080; font-weight: bold; text-decoration: underline\">https://github.com/azure06/infiniti-clips.git</span>\n",
       "</pre>\n"
      ],
      "text/plain": [
       "\u001b[1;36m[\u001b[0m\u001b[1;36m+\u001b[0m\u001b[1;36m]\u001b[0m\u001b[1;36m Successfully retrieved repo: \u001b[0m\u001b[1;4;36mhttps://github.com/azure06/infiniti-clips.git\u001b[0m\n"
      ]
     },
     "metadata": {},
     "output_type": "display_data"
    },
    {
     "data": {
      "text/html": [
       "<pre style=\"white-space:pre;overflow-x:auto;line-height:normal;font-family:Menlo,'DejaVu Sans Mono',consolas,'Courier New',monospace\"><span style=\"color: #008080; text-decoration-color: #008080; font-weight: bold\">[+] Found package.json at /</span>\n",
       "</pre>\n"
      ],
      "text/plain": [
       "\u001b[1;36m[\u001b[0m\u001b[1;36m+\u001b[0m\u001b[1;36m]\u001b[0m\u001b[1;36m Found package.json at \u001b[0m\u001b[1;36m/\u001b[0m\n"
      ]
     },
     "metadata": {},
     "output_type": "display_data"
    },
    {
     "data": {
      "text/html": [
       "<pre style=\"white-space:pre;overflow-x:auto;line-height:normal;font-family:Menlo,'DejaVu Sans Mono',consolas,'Courier New',monospace\"><span style=\"color: #008080; text-decoration-color: #008080; font-weight: bold\">[+] Getting </span><span style=\"color: #008080; text-decoration-color: #008080; font-weight: bold; text-decoration: underline\">https://github.com/azure06/clips/blob/master/package.json</span>\n",
       "</pre>\n"
      ],
      "text/plain": [
       "\u001b[1;36m[\u001b[0m\u001b[1;36m+\u001b[0m\u001b[1;36m]\u001b[0m\u001b[1;36m Getting \u001b[0m\u001b[1;4;36mhttps://github.com/azure06/clips/blob/master/package.json\u001b[0m\n"
      ]
     },
     "metadata": {},
     "output_type": "display_data"
    },
    {
     "data": {
      "text/html": [
       "<pre style=\"white-space:pre;overflow-x:auto;line-height:normal;font-family:Menlo,'DejaVu Sans Mono',consolas,'Courier New',monospace\"><span style=\"color: #008080; text-decoration-color: #008080; font-weight: bold\">[+] Getting repo: </span><span style=\"color: #008080; text-decoration-color: #008080; font-weight: bold; text-decoration: underline\">https://github.com/getinsomnia/insomnia</span>\n",
       "</pre>\n"
      ],
      "text/plain": [
       "\u001b[1;36m[\u001b[0m\u001b[1;36m+\u001b[0m\u001b[1;36m]\u001b[0m\u001b[1;36m Getting repo: \u001b[0m\u001b[1;4;36mhttps://github.com/getinsomnia/insomnia\u001b[0m\n"
      ]
     },
     "metadata": {},
     "output_type": "display_data"
    },
    {
     "data": {
      "text/html": [
       "<pre style=\"white-space:pre;overflow-x:auto;line-height:normal;font-family:Menlo,'DejaVu Sans Mono',consolas,'Courier New',monospace\"><span style=\"color: #008080; text-decoration-color: #008080; font-weight: bold\">[+] Successfully retrieved repo: </span><span style=\"color: #008080; text-decoration-color: #008080; font-weight: bold; text-decoration: underline\">https://github.com/getinsomnia/insomnia</span>\n",
       "</pre>\n"
      ],
      "text/plain": [
       "\u001b[1;36m[\u001b[0m\u001b[1;36m+\u001b[0m\u001b[1;36m]\u001b[0m\u001b[1;36m Successfully retrieved repo: \u001b[0m\u001b[1;4;36mhttps://github.com/getinsomnia/insomnia\u001b[0m\n"
      ]
     },
     "metadata": {},
     "output_type": "display_data"
    },
    {
     "data": {
      "text/html": [
       "<pre style=\"white-space:pre;overflow-x:auto;line-height:normal;font-family:Menlo,'DejaVu Sans Mono',consolas,'Courier New',monospace\"><span style=\"color: #008080; text-decoration-color: #008080; font-weight: bold\">[+] Found package.json at /</span>\n",
       "</pre>\n"
      ],
      "text/plain": [
       "\u001b[1;36m[\u001b[0m\u001b[1;36m+\u001b[0m\u001b[1;36m]\u001b[0m\u001b[1;36m Found package.json at \u001b[0m\u001b[1;36m/\u001b[0m\n"
      ]
     },
     "metadata": {},
     "output_type": "display_data"
    },
    {
     "data": {
      "text/html": [
       "<pre style=\"white-space:pre;overflow-x:auto;line-height:normal;font-family:Menlo,'DejaVu Sans Mono',consolas,'Courier New',monospace\"><span style=\"color: #008080; text-decoration-color: #008080; font-weight: bold\">[+] Getting </span><span style=\"color: #008080; text-decoration-color: #008080; font-weight: bold; text-decoration: underline\">https://github.com/Kong/insomnia/blob/develop/package.json</span>\n",
       "</pre>\n"
      ],
      "text/plain": [
       "\u001b[1;36m[\u001b[0m\u001b[1;36m+\u001b[0m\u001b[1;36m]\u001b[0m\u001b[1;36m Getting \u001b[0m\u001b[1;4;36mhttps://github.com/Kong/insomnia/blob/develop/package.json\u001b[0m\n"
      ]
     },
     "metadata": {},
     "output_type": "display_data"
    },
    {
     "data": {
      "text/html": [
       "<pre style=\"white-space:pre;overflow-x:auto;line-height:normal;font-family:Menlo,'DejaVu Sans Mono',consolas,'Courier New',monospace\"><span style=\"color: #008080; text-decoration-color: #008080; font-weight: bold\">[+] Getting repo: </span><span style=\"color: #008080; text-decoration-color: #008080; font-weight: bold; text-decoration: underline\">https://github.com/invizi/invizi/</span>\n",
       "</pre>\n"
      ],
      "text/plain": [
       "\u001b[1;36m[\u001b[0m\u001b[1;36m+\u001b[0m\u001b[1;36m]\u001b[0m\u001b[1;36m Getting repo: \u001b[0m\u001b[1;4;36mhttps://github.com/invizi/invizi/\u001b[0m\n"
      ]
     },
     "metadata": {},
     "output_type": "display_data"
    },
    {
     "data": {
      "text/html": [
       "<pre style=\"white-space:pre;overflow-x:auto;line-height:normal;font-family:Menlo,'DejaVu Sans Mono',consolas,'Courier New',monospace\"><span style=\"color: #008080; text-decoration-color: #008080; font-weight: bold\">[+] Successfully retrieved repo: </span><span style=\"color: #008080; text-decoration-color: #008080; font-weight: bold; text-decoration: underline\">https://github.com/invizi/invizi/</span>\n",
       "</pre>\n"
      ],
      "text/plain": [
       "\u001b[1;36m[\u001b[0m\u001b[1;36m+\u001b[0m\u001b[1;36m]\u001b[0m\u001b[1;36m Successfully retrieved repo: \u001b[0m\u001b[1;4;36mhttps://github.com/invizi/invizi/\u001b[0m\n"
      ]
     },
     "metadata": {},
     "output_type": "display_data"
    },
    {
     "data": {
      "text/html": [
       "<pre style=\"white-space:pre;overflow-x:auto;line-height:normal;font-family:Menlo,'DejaVu Sans Mono',consolas,'Courier New',monospace\"><span style=\"color: #008080; text-decoration-color: #008080; font-weight: bold\">[+] Found package.json at /</span>\n",
       "</pre>\n"
      ],
      "text/plain": [
       "\u001b[1;36m[\u001b[0m\u001b[1;36m+\u001b[0m\u001b[1;36m]\u001b[0m\u001b[1;36m Found package.json at \u001b[0m\u001b[1;36m/\u001b[0m\n"
      ]
     },
     "metadata": {},
     "output_type": "display_data"
    },
    {
     "data": {
      "text/html": [
       "<pre style=\"white-space:pre;overflow-x:auto;line-height:normal;font-family:Menlo,'DejaVu Sans Mono',consolas,'Courier New',monospace\"><span style=\"color: #008080; text-decoration-color: #008080; font-weight: bold\">[+] Getting </span><span style=\"color: #008080; text-decoration-color: #008080; font-weight: bold; text-decoration: underline\">https://github.com/invizi/invizi/blob/master/package.json</span>\n",
       "</pre>\n"
      ],
      "text/plain": [
       "\u001b[1;36m[\u001b[0m\u001b[1;36m+\u001b[0m\u001b[1;36m]\u001b[0m\u001b[1;36m Getting \u001b[0m\u001b[1;4;36mhttps://github.com/invizi/invizi/blob/master/package.json\u001b[0m\n"
      ]
     },
     "metadata": {},
     "output_type": "display_data"
    },
    {
     "data": {
      "text/html": [
       "<pre style=\"white-space:pre;overflow-x:auto;line-height:normal;font-family:Menlo,'DejaVu Sans Mono',consolas,'Courier New',monospace\"><span style=\"color: #008080; text-decoration-color: #008080; font-weight: bold\">[+] Getting repo: </span><span style=\"color: #008080; text-decoration-color: #008080; font-weight: bold; text-decoration: underline\">https://github.com/itchio/itch</span>\n",
       "</pre>\n"
      ],
      "text/plain": [
       "\u001b[1;36m[\u001b[0m\u001b[1;36m+\u001b[0m\u001b[1;36m]\u001b[0m\u001b[1;36m Getting repo: \u001b[0m\u001b[1;4;36mhttps://github.com/itchio/itch\u001b[0m\n"
      ]
     },
     "metadata": {},
     "output_type": "display_data"
    },
    {
     "data": {
      "text/html": [
       "<pre style=\"white-space:pre;overflow-x:auto;line-height:normal;font-family:Menlo,'DejaVu Sans Mono',consolas,'Courier New',monospace\"><span style=\"color: #008080; text-decoration-color: #008080; font-weight: bold\">[+] Successfully retrieved repo: </span><span style=\"color: #008080; text-decoration-color: #008080; font-weight: bold; text-decoration: underline\">https://github.com/itchio/itch</span>\n",
       "</pre>\n"
      ],
      "text/plain": [
       "\u001b[1;36m[\u001b[0m\u001b[1;36m+\u001b[0m\u001b[1;36m]\u001b[0m\u001b[1;36m Successfully retrieved repo: \u001b[0m\u001b[1;4;36mhttps://github.com/itchio/itch\u001b[0m\n"
      ]
     },
     "metadata": {},
     "output_type": "display_data"
    },
    {
     "data": {
      "text/html": [
       "<pre style=\"white-space:pre;overflow-x:auto;line-height:normal;font-family:Menlo,'DejaVu Sans Mono',consolas,'Courier New',monospace\"><span style=\"color: #008080; text-decoration-color: #008080; font-weight: bold\">[+] Found package.json at /</span>\n",
       "</pre>\n"
      ],
      "text/plain": [
       "\u001b[1;36m[\u001b[0m\u001b[1;36m+\u001b[0m\u001b[1;36m]\u001b[0m\u001b[1;36m Found package.json at \u001b[0m\u001b[1;36m/\u001b[0m\n"
      ]
     },
     "metadata": {},
     "output_type": "display_data"
    },
    {
     "data": {
      "text/html": [
       "<pre style=\"white-space:pre;overflow-x:auto;line-height:normal;font-family:Menlo,'DejaVu Sans Mono',consolas,'Courier New',monospace\"><span style=\"color: #008080; text-decoration-color: #008080; font-weight: bold\">[+] Getting </span><span style=\"color: #008080; text-decoration-color: #008080; font-weight: bold; text-decoration: underline\">https://github.com/itchio/itch/blob/master/package.json</span>\n",
       "</pre>\n"
      ],
      "text/plain": [
       "\u001b[1;36m[\u001b[0m\u001b[1;36m+\u001b[0m\u001b[1;36m]\u001b[0m\u001b[1;36m Getting \u001b[0m\u001b[1;4;36mhttps://github.com/itchio/itch/blob/master/package.json\u001b[0m\n"
      ]
     },
     "metadata": {},
     "output_type": "display_data"
    },
    {
     "data": {
      "text/html": [
       "<pre style=\"white-space:pre;overflow-x:auto;line-height:normal;font-family:Menlo,'DejaVu Sans Mono',consolas,'Courier New',monospace\"><span style=\"color: #008080; text-decoration-color: #008080; font-weight: bold\">[+] Getting repo: </span><span style=\"color: #008080; text-decoration-color: #008080; font-weight: bold; text-decoration: underline\">https://github.com/jamovi/jamovi</span>\n",
       "</pre>\n"
      ],
      "text/plain": [
       "\u001b[1;36m[\u001b[0m\u001b[1;36m+\u001b[0m\u001b[1;36m]\u001b[0m\u001b[1;36m Getting repo: \u001b[0m\u001b[1;4;36mhttps://github.com/jamovi/jamovi\u001b[0m\n"
      ]
     },
     "metadata": {},
     "output_type": "display_data"
    },
    {
     "data": {
      "text/html": [
       "<pre style=\"white-space:pre;overflow-x:auto;line-height:normal;font-family:Menlo,'DejaVu Sans Mono',consolas,'Courier New',monospace\"><span style=\"color: #008080; text-decoration-color: #008080; font-weight: bold\">[+] Successfully retrieved repo: </span><span style=\"color: #008080; text-decoration-color: #008080; font-weight: bold; text-decoration: underline\">https://github.com/jamovi/jamovi</span>\n",
       "</pre>\n"
      ],
      "text/plain": [
       "\u001b[1;36m[\u001b[0m\u001b[1;36m+\u001b[0m\u001b[1;36m]\u001b[0m\u001b[1;36m Successfully retrieved repo: \u001b[0m\u001b[1;4;36mhttps://github.com/jamovi/jamovi\u001b[0m\n"
      ]
     },
     "metadata": {},
     "output_type": "display_data"
    },
    {
     "data": {
      "text/html": [
       "<pre style=\"white-space:pre;overflow-x:auto;line-height:normal;font-family:Menlo,'DejaVu Sans Mono',consolas,'Courier New',monospace\"><span style=\"color: #ff5f00; text-decoration-color: #ff5f00; font-weight: bold\">[!] Package.json not found at root; trying directories</span>\n",
       "</pre>\n"
      ],
      "text/plain": [
       "\u001b[1;38;5;202m[\u001b[0m\u001b[1;38;5;202m!\u001b[0m\u001b[1;38;5;202m]\u001b[0m\u001b[1;38;5;202m Package.json not found at root; trying directories\u001b[0m\n"
      ]
     },
     "metadata": {},
     "output_type": "display_data"
    },
    {
     "data": {
      "text/html": [
       "<pre style=\"white-space:pre;overflow-x:auto;line-height:normal;font-family:Menlo,'DejaVu Sans Mono',consolas,'Courier New',monospace\"><span style=\"color: #800000; text-decoration-color: #800000; font-weight: bold\">[💀] Could not find package.json in first-level-subdirs</span>\n",
       "</pre>\n"
      ],
      "text/plain": [
       "\u001b[1;31m[\u001b[0m\u001b[1;31m💀\u001b[0m\u001b[1;31m]\u001b[0m\u001b[1;31m Could not find package.json in first-level-subdirs\u001b[0m\n"
      ]
     },
     "metadata": {},
     "output_type": "display_data"
    },
    {
     "data": {
      "text/html": [
       "<pre style=\"white-space:pre;overflow-x:auto;line-height:normal;font-family:Menlo,'DejaVu Sans Mono',consolas,'Courier New',monospace\"><span style=\"color: #008080; text-decoration-color: #008080; font-weight: bold\">[+] Getting repo: </span><span style=\"color: #008080; text-decoration-color: #008080; font-weight: bold; text-decoration: underline\">https://github.com/jasperapp/jasper</span>\n",
       "</pre>\n"
      ],
      "text/plain": [
       "\u001b[1;36m[\u001b[0m\u001b[1;36m+\u001b[0m\u001b[1;36m]\u001b[0m\u001b[1;36m Getting repo: \u001b[0m\u001b[1;4;36mhttps://github.com/jasperapp/jasper\u001b[0m\n"
      ]
     },
     "metadata": {},
     "output_type": "display_data"
    },
    {
     "data": {
      "text/html": [
       "<pre style=\"white-space:pre;overflow-x:auto;line-height:normal;font-family:Menlo,'DejaVu Sans Mono',consolas,'Courier New',monospace\"><span style=\"color: #008080; text-decoration-color: #008080; font-weight: bold\">[+] Successfully retrieved repo: </span><span style=\"color: #008080; text-decoration-color: #008080; font-weight: bold; text-decoration: underline\">https://github.com/jasperapp/jasper</span>\n",
       "</pre>\n"
      ],
      "text/plain": [
       "\u001b[1;36m[\u001b[0m\u001b[1;36m+\u001b[0m\u001b[1;36m]\u001b[0m\u001b[1;36m Successfully retrieved repo: \u001b[0m\u001b[1;4;36mhttps://github.com/jasperapp/jasper\u001b[0m\n"
      ]
     },
     "metadata": {},
     "output_type": "display_data"
    },
    {
     "data": {
      "text/html": [
       "<pre style=\"white-space:pre;overflow-x:auto;line-height:normal;font-family:Menlo,'DejaVu Sans Mono',consolas,'Courier New',monospace\"><span style=\"color: #008080; text-decoration-color: #008080; font-weight: bold\">[+] Found package.json at /</span>\n",
       "</pre>\n"
      ],
      "text/plain": [
       "\u001b[1;36m[\u001b[0m\u001b[1;36m+\u001b[0m\u001b[1;36m]\u001b[0m\u001b[1;36m Found package.json at \u001b[0m\u001b[1;36m/\u001b[0m\n"
      ]
     },
     "metadata": {},
     "output_type": "display_data"
    },
    {
     "data": {
      "text/html": [
       "<pre style=\"white-space:pre;overflow-x:auto;line-height:normal;font-family:Menlo,'DejaVu Sans Mono',consolas,'Courier New',monospace\"><span style=\"color: #008080; text-decoration-color: #008080; font-weight: bold\">[+] Getting </span><span style=\"color: #008080; text-decoration-color: #008080; font-weight: bold; text-decoration: underline\">https://github.com/jasperapp/jasper/blob/master/package.json</span>\n",
       "</pre>\n"
      ],
      "text/plain": [
       "\u001b[1;36m[\u001b[0m\u001b[1;36m+\u001b[0m\u001b[1;36m]\u001b[0m\u001b[1;36m Getting \u001b[0m\u001b[1;4;36mhttps://github.com/jasperapp/jasper/blob/master/package.json\u001b[0m\n"
      ]
     },
     "metadata": {},
     "output_type": "display_data"
    },
    {
     "data": {
      "text/html": [
       "<pre style=\"white-space:pre;overflow-x:auto;line-height:normal;font-family:Menlo,'DejaVu Sans Mono',consolas,'Courier New',monospace\"><span style=\"color: #008080; text-decoration-color: #008080; font-weight: bold\">[+] Getting repo: </span><span style=\"color: #008080; text-decoration-color: #008080; font-weight: bold; text-decoration: underline\">https://github.com/laurent22/joplin</span>\n",
       "</pre>\n"
      ],
      "text/plain": [
       "\u001b[1;36m[\u001b[0m\u001b[1;36m+\u001b[0m\u001b[1;36m]\u001b[0m\u001b[1;36m Getting repo: \u001b[0m\u001b[1;4;36mhttps://github.com/laurent22/joplin\u001b[0m\n"
      ]
     },
     "metadata": {},
     "output_type": "display_data"
    },
    {
     "data": {
      "text/html": [
       "<pre style=\"white-space:pre;overflow-x:auto;line-height:normal;font-family:Menlo,'DejaVu Sans Mono',consolas,'Courier New',monospace\"><span style=\"color: #008080; text-decoration-color: #008080; font-weight: bold\">[+] Successfully retrieved repo: </span><span style=\"color: #008080; text-decoration-color: #008080; font-weight: bold; text-decoration: underline\">https://github.com/laurent22/joplin</span>\n",
       "</pre>\n"
      ],
      "text/plain": [
       "\u001b[1;36m[\u001b[0m\u001b[1;36m+\u001b[0m\u001b[1;36m]\u001b[0m\u001b[1;36m Successfully retrieved repo: \u001b[0m\u001b[1;4;36mhttps://github.com/laurent22/joplin\u001b[0m\n"
      ]
     },
     "metadata": {},
     "output_type": "display_data"
    },
    {
     "data": {
      "text/html": [
       "<pre style=\"white-space:pre;overflow-x:auto;line-height:normal;font-family:Menlo,'DejaVu Sans Mono',consolas,'Courier New',monospace\"><span style=\"color: #008080; text-decoration-color: #008080; font-weight: bold\">[+] Found package.json at /</span>\n",
       "</pre>\n"
      ],
      "text/plain": [
       "\u001b[1;36m[\u001b[0m\u001b[1;36m+\u001b[0m\u001b[1;36m]\u001b[0m\u001b[1;36m Found package.json at \u001b[0m\u001b[1;36m/\u001b[0m\n"
      ]
     },
     "metadata": {},
     "output_type": "display_data"
    },
    {
     "data": {
      "text/html": [
       "<pre style=\"white-space:pre;overflow-x:auto;line-height:normal;font-family:Menlo,'DejaVu Sans Mono',consolas,'Courier New',monospace\"><span style=\"color: #008080; text-decoration-color: #008080; font-weight: bold\">[+] Getting </span><span style=\"color: #008080; text-decoration-color: #008080; font-weight: bold; text-decoration: underline\">https://github.com/laurent22/joplin/blob/dev/package.json</span>\n",
       "</pre>\n"
      ],
      "text/plain": [
       "\u001b[1;36m[\u001b[0m\u001b[1;36m+\u001b[0m\u001b[1;36m]\u001b[0m\u001b[1;36m Getting \u001b[0m\u001b[1;4;36mhttps://github.com/laurent22/joplin/blob/dev/package.json\u001b[0m\n"
      ]
     },
     "metadata": {},
     "output_type": "display_data"
    },
    {
     "data": {
      "text/html": [
       "<pre style=\"white-space:pre;overflow-x:auto;line-height:normal;font-family:Menlo,'DejaVu Sans Mono',consolas,'Courier New',monospace\"><span style=\"color: #008080; text-decoration-color: #008080; font-weight: bold\">[+] Getting repo: </span><span style=\"color: #008080; text-decoration-color: #008080; font-weight: bold; text-decoration: underline\">https://github.com/LN-Juggernaut/juggernaut-desktop</span>\n",
       "</pre>\n"
      ],
      "text/plain": [
       "\u001b[1;36m[\u001b[0m\u001b[1;36m+\u001b[0m\u001b[1;36m]\u001b[0m\u001b[1;36m Getting repo: \u001b[0m\u001b[1;4;36mhttps://github.com/LN-Juggernaut/juggernaut-desktop\u001b[0m\n"
      ]
     },
     "metadata": {},
     "output_type": "display_data"
    },
    {
     "data": {
      "text/html": [
       "<pre style=\"white-space:pre;overflow-x:auto;line-height:normal;font-family:Menlo,'DejaVu Sans Mono',consolas,'Courier New',monospace\"><span style=\"color: #008080; text-decoration-color: #008080; font-weight: bold\">[+] Successfully retrieved repo: </span><span style=\"color: #008080; text-decoration-color: #008080; font-weight: bold; text-decoration: underline\">https://github.com/LN-Juggernaut/juggernaut-desktop</span>\n",
       "</pre>\n"
      ],
      "text/plain": [
       "\u001b[1;36m[\u001b[0m\u001b[1;36m+\u001b[0m\u001b[1;36m]\u001b[0m\u001b[1;36m Successfully retrieved repo: \u001b[0m\u001b[1;4;36mhttps://github.com/LN-Juggernaut/juggernaut-desktop\u001b[0m\n"
      ]
     },
     "metadata": {},
     "output_type": "display_data"
    },
    {
     "data": {
      "text/html": [
       "<pre style=\"white-space:pre;overflow-x:auto;line-height:normal;font-family:Menlo,'DejaVu Sans Mono',consolas,'Courier New',monospace\"><span style=\"color: #008080; text-decoration-color: #008080; font-weight: bold\">[+] Found package.json at /</span>\n",
       "</pre>\n"
      ],
      "text/plain": [
       "\u001b[1;36m[\u001b[0m\u001b[1;36m+\u001b[0m\u001b[1;36m]\u001b[0m\u001b[1;36m Found package.json at \u001b[0m\u001b[1;36m/\u001b[0m\n"
      ]
     },
     "metadata": {},
     "output_type": "display_data"
    },
    {
     "data": {
      "text/html": [
       "<pre style=\"white-space:pre;overflow-x:auto;line-height:normal;font-family:Menlo,'DejaVu Sans Mono',consolas,'Courier New',monospace\"><span style=\"color: #008080; text-decoration-color: #008080; font-weight: bold\">[+] Getting </span><span style=\"color: #008080; text-decoration-color: #008080; font-weight: bold; text-decoration: underline\">https://github.com/LN-Juggernaut/juggernaut-desktop/blob/master/package.json</span>\n",
       "</pre>\n"
      ],
      "text/plain": [
       "\u001b[1;36m[\u001b[0m\u001b[1;36m+\u001b[0m\u001b[1;36m]\u001b[0m\u001b[1;36m Getting \u001b[0m\u001b[1;4;36mhttps://github.com/LN-Juggernaut/juggernaut-desktop/blob/master/package.json\u001b[0m\n"
      ]
     },
     "metadata": {},
     "output_type": "display_data"
    },
    {
     "data": {
      "text/html": [
       "<pre style=\"white-space:pre;overflow-x:auto;line-height:normal;font-family:Menlo,'DejaVu Sans Mono',consolas,'Courier New',monospace\"><span style=\"color: #008080; text-decoration-color: #008080; font-weight: bold\">[+] Getting repo: </span><span style=\"color: #008080; text-decoration-color: #008080; font-weight: bold; text-decoration: underline\">https://github.com/Gilad-Kutiel-App/jumpfm</span>\n",
       "</pre>\n"
      ],
      "text/plain": [
       "\u001b[1;36m[\u001b[0m\u001b[1;36m+\u001b[0m\u001b[1;36m]\u001b[0m\u001b[1;36m Getting repo: \u001b[0m\u001b[1;4;36mhttps://github.com/Gilad-Kutiel-App/jumpfm\u001b[0m\n"
      ]
     },
     "metadata": {},
     "output_type": "display_data"
    },
    {
     "data": {
      "text/html": [
       "<pre style=\"white-space:pre;overflow-x:auto;line-height:normal;font-family:Menlo,'DejaVu Sans Mono',consolas,'Courier New',monospace\"><span style=\"color: #008080; text-decoration-color: #008080; font-weight: bold\">[+] Successfully retrieved repo: </span><span style=\"color: #008080; text-decoration-color: #008080; font-weight: bold; text-decoration: underline\">https://github.com/Gilad-Kutiel-App/jumpfm</span>\n",
       "</pre>\n"
      ],
      "text/plain": [
       "\u001b[1;36m[\u001b[0m\u001b[1;36m+\u001b[0m\u001b[1;36m]\u001b[0m\u001b[1;36m Successfully retrieved repo: \u001b[0m\u001b[1;4;36mhttps://github.com/Gilad-Kutiel-App/jumpfm\u001b[0m\n"
      ]
     },
     "metadata": {},
     "output_type": "display_data"
    },
    {
     "data": {
      "text/html": [
       "<pre style=\"white-space:pre;overflow-x:auto;line-height:normal;font-family:Menlo,'DejaVu Sans Mono',consolas,'Courier New',monospace\"><span style=\"color: #008080; text-decoration-color: #008080; font-weight: bold\">[+] Found package.json at /</span>\n",
       "</pre>\n"
      ],
      "text/plain": [
       "\u001b[1;36m[\u001b[0m\u001b[1;36m+\u001b[0m\u001b[1;36m]\u001b[0m\u001b[1;36m Found package.json at \u001b[0m\u001b[1;36m/\u001b[0m\n"
      ]
     },
     "metadata": {},
     "output_type": "display_data"
    },
    {
     "data": {
      "text/html": [
       "<pre style=\"white-space:pre;overflow-x:auto;line-height:normal;font-family:Menlo,'DejaVu Sans Mono',consolas,'Courier New',monospace\"><span style=\"color: #008080; text-decoration-color: #008080; font-weight: bold\">[+] Getting </span><span style=\"color: #008080; text-decoration-color: #008080; font-weight: bold; text-decoration: underline\">https://github.com/JumpFm/jumpfm/blob/master/package.json</span>\n",
       "</pre>\n"
      ],
      "text/plain": [
       "\u001b[1;36m[\u001b[0m\u001b[1;36m+\u001b[0m\u001b[1;36m]\u001b[0m\u001b[1;36m Getting \u001b[0m\u001b[1;4;36mhttps://github.com/JumpFm/jumpfm/blob/master/package.json\u001b[0m\n"
      ]
     },
     "metadata": {},
     "output_type": "display_data"
    },
    {
     "data": {
      "text/html": [
       "<pre style=\"white-space:pre;overflow-x:auto;line-height:normal;font-family:Menlo,'DejaVu Sans Mono',consolas,'Courier New',monospace\"><span style=\"color: #008080; text-decoration-color: #008080; font-weight: bold\">[+] Getting repo: </span><span style=\"color: #008080; text-decoration-color: #008080; font-weight: bold; text-decoration: underline\">https://github.com/AiursoftWeb/Kahla.App</span>\n",
       "</pre>\n"
      ],
      "text/plain": [
       "\u001b[1;36m[\u001b[0m\u001b[1;36m+\u001b[0m\u001b[1;36m]\u001b[0m\u001b[1;36m Getting repo: \u001b[0m\u001b[1;4;36mhttps://github.com/AiursoftWeb/Kahla.App\u001b[0m\n"
      ]
     },
     "metadata": {},
     "output_type": "display_data"
    },
    {
     "data": {
      "text/html": [
       "<pre style=\"white-space:pre;overflow-x:auto;line-height:normal;font-family:Menlo,'DejaVu Sans Mono',consolas,'Courier New',monospace\"><span style=\"color: #008080; text-decoration-color: #008080; font-weight: bold\">[+] Successfully retrieved repo: </span><span style=\"color: #008080; text-decoration-color: #008080; font-weight: bold; text-decoration: underline\">https://github.com/AiursoftWeb/Kahla.App</span>\n",
       "</pre>\n"
      ],
      "text/plain": [
       "\u001b[1;36m[\u001b[0m\u001b[1;36m+\u001b[0m\u001b[1;36m]\u001b[0m\u001b[1;36m Successfully retrieved repo: \u001b[0m\u001b[1;4;36mhttps://github.com/AiursoftWeb/Kahla.App\u001b[0m\n"
      ]
     },
     "metadata": {},
     "output_type": "display_data"
    },
    {
     "data": {
      "text/html": [
       "<pre style=\"white-space:pre;overflow-x:auto;line-height:normal;font-family:Menlo,'DejaVu Sans Mono',consolas,'Courier New',monospace\"><span style=\"color: #008080; text-decoration-color: #008080; font-weight: bold\">[+] Found package.json at /</span>\n",
       "</pre>\n"
      ],
      "text/plain": [
       "\u001b[1;36m[\u001b[0m\u001b[1;36m+\u001b[0m\u001b[1;36m]\u001b[0m\u001b[1;36m Found package.json at \u001b[0m\u001b[1;36m/\u001b[0m\n"
      ]
     },
     "metadata": {},
     "output_type": "display_data"
    },
    {
     "data": {
      "text/html": [
       "<pre style=\"white-space:pre;overflow-x:auto;line-height:normal;font-family:Menlo,'DejaVu Sans Mono',consolas,'Courier New',monospace\"><span style=\"color: #008080; text-decoration-color: #008080; font-weight: bold\">[+] Getting </span><span style=\"color: #008080; text-decoration-color: #008080; font-weight: bold; text-decoration: underline\">https://github.com/AiursoftWeb/Kahla.App/blob/master/package.json</span>\n",
       "</pre>\n"
      ],
      "text/plain": [
       "\u001b[1;36m[\u001b[0m\u001b[1;36m+\u001b[0m\u001b[1;36m]\u001b[0m\u001b[1;36m Getting \u001b[0m\u001b[1;4;36mhttps://github.com/AiursoftWeb/Kahla.App/blob/master/package.json\u001b[0m\n"
      ]
     },
     "metadata": {},
     "output_type": "display_data"
    },
    {
     "data": {
      "text/html": [
       "<pre style=\"white-space:pre;overflow-x:auto;line-height:normal;font-family:Menlo,'DejaVu Sans Mono',consolas,'Courier New',monospace\"><span style=\"color: #008080; text-decoration-color: #008080; font-weight: bold\">[+] Getting repo: </span><span style=\"color: #008080; text-decoration-color: #008080; font-weight: bold; text-decoration: underline\">https://github.com/wulkano/kap</span>\n",
       "</pre>\n"
      ],
      "text/plain": [
       "\u001b[1;36m[\u001b[0m\u001b[1;36m+\u001b[0m\u001b[1;36m]\u001b[0m\u001b[1;36m Getting repo: \u001b[0m\u001b[1;4;36mhttps://github.com/wulkano/kap\u001b[0m\n"
      ]
     },
     "metadata": {},
     "output_type": "display_data"
    },
    {
     "data": {
      "text/html": [
       "<pre style=\"white-space:pre;overflow-x:auto;line-height:normal;font-family:Menlo,'DejaVu Sans Mono',consolas,'Courier New',monospace\"><span style=\"color: #008080; text-decoration-color: #008080; font-weight: bold\">[+] Successfully retrieved repo: </span><span style=\"color: #008080; text-decoration-color: #008080; font-weight: bold; text-decoration: underline\">https://github.com/wulkano/kap</span>\n",
       "</pre>\n"
      ],
      "text/plain": [
       "\u001b[1;36m[\u001b[0m\u001b[1;36m+\u001b[0m\u001b[1;36m]\u001b[0m\u001b[1;36m Successfully retrieved repo: \u001b[0m\u001b[1;4;36mhttps://github.com/wulkano/kap\u001b[0m\n"
      ]
     },
     "metadata": {},
     "output_type": "display_data"
    },
    {
     "data": {
      "text/html": [
       "<pre style=\"white-space:pre;overflow-x:auto;line-height:normal;font-family:Menlo,'DejaVu Sans Mono',consolas,'Courier New',monospace\"><span style=\"color: #008080; text-decoration-color: #008080; font-weight: bold\">[+] Found package.json at /</span>\n",
       "</pre>\n"
      ],
      "text/plain": [
       "\u001b[1;36m[\u001b[0m\u001b[1;36m+\u001b[0m\u001b[1;36m]\u001b[0m\u001b[1;36m Found package.json at \u001b[0m\u001b[1;36m/\u001b[0m\n"
      ]
     },
     "metadata": {},
     "output_type": "display_data"
    },
    {
     "data": {
      "text/html": [
       "<pre style=\"white-space:pre;overflow-x:auto;line-height:normal;font-family:Menlo,'DejaVu Sans Mono',consolas,'Courier New',monospace\"><span style=\"color: #008080; text-decoration-color: #008080; font-weight: bold\">[+] Getting </span><span style=\"color: #008080; text-decoration-color: #008080; font-weight: bold; text-decoration: underline\">https://github.com/wulkano/Kap/blob/main/package.json</span>\n",
       "</pre>\n"
      ],
      "text/plain": [
       "\u001b[1;36m[\u001b[0m\u001b[1;36m+\u001b[0m\u001b[1;36m]\u001b[0m\u001b[1;36m Getting \u001b[0m\u001b[1;4;36mhttps://github.com/wulkano/Kap/blob/main/package.json\u001b[0m\n"
      ]
     },
     "metadata": {},
     "output_type": "display_data"
    },
    {
     "data": {
      "text/html": [
       "<pre style=\"white-space:pre;overflow-x:auto;line-height:normal;font-family:Menlo,'DejaVu Sans Mono',consolas,'Courier New',monospace\"><span style=\"color: #008080; text-decoration-color: #008080; font-weight: bold\">[+] Getting repo: </span><span style=\"color: #008080; text-decoration-color: #008080; font-weight: bold; text-decoration: underline\">https://github.com/kaplanPRO/kaplan-desktop</span>\n",
       "</pre>\n"
      ],
      "text/plain": [
       "\u001b[1;36m[\u001b[0m\u001b[1;36m+\u001b[0m\u001b[1;36m]\u001b[0m\u001b[1;36m Getting repo: \u001b[0m\u001b[1;4;36mhttps://github.com/kaplanPRO/kaplan-desktop\u001b[0m\n"
      ]
     },
     "metadata": {},
     "output_type": "display_data"
    },
    {
     "data": {
      "text/html": [
       "<pre style=\"white-space:pre;overflow-x:auto;line-height:normal;font-family:Menlo,'DejaVu Sans Mono',consolas,'Courier New',monospace\"><span style=\"color: #008080; text-decoration-color: #008080; font-weight: bold\">[+] Successfully retrieved repo: </span><span style=\"color: #008080; text-decoration-color: #008080; font-weight: bold; text-decoration: underline\">https://github.com/kaplanPRO/kaplan-desktop</span>\n",
       "</pre>\n"
      ],
      "text/plain": [
       "\u001b[1;36m[\u001b[0m\u001b[1;36m+\u001b[0m\u001b[1;36m]\u001b[0m\u001b[1;36m Successfully retrieved repo: \u001b[0m\u001b[1;4;36mhttps://github.com/kaplanPRO/kaplan-desktop\u001b[0m\n"
      ]
     },
     "metadata": {},
     "output_type": "display_data"
    },
    {
     "data": {
      "text/html": [
       "<pre style=\"white-space:pre;overflow-x:auto;line-height:normal;font-family:Menlo,'DejaVu Sans Mono',consolas,'Courier New',monospace\"><span style=\"color: #ff5f00; text-decoration-color: #ff5f00; font-weight: bold\">[!] Package.json not found at root; trying directories</span>\n",
       "</pre>\n"
      ],
      "text/plain": [
       "\u001b[1;38;5;202m[\u001b[0m\u001b[1;38;5;202m!\u001b[0m\u001b[1;38;5;202m]\u001b[0m\u001b[1;38;5;202m Package.json not found at root; trying directories\u001b[0m\n"
      ]
     },
     "metadata": {},
     "output_type": "display_data"
    },
    {
     "data": {
      "text/html": [
       "<pre style=\"white-space:pre;overflow-x:auto;line-height:normal;font-family:Menlo,'DejaVu Sans Mono',consolas,'Courier New',monospace\"><span style=\"color: #008080; text-decoration-color: #008080; font-weight: bold\">[+] Trying </span><span style=\"color: #008080; text-decoration-color: #008080; font-weight: bold; text-decoration: underline\">https://github.com/kaplanPRO/kaplan-desktop/tree/master/app</span>\n",
       "</pre>\n"
      ],
      "text/plain": [
       "\u001b[1;36m[\u001b[0m\u001b[1;36m+\u001b[0m\u001b[1;36m]\u001b[0m\u001b[1;36m Trying \u001b[0m\u001b[1;4;36mhttps://github.com/kaplanPRO/kaplan-desktop/tree/master/app\u001b[0m\n"
      ]
     },
     "metadata": {},
     "output_type": "display_data"
    },
    {
     "data": {
      "text/html": [
       "<pre style=\"white-space:pre;overflow-x:auto;line-height:normal;font-family:Menlo,'DejaVu Sans Mono',consolas,'Courier New',monospace\"><span style=\"color: #008080; text-decoration-color: #008080; font-weight: bold\">[+] Trying </span><span style=\"color: #008080; text-decoration-color: #008080; font-weight: bold; text-decoration: underline\">https://github.com/kaplanPRO/kaplan-desktop/tree/master/backend</span>\n",
       "</pre>\n"
      ],
      "text/plain": [
       "\u001b[1;36m[\u001b[0m\u001b[1;36m+\u001b[0m\u001b[1;36m]\u001b[0m\u001b[1;36m Trying \u001b[0m\u001b[1;4;36mhttps://github.com/kaplanPRO/kaplan-desktop/tree/master/backend\u001b[0m\n"
      ]
     },
     "metadata": {},
     "output_type": "display_data"
    },
    {
     "data": {
      "text/html": [
       "<pre style=\"white-space:pre;overflow-x:auto;line-height:normal;font-family:Menlo,'DejaVu Sans Mono',consolas,'Courier New',monospace\"><span style=\"color: #008080; text-decoration-color: #008080; font-weight: bold\">[+] Trying </span><span style=\"color: #008080; text-decoration-color: #008080; font-weight: bold; text-decoration: underline\">https://github.com/kaplanPRO/kaplan-desktop/tree/master/docs</span>\n",
       "</pre>\n"
      ],
      "text/plain": [
       "\u001b[1;36m[\u001b[0m\u001b[1;36m+\u001b[0m\u001b[1;36m]\u001b[0m\u001b[1;36m Trying \u001b[0m\u001b[1;4;36mhttps://github.com/kaplanPRO/kaplan-desktop/tree/master/docs\u001b[0m\n"
      ]
     },
     "metadata": {},
     "output_type": "display_data"
    },
    {
     "data": {
      "text/html": [
       "<pre style=\"white-space:pre;overflow-x:auto;line-height:normal;font-family:Menlo,'DejaVu Sans Mono',consolas,'Courier New',monospace\"><span style=\"color: #800000; text-decoration-color: #800000; font-weight: bold\">[💀] Could not find package.json in first-level-subdirs</span>\n",
       "</pre>\n"
      ],
      "text/plain": [
       "\u001b[1;31m[\u001b[0m\u001b[1;31m💀\u001b[0m\u001b[1;31m]\u001b[0m\u001b[1;31m Could not find package.json in first-level-subdirs\u001b[0m\n"
      ]
     },
     "metadata": {},
     "output_type": "display_data"
    },
    {
     "data": {
      "text/html": [
       "<pre style=\"white-space:pre;overflow-x:auto;line-height:normal;font-family:Menlo,'DejaVu Sans Mono',consolas,'Courier New',monospace\"><span style=\"color: #008080; text-decoration-color: #008080; font-weight: bold\">[+] Getting repo: </span><span style=\"color: #008080; text-decoration-color: #008080; font-weight: bold; text-decoration: underline\">https://gitlab.com/karaokemugen/karaokemugen-app</span>\n",
       "</pre>\n"
      ],
      "text/plain": [
       "\u001b[1;36m[\u001b[0m\u001b[1;36m+\u001b[0m\u001b[1;36m]\u001b[0m\u001b[1;36m Getting repo: \u001b[0m\u001b[1;4;36mhttps://gitlab.com/karaokemugen/karaokemugen-app\u001b[0m\n"
      ]
     },
     "metadata": {},
     "output_type": "display_data"
    },
    {
     "data": {
      "text/html": [
       "<pre style=\"white-space:pre;overflow-x:auto;line-height:normal;font-family:Menlo,'DejaVu Sans Mono',consolas,'Courier New',monospace\"><span style=\"color: #008080; text-decoration-color: #008080; font-weight: bold\">[+] Successfully retrieved repo: </span><span style=\"color: #008080; text-decoration-color: #008080; font-weight: bold; text-decoration: underline\">https://gitlab.com/karaokemugen/karaokemugen-app</span>\n",
       "</pre>\n"
      ],
      "text/plain": [
       "\u001b[1;36m[\u001b[0m\u001b[1;36m+\u001b[0m\u001b[1;36m]\u001b[0m\u001b[1;36m Successfully retrieved repo: \u001b[0m\u001b[1;4;36mhttps://gitlab.com/karaokemugen/karaokemugen-app\u001b[0m\n"
      ]
     },
     "metadata": {},
     "output_type": "display_data"
    },
    {
     "data": {
      "text/html": [
       "<pre style=\"white-space:pre;overflow-x:auto;line-height:normal;font-family:Menlo,'DejaVu Sans Mono',consolas,'Courier New',monospace\"><span style=\"color: #ff5f00; text-decoration-color: #ff5f00; font-weight: bold\">[!] Package.json not found at root; trying directories</span>\n",
       "</pre>\n"
      ],
      "text/plain": [
       "\u001b[1;38;5;202m[\u001b[0m\u001b[1;38;5;202m!\u001b[0m\u001b[1;38;5;202m]\u001b[0m\u001b[1;38;5;202m Package.json not found at root; trying directories\u001b[0m\n"
      ]
     },
     "metadata": {},
     "output_type": "display_data"
    },
    {
     "data": {
      "text/html": [
       "<pre style=\"white-space:pre;overflow-x:auto;line-height:normal;font-family:Menlo,'DejaVu Sans Mono',consolas,'Courier New',monospace\"><span style=\"color: #800000; text-decoration-color: #800000; font-weight: bold\">[💀] Could not find package.json in first-level-subdirs</span>\n",
       "</pre>\n"
      ],
      "text/plain": [
       "\u001b[1;31m[\u001b[0m\u001b[1;31m💀\u001b[0m\u001b[1;31m]\u001b[0m\u001b[1;31m Could not find package.json in first-level-subdirs\u001b[0m\n"
      ]
     },
     "metadata": {},
     "output_type": "display_data"
    },
    {
     "data": {
      "text/html": [
       "<pre style=\"white-space:pre;overflow-x:auto;line-height:normal;font-family:Menlo,'DejaVu Sans Mono',consolas,'Courier New',monospace\"><span style=\"color: #008080; text-decoration-color: #008080; font-weight: bold\">[+] Getting repo: </span><span style=\"color: #008080; text-decoration-color: #008080; font-weight: bold; text-decoration: underline\">https://github.com/keeweb/keeweb</span>\n",
       "</pre>\n"
      ],
      "text/plain": [
       "\u001b[1;36m[\u001b[0m\u001b[1;36m+\u001b[0m\u001b[1;36m]\u001b[0m\u001b[1;36m Getting repo: \u001b[0m\u001b[1;4;36mhttps://github.com/keeweb/keeweb\u001b[0m\n"
      ]
     },
     "metadata": {},
     "output_type": "display_data"
    },
    {
     "data": {
      "text/html": [
       "<pre style=\"white-space:pre;overflow-x:auto;line-height:normal;font-family:Menlo,'DejaVu Sans Mono',consolas,'Courier New',monospace\"><span style=\"color: #008080; text-decoration-color: #008080; font-weight: bold\">[+] Successfully retrieved repo: </span><span style=\"color: #008080; text-decoration-color: #008080; font-weight: bold; text-decoration: underline\">https://github.com/keeweb/keeweb</span>\n",
       "</pre>\n"
      ],
      "text/plain": [
       "\u001b[1;36m[\u001b[0m\u001b[1;36m+\u001b[0m\u001b[1;36m]\u001b[0m\u001b[1;36m Successfully retrieved repo: \u001b[0m\u001b[1;4;36mhttps://github.com/keeweb/keeweb\u001b[0m\n"
      ]
     },
     "metadata": {},
     "output_type": "display_data"
    },
    {
     "data": {
      "text/html": [
       "<pre style=\"white-space:pre;overflow-x:auto;line-height:normal;font-family:Menlo,'DejaVu Sans Mono',consolas,'Courier New',monospace\"><span style=\"color: #008080; text-decoration-color: #008080; font-weight: bold\">[+] Found package.json at /</span>\n",
       "</pre>\n"
      ],
      "text/plain": [
       "\u001b[1;36m[\u001b[0m\u001b[1;36m+\u001b[0m\u001b[1;36m]\u001b[0m\u001b[1;36m Found package.json at \u001b[0m\u001b[1;36m/\u001b[0m\n"
      ]
     },
     "metadata": {},
     "output_type": "display_data"
    },
    {
     "data": {
      "text/html": [
       "<pre style=\"white-space:pre;overflow-x:auto;line-height:normal;font-family:Menlo,'DejaVu Sans Mono',consolas,'Courier New',monospace\"><span style=\"color: #008080; text-decoration-color: #008080; font-weight: bold\">[+] Getting </span><span style=\"color: #008080; text-decoration-color: #008080; font-weight: bold; text-decoration: underline\">https://github.com/keeweb/keeweb/blob/master/package.json</span>\n",
       "</pre>\n"
      ],
      "text/plain": [
       "\u001b[1;36m[\u001b[0m\u001b[1;36m+\u001b[0m\u001b[1;36m]\u001b[0m\u001b[1;36m Getting \u001b[0m\u001b[1;4;36mhttps://github.com/keeweb/keeweb/blob/master/package.json\u001b[0m\n"
      ]
     },
     "metadata": {},
     "output_type": "display_data"
    },
    {
     "data": {
      "text/html": [
       "<pre style=\"white-space:pre;overflow-x:auto;line-height:normal;font-family:Menlo,'DejaVu Sans Mono',consolas,'Courier New',monospace\"><span style=\"color: #008080; text-decoration-color: #008080; font-weight: bold\">[+] Getting repo: </span><span style=\"color: #008080; text-decoration-color: #008080; font-weight: bold; text-decoration: underline\">https://github.com/tkainrad/keycombiner</span>\n",
       "</pre>\n"
      ],
      "text/plain": [
       "\u001b[1;36m[\u001b[0m\u001b[1;36m+\u001b[0m\u001b[1;36m]\u001b[0m\u001b[1;36m Getting repo: \u001b[0m\u001b[1;4;36mhttps://github.com/tkainrad/keycombiner\u001b[0m\n"
      ]
     },
     "metadata": {},
     "output_type": "display_data"
    },
    {
     "data": {
      "text/html": [
       "<pre style=\"white-space:pre;overflow-x:auto;line-height:normal;font-family:Menlo,'DejaVu Sans Mono',consolas,'Courier New',monospace\"><span style=\"color: #008080; text-decoration-color: #008080; font-weight: bold\">[+] Successfully retrieved repo: </span><span style=\"color: #008080; text-decoration-color: #008080; font-weight: bold; text-decoration: underline\">https://github.com/tkainrad/keycombiner</span>\n",
       "</pre>\n"
      ],
      "text/plain": [
       "\u001b[1;36m[\u001b[0m\u001b[1;36m+\u001b[0m\u001b[1;36m]\u001b[0m\u001b[1;36m Successfully retrieved repo: \u001b[0m\u001b[1;4;36mhttps://github.com/tkainrad/keycombiner\u001b[0m\n"
      ]
     },
     "metadata": {},
     "output_type": "display_data"
    },
    {
     "data": {
      "text/html": [
       "<pre style=\"white-space:pre;overflow-x:auto;line-height:normal;font-family:Menlo,'DejaVu Sans Mono',consolas,'Courier New',monospace\"><span style=\"color: #ff5f00; text-decoration-color: #ff5f00; font-weight: bold\">[!] Package.json not found at root; trying directories</span>\n",
       "</pre>\n"
      ],
      "text/plain": [
       "\u001b[1;38;5;202m[\u001b[0m\u001b[1;38;5;202m!\u001b[0m\u001b[1;38;5;202m]\u001b[0m\u001b[1;38;5;202m Package.json not found at root; trying directories\u001b[0m\n"
      ]
     },
     "metadata": {},
     "output_type": "display_data"
    },
    {
     "data": {
      "text/html": [
       "<pre style=\"white-space:pre;overflow-x:auto;line-height:normal;font-family:Menlo,'DejaVu Sans Mono',consolas,'Courier New',monospace\"><span style=\"color: #008080; text-decoration-color: #008080; font-weight: bold\">[+] Trying </span><span style=\"color: #008080; text-decoration-color: #008080; font-weight: bold; text-decoration: underline\">https://github.com/tkainrad/keycombiner/tree/main/.github/ISSUE_TEMPLATE</span>\n",
       "</pre>\n"
      ],
      "text/plain": [
       "\u001b[1;36m[\u001b[0m\u001b[1;36m+\u001b[0m\u001b[1;36m]\u001b[0m\u001b[1;36m Trying \u001b[0m\u001b[1;4;36mhttps://github.com/tkainrad/keycombiner/tree/main/.github/ISSUE_TEMPLATE\u001b[0m\n"
      ]
     },
     "metadata": {},
     "output_type": "display_data"
    },
    {
     "data": {
      "text/html": [
       "<pre style=\"white-space:pre;overflow-x:auto;line-height:normal;font-family:Menlo,'DejaVu Sans Mono',consolas,'Courier New',monospace\"><span style=\"color: #008080; text-decoration-color: #008080; font-weight: bold\">[+] Trying </span><span style=\"color: #008080; text-decoration-color: #008080; font-weight: bold; text-decoration: underline\">https://github.com/tkainrad/keycombiner/tree/main/Resources</span>\n",
       "</pre>\n"
      ],
      "text/plain": [
       "\u001b[1;36m[\u001b[0m\u001b[1;36m+\u001b[0m\u001b[1;36m]\u001b[0m\u001b[1;36m Trying \u001b[0m\u001b[1;4;36mhttps://github.com/tkainrad/keycombiner/tree/main/Resources\u001b[0m\n"
      ]
     },
     "metadata": {},
     "output_type": "display_data"
    },
    {
     "data": {
      "text/html": [
       "<pre style=\"white-space:pre;overflow-x:auto;line-height:normal;font-family:Menlo,'DejaVu Sans Mono',consolas,'Courier New',monospace\"><span style=\"color: #800000; text-decoration-color: #800000; font-weight: bold\">[💀] Could not find package.json in first-level-subdirs</span>\n",
       "</pre>\n"
      ],
      "text/plain": [
       "\u001b[1;31m[\u001b[0m\u001b[1;31m💀\u001b[0m\u001b[1;31m]\u001b[0m\u001b[1;31m Could not find package.json in first-level-subdirs\u001b[0m\n"
      ]
     },
     "metadata": {},
     "output_type": "display_data"
    },
    {
     "data": {
      "text/html": [
       "<pre style=\"white-space:pre;overflow-x:auto;line-height:normal;font-family:Menlo,'DejaVu Sans Mono',consolas,'Courier New',monospace\"><span style=\"color: #008080; text-decoration-color: #008080; font-weight: bold\">[+] Getting repo: </span><span style=\"color: #008080; text-decoration-color: #008080; font-weight: bold; text-decoration: underline\">https://github.com/Kinesis-CI/education-and-innovation</span>\n",
       "</pre>\n"
      ],
      "text/plain": [
       "\u001b[1;36m[\u001b[0m\u001b[1;36m+\u001b[0m\u001b[1;36m]\u001b[0m\u001b[1;36m Getting repo: \u001b[0m\u001b[1;4;36mhttps://github.com/Kinesis-CI/education-and-innovation\u001b[0m\n"
      ]
     },
     "metadata": {},
     "output_type": "display_data"
    },
    {
     "data": {
      "text/html": [
       "<pre style=\"white-space:pre;overflow-x:auto;line-height:normal;font-family:Menlo,'DejaVu Sans Mono',consolas,'Courier New',monospace\"><span style=\"color: #008080; text-decoration-color: #008080; font-weight: bold\">[+] Successfully retrieved repo: </span><span style=\"color: #008080; text-decoration-color: #008080; font-weight: bold; text-decoration: underline\">https://github.com/Kinesis-CI/education-and-innovation</span>\n",
       "</pre>\n"
      ],
      "text/plain": [
       "\u001b[1;36m[\u001b[0m\u001b[1;36m+\u001b[0m\u001b[1;36m]\u001b[0m\u001b[1;36m Successfully retrieved repo: \u001b[0m\u001b[1;4;36mhttps://github.com/Kinesis-CI/education-and-innovation\u001b[0m\n"
      ]
     },
     "metadata": {},
     "output_type": "display_data"
    },
    {
     "data": {
      "text/html": [
       "<pre style=\"white-space:pre;overflow-x:auto;line-height:normal;font-family:Menlo,'DejaVu Sans Mono',consolas,'Courier New',monospace\"><span style=\"color: #ff5f00; text-decoration-color: #ff5f00; font-weight: bold\">[!] Package.json not found at root; trying directories</span>\n",
       "</pre>\n"
      ],
      "text/plain": [
       "\u001b[1;38;5;202m[\u001b[0m\u001b[1;38;5;202m!\u001b[0m\u001b[1;38;5;202m]\u001b[0m\u001b[1;38;5;202m Package.json not found at root; trying directories\u001b[0m\n"
      ]
     },
     "metadata": {},
     "output_type": "display_data"
    },
    {
     "data": {
      "text/html": [
       "<pre style=\"white-space:pre;overflow-x:auto;line-height:normal;font-family:Menlo,'DejaVu Sans Mono',consolas,'Courier New',monospace\"><span style=\"color: #008080; text-decoration-color: #008080; font-weight: bold\">[+] Trying </span><span style=\"color: #008080; text-decoration-color: #008080; font-weight: bold; text-decoration: underline\">https://github.com/Kinesis-CI/education-and-innovation/tree/master/context</span>\n",
       "</pre>\n"
      ],
      "text/plain": [
       "\u001b[1;36m[\u001b[0m\u001b[1;36m+\u001b[0m\u001b[1;36m]\u001b[0m\u001b[1;36m Trying \u001b[0m\u001b[1;4;36mhttps://github.com/Kinesis-CI/education-and-innovation/tree/master/context\u001b[0m\n"
      ]
     },
     "metadata": {},
     "output_type": "display_data"
    },
    {
     "data": {
      "text/html": [
       "<pre style=\"white-space:pre;overflow-x:auto;line-height:normal;font-family:Menlo,'DejaVu Sans Mono',consolas,'Courier New',monospace\"><span style=\"color: #008080; text-decoration-color: #008080; font-weight: bold\">[+] Trying </span><span style=\"color: #008080; text-decoration-color: #008080; font-weight: bold; text-decoration: underline\">https://github.com/Kinesis-CI/education-and-innovation/tree/master/src</span>\n",
       "</pre>\n"
      ],
      "text/plain": [
       "\u001b[1;36m[\u001b[0m\u001b[1;36m+\u001b[0m\u001b[1;36m]\u001b[0m\u001b[1;36m Trying \u001b[0m\u001b[1;4;36mhttps://github.com/Kinesis-CI/education-and-innovation/tree/master/src\u001b[0m\n"
      ]
     },
     "metadata": {},
     "output_type": "display_data"
    },
    {
     "data": {
      "text/html": [
       "<pre style=\"white-space:pre;overflow-x:auto;line-height:normal;font-family:Menlo,'DejaVu Sans Mono',consolas,'Courier New',monospace\"><span style=\"color: #008080; text-decoration-color: #008080; font-weight: bold\">[+] Trying </span><span style=\"color: #008080; text-decoration-color: #008080; font-weight: bold; text-decoration: underline\">https://github.com/Kinesis-CI/education-and-innovation/tree/master/test</span>\n",
       "</pre>\n"
      ],
      "text/plain": [
       "\u001b[1;36m[\u001b[0m\u001b[1;36m+\u001b[0m\u001b[1;36m]\u001b[0m\u001b[1;36m Trying \u001b[0m\u001b[1;4;36mhttps://github.com/Kinesis-CI/education-and-innovation/tree/master/test\u001b[0m\n"
      ]
     },
     "metadata": {},
     "output_type": "display_data"
    },
    {
     "data": {
      "text/html": [
       "<pre style=\"white-space:pre;overflow-x:auto;line-height:normal;font-family:Menlo,'DejaVu Sans Mono',consolas,'Courier New',monospace\"><span style=\"color: #800000; text-decoration-color: #800000; font-weight: bold\">[💀] Could not find package.json in first-level-subdirs</span>\n",
       "</pre>\n"
      ],
      "text/plain": [
       "\u001b[1;31m[\u001b[0m\u001b[1;31m💀\u001b[0m\u001b[1;31m]\u001b[0m\u001b[1;31m Could not find package.json in first-level-subdirs\u001b[0m\n"
      ]
     },
     "metadata": {},
     "output_type": "display_data"
    },
    {
     "data": {
      "text/html": [
       "<pre style=\"white-space:pre;overflow-x:auto;line-height:normal;font-family:Menlo,'DejaVu Sans Mono',consolas,'Courier New',monospace\"><span style=\"color: #008080; text-decoration-color: #008080; font-weight: bold\">[+] Getting repo: </span><span style=\"color: #008080; text-decoration-color: #008080; font-weight: bold; text-decoration: underline\">https://github.com/digimezzo/knowte-electron</span>\n",
       "</pre>\n"
      ],
      "text/plain": [
       "\u001b[1;36m[\u001b[0m\u001b[1;36m+\u001b[0m\u001b[1;36m]\u001b[0m\u001b[1;36m Getting repo: \u001b[0m\u001b[1;4;36mhttps://github.com/digimezzo/knowte-electron\u001b[0m\n"
      ]
     },
     "metadata": {},
     "output_type": "display_data"
    },
    {
     "data": {
      "text/html": [
       "<pre style=\"white-space:pre;overflow-x:auto;line-height:normal;font-family:Menlo,'DejaVu Sans Mono',consolas,'Courier New',monospace\"><span style=\"color: #008080; text-decoration-color: #008080; font-weight: bold\">[+] Successfully retrieved repo: </span><span style=\"color: #008080; text-decoration-color: #008080; font-weight: bold; text-decoration: underline\">https://github.com/digimezzo/knowte-electron</span>\n",
       "</pre>\n"
      ],
      "text/plain": [
       "\u001b[1;36m[\u001b[0m\u001b[1;36m+\u001b[0m\u001b[1;36m]\u001b[0m\u001b[1;36m Successfully retrieved repo: \u001b[0m\u001b[1;4;36mhttps://github.com/digimezzo/knowte-electron\u001b[0m\n"
      ]
     },
     "metadata": {},
     "output_type": "display_data"
    },
    {
     "data": {
      "text/html": [
       "<pre style=\"white-space:pre;overflow-x:auto;line-height:normal;font-family:Menlo,'DejaVu Sans Mono',consolas,'Courier New',monospace\"><span style=\"color: #008080; text-decoration-color: #008080; font-weight: bold\">[+] Found package.json at /</span>\n",
       "</pre>\n"
      ],
      "text/plain": [
       "\u001b[1;36m[\u001b[0m\u001b[1;36m+\u001b[0m\u001b[1;36m]\u001b[0m\u001b[1;36m Found package.json at \u001b[0m\u001b[1;36m/\u001b[0m\n"
      ]
     },
     "metadata": {},
     "output_type": "display_data"
    },
    {
     "data": {
      "text/html": [
       "<pre style=\"white-space:pre;overflow-x:auto;line-height:normal;font-family:Menlo,'DejaVu Sans Mono',consolas,'Courier New',monospace\"><span style=\"color: #008080; text-decoration-color: #008080; font-weight: bold\">[+] Getting </span><span style=\"color: #008080; text-decoration-color: #008080; font-weight: bold; text-decoration: underline\">https://github.com/digimezzo/knowte/blob/master/package.json</span>\n",
       "</pre>\n"
      ],
      "text/plain": [
       "\u001b[1;36m[\u001b[0m\u001b[1;36m+\u001b[0m\u001b[1;36m]\u001b[0m\u001b[1;36m Getting \u001b[0m\u001b[1;4;36mhttps://github.com/digimezzo/knowte/blob/master/package.json\u001b[0m\n"
      ]
     },
     "metadata": {},
     "output_type": "display_data"
    },
    {
     "data": {
      "text/html": [
       "<pre style=\"white-space:pre;overflow-x:auto;line-height:normal;font-family:Menlo,'DejaVu Sans Mono',consolas,'Courier New',monospace\"><span style=\"color: #008080; text-decoration-color: #008080; font-weight: bold\">[+] Getting repo: </span><span style=\"color: #008080; text-decoration-color: #008080; font-weight: bold; text-decoration: underline\">https://github.com/prsh9/KubeCtl-Dashboard</span>\n",
       "</pre>\n"
      ],
      "text/plain": [
       "\u001b[1;36m[\u001b[0m\u001b[1;36m+\u001b[0m\u001b[1;36m]\u001b[0m\u001b[1;36m Getting repo: \u001b[0m\u001b[1;4;36mhttps://github.com/prsh9/KubeCtl-Dashboard\u001b[0m\n"
      ]
     },
     "metadata": {},
     "output_type": "display_data"
    },
    {
     "data": {
      "text/html": [
       "<pre style=\"white-space:pre;overflow-x:auto;line-height:normal;font-family:Menlo,'DejaVu Sans Mono',consolas,'Courier New',monospace\"><span style=\"color: #008080; text-decoration-color: #008080; font-weight: bold\">[+] Successfully retrieved repo: </span><span style=\"color: #008080; text-decoration-color: #008080; font-weight: bold; text-decoration: underline\">https://github.com/prsh9/KubeCtl-Dashboard</span>\n",
       "</pre>\n"
      ],
      "text/plain": [
       "\u001b[1;36m[\u001b[0m\u001b[1;36m+\u001b[0m\u001b[1;36m]\u001b[0m\u001b[1;36m Successfully retrieved repo: \u001b[0m\u001b[1;4;36mhttps://github.com/prsh9/KubeCtl-Dashboard\u001b[0m\n"
      ]
     },
     "metadata": {},
     "output_type": "display_data"
    },
    {
     "data": {
      "text/html": [
       "<pre style=\"white-space:pre;overflow-x:auto;line-height:normal;font-family:Menlo,'DejaVu Sans Mono',consolas,'Courier New',monospace\"><span style=\"color: #008080; text-decoration-color: #008080; font-weight: bold\">[+] Found package.json at /</span>\n",
       "</pre>\n"
      ],
      "text/plain": [
       "\u001b[1;36m[\u001b[0m\u001b[1;36m+\u001b[0m\u001b[1;36m]\u001b[0m\u001b[1;36m Found package.json at \u001b[0m\u001b[1;36m/\u001b[0m\n"
      ]
     },
     "metadata": {},
     "output_type": "display_data"
    },
    {
     "data": {
      "text/html": [
       "<pre style=\"white-space:pre;overflow-x:auto;line-height:normal;font-family:Menlo,'DejaVu Sans Mono',consolas,'Courier New',monospace\"><span style=\"color: #008080; text-decoration-color: #008080; font-weight: bold\">[+] Getting </span><span style=\"color: #008080; text-decoration-color: #008080; font-weight: bold; text-decoration: underline\">https://github.com/prsh9/kubectl-dashboard/blob/master/package.json</span>\n",
       "</pre>\n"
      ],
      "text/plain": [
       "\u001b[1;36m[\u001b[0m\u001b[1;36m+\u001b[0m\u001b[1;36m]\u001b[0m\u001b[1;36m Getting \u001b[0m\u001b[1;4;36mhttps://github.com/prsh9/kubectl-dashboard/blob/master/package.json\u001b[0m\n"
      ]
     },
     "metadata": {},
     "output_type": "display_data"
    },
    {
     "data": {
      "text/html": [
       "<pre style=\"white-space:pre;overflow-x:auto;line-height:normal;font-family:Menlo,'DejaVu Sans Mono',consolas,'Courier New',monospace\"><span style=\"color: #008080; text-decoration-color: #008080; font-weight: bold\">[+] Getting repo: </span><span style=\"color: #008080; text-decoration-color: #008080; font-weight: bold; text-decoration: underline\">https://github.com/pixel-point/kube-forwarder</span>\n",
       "</pre>\n"
      ],
      "text/plain": [
       "\u001b[1;36m[\u001b[0m\u001b[1;36m+\u001b[0m\u001b[1;36m]\u001b[0m\u001b[1;36m Getting repo: \u001b[0m\u001b[1;4;36mhttps://github.com/pixel-point/kube-forwarder\u001b[0m\n"
      ]
     },
     "metadata": {},
     "output_type": "display_data"
    },
    {
     "data": {
      "text/html": [
       "<pre style=\"white-space:pre;overflow-x:auto;line-height:normal;font-family:Menlo,'DejaVu Sans Mono',consolas,'Courier New',monospace\"><span style=\"color: #008080; text-decoration-color: #008080; font-weight: bold\">[+] Successfully retrieved repo: </span><span style=\"color: #008080; text-decoration-color: #008080; font-weight: bold; text-decoration: underline\">https://github.com/pixel-point/kube-forwarder</span>\n",
       "</pre>\n"
      ],
      "text/plain": [
       "\u001b[1;36m[\u001b[0m\u001b[1;36m+\u001b[0m\u001b[1;36m]\u001b[0m\u001b[1;36m Successfully retrieved repo: \u001b[0m\u001b[1;4;36mhttps://github.com/pixel-point/kube-forwarder\u001b[0m\n"
      ]
     },
     "metadata": {},
     "output_type": "display_data"
    },
    {
     "data": {
      "text/html": [
       "<pre style=\"white-space:pre;overflow-x:auto;line-height:normal;font-family:Menlo,'DejaVu Sans Mono',consolas,'Courier New',monospace\"><span style=\"color: #008080; text-decoration-color: #008080; font-weight: bold\">[+] Found package.json at /</span>\n",
       "</pre>\n"
      ],
      "text/plain": [
       "\u001b[1;36m[\u001b[0m\u001b[1;36m+\u001b[0m\u001b[1;36m]\u001b[0m\u001b[1;36m Found package.json at \u001b[0m\u001b[1;36m/\u001b[0m\n"
      ]
     },
     "metadata": {},
     "output_type": "display_data"
    },
    {
     "data": {
      "text/html": [
       "<pre style=\"white-space:pre;overflow-x:auto;line-height:normal;font-family:Menlo,'DejaVu Sans Mono',consolas,'Courier New',monospace\"><span style=\"color: #008080; text-decoration-color: #008080; font-weight: bold\">[+] Getting </span><span style=\"color: #008080; text-decoration-color: #008080; font-weight: bold; text-decoration: underline\">https://github.com/pixel-point/kube-forwarder/blob/master/package.json</span>\n",
       "</pre>\n"
      ],
      "text/plain": [
       "\u001b[1;36m[\u001b[0m\u001b[1;36m+\u001b[0m\u001b[1;36m]\u001b[0m\u001b[1;36m Getting \u001b[0m\u001b[1;4;36mhttps://github.com/pixel-point/kube-forwarder/blob/master/package.json\u001b[0m\n"
      ]
     },
     "metadata": {},
     "output_type": "display_data"
    },
    {
     "data": {
      "text/html": [
       "<pre style=\"white-space:pre;overflow-x:auto;line-height:normal;font-family:Menlo,'DejaVu Sans Mono',consolas,'Courier New',monospace\"><span style=\"color: #008080; text-decoration-color: #008080; font-weight: bold\">[+] Getting repo: </span><span style=\"color: #008080; text-decoration-color: #008080; font-weight: bold; text-decoration: underline\">https://github.com/laradumps/app</span>\n",
       "</pre>\n"
      ],
      "text/plain": [
       "\u001b[1;36m[\u001b[0m\u001b[1;36m+\u001b[0m\u001b[1;36m]\u001b[0m\u001b[1;36m Getting repo: \u001b[0m\u001b[1;4;36mhttps://github.com/laradumps/app\u001b[0m\n"
      ]
     },
     "metadata": {},
     "output_type": "display_data"
    },
    {
     "data": {
      "text/html": [
       "<pre style=\"white-space:pre;overflow-x:auto;line-height:normal;font-family:Menlo,'DejaVu Sans Mono',consolas,'Courier New',monospace\"><span style=\"color: #008080; text-decoration-color: #008080; font-weight: bold\">[+] Successfully retrieved repo: </span><span style=\"color: #008080; text-decoration-color: #008080; font-weight: bold; text-decoration: underline\">https://github.com/laradumps/app</span>\n",
       "</pre>\n"
      ],
      "text/plain": [
       "\u001b[1;36m[\u001b[0m\u001b[1;36m+\u001b[0m\u001b[1;36m]\u001b[0m\u001b[1;36m Successfully retrieved repo: \u001b[0m\u001b[1;4;36mhttps://github.com/laradumps/app\u001b[0m\n"
      ]
     },
     "metadata": {},
     "output_type": "display_data"
    },
    {
     "data": {
      "text/html": [
       "<pre style=\"white-space:pre;overflow-x:auto;line-height:normal;font-family:Menlo,'DejaVu Sans Mono',consolas,'Courier New',monospace\"><span style=\"color: #008080; text-decoration-color: #008080; font-weight: bold\">[+] Found package.json at /</span>\n",
       "</pre>\n"
      ],
      "text/plain": [
       "\u001b[1;36m[\u001b[0m\u001b[1;36m+\u001b[0m\u001b[1;36m]\u001b[0m\u001b[1;36m Found package.json at \u001b[0m\u001b[1;36m/\u001b[0m\n"
      ]
     },
     "metadata": {},
     "output_type": "display_data"
    },
    {
     "data": {
      "text/html": [
       "<pre style=\"white-space:pre;overflow-x:auto;line-height:normal;font-family:Menlo,'DejaVu Sans Mono',consolas,'Courier New',monospace\"><span style=\"color: #008080; text-decoration-color: #008080; font-weight: bold\">[+] Getting </span><span style=\"color: #008080; text-decoration-color: #008080; font-weight: bold; text-decoration: underline\">https://github.com/laradumps/app/blob/2.x/package.json</span>\n",
       "</pre>\n"
      ],
      "text/plain": [
       "\u001b[1;36m[\u001b[0m\u001b[1;36m+\u001b[0m\u001b[1;36m]\u001b[0m\u001b[1;36m Getting \u001b[0m\u001b[1;4;36mhttps://github.com/laradumps/app/blob/2.x/package.json\u001b[0m\n"
      ]
     },
     "metadata": {},
     "output_type": "display_data"
    },
    {
     "data": {
      "text/html": [
       "<pre style=\"white-space:pre;overflow-x:auto;line-height:normal;font-family:Menlo,'DejaVu Sans Mono',consolas,'Courier New',monospace\"><span style=\"color: #008080; text-decoration-color: #008080; font-weight: bold\">[+] Getting repo: </span><span style=\"color: #008080; text-decoration-color: #008080; font-weight: bold; text-decoration: underline\">https://github.com/tmdh/laravel-kit</span>\n",
       "</pre>\n"
      ],
      "text/plain": [
       "\u001b[1;36m[\u001b[0m\u001b[1;36m+\u001b[0m\u001b[1;36m]\u001b[0m\u001b[1;36m Getting repo: \u001b[0m\u001b[1;4;36mhttps://github.com/tmdh/laravel-kit\u001b[0m\n"
      ]
     },
     "metadata": {},
     "output_type": "display_data"
    },
    {
     "data": {
      "text/html": [
       "<pre style=\"white-space:pre;overflow-x:auto;line-height:normal;font-family:Menlo,'DejaVu Sans Mono',consolas,'Courier New',monospace\"><span style=\"color: #008080; text-decoration-color: #008080; font-weight: bold\">[+] Successfully retrieved repo: </span><span style=\"color: #008080; text-decoration-color: #008080; font-weight: bold; text-decoration: underline\">https://github.com/tmdh/laravel-kit</span>\n",
       "</pre>\n"
      ],
      "text/plain": [
       "\u001b[1;36m[\u001b[0m\u001b[1;36m+\u001b[0m\u001b[1;36m]\u001b[0m\u001b[1;36m Successfully retrieved repo: \u001b[0m\u001b[1;4;36mhttps://github.com/tmdh/laravel-kit\u001b[0m\n"
      ]
     },
     "metadata": {},
     "output_type": "display_data"
    },
    {
     "data": {
      "text/html": [
       "<pre style=\"white-space:pre;overflow-x:auto;line-height:normal;font-family:Menlo,'DejaVu Sans Mono',consolas,'Courier New',monospace\"><span style=\"color: #008080; text-decoration-color: #008080; font-weight: bold\">[+] Found package.json at /</span>\n",
       "</pre>\n"
      ],
      "text/plain": [
       "\u001b[1;36m[\u001b[0m\u001b[1;36m+\u001b[0m\u001b[1;36m]\u001b[0m\u001b[1;36m Found package.json at \u001b[0m\u001b[1;36m/\u001b[0m\n"
      ]
     },
     "metadata": {},
     "output_type": "display_data"
    },
    {
     "data": {
      "text/html": [
       "<pre style=\"white-space:pre;overflow-x:auto;line-height:normal;font-family:Menlo,'DejaVu Sans Mono',consolas,'Courier New',monospace\"><span style=\"color: #008080; text-decoration-color: #008080; font-weight: bold\">[+] Getting </span><span style=\"color: #008080; text-decoration-color: #008080; font-weight: bold; text-decoration: underline\">https://github.com/tmdh/laravel-kit/blob/master/package.json</span>\n",
       "</pre>\n"
      ],
      "text/plain": [
       "\u001b[1;36m[\u001b[0m\u001b[1;36m+\u001b[0m\u001b[1;36m]\u001b[0m\u001b[1;36m Getting \u001b[0m\u001b[1;4;36mhttps://github.com/tmdh/laravel-kit/blob/master/package.json\u001b[0m\n"
      ]
     },
     "metadata": {},
     "output_type": "display_data"
    },
    {
     "data": {
      "text/html": [
       "<pre style=\"white-space:pre;overflow-x:auto;line-height:normal;font-family:Menlo,'DejaVu Sans Mono',consolas,'Courier New',monospace\"><span style=\"color: #008080; text-decoration-color: #008080; font-weight: bold\">[+] Getting repo: </span><span style=\"color: #008080; text-decoration-color: #008080; font-weight: bold; text-decoration: underline\">https://github.com/last-hit-aab/last-hit</span>\n",
       "</pre>\n"
      ],
      "text/plain": [
       "\u001b[1;36m[\u001b[0m\u001b[1;36m+\u001b[0m\u001b[1;36m]\u001b[0m\u001b[1;36m Getting repo: \u001b[0m\u001b[1;4;36mhttps://github.com/last-hit-aab/last-hit\u001b[0m\n"
      ]
     },
     "metadata": {},
     "output_type": "display_data"
    },
    {
     "data": {
      "text/html": [
       "<pre style=\"white-space:pre;overflow-x:auto;line-height:normal;font-family:Menlo,'DejaVu Sans Mono',consolas,'Courier New',monospace\"><span style=\"color: #008080; text-decoration-color: #008080; font-weight: bold\">[+] Successfully retrieved repo: </span><span style=\"color: #008080; text-decoration-color: #008080; font-weight: bold; text-decoration: underline\">https://github.com/last-hit-aab/last-hit</span>\n",
       "</pre>\n"
      ],
      "text/plain": [
       "\u001b[1;36m[\u001b[0m\u001b[1;36m+\u001b[0m\u001b[1;36m]\u001b[0m\u001b[1;36m Successfully retrieved repo: \u001b[0m\u001b[1;4;36mhttps://github.com/last-hit-aab/last-hit\u001b[0m\n"
      ]
     },
     "metadata": {},
     "output_type": "display_data"
    },
    {
     "data": {
      "text/html": [
       "<pre style=\"white-space:pre;overflow-x:auto;line-height:normal;font-family:Menlo,'DejaVu Sans Mono',consolas,'Courier New',monospace\"><span style=\"color: #008080; text-decoration-color: #008080; font-weight: bold\">[+] Found package.json at /</span>\n",
       "</pre>\n"
      ],
      "text/plain": [
       "\u001b[1;36m[\u001b[0m\u001b[1;36m+\u001b[0m\u001b[1;36m]\u001b[0m\u001b[1;36m Found package.json at \u001b[0m\u001b[1;36m/\u001b[0m\n"
      ]
     },
     "metadata": {},
     "output_type": "display_data"
    },
    {
     "data": {
      "text/html": [
       "<pre style=\"white-space:pre;overflow-x:auto;line-height:normal;font-family:Menlo,'DejaVu Sans Mono',consolas,'Courier New',monospace\"><span style=\"color: #008080; text-decoration-color: #008080; font-weight: bold\">[+] Getting </span><span style=\"color: #008080; text-decoration-color: #008080; font-weight: bold; text-decoration: underline\">https://github.com/last-hit-aab/last-hit/blob/master/package.json</span>\n",
       "</pre>\n"
      ],
      "text/plain": [
       "\u001b[1;36m[\u001b[0m\u001b[1;36m+\u001b[0m\u001b[1;36m]\u001b[0m\u001b[1;36m Getting \u001b[0m\u001b[1;4;36mhttps://github.com/last-hit-aab/last-hit/blob/master/package.json\u001b[0m\n"
      ]
     },
     "metadata": {},
     "output_type": "display_data"
    },
    {
     "data": {
      "text/html": [
       "<pre style=\"white-space:pre;overflow-x:auto;line-height:normal;font-family:Menlo,'DejaVu Sans Mono',consolas,'Courier New',monospace\"><span style=\"color: #008080; text-decoration-color: #008080; font-weight: bold\">[+] Getting repo: </span><span style=\"color: #008080; text-decoration-color: #008080; font-weight: bold; text-decoration: underline\">https://github.com/lbryio/lbry-desktop</span>\n",
       "</pre>\n"
      ],
      "text/plain": [
       "\u001b[1;36m[\u001b[0m\u001b[1;36m+\u001b[0m\u001b[1;36m]\u001b[0m\u001b[1;36m Getting repo: \u001b[0m\u001b[1;4;36mhttps://github.com/lbryio/lbry-desktop\u001b[0m\n"
      ]
     },
     "metadata": {},
     "output_type": "display_data"
    },
    {
     "data": {
      "text/html": [
       "<pre style=\"white-space:pre;overflow-x:auto;line-height:normal;font-family:Menlo,'DejaVu Sans Mono',consolas,'Courier New',monospace\"><span style=\"color: #008080; text-decoration-color: #008080; font-weight: bold\">[+] Successfully retrieved repo: </span><span style=\"color: #008080; text-decoration-color: #008080; font-weight: bold; text-decoration: underline\">https://github.com/lbryio/lbry-desktop</span>\n",
       "</pre>\n"
      ],
      "text/plain": [
       "\u001b[1;36m[\u001b[0m\u001b[1;36m+\u001b[0m\u001b[1;36m]\u001b[0m\u001b[1;36m Successfully retrieved repo: \u001b[0m\u001b[1;4;36mhttps://github.com/lbryio/lbry-desktop\u001b[0m\n"
      ]
     },
     "metadata": {},
     "output_type": "display_data"
    },
    {
     "data": {
      "text/html": [
       "<pre style=\"white-space:pre;overflow-x:auto;line-height:normal;font-family:Menlo,'DejaVu Sans Mono',consolas,'Courier New',monospace\"><span style=\"color: #008080; text-decoration-color: #008080; font-weight: bold\">[+] Found package.json at /</span>\n",
       "</pre>\n"
      ],
      "text/plain": [
       "\u001b[1;36m[\u001b[0m\u001b[1;36m+\u001b[0m\u001b[1;36m]\u001b[0m\u001b[1;36m Found package.json at \u001b[0m\u001b[1;36m/\u001b[0m\n"
      ]
     },
     "metadata": {},
     "output_type": "display_data"
    },
    {
     "data": {
      "text/html": [
       "<pre style=\"white-space:pre;overflow-x:auto;line-height:normal;font-family:Menlo,'DejaVu Sans Mono',consolas,'Courier New',monospace\"><span style=\"color: #008080; text-decoration-color: #008080; font-weight: bold\">[+] Getting </span><span style=\"color: #008080; text-decoration-color: #008080; font-weight: bold; text-decoration: underline\">https://github.com/lbryio/lbry-desktop/blob/master/package.json</span>\n",
       "</pre>\n"
      ],
      "text/plain": [
       "\u001b[1;36m[\u001b[0m\u001b[1;36m+\u001b[0m\u001b[1;36m]\u001b[0m\u001b[1;36m Getting \u001b[0m\u001b[1;4;36mhttps://github.com/lbryio/lbry-desktop/blob/master/package.json\u001b[0m\n"
      ]
     },
     "metadata": {},
     "output_type": "display_data"
    },
    {
     "data": {
      "text/html": [
       "<pre style=\"white-space:pre;overflow-x:auto;line-height:normal;font-family:Menlo,'DejaVu Sans Mono',consolas,'Courier New',monospace\"><span style=\"color: #008080; text-decoration-color: #008080; font-weight: bold\">[+] Getting repo: </span><span style=\"color: #008080; text-decoration-color: #008080; font-weight: bold; text-decoration: underline\">https://hundredrabbits.itch.io/left</span>\n",
       "</pre>\n"
      ],
      "text/plain": [
       "\u001b[1;36m[\u001b[0m\u001b[1;36m+\u001b[0m\u001b[1;36m]\u001b[0m\u001b[1;36m Getting repo: \u001b[0m\u001b[1;4;36mhttps://hundredrabbits.itch.io/left\u001b[0m\n"
      ]
     },
     "metadata": {},
     "output_type": "display_data"
    },
    {
     "data": {
      "text/html": [
       "<pre style=\"white-space:pre;overflow-x:auto;line-height:normal;font-family:Menlo,'DejaVu Sans Mono',consolas,'Courier New',monospace\"><span style=\"color: #008080; text-decoration-color: #008080; font-weight: bold\">[+] Successfully retrieved repo: </span><span style=\"color: #008080; text-decoration-color: #008080; font-weight: bold; text-decoration: underline\">https://hundredrabbits.itch.io/left</span>\n",
       "</pre>\n"
      ],
      "text/plain": [
       "\u001b[1;36m[\u001b[0m\u001b[1;36m+\u001b[0m\u001b[1;36m]\u001b[0m\u001b[1;36m Successfully retrieved repo: \u001b[0m\u001b[1;4;36mhttps://hundredrabbits.itch.io/left\u001b[0m\n"
      ]
     },
     "metadata": {},
     "output_type": "display_data"
    },
    {
     "data": {
      "text/html": [
       "<pre style=\"white-space:pre;overflow-x:auto;line-height:normal;font-family:Menlo,'DejaVu Sans Mono',consolas,'Courier New',monospace\"><span style=\"color: #ff5f00; text-decoration-color: #ff5f00; font-weight: bold\">[!] Package.json not found at root; trying directories</span>\n",
       "</pre>\n"
      ],
      "text/plain": [
       "\u001b[1;38;5;202m[\u001b[0m\u001b[1;38;5;202m!\u001b[0m\u001b[1;38;5;202m]\u001b[0m\u001b[1;38;5;202m Package.json not found at root; trying directories\u001b[0m\n"
      ]
     },
     "metadata": {},
     "output_type": "display_data"
    },
    {
     "data": {
      "text/html": [
       "<pre style=\"white-space:pre;overflow-x:auto;line-height:normal;font-family:Menlo,'DejaVu Sans Mono',consolas,'Courier New',monospace\"><span style=\"color: #800000; text-decoration-color: #800000; font-weight: bold\">[💀] Could not find package.json in first-level-subdirs</span>\n",
       "</pre>\n"
      ],
      "text/plain": [
       "\u001b[1;31m[\u001b[0m\u001b[1;31m💀\u001b[0m\u001b[1;31m]\u001b[0m\u001b[1;31m Could not find package.json in first-level-subdirs\u001b[0m\n"
      ]
     },
     "metadata": {},
     "output_type": "display_data"
    },
    {
     "data": {
      "text/html": [
       "<pre style=\"white-space:pre;overflow-x:auto;line-height:normal;font-family:Menlo,'DejaVu Sans Mono',consolas,'Courier New',monospace\"><span style=\"color: #008080; text-decoration-color: #008080; font-weight: bold\">[+] Getting repo: </span><span style=\"color: #008080; text-decoration-color: #008080; font-weight: bold; text-decoration: underline\">https://github.com/hackjutsu/Lepton</span>\n",
       "</pre>\n"
      ],
      "text/plain": [
       "\u001b[1;36m[\u001b[0m\u001b[1;36m+\u001b[0m\u001b[1;36m]\u001b[0m\u001b[1;36m Getting repo: \u001b[0m\u001b[1;4;36mhttps://github.com/hackjutsu/Lepton\u001b[0m\n"
      ]
     },
     "metadata": {},
     "output_type": "display_data"
    },
    {
     "data": {
      "text/html": [
       "<pre style=\"white-space:pre;overflow-x:auto;line-height:normal;font-family:Menlo,'DejaVu Sans Mono',consolas,'Courier New',monospace\"><span style=\"color: #008080; text-decoration-color: #008080; font-weight: bold\">[+] Successfully retrieved repo: </span><span style=\"color: #008080; text-decoration-color: #008080; font-weight: bold; text-decoration: underline\">https://github.com/hackjutsu/Lepton</span>\n",
       "</pre>\n"
      ],
      "text/plain": [
       "\u001b[1;36m[\u001b[0m\u001b[1;36m+\u001b[0m\u001b[1;36m]\u001b[0m\u001b[1;36m Successfully retrieved repo: \u001b[0m\u001b[1;4;36mhttps://github.com/hackjutsu/Lepton\u001b[0m\n"
      ]
     },
     "metadata": {},
     "output_type": "display_data"
    },
    {
     "data": {
      "text/html": [
       "<pre style=\"white-space:pre;overflow-x:auto;line-height:normal;font-family:Menlo,'DejaVu Sans Mono',consolas,'Courier New',monospace\"><span style=\"color: #008080; text-decoration-color: #008080; font-weight: bold\">[+] Found package.json at /</span>\n",
       "</pre>\n"
      ],
      "text/plain": [
       "\u001b[1;36m[\u001b[0m\u001b[1;36m+\u001b[0m\u001b[1;36m]\u001b[0m\u001b[1;36m Found package.json at \u001b[0m\u001b[1;36m/\u001b[0m\n"
      ]
     },
     "metadata": {},
     "output_type": "display_data"
    },
    {
     "data": {
      "text/html": [
       "<pre style=\"white-space:pre;overflow-x:auto;line-height:normal;font-family:Menlo,'DejaVu Sans Mono',consolas,'Courier New',monospace\"><span style=\"color: #008080; text-decoration-color: #008080; font-weight: bold\">[+] Getting </span><span style=\"color: #008080; text-decoration-color: #008080; font-weight: bold; text-decoration: underline\">https://github.com/hackjutsu/Lepton/blob/master/package.json</span>\n",
       "</pre>\n"
      ],
      "text/plain": [
       "\u001b[1;36m[\u001b[0m\u001b[1;36m+\u001b[0m\u001b[1;36m]\u001b[0m\u001b[1;36m Getting \u001b[0m\u001b[1;4;36mhttps://github.com/hackjutsu/Lepton/blob/master/package.json\u001b[0m\n"
      ]
     },
     "metadata": {},
     "output_type": "display_data"
    },
    {
     "data": {
      "text/html": [
       "<pre style=\"white-space:pre;overflow-x:auto;line-height:normal;font-family:Menlo,'DejaVu Sans Mono',consolas,'Courier New',monospace\"><span style=\"color: #008080; text-decoration-color: #008080; font-weight: bold\">[+] Getting repo: </span><span style=\"color: #008080; text-decoration-color: #008080; font-weight: bold; text-decoration: underline\">https://github.com/sachinchoolur/lightgallery-desktop</span>\n",
       "</pre>\n"
      ],
      "text/plain": [
       "\u001b[1;36m[\u001b[0m\u001b[1;36m+\u001b[0m\u001b[1;36m]\u001b[0m\u001b[1;36m Getting repo: \u001b[0m\u001b[1;4;36mhttps://github.com/sachinchoolur/lightgallery-desktop\u001b[0m\n"
      ]
     },
     "metadata": {},
     "output_type": "display_data"
    },
    {
     "data": {
      "text/html": [
       "<pre style=\"white-space:pre;overflow-x:auto;line-height:normal;font-family:Menlo,'DejaVu Sans Mono',consolas,'Courier New',monospace\"><span style=\"color: #008080; text-decoration-color: #008080; font-weight: bold\">[+] Successfully retrieved repo: </span><span style=\"color: #008080; text-decoration-color: #008080; font-weight: bold; text-decoration: underline\">https://github.com/sachinchoolur/lightgallery-desktop</span>\n",
       "</pre>\n"
      ],
      "text/plain": [
       "\u001b[1;36m[\u001b[0m\u001b[1;36m+\u001b[0m\u001b[1;36m]\u001b[0m\u001b[1;36m Successfully retrieved repo: \u001b[0m\u001b[1;4;36mhttps://github.com/sachinchoolur/lightgallery-desktop\u001b[0m\n"
      ]
     },
     "metadata": {},
     "output_type": "display_data"
    },
    {
     "data": {
      "text/html": [
       "<pre style=\"white-space:pre;overflow-x:auto;line-height:normal;font-family:Menlo,'DejaVu Sans Mono',consolas,'Courier New',monospace\"><span style=\"color: #008080; text-decoration-color: #008080; font-weight: bold\">[+] Found package.json at /</span>\n",
       "</pre>\n"
      ],
      "text/plain": [
       "\u001b[1;36m[\u001b[0m\u001b[1;36m+\u001b[0m\u001b[1;36m]\u001b[0m\u001b[1;36m Found package.json at \u001b[0m\u001b[1;36m/\u001b[0m\n"
      ]
     },
     "metadata": {},
     "output_type": "display_data"
    },
    {
     "data": {
      "text/html": [
       "<pre style=\"white-space:pre;overflow-x:auto;line-height:normal;font-family:Menlo,'DejaVu Sans Mono',consolas,'Courier New',monospace\"><span style=\"color: #008080; text-decoration-color: #008080; font-weight: bold\">[+] Getting </span><span style=\"color: #008080; text-decoration-color: #008080; font-weight: bold; text-decoration: underline\">https://github.com/sachinchoolur/lightgallery-desktop/blob/master/package.json</span>\n",
       "</pre>\n"
      ],
      "text/plain": [
       "\u001b[1;36m[\u001b[0m\u001b[1;36m+\u001b[0m\u001b[1;36m]\u001b[0m\u001b[1;36m Getting \u001b[0m\u001b[1;4;36mhttps://github.com/sachinchoolur/lightgallery-desktop/blob/master/package.json\u001b[0m\n"
      ]
     },
     "metadata": {},
     "output_type": "display_data"
    },
    {
     "data": {
      "text/html": [
       "<pre style=\"white-space:pre;overflow-x:auto;line-height:normal;font-family:Menlo,'DejaVu Sans Mono',consolas,'Courier New',monospace\"><span style=\"color: #008080; text-decoration-color: #008080; font-weight: bold\">[+] Getting repo: </span><span style=\"color: #008080; text-decoration-color: #008080; font-weight: bold; text-decoration: underline\">https://github.com/lostdesign/linked</span>\n",
       "</pre>\n"
      ],
      "text/plain": [
       "\u001b[1;36m[\u001b[0m\u001b[1;36m+\u001b[0m\u001b[1;36m]\u001b[0m\u001b[1;36m Getting repo: \u001b[0m\u001b[1;4;36mhttps://github.com/lostdesign/linked\u001b[0m\n"
      ]
     },
     "metadata": {},
     "output_type": "display_data"
    },
    {
     "data": {
      "text/html": [
       "<pre style=\"white-space:pre;overflow-x:auto;line-height:normal;font-family:Menlo,'DejaVu Sans Mono',consolas,'Courier New',monospace\"><span style=\"color: #008080; text-decoration-color: #008080; font-weight: bold\">[+] Successfully retrieved repo: </span><span style=\"color: #008080; text-decoration-color: #008080; font-weight: bold; text-decoration: underline\">https://github.com/lostdesign/linked</span>\n",
       "</pre>\n"
      ],
      "text/plain": [
       "\u001b[1;36m[\u001b[0m\u001b[1;36m+\u001b[0m\u001b[1;36m]\u001b[0m\u001b[1;36m Successfully retrieved repo: \u001b[0m\u001b[1;4;36mhttps://github.com/lostdesign/linked\u001b[0m\n"
      ]
     },
     "metadata": {},
     "output_type": "display_data"
    },
    {
     "data": {
      "text/html": [
       "<pre style=\"white-space:pre;overflow-x:auto;line-height:normal;font-family:Menlo,'DejaVu Sans Mono',consolas,'Courier New',monospace\"><span style=\"color: #008080; text-decoration-color: #008080; font-weight: bold\">[+] Found package.json at /</span>\n",
       "</pre>\n"
      ],
      "text/plain": [
       "\u001b[1;36m[\u001b[0m\u001b[1;36m+\u001b[0m\u001b[1;36m]\u001b[0m\u001b[1;36m Found package.json at \u001b[0m\u001b[1;36m/\u001b[0m\n"
      ]
     },
     "metadata": {},
     "output_type": "display_data"
    },
    {
     "data": {
      "text/html": [
       "<pre style=\"white-space:pre;overflow-x:auto;line-height:normal;font-family:Menlo,'DejaVu Sans Mono',consolas,'Courier New',monospace\"><span style=\"color: #008080; text-decoration-color: #008080; font-weight: bold\">[+] Getting </span><span style=\"color: #008080; text-decoration-color: #008080; font-weight: bold; text-decoration: underline\">https://github.com/lostdesign/linked/blob/master/package.json</span>\n",
       "</pre>\n"
      ],
      "text/plain": [
       "\u001b[1;36m[\u001b[0m\u001b[1;36m+\u001b[0m\u001b[1;36m]\u001b[0m\u001b[1;36m Getting \u001b[0m\u001b[1;4;36mhttps://github.com/lostdesign/linked/blob/master/package.json\u001b[0m\n"
      ]
     },
     "metadata": {},
     "output_type": "display_data"
    },
    {
     "data": {
      "text/html": [
       "<pre style=\"white-space:pre;overflow-x:auto;line-height:normal;font-family:Menlo,'DejaVu Sans Mono',consolas,'Courier New',monospace\"><span style=\"color: #008080; text-decoration-color: #008080; font-weight: bold\">[+] Getting repo: </span><span style=\"color: #008080; text-decoration-color: #008080; font-weight: bold; text-decoration: underline\">https://github.com/LiskHQ/lisk-hub</span>\n",
       "</pre>\n"
      ],
      "text/plain": [
       "\u001b[1;36m[\u001b[0m\u001b[1;36m+\u001b[0m\u001b[1;36m]\u001b[0m\u001b[1;36m Getting repo: \u001b[0m\u001b[1;4;36mhttps://github.com/LiskHQ/lisk-hub\u001b[0m\n"
      ]
     },
     "metadata": {},
     "output_type": "display_data"
    },
    {
     "data": {
      "text/html": [
       "<pre style=\"white-space:pre;overflow-x:auto;line-height:normal;font-family:Menlo,'DejaVu Sans Mono',consolas,'Courier New',monospace\"><span style=\"color: #008080; text-decoration-color: #008080; font-weight: bold\">[+] Successfully retrieved repo: </span><span style=\"color: #008080; text-decoration-color: #008080; font-weight: bold; text-decoration: underline\">https://github.com/LiskHQ/lisk-hub</span>\n",
       "</pre>\n"
      ],
      "text/plain": [
       "\u001b[1;36m[\u001b[0m\u001b[1;36m+\u001b[0m\u001b[1;36m]\u001b[0m\u001b[1;36m Successfully retrieved repo: \u001b[0m\u001b[1;4;36mhttps://github.com/LiskHQ/lisk-hub\u001b[0m\n"
      ]
     },
     "metadata": {},
     "output_type": "display_data"
    },
    {
     "data": {
      "text/html": [
       "<pre style=\"white-space:pre;overflow-x:auto;line-height:normal;font-family:Menlo,'DejaVu Sans Mono',consolas,'Courier New',monospace\"><span style=\"color: #008080; text-decoration-color: #008080; font-weight: bold\">[+] Found package.json at /</span>\n",
       "</pre>\n"
      ],
      "text/plain": [
       "\u001b[1;36m[\u001b[0m\u001b[1;36m+\u001b[0m\u001b[1;36m]\u001b[0m\u001b[1;36m Found package.json at \u001b[0m\u001b[1;36m/\u001b[0m\n"
      ]
     },
     "metadata": {},
     "output_type": "display_data"
    },
    {
     "data": {
      "text/html": [
       "<pre style=\"white-space:pre;overflow-x:auto;line-height:normal;font-family:Menlo,'DejaVu Sans Mono',consolas,'Courier New',monospace\"><span style=\"color: #008080; text-decoration-color: #008080; font-weight: bold\">[+] Getting </span><span style=\"color: #008080; text-decoration-color: #008080; font-weight: bold; text-decoration: underline\">https://github.com/LiskHQ/lisk-desktop/blob/development/package.json</span>\n",
       "</pre>\n"
      ],
      "text/plain": [
       "\u001b[1;36m[\u001b[0m\u001b[1;36m+\u001b[0m\u001b[1;36m]\u001b[0m\u001b[1;36m Getting \u001b[0m\u001b[1;4;36mhttps://github.com/LiskHQ/lisk-desktop/blob/development/package.json\u001b[0m\n"
      ]
     },
     "metadata": {},
     "output_type": "display_data"
    },
    {
     "data": {
      "text/html": [
       "<pre style=\"white-space:pre;overflow-x:auto;line-height:normal;font-family:Menlo,'DejaVu Sans Mono',consolas,'Courier New',monospace\"><span style=\"color: #008080; text-decoration-color: #008080; font-weight: bold\">[+] Getting repo: </span><span style=\"color: #008080; text-decoration-color: #008080; font-weight: bold; text-decoration: underline\">https://github.com/getflywheel/local-components</span>\n",
       "</pre>\n"
      ],
      "text/plain": [
       "\u001b[1;36m[\u001b[0m\u001b[1;36m+\u001b[0m\u001b[1;36m]\u001b[0m\u001b[1;36m Getting repo: \u001b[0m\u001b[1;4;36mhttps://github.com/getflywheel/local-components\u001b[0m\n"
      ]
     },
     "metadata": {},
     "output_type": "display_data"
    },
    {
     "data": {
      "text/html": [
       "<pre style=\"white-space:pre;overflow-x:auto;line-height:normal;font-family:Menlo,'DejaVu Sans Mono',consolas,'Courier New',monospace\"><span style=\"color: #008080; text-decoration-color: #008080; font-weight: bold\">[+] Successfully retrieved repo: </span><span style=\"color: #008080; text-decoration-color: #008080; font-weight: bold; text-decoration: underline\">https://github.com/getflywheel/local-components</span>\n",
       "</pre>\n"
      ],
      "text/plain": [
       "\u001b[1;36m[\u001b[0m\u001b[1;36m+\u001b[0m\u001b[1;36m]\u001b[0m\u001b[1;36m Successfully retrieved repo: \u001b[0m\u001b[1;4;36mhttps://github.com/getflywheel/local-components\u001b[0m\n"
      ]
     },
     "metadata": {},
     "output_type": "display_data"
    },
    {
     "data": {
      "text/html": [
       "<pre style=\"white-space:pre;overflow-x:auto;line-height:normal;font-family:Menlo,'DejaVu Sans Mono',consolas,'Courier New',monospace\"><span style=\"color: #008080; text-decoration-color: #008080; font-weight: bold\">[+] Found package.json at /</span>\n",
       "</pre>\n"
      ],
      "text/plain": [
       "\u001b[1;36m[\u001b[0m\u001b[1;36m+\u001b[0m\u001b[1;36m]\u001b[0m\u001b[1;36m Found package.json at \u001b[0m\u001b[1;36m/\u001b[0m\n"
      ]
     },
     "metadata": {},
     "output_type": "display_data"
    },
    {
     "data": {
      "text/html": [
       "<pre style=\"white-space:pre;overflow-x:auto;line-height:normal;font-family:Menlo,'DejaVu Sans Mono',consolas,'Courier New',monospace\"><span style=\"color: #008080; text-decoration-color: #008080; font-weight: bold\">[+] Getting </span><span style=\"color: #008080; text-decoration-color: #008080; font-weight: bold; text-decoration: underline\">https://github.com/getflywheel/local-components/blob/master/package.json</span>\n",
       "</pre>\n"
      ],
      "text/plain": [
       "\u001b[1;36m[\u001b[0m\u001b[1;36m+\u001b[0m\u001b[1;36m]\u001b[0m\u001b[1;36m Getting \u001b[0m\u001b[1;4;36mhttps://github.com/getflywheel/local-components/blob/master/package.json\u001b[0m\n"
      ]
     },
     "metadata": {},
     "output_type": "display_data"
    },
    {
     "data": {
      "text/html": [
       "<pre style=\"white-space:pre;overflow-x:auto;line-height:normal;font-family:Menlo,'DejaVu Sans Mono',consolas,'Courier New',monospace\"><span style=\"color: #008080; text-decoration-color: #008080; font-weight: bold\">[+] Getting repo: </span><span style=\"color: #008080; text-decoration-color: #008080; font-weight: bold; text-decoration: underline\">https://github.com/LogSnag/LogSnag</span>\n",
       "</pre>\n"
      ],
      "text/plain": [
       "\u001b[1;36m[\u001b[0m\u001b[1;36m+\u001b[0m\u001b[1;36m]\u001b[0m\u001b[1;36m Getting repo: \u001b[0m\u001b[1;4;36mhttps://github.com/LogSnag/LogSnag\u001b[0m\n"
      ]
     },
     "metadata": {},
     "output_type": "display_data"
    },
    {
     "data": {
      "text/html": [
       "<pre style=\"white-space:pre;overflow-x:auto;line-height:normal;font-family:Menlo,'DejaVu Sans Mono',consolas,'Courier New',monospace\"><span style=\"color: #008080; text-decoration-color: #008080; font-weight: bold\">[+] Successfully retrieved repo: </span><span style=\"color: #008080; text-decoration-color: #008080; font-weight: bold; text-decoration: underline\">https://github.com/LogSnag/LogSnag</span>\n",
       "</pre>\n"
      ],
      "text/plain": [
       "\u001b[1;36m[\u001b[0m\u001b[1;36m+\u001b[0m\u001b[1;36m]\u001b[0m\u001b[1;36m Successfully retrieved repo: \u001b[0m\u001b[1;4;36mhttps://github.com/LogSnag/LogSnag\u001b[0m\n"
      ]
     },
     "metadata": {},
     "output_type": "display_data"
    },
    {
     "data": {
      "text/html": [
       "<pre style=\"white-space:pre;overflow-x:auto;line-height:normal;font-family:Menlo,'DejaVu Sans Mono',consolas,'Courier New',monospace\"><span style=\"color: #ff5f00; text-decoration-color: #ff5f00; font-weight: bold\">[!] Package.json not found at root; trying directories</span>\n",
       "</pre>\n"
      ],
      "text/plain": [
       "\u001b[1;38;5;202m[\u001b[0m\u001b[1;38;5;202m!\u001b[0m\u001b[1;38;5;202m]\u001b[0m\u001b[1;38;5;202m Package.json not found at root; trying directories\u001b[0m\n"
      ]
     },
     "metadata": {},
     "output_type": "display_data"
    },
    {
     "data": {
      "text/html": [
       "<pre style=\"white-space:pre;overflow-x:auto;line-height:normal;font-family:Menlo,'DejaVu Sans Mono',consolas,'Courier New',monospace\"><span style=\"color: #800000; text-decoration-color: #800000; font-weight: bold\">[💀] Could not find package.json in first-level-subdirs</span>\n",
       "</pre>\n"
      ],
      "text/plain": [
       "\u001b[1;31m[\u001b[0m\u001b[1;31m💀\u001b[0m\u001b[1;31m]\u001b[0m\u001b[1;31m Could not find package.json in first-level-subdirs\u001b[0m\n"
      ]
     },
     "metadata": {},
     "output_type": "display_data"
    },
    {
     "data": {
      "text/html": [
       "<pre style=\"white-space:pre;overflow-x:auto;line-height:normal;font-family:Menlo,'DejaVu Sans Mono',consolas,'Courier New',monospace\"><span style=\"color: #008080; text-decoration-color: #008080; font-weight: bold\">[+] Getting repo: </span><span style=\"color: #008080; text-decoration-color: #008080; font-weight: bold; text-decoration: underline\">https://github.com/Jisco/LotOfThings</span>\n",
       "</pre>\n"
      ],
      "text/plain": [
       "\u001b[1;36m[\u001b[0m\u001b[1;36m+\u001b[0m\u001b[1;36m]\u001b[0m\u001b[1;36m Getting repo: \u001b[0m\u001b[1;4;36mhttps://github.com/Jisco/LotOfThings\u001b[0m\n"
      ]
     },
     "metadata": {},
     "output_type": "display_data"
    },
    {
     "data": {
      "text/html": [
       "<pre style=\"white-space:pre;overflow-x:auto;line-height:normal;font-family:Menlo,'DejaVu Sans Mono',consolas,'Courier New',monospace\"><span style=\"color: #008080; text-decoration-color: #008080; font-weight: bold\">[+] Successfully retrieved repo: </span><span style=\"color: #008080; text-decoration-color: #008080; font-weight: bold; text-decoration: underline\">https://github.com/Jisco/LotOfThings</span>\n",
       "</pre>\n"
      ],
      "text/plain": [
       "\u001b[1;36m[\u001b[0m\u001b[1;36m+\u001b[0m\u001b[1;36m]\u001b[0m\u001b[1;36m Successfully retrieved repo: \u001b[0m\u001b[1;4;36mhttps://github.com/Jisco/LotOfThings\u001b[0m\n"
      ]
     },
     "metadata": {},
     "output_type": "display_data"
    },
    {
     "data": {
      "text/html": [
       "<pre style=\"white-space:pre;overflow-x:auto;line-height:normal;font-family:Menlo,'DejaVu Sans Mono',consolas,'Courier New',monospace\"><span style=\"color: #ff5f00; text-decoration-color: #ff5f00; font-weight: bold\">[!] Package.json not found at root; trying directories</span>\n",
       "</pre>\n"
      ],
      "text/plain": [
       "\u001b[1;38;5;202m[\u001b[0m\u001b[1;38;5;202m!\u001b[0m\u001b[1;38;5;202m]\u001b[0m\u001b[1;38;5;202m Package.json not found at root; trying directories\u001b[0m\n"
      ]
     },
     "metadata": {},
     "output_type": "display_data"
    },
    {
     "data": {
      "text/html": [
       "<pre style=\"white-space:pre;overflow-x:auto;line-height:normal;font-family:Menlo,'DejaVu Sans Mono',consolas,'Courier New',monospace\"><span style=\"color: #008080; text-decoration-color: #008080; font-weight: bold\">[+] Trying </span><span style=\"color: #008080; text-decoration-color: #008080; font-weight: bold; text-decoration: underline\">https://github.com/Jisco/LotOfThings/tree/main/.github</span>\n",
       "</pre>\n"
      ],
      "text/plain": [
       "\u001b[1;36m[\u001b[0m\u001b[1;36m+\u001b[0m\u001b[1;36m]\u001b[0m\u001b[1;36m Trying \u001b[0m\u001b[1;4;36mhttps://github.com/Jisco/LotOfThings/tree/main/.github\u001b[0m\n"
      ]
     },
     "metadata": {},
     "output_type": "display_data"
    },
    {
     "data": {
      "text/html": [
       "<pre style=\"white-space:pre;overflow-x:auto;line-height:normal;font-family:Menlo,'DejaVu Sans Mono',consolas,'Courier New',monospace\"><span style=\"color: #800000; text-decoration-color: #800000; font-weight: bold\">[💀] Could not find package.json in first-level-subdirs</span>\n",
       "</pre>\n"
      ],
      "text/plain": [
       "\u001b[1;31m[\u001b[0m\u001b[1;31m💀\u001b[0m\u001b[1;31m]\u001b[0m\u001b[1;31m Could not find package.json in first-level-subdirs\u001b[0m\n"
      ]
     },
     "metadata": {},
     "output_type": "display_data"
    },
    {
     "data": {
      "text/html": [
       "<pre style=\"white-space:pre;overflow-x:auto;line-height:normal;font-family:Menlo,'DejaVu Sans Mono',consolas,'Courier New',monospace\"><span style=\"color: #008080; text-decoration-color: #008080; font-weight: bold\">[+] Getting repo: </span><span style=\"color: #008080; text-decoration-color: #008080; font-weight: bold; text-decoration: underline\">https://github.com/AlexanderPershin/lsdeer</span>\n",
       "</pre>\n"
      ],
      "text/plain": [
       "\u001b[1;36m[\u001b[0m\u001b[1;36m+\u001b[0m\u001b[1;36m]\u001b[0m\u001b[1;36m Getting repo: \u001b[0m\u001b[1;4;36mhttps://github.com/AlexanderPershin/lsdeer\u001b[0m\n"
      ]
     },
     "metadata": {},
     "output_type": "display_data"
    },
    {
     "data": {
      "text/html": [
       "<pre style=\"white-space:pre;overflow-x:auto;line-height:normal;font-family:Menlo,'DejaVu Sans Mono',consolas,'Courier New',monospace\"><span style=\"color: #008080; text-decoration-color: #008080; font-weight: bold\">[+] Successfully retrieved repo: </span><span style=\"color: #008080; text-decoration-color: #008080; font-weight: bold; text-decoration: underline\">https://github.com/AlexanderPershin/lsdeer</span>\n",
       "</pre>\n"
      ],
      "text/plain": [
       "\u001b[1;36m[\u001b[0m\u001b[1;36m+\u001b[0m\u001b[1;36m]\u001b[0m\u001b[1;36m Successfully retrieved repo: \u001b[0m\u001b[1;4;36mhttps://github.com/AlexanderPershin/lsdeer\u001b[0m\n"
      ]
     },
     "metadata": {},
     "output_type": "display_data"
    },
    {
     "data": {
      "text/html": [
       "<pre style=\"white-space:pre;overflow-x:auto;line-height:normal;font-family:Menlo,'DejaVu Sans Mono',consolas,'Courier New',monospace\"><span style=\"color: #008080; text-decoration-color: #008080; font-weight: bold\">[+] Found package.json at /</span>\n",
       "</pre>\n"
      ],
      "text/plain": [
       "\u001b[1;36m[\u001b[0m\u001b[1;36m+\u001b[0m\u001b[1;36m]\u001b[0m\u001b[1;36m Found package.json at \u001b[0m\u001b[1;36m/\u001b[0m\n"
      ]
     },
     "metadata": {},
     "output_type": "display_data"
    },
    {
     "data": {
      "text/html": [
       "<pre style=\"white-space:pre;overflow-x:auto;line-height:normal;font-family:Menlo,'DejaVu Sans Mono',consolas,'Courier New',monospace\"><span style=\"color: #008080; text-decoration-color: #008080; font-weight: bold\">[+] Getting </span><span style=\"color: #008080; text-decoration-color: #008080; font-weight: bold; text-decoration: underline\">https://github.com/AlexanderPershin/lsdeer/blob/master/package.json</span>\n",
       "</pre>\n"
      ],
      "text/plain": [
       "\u001b[1;36m[\u001b[0m\u001b[1;36m+\u001b[0m\u001b[1;36m]\u001b[0m\u001b[1;36m Getting \u001b[0m\u001b[1;4;36mhttps://github.com/AlexanderPershin/lsdeer/blob/master/package.json\u001b[0m\n"
      ]
     },
     "metadata": {},
     "output_type": "display_data"
    },
    {
     "data": {
      "text/html": [
       "<pre style=\"white-space:pre;overflow-x:auto;line-height:normal;font-family:Menlo,'DejaVu Sans Mono',consolas,'Courier New',monospace\"><span style=\"color: #008080; text-decoration-color: #008080; font-weight: bold\">[+] Getting repo: </span><span style=\"color: #008080; text-decoration-color: #008080; font-weight: bold; text-decoration: underline\">https://github.com/Foundry376/Mailspring</span>\n",
       "</pre>\n"
      ],
      "text/plain": [
       "\u001b[1;36m[\u001b[0m\u001b[1;36m+\u001b[0m\u001b[1;36m]\u001b[0m\u001b[1;36m Getting repo: \u001b[0m\u001b[1;4;36mhttps://github.com/Foundry376/Mailspring\u001b[0m\n"
      ]
     },
     "metadata": {},
     "output_type": "display_data"
    },
    {
     "data": {
      "text/html": [
       "<pre style=\"white-space:pre;overflow-x:auto;line-height:normal;font-family:Menlo,'DejaVu Sans Mono',consolas,'Courier New',monospace\"><span style=\"color: #008080; text-decoration-color: #008080; font-weight: bold\">[+] Successfully retrieved repo: </span><span style=\"color: #008080; text-decoration-color: #008080; font-weight: bold; text-decoration: underline\">https://github.com/Foundry376/Mailspring</span>\n",
       "</pre>\n"
      ],
      "text/plain": [
       "\u001b[1;36m[\u001b[0m\u001b[1;36m+\u001b[0m\u001b[1;36m]\u001b[0m\u001b[1;36m Successfully retrieved repo: \u001b[0m\u001b[1;4;36mhttps://github.com/Foundry376/Mailspring\u001b[0m\n"
      ]
     },
     "metadata": {},
     "output_type": "display_data"
    },
    {
     "data": {
      "text/html": [
       "<pre style=\"white-space:pre;overflow-x:auto;line-height:normal;font-family:Menlo,'DejaVu Sans Mono',consolas,'Courier New',monospace\"><span style=\"color: #008080; text-decoration-color: #008080; font-weight: bold\">[+] Found package.json at /</span>\n",
       "</pre>\n"
      ],
      "text/plain": [
       "\u001b[1;36m[\u001b[0m\u001b[1;36m+\u001b[0m\u001b[1;36m]\u001b[0m\u001b[1;36m Found package.json at \u001b[0m\u001b[1;36m/\u001b[0m\n"
      ]
     },
     "metadata": {},
     "output_type": "display_data"
    },
    {
     "data": {
      "text/html": [
       "<pre style=\"white-space:pre;overflow-x:auto;line-height:normal;font-family:Menlo,'DejaVu Sans Mono',consolas,'Courier New',monospace\"><span style=\"color: #008080; text-decoration-color: #008080; font-weight: bold\">[+] Getting </span><span style=\"color: #008080; text-decoration-color: #008080; font-weight: bold; text-decoration: underline\">https://github.com/Foundry376/Mailspring/blob/master/package.json</span>\n",
       "</pre>\n"
      ],
      "text/plain": [
       "\u001b[1;36m[\u001b[0m\u001b[1;36m+\u001b[0m\u001b[1;36m]\u001b[0m\u001b[1;36m Getting \u001b[0m\u001b[1;4;36mhttps://github.com/Foundry376/Mailspring/blob/master/package.json\u001b[0m\n"
      ]
     },
     "metadata": {},
     "output_type": "display_data"
    },
    {
     "data": {
      "text/html": [
       "<pre style=\"white-space:pre;overflow-x:auto;line-height:normal;font-family:Menlo,'DejaVu Sans Mono',consolas,'Courier New',monospace\"><span style=\"color: #008080; text-decoration-color: #008080; font-weight: bold\">[+] Getting repo: </span><span style=\"color: #008080; text-decoration-color: #008080; font-weight: bold; text-decoration: underline\">https://gitlab.com/staltz/manyverse</span>\n",
       "</pre>\n"
      ],
      "text/plain": [
       "\u001b[1;36m[\u001b[0m\u001b[1;36m+\u001b[0m\u001b[1;36m]\u001b[0m\u001b[1;36m Getting repo: \u001b[0m\u001b[1;4;36mhttps://gitlab.com/staltz/manyverse\u001b[0m\n"
      ]
     },
     "metadata": {},
     "output_type": "display_data"
    },
    {
     "data": {
      "text/html": [
       "<pre style=\"white-space:pre;overflow-x:auto;line-height:normal;font-family:Menlo,'DejaVu Sans Mono',consolas,'Courier New',monospace\"><span style=\"color: #008080; text-decoration-color: #008080; font-weight: bold\">[+] Successfully retrieved repo: </span><span style=\"color: #008080; text-decoration-color: #008080; font-weight: bold; text-decoration: underline\">https://gitlab.com/staltz/manyverse</span>\n",
       "</pre>\n"
      ],
      "text/plain": [
       "\u001b[1;36m[\u001b[0m\u001b[1;36m+\u001b[0m\u001b[1;36m]\u001b[0m\u001b[1;36m Successfully retrieved repo: \u001b[0m\u001b[1;4;36mhttps://gitlab.com/staltz/manyverse\u001b[0m\n"
      ]
     },
     "metadata": {},
     "output_type": "display_data"
    },
    {
     "data": {
      "text/html": [
       "<pre style=\"white-space:pre;overflow-x:auto;line-height:normal;font-family:Menlo,'DejaVu Sans Mono',consolas,'Courier New',monospace\"><span style=\"color: #ff5f00; text-decoration-color: #ff5f00; font-weight: bold\">[!] Package.json not found at root; trying directories</span>\n",
       "</pre>\n"
      ],
      "text/plain": [
       "\u001b[1;38;5;202m[\u001b[0m\u001b[1;38;5;202m!\u001b[0m\u001b[1;38;5;202m]\u001b[0m\u001b[1;38;5;202m Package.json not found at root; trying directories\u001b[0m\n"
      ]
     },
     "metadata": {},
     "output_type": "display_data"
    },
    {
     "data": {
      "text/html": [
       "<pre style=\"white-space:pre;overflow-x:auto;line-height:normal;font-family:Menlo,'DejaVu Sans Mono',consolas,'Courier New',monospace\"><span style=\"color: #800000; text-decoration-color: #800000; font-weight: bold\">[💀] Could not find package.json in first-level-subdirs</span>\n",
       "</pre>\n"
      ],
      "text/plain": [
       "\u001b[1;31m[\u001b[0m\u001b[1;31m💀\u001b[0m\u001b[1;31m]\u001b[0m\u001b[1;31m Could not find package.json in first-level-subdirs\u001b[0m\n"
      ]
     },
     "metadata": {},
     "output_type": "display_data"
    },
    {
     "data": {
      "text/html": [
       "<pre style=\"white-space:pre;overflow-x:auto;line-height:normal;font-family:Menlo,'DejaVu Sans Mono',consolas,'Courier New',monospace\"><span style=\"color: #008080; text-decoration-color: #008080; font-weight: bold\">[+] Getting repo: </span><span style=\"color: #008080; text-decoration-color: #008080; font-weight: bold; text-decoration: underline\">https://github.com/amitmerchant1990/electron-markdownify</span>\n",
       "</pre>\n"
      ],
      "text/plain": [
       "\u001b[1;36m[\u001b[0m\u001b[1;36m+\u001b[0m\u001b[1;36m]\u001b[0m\u001b[1;36m Getting repo: \u001b[0m\u001b[1;4;36mhttps://github.com/amitmerchant1990/electron-markdownify\u001b[0m\n"
      ]
     },
     "metadata": {},
     "output_type": "display_data"
    },
    {
     "data": {
      "text/html": [
       "<pre style=\"white-space:pre;overflow-x:auto;line-height:normal;font-family:Menlo,'DejaVu Sans Mono',consolas,'Courier New',monospace\"><span style=\"color: #008080; text-decoration-color: #008080; font-weight: bold\">[+] Successfully retrieved repo: </span><span style=\"color: #008080; text-decoration-color: #008080; font-weight: bold; text-decoration: underline\">https://github.com/amitmerchant1990/electron-markdownify</span>\n",
       "</pre>\n"
      ],
      "text/plain": [
       "\u001b[1;36m[\u001b[0m\u001b[1;36m+\u001b[0m\u001b[1;36m]\u001b[0m\u001b[1;36m Successfully retrieved repo: \u001b[0m\u001b[1;4;36mhttps://github.com/amitmerchant1990/electron-markdownify\u001b[0m\n"
      ]
     },
     "metadata": {},
     "output_type": "display_data"
    },
    {
     "data": {
      "text/html": [
       "<pre style=\"white-space:pre;overflow-x:auto;line-height:normal;font-family:Menlo,'DejaVu Sans Mono',consolas,'Courier New',monospace\"><span style=\"color: #008080; text-decoration-color: #008080; font-weight: bold\">[+] Found package.json at /</span>\n",
       "</pre>\n"
      ],
      "text/plain": [
       "\u001b[1;36m[\u001b[0m\u001b[1;36m+\u001b[0m\u001b[1;36m]\u001b[0m\u001b[1;36m Found package.json at \u001b[0m\u001b[1;36m/\u001b[0m\n"
      ]
     },
     "metadata": {},
     "output_type": "display_data"
    },
    {
     "data": {
      "text/html": [
       "<pre style=\"white-space:pre;overflow-x:auto;line-height:normal;font-family:Menlo,'DejaVu Sans Mono',consolas,'Courier New',monospace\"><span style=\"color: #008080; text-decoration-color: #008080; font-weight: bold\">[+] Getting </span><span style=\"color: #008080; text-decoration-color: #008080; font-weight: bold; text-decoration: underline\">https://github.com/amitmerchant1990/electron-markdownify/blob/master/package.json</span>\n",
       "</pre>\n"
      ],
      "text/plain": [
       "\u001b[1;36m[\u001b[0m\u001b[1;36m+\u001b[0m\u001b[1;36m]\u001b[0m\u001b[1;36m Getting \u001b[0m\u001b[1;4;36mhttps://github.com/amitmerchant1990/electron-markdownify/blob/master/package.json\u001b[0m\n"
      ]
     },
     "metadata": {},
     "output_type": "display_data"
    },
    {
     "data": {
      "text/html": [
       "<pre style=\"white-space:pre;overflow-x:auto;line-height:normal;font-family:Menlo,'DejaVu Sans Mono',consolas,'Courier New',monospace\"><span style=\"color: #008080; text-decoration-color: #008080; font-weight: bold\">[+] Getting repo: </span><span style=\"color: #008080; text-decoration-color: #008080; font-weight: bold; text-decoration: underline\">https://github.com/antonreshetov/massCode</span>\n",
       "</pre>\n"
      ],
      "text/plain": [
       "\u001b[1;36m[\u001b[0m\u001b[1;36m+\u001b[0m\u001b[1;36m]\u001b[0m\u001b[1;36m Getting repo: \u001b[0m\u001b[1;4;36mhttps://github.com/antonreshetov/massCode\u001b[0m\n"
      ]
     },
     "metadata": {},
     "output_type": "display_data"
    },
    {
     "data": {
      "text/html": [
       "<pre style=\"white-space:pre;overflow-x:auto;line-height:normal;font-family:Menlo,'DejaVu Sans Mono',consolas,'Courier New',monospace\"><span style=\"color: #008080; text-decoration-color: #008080; font-weight: bold\">[+] Successfully retrieved repo: </span><span style=\"color: #008080; text-decoration-color: #008080; font-weight: bold; text-decoration: underline\">https://github.com/antonreshetov/massCode</span>\n",
       "</pre>\n"
      ],
      "text/plain": [
       "\u001b[1;36m[\u001b[0m\u001b[1;36m+\u001b[0m\u001b[1;36m]\u001b[0m\u001b[1;36m Successfully retrieved repo: \u001b[0m\u001b[1;4;36mhttps://github.com/antonreshetov/massCode\u001b[0m\n"
      ]
     },
     "metadata": {},
     "output_type": "display_data"
    },
    {
     "data": {
      "text/html": [
       "<pre style=\"white-space:pre;overflow-x:auto;line-height:normal;font-family:Menlo,'DejaVu Sans Mono',consolas,'Courier New',monospace\"><span style=\"color: #008080; text-decoration-color: #008080; font-weight: bold\">[+] Found package.json at /</span>\n",
       "</pre>\n"
      ],
      "text/plain": [
       "\u001b[1;36m[\u001b[0m\u001b[1;36m+\u001b[0m\u001b[1;36m]\u001b[0m\u001b[1;36m Found package.json at \u001b[0m\u001b[1;36m/\u001b[0m\n"
      ]
     },
     "metadata": {},
     "output_type": "display_data"
    },
    {
     "data": {
      "text/html": [
       "<pre style=\"white-space:pre;overflow-x:auto;line-height:normal;font-family:Menlo,'DejaVu Sans Mono',consolas,'Courier New',monospace\"><span style=\"color: #008080; text-decoration-color: #008080; font-weight: bold\">[+] Getting </span><span style=\"color: #008080; text-decoration-color: #008080; font-weight: bold; text-decoration: underline\">https://github.com/antonreshetov/massCode/blob/master/package.json</span>\n",
       "</pre>\n"
      ],
      "text/plain": [
       "\u001b[1;36m[\u001b[0m\u001b[1;36m+\u001b[0m\u001b[1;36m]\u001b[0m\u001b[1;36m Getting \u001b[0m\u001b[1;4;36mhttps://github.com/antonreshetov/massCode/blob/master/package.json\u001b[0m\n"
      ]
     },
     "metadata": {},
     "output_type": "display_data"
    },
    {
     "data": {
      "text/html": [
       "<pre style=\"white-space:pre;overflow-x:auto;line-height:normal;font-family:Menlo,'DejaVu Sans Mono',consolas,'Courier New',monospace\"><span style=\"color: #008080; text-decoration-color: #008080; font-weight: bold\">[+] Getting repo: </span><span style=\"color: #008080; text-decoration-color: #008080; font-weight: bold; text-decoration: underline\">https://github.com/mattermost/desktop</span>\n",
       "</pre>\n"
      ],
      "text/plain": [
       "\u001b[1;36m[\u001b[0m\u001b[1;36m+\u001b[0m\u001b[1;36m]\u001b[0m\u001b[1;36m Getting repo: \u001b[0m\u001b[1;4;36mhttps://github.com/mattermost/desktop\u001b[0m\n"
      ]
     },
     "metadata": {},
     "output_type": "display_data"
    },
    {
     "data": {
      "text/html": [
       "<pre style=\"white-space:pre;overflow-x:auto;line-height:normal;font-family:Menlo,'DejaVu Sans Mono',consolas,'Courier New',monospace\"><span style=\"color: #008080; text-decoration-color: #008080; font-weight: bold\">[+] Successfully retrieved repo: </span><span style=\"color: #008080; text-decoration-color: #008080; font-weight: bold; text-decoration: underline\">https://github.com/mattermost/desktop</span>\n",
       "</pre>\n"
      ],
      "text/plain": [
       "\u001b[1;36m[\u001b[0m\u001b[1;36m+\u001b[0m\u001b[1;36m]\u001b[0m\u001b[1;36m Successfully retrieved repo: \u001b[0m\u001b[1;4;36mhttps://github.com/mattermost/desktop\u001b[0m\n"
      ]
     },
     "metadata": {},
     "output_type": "display_data"
    },
    {
     "data": {
      "text/html": [
       "<pre style=\"white-space:pre;overflow-x:auto;line-height:normal;font-family:Menlo,'DejaVu Sans Mono',consolas,'Courier New',monospace\"><span style=\"color: #008080; text-decoration-color: #008080; font-weight: bold\">[+] Found package.json at /</span>\n",
       "</pre>\n"
      ],
      "text/plain": [
       "\u001b[1;36m[\u001b[0m\u001b[1;36m+\u001b[0m\u001b[1;36m]\u001b[0m\u001b[1;36m Found package.json at \u001b[0m\u001b[1;36m/\u001b[0m\n"
      ]
     },
     "metadata": {},
     "output_type": "display_data"
    },
    {
     "data": {
      "text/html": [
       "<pre style=\"white-space:pre;overflow-x:auto;line-height:normal;font-family:Menlo,'DejaVu Sans Mono',consolas,'Courier New',monospace\"><span style=\"color: #008080; text-decoration-color: #008080; font-weight: bold\">[+] Getting </span><span style=\"color: #008080; text-decoration-color: #008080; font-weight: bold; text-decoration: underline\">https://github.com/mattermost/desktop/blob/master/package.json</span>\n",
       "</pre>\n"
      ],
      "text/plain": [
       "\u001b[1;36m[\u001b[0m\u001b[1;36m+\u001b[0m\u001b[1;36m]\u001b[0m\u001b[1;36m Getting \u001b[0m\u001b[1;4;36mhttps://github.com/mattermost/desktop/blob/master/package.json\u001b[0m\n"
      ]
     },
     "metadata": {},
     "output_type": "display_data"
    },
    {
     "data": {
      "text/html": [
       "<pre style=\"white-space:pre;overflow-x:auto;line-height:normal;font-family:Menlo,'DejaVu Sans Mono',consolas,'Courier New',monospace\"><span style=\"color: #008080; text-decoration-color: #008080; font-weight: bold\">[+] Getting repo: </span><span style=\"color: #008080; text-decoration-color: #008080; font-weight: bold; text-decoration: underline\">https://github.com/ericlink/mdp</span>\n",
       "</pre>\n"
      ],
      "text/plain": [
       "\u001b[1;36m[\u001b[0m\u001b[1;36m+\u001b[0m\u001b[1;36m]\u001b[0m\u001b[1;36m Getting repo: \u001b[0m\u001b[1;4;36mhttps://github.com/ericlink/mdp\u001b[0m\n"
      ]
     },
     "metadata": {},
     "output_type": "display_data"
    },
    {
     "data": {
      "text/html": [
       "<pre style=\"white-space:pre;overflow-x:auto;line-height:normal;font-family:Menlo,'DejaVu Sans Mono',consolas,'Courier New',monospace\"><span style=\"color: #008080; text-decoration-color: #008080; font-weight: bold\">[+] Successfully retrieved repo: </span><span style=\"color: #008080; text-decoration-color: #008080; font-weight: bold; text-decoration: underline\">https://github.com/ericlink/mdp</span>\n",
       "</pre>\n"
      ],
      "text/plain": [
       "\u001b[1;36m[\u001b[0m\u001b[1;36m+\u001b[0m\u001b[1;36m]\u001b[0m\u001b[1;36m Successfully retrieved repo: \u001b[0m\u001b[1;4;36mhttps://github.com/ericlink/mdp\u001b[0m\n"
      ]
     },
     "metadata": {},
     "output_type": "display_data"
    },
    {
     "data": {
      "text/html": [
       "<pre style=\"white-space:pre;overflow-x:auto;line-height:normal;font-family:Menlo,'DejaVu Sans Mono',consolas,'Courier New',monospace\"><span style=\"color: #008080; text-decoration-color: #008080; font-weight: bold\">[+] Found package.json at /</span>\n",
       "</pre>\n"
      ],
      "text/plain": [
       "\u001b[1;36m[\u001b[0m\u001b[1;36m+\u001b[0m\u001b[1;36m]\u001b[0m\u001b[1;36m Found package.json at \u001b[0m\u001b[1;36m/\u001b[0m\n"
      ]
     },
     "metadata": {},
     "output_type": "display_data"
    },
    {
     "data": {
      "text/html": [
       "<pre style=\"white-space:pre;overflow-x:auto;line-height:normal;font-family:Menlo,'DejaVu Sans Mono',consolas,'Courier New',monospace\"><span style=\"color: #008080; text-decoration-color: #008080; font-weight: bold\">[+] Getting </span><span style=\"color: #008080; text-decoration-color: #008080; font-weight: bold; text-decoration: underline\">https://github.com/ericlink/mdp/blob/master/package.json</span>\n",
       "</pre>\n"
      ],
      "text/plain": [
       "\u001b[1;36m[\u001b[0m\u001b[1;36m+\u001b[0m\u001b[1;36m]\u001b[0m\u001b[1;36m Getting \u001b[0m\u001b[1;4;36mhttps://github.com/ericlink/mdp/blob/master/package.json\u001b[0m\n"
      ]
     },
     "metadata": {},
     "output_type": "display_data"
    },
    {
     "data": {
      "text/html": [
       "<pre style=\"white-space:pre;overflow-x:auto;line-height:normal;font-family:Menlo,'DejaVu Sans Mono',consolas,'Courier New',monospace\"><span style=\"color: #008080; text-decoration-color: #008080; font-weight: bold\">[+] Getting repo: </span><span style=\"color: #008080; text-decoration-color: #008080; font-weight: bold; text-decoration: underline\">https://github.com/fupdec/mediaChips</span>\n",
       "</pre>\n"
      ],
      "text/plain": [
       "\u001b[1;36m[\u001b[0m\u001b[1;36m+\u001b[0m\u001b[1;36m]\u001b[0m\u001b[1;36m Getting repo: \u001b[0m\u001b[1;4;36mhttps://github.com/fupdec/mediaChips\u001b[0m\n"
      ]
     },
     "metadata": {},
     "output_type": "display_data"
    },
    {
     "data": {
      "text/html": [
       "<pre style=\"white-space:pre;overflow-x:auto;line-height:normal;font-family:Menlo,'DejaVu Sans Mono',consolas,'Courier New',monospace\"><span style=\"color: #008080; text-decoration-color: #008080; font-weight: bold\">[+] Successfully retrieved repo: </span><span style=\"color: #008080; text-decoration-color: #008080; font-weight: bold; text-decoration: underline\">https://github.com/fupdec/mediaChips</span>\n",
       "</pre>\n"
      ],
      "text/plain": [
       "\u001b[1;36m[\u001b[0m\u001b[1;36m+\u001b[0m\u001b[1;36m]\u001b[0m\u001b[1;36m Successfully retrieved repo: \u001b[0m\u001b[1;4;36mhttps://github.com/fupdec/mediaChips\u001b[0m\n"
      ]
     },
     "metadata": {},
     "output_type": "display_data"
    },
    {
     "data": {
      "text/html": [
       "<pre style=\"white-space:pre;overflow-x:auto;line-height:normal;font-family:Menlo,'DejaVu Sans Mono',consolas,'Courier New',monospace\"><span style=\"color: #008080; text-decoration-color: #008080; font-weight: bold\">[+] Found package.json at /</span>\n",
       "</pre>\n"
      ],
      "text/plain": [
       "\u001b[1;36m[\u001b[0m\u001b[1;36m+\u001b[0m\u001b[1;36m]\u001b[0m\u001b[1;36m Found package.json at \u001b[0m\u001b[1;36m/\u001b[0m\n"
      ]
     },
     "metadata": {},
     "output_type": "display_data"
    },
    {
     "data": {
      "text/html": [
       "<pre style=\"white-space:pre;overflow-x:auto;line-height:normal;font-family:Menlo,'DejaVu Sans Mono',consolas,'Courier New',monospace\"><span style=\"color: #008080; text-decoration-color: #008080; font-weight: bold\">[+] Getting </span><span style=\"color: #008080; text-decoration-color: #008080; font-weight: bold; text-decoration: underline\">https://github.com/fupdec/mediaChips/blob/master/package.json</span>\n",
       "</pre>\n"
      ],
      "text/plain": [
       "\u001b[1;36m[\u001b[0m\u001b[1;36m+\u001b[0m\u001b[1;36m]\u001b[0m\u001b[1;36m Getting \u001b[0m\u001b[1;4;36mhttps://github.com/fupdec/mediaChips/blob/master/package.json\u001b[0m\n"
      ]
     },
     "metadata": {},
     "output_type": "display_data"
    },
    {
     "data": {
      "text/html": [
       "<pre style=\"white-space:pre;overflow-x:auto;line-height:normal;font-family:Menlo,'DejaVu Sans Mono',consolas,'Courier New',monospace\"><span style=\"color: #008080; text-decoration-color: #008080; font-weight: bold\">[+] Getting repo: </span><span style=\"color: #008080; text-decoration-color: #008080; font-weight: bold; text-decoration: underline\">https://github.com/feugy/melodie</span>\n",
       "</pre>\n"
      ],
      "text/plain": [
       "\u001b[1;36m[\u001b[0m\u001b[1;36m+\u001b[0m\u001b[1;36m]\u001b[0m\u001b[1;36m Getting repo: \u001b[0m\u001b[1;4;36mhttps://github.com/feugy/melodie\u001b[0m\n"
      ]
     },
     "metadata": {},
     "output_type": "display_data"
    },
    {
     "data": {
      "text/html": [
       "<pre style=\"white-space:pre;overflow-x:auto;line-height:normal;font-family:Menlo,'DejaVu Sans Mono',consolas,'Courier New',monospace\"><span style=\"color: #008080; text-decoration-color: #008080; font-weight: bold\">[+] Successfully retrieved repo: </span><span style=\"color: #008080; text-decoration-color: #008080; font-weight: bold; text-decoration: underline\">https://github.com/feugy/melodie</span>\n",
       "</pre>\n"
      ],
      "text/plain": [
       "\u001b[1;36m[\u001b[0m\u001b[1;36m+\u001b[0m\u001b[1;36m]\u001b[0m\u001b[1;36m Successfully retrieved repo: \u001b[0m\u001b[1;4;36mhttps://github.com/feugy/melodie\u001b[0m\n"
      ]
     },
     "metadata": {},
     "output_type": "display_data"
    },
    {
     "data": {
      "text/html": [
       "<pre style=\"white-space:pre;overflow-x:auto;line-height:normal;font-family:Menlo,'DejaVu Sans Mono',consolas,'Courier New',monospace\"><span style=\"color: #008080; text-decoration-color: #008080; font-weight: bold\">[+] Found package.json at /</span>\n",
       "</pre>\n"
      ],
      "text/plain": [
       "\u001b[1;36m[\u001b[0m\u001b[1;36m+\u001b[0m\u001b[1;36m]\u001b[0m\u001b[1;36m Found package.json at \u001b[0m\u001b[1;36m/\u001b[0m\n"
      ]
     },
     "metadata": {},
     "output_type": "display_data"
    },
    {
     "data": {
      "text/html": [
       "<pre style=\"white-space:pre;overflow-x:auto;line-height:normal;font-family:Menlo,'DejaVu Sans Mono',consolas,'Courier New',monospace\"><span style=\"color: #008080; text-decoration-color: #008080; font-weight: bold\">[+] Getting </span><span style=\"color: #008080; text-decoration-color: #008080; font-weight: bold; text-decoration: underline\">https://github.com/feugy/melodie/blob/main/package.json</span>\n",
       "</pre>\n"
      ],
      "text/plain": [
       "\u001b[1;36m[\u001b[0m\u001b[1;36m+\u001b[0m\u001b[1;36m]\u001b[0m\u001b[1;36m Getting \u001b[0m\u001b[1;4;36mhttps://github.com/feugy/melodie/blob/main/package.json\u001b[0m\n"
      ]
     },
     "metadata": {},
     "output_type": "display_data"
    },
    {
     "data": {
      "text/html": [
       "<pre style=\"white-space:pre;overflow-x:auto;line-height:normal;font-family:Menlo,'DejaVu Sans Mono',consolas,'Courier New',monospace\"><span style=\"color: #008080; text-decoration-color: #008080; font-weight: bold\">[+] Getting repo: </span><span style=\"color: #008080; text-decoration-color: #008080; font-weight: bold; text-decoration: underline\">https://github.com/samuelmaddock/metastream</span>\n",
       "</pre>\n"
      ],
      "text/plain": [
       "\u001b[1;36m[\u001b[0m\u001b[1;36m+\u001b[0m\u001b[1;36m]\u001b[0m\u001b[1;36m Getting repo: \u001b[0m\u001b[1;4;36mhttps://github.com/samuelmaddock/metastream\u001b[0m\n"
      ]
     },
     "metadata": {},
     "output_type": "display_data"
    },
    {
     "data": {
      "text/html": [
       "<pre style=\"white-space:pre;overflow-x:auto;line-height:normal;font-family:Menlo,'DejaVu Sans Mono',consolas,'Courier New',monospace\"><span style=\"color: #008080; text-decoration-color: #008080; font-weight: bold\">[+] Successfully retrieved repo: </span><span style=\"color: #008080; text-decoration-color: #008080; font-weight: bold; text-decoration: underline\">https://github.com/samuelmaddock/metastream</span>\n",
       "</pre>\n"
      ],
      "text/plain": [
       "\u001b[1;36m[\u001b[0m\u001b[1;36m+\u001b[0m\u001b[1;36m]\u001b[0m\u001b[1;36m Successfully retrieved repo: \u001b[0m\u001b[1;4;36mhttps://github.com/samuelmaddock/metastream\u001b[0m\n"
      ]
     },
     "metadata": {},
     "output_type": "display_data"
    },
    {
     "data": {
      "text/html": [
       "<pre style=\"white-space:pre;overflow-x:auto;line-height:normal;font-family:Menlo,'DejaVu Sans Mono',consolas,'Courier New',monospace\"><span style=\"color: #008080; text-decoration-color: #008080; font-weight: bold\">[+] Found package.json at /</span>\n",
       "</pre>\n"
      ],
      "text/plain": [
       "\u001b[1;36m[\u001b[0m\u001b[1;36m+\u001b[0m\u001b[1;36m]\u001b[0m\u001b[1;36m Found package.json at \u001b[0m\u001b[1;36m/\u001b[0m\n"
      ]
     },
     "metadata": {},
     "output_type": "display_data"
    },
    {
     "data": {
      "text/html": [
       "<pre style=\"white-space:pre;overflow-x:auto;line-height:normal;font-family:Menlo,'DejaVu Sans Mono',consolas,'Courier New',monospace\"><span style=\"color: #008080; text-decoration-color: #008080; font-weight: bold\">[+] Getting </span><span style=\"color: #008080; text-decoration-color: #008080; font-weight: bold; text-decoration: underline\">https://github.com/samuelmaddock/metastream/blob/master/package.json</span>\n",
       "</pre>\n"
      ],
      "text/plain": [
       "\u001b[1;36m[\u001b[0m\u001b[1;36m+\u001b[0m\u001b[1;36m]\u001b[0m\u001b[1;36m Getting \u001b[0m\u001b[1;4;36mhttps://github.com/samuelmaddock/metastream/blob/master/package.json\u001b[0m\n"
      ]
     },
     "metadata": {},
     "output_type": "display_data"
    },
    {
     "data": {
      "text/html": [
       "<pre style=\"white-space:pre;overflow-x:auto;line-height:normal;font-family:Menlo,'DejaVu Sans Mono',consolas,'Courier New',monospace\"><span style=\"color: #008080; text-decoration-color: #008080; font-weight: bold\">[+] Getting repo: </span><span style=\"color: #008080; text-decoration-color: #008080; font-weight: bold; text-decoration: underline\">https://github.com/autonomoussoftware/metronome-wallet-desktop</span>\n",
       "</pre>\n"
      ],
      "text/plain": [
       "\u001b[1;36m[\u001b[0m\u001b[1;36m+\u001b[0m\u001b[1;36m]\u001b[0m\u001b[1;36m Getting repo: \u001b[0m\u001b[1;4;36mhttps://github.com/autonomoussoftware/metronome-wallet-desktop\u001b[0m\n"
      ]
     },
     "metadata": {},
     "output_type": "display_data"
    },
    {
     "data": {
      "text/html": [
       "<pre style=\"white-space:pre;overflow-x:auto;line-height:normal;font-family:Menlo,'DejaVu Sans Mono',consolas,'Courier New',monospace\"><span style=\"color: #008080; text-decoration-color: #008080; font-weight: bold\">[+] Successfully retrieved repo: </span><span style=\"color: #008080; text-decoration-color: #008080; font-weight: bold; text-decoration: underline\">https://github.com/autonomoussoftware/metronome-wallet-desktop</span>\n",
       "</pre>\n"
      ],
      "text/plain": [
       "\u001b[1;36m[\u001b[0m\u001b[1;36m+\u001b[0m\u001b[1;36m]\u001b[0m\u001b[1;36m Successfully retrieved repo: \u001b[0m\u001b[1;4;36mhttps://github.com/autonomoussoftware/metronome-wallet-desktop\u001b[0m\n"
      ]
     },
     "metadata": {},
     "output_type": "display_data"
    },
    {
     "data": {
      "text/html": [
       "<pre style=\"white-space:pre;overflow-x:auto;line-height:normal;font-family:Menlo,'DejaVu Sans Mono',consolas,'Courier New',monospace\"><span style=\"color: #008080; text-decoration-color: #008080; font-weight: bold\">[+] Found package.json at /</span>\n",
       "</pre>\n"
      ],
      "text/plain": [
       "\u001b[1;36m[\u001b[0m\u001b[1;36m+\u001b[0m\u001b[1;36m]\u001b[0m\u001b[1;36m Found package.json at \u001b[0m\u001b[1;36m/\u001b[0m\n"
      ]
     },
     "metadata": {},
     "output_type": "display_data"
    },
    {
     "data": {
      "text/html": [
       "<pre style=\"white-space:pre;overflow-x:auto;line-height:normal;font-family:Menlo,'DejaVu Sans Mono',consolas,'Courier New',monospace\"><span style=\"color: #008080; text-decoration-color: #008080; font-weight: bold\">[+] Getting </span><span style=\"color: #008080; text-decoration-color: #008080; font-weight: bold; text-decoration: underline\">https://github.com/autonomoussoftware/metronome-wallet-desktop/blob/develop/package.json</span>\n",
       "</pre>\n"
      ],
      "text/plain": [
       "\u001b[1;36m[\u001b[0m\u001b[1;36m+\u001b[0m\u001b[1;36m]\u001b[0m\u001b[1;36m Getting \u001b[0m\u001b[1;4;36mhttps://github.com/autonomoussoftware/metronome-wallet-desktop/blob/develop/package.json\u001b[0m\n"
      ]
     },
     "metadata": {},
     "output_type": "display_data"
    },
    {
     "data": {
      "text/html": [
       "<pre style=\"white-space:pre;overflow-x:auto;line-height:normal;font-family:Menlo,'DejaVu Sans Mono',consolas,'Courier New',monospace\"><span style=\"color: #008080; text-decoration-color: #008080; font-weight: bold\">[+] Getting repo: </span><span style=\"color: #008080; text-decoration-color: #008080; font-weight: bold; text-decoration: underline\">https://github.com/minbrowser/min</span>\n",
       "</pre>\n"
      ],
      "text/plain": [
       "\u001b[1;36m[\u001b[0m\u001b[1;36m+\u001b[0m\u001b[1;36m]\u001b[0m\u001b[1;36m Getting repo: \u001b[0m\u001b[1;4;36mhttps://github.com/minbrowser/min\u001b[0m\n"
      ]
     },
     "metadata": {},
     "output_type": "display_data"
    },
    {
     "data": {
      "text/html": [
       "<pre style=\"white-space:pre;overflow-x:auto;line-height:normal;font-family:Menlo,'DejaVu Sans Mono',consolas,'Courier New',monospace\"><span style=\"color: #008080; text-decoration-color: #008080; font-weight: bold\">[+] Successfully retrieved repo: </span><span style=\"color: #008080; text-decoration-color: #008080; font-weight: bold; text-decoration: underline\">https://github.com/minbrowser/min</span>\n",
       "</pre>\n"
      ],
      "text/plain": [
       "\u001b[1;36m[\u001b[0m\u001b[1;36m+\u001b[0m\u001b[1;36m]\u001b[0m\u001b[1;36m Successfully retrieved repo: \u001b[0m\u001b[1;4;36mhttps://github.com/minbrowser/min\u001b[0m\n"
      ]
     },
     "metadata": {},
     "output_type": "display_data"
    },
    {
     "data": {
      "text/html": [
       "<pre style=\"white-space:pre;overflow-x:auto;line-height:normal;font-family:Menlo,'DejaVu Sans Mono',consolas,'Courier New',monospace\"><span style=\"color: #008080; text-decoration-color: #008080; font-weight: bold\">[+] Found package.json at /</span>\n",
       "</pre>\n"
      ],
      "text/plain": [
       "\u001b[1;36m[\u001b[0m\u001b[1;36m+\u001b[0m\u001b[1;36m]\u001b[0m\u001b[1;36m Found package.json at \u001b[0m\u001b[1;36m/\u001b[0m\n"
      ]
     },
     "metadata": {},
     "output_type": "display_data"
    },
    {
     "data": {
      "text/html": [
       "<pre style=\"white-space:pre;overflow-x:auto;line-height:normal;font-family:Menlo,'DejaVu Sans Mono',consolas,'Courier New',monospace\"><span style=\"color: #008080; text-decoration-color: #008080; font-weight: bold\">[+] Getting </span><span style=\"color: #008080; text-decoration-color: #008080; font-weight: bold; text-decoration: underline\">https://github.com/minbrowser/min/blob/master/package.json</span>\n",
       "</pre>\n"
      ],
      "text/plain": [
       "\u001b[1;36m[\u001b[0m\u001b[1;36m+\u001b[0m\u001b[1;36m]\u001b[0m\u001b[1;36m Getting \u001b[0m\u001b[1;4;36mhttps://github.com/minbrowser/min/blob/master/package.json\u001b[0m\n"
      ]
     },
     "metadata": {},
     "output_type": "display_data"
    },
    {
     "data": {
      "text/html": [
       "<pre style=\"white-space:pre;overflow-x:auto;line-height:normal;font-family:Menlo,'DejaVu Sans Mono',consolas,'Courier New',monospace\"><span style=\"color: #008080; text-decoration-color: #008080; font-weight: bold\">[+] Getting repo: </span><span style=\"color: #008080; text-decoration-color: #008080; font-weight: bold; text-decoration: underline\">https://github.com/Mindmapp/mindmapp</span>\n",
       "</pre>\n"
      ],
      "text/plain": [
       "\u001b[1;36m[\u001b[0m\u001b[1;36m+\u001b[0m\u001b[1;36m]\u001b[0m\u001b[1;36m Getting repo: \u001b[0m\u001b[1;4;36mhttps://github.com/Mindmapp/mindmapp\u001b[0m\n"
      ]
     },
     "metadata": {},
     "output_type": "display_data"
    },
    {
     "data": {
      "text/html": [
       "<pre style=\"white-space:pre;overflow-x:auto;line-height:normal;font-family:Menlo,'DejaVu Sans Mono',consolas,'Courier New',monospace\"><span style=\"color: #008080; text-decoration-color: #008080; font-weight: bold\">[+] Successfully retrieved repo: </span><span style=\"color: #008080; text-decoration-color: #008080; font-weight: bold; text-decoration: underline\">https://github.com/Mindmapp/mindmapp</span>\n",
       "</pre>\n"
      ],
      "text/plain": [
       "\u001b[1;36m[\u001b[0m\u001b[1;36m+\u001b[0m\u001b[1;36m]\u001b[0m\u001b[1;36m Successfully retrieved repo: \u001b[0m\u001b[1;4;36mhttps://github.com/Mindmapp/mindmapp\u001b[0m\n"
      ]
     },
     "metadata": {},
     "output_type": "display_data"
    },
    {
     "data": {
      "text/html": [
       "<pre style=\"white-space:pre;overflow-x:auto;line-height:normal;font-family:Menlo,'DejaVu Sans Mono',consolas,'Courier New',monospace\"><span style=\"color: #008080; text-decoration-color: #008080; font-weight: bold\">[+] Found package.json at /</span>\n",
       "</pre>\n"
      ],
      "text/plain": [
       "\u001b[1;36m[\u001b[0m\u001b[1;36m+\u001b[0m\u001b[1;36m]\u001b[0m\u001b[1;36m Found package.json at \u001b[0m\u001b[1;36m/\u001b[0m\n"
      ]
     },
     "metadata": {},
     "output_type": "display_data"
    },
    {
     "data": {
      "text/html": [
       "<pre style=\"white-space:pre;overflow-x:auto;line-height:normal;font-family:Menlo,'DejaVu Sans Mono',consolas,'Courier New',monospace\"><span style=\"color: #008080; text-decoration-color: #008080; font-weight: bold\">[+] Getting </span><span style=\"color: #008080; text-decoration-color: #008080; font-weight: bold; text-decoration: underline\">https://github.com/cedoor/mindmapp/blob/master/package.json</span>\n",
       "</pre>\n"
      ],
      "text/plain": [
       "\u001b[1;36m[\u001b[0m\u001b[1;36m+\u001b[0m\u001b[1;36m]\u001b[0m\u001b[1;36m Getting \u001b[0m\u001b[1;4;36mhttps://github.com/cedoor/mindmapp/blob/master/package.json\u001b[0m\n"
      ]
     },
     "metadata": {},
     "output_type": "display_data"
    },
    {
     "data": {
      "text/html": [
       "<pre style=\"white-space:pre;overflow-x:auto;line-height:normal;font-family:Menlo,'DejaVu Sans Mono',consolas,'Courier New',monospace\"><span style=\"color: #008080; text-decoration-color: #008080; font-weight: bold\">[+] Getting repo: </span><span style=\"color: #008080; text-decoration-color: #008080; font-weight: bold; text-decoration: underline\">https://github.com/mingo-app/mingo</span>\n",
       "</pre>\n"
      ],
      "text/plain": [
       "\u001b[1;36m[\u001b[0m\u001b[1;36m+\u001b[0m\u001b[1;36m]\u001b[0m\u001b[1;36m Getting repo: \u001b[0m\u001b[1;4;36mhttps://github.com/mingo-app/mingo\u001b[0m\n"
      ]
     },
     "metadata": {},
     "output_type": "display_data"
    },
    {
     "data": {
      "text/html": [
       "<pre style=\"white-space:pre;overflow-x:auto;line-height:normal;font-family:Menlo,'DejaVu Sans Mono',consolas,'Courier New',monospace\"><span style=\"color: #008080; text-decoration-color: #008080; font-weight: bold\">[+] Successfully retrieved repo: </span><span style=\"color: #008080; text-decoration-color: #008080; font-weight: bold; text-decoration: underline\">https://github.com/mingo-app/mingo</span>\n",
       "</pre>\n"
      ],
      "text/plain": [
       "\u001b[1;36m[\u001b[0m\u001b[1;36m+\u001b[0m\u001b[1;36m]\u001b[0m\u001b[1;36m Successfully retrieved repo: \u001b[0m\u001b[1;4;36mhttps://github.com/mingo-app/mingo\u001b[0m\n"
      ]
     },
     "metadata": {},
     "output_type": "display_data"
    },
    {
     "data": {
      "text/html": [
       "<pre style=\"white-space:pre;overflow-x:auto;line-height:normal;font-family:Menlo,'DejaVu Sans Mono',consolas,'Courier New',monospace\"><span style=\"color: #ff5f00; text-decoration-color: #ff5f00; font-weight: bold\">[!] Package.json not found at root; trying directories</span>\n",
       "</pre>\n"
      ],
      "text/plain": [
       "\u001b[1;38;5;202m[\u001b[0m\u001b[1;38;5;202m!\u001b[0m\u001b[1;38;5;202m]\u001b[0m\u001b[1;38;5;202m Package.json not found at root; trying directories\u001b[0m\n"
      ]
     },
     "metadata": {},
     "output_type": "display_data"
    },
    {
     "data": {
      "text/html": [
       "<pre style=\"white-space:pre;overflow-x:auto;line-height:normal;font-family:Menlo,'DejaVu Sans Mono',consolas,'Courier New',monospace\"><span style=\"color: #008080; text-decoration-color: #008080; font-weight: bold\">[+] Trying </span><span style=\"color: #008080; text-decoration-color: #008080; font-weight: bold; text-decoration: underline\">https://github.com/mingo-app/mingo/tree/master/.github/ISSUE_TEMPLATE</span>\n",
       "</pre>\n"
      ],
      "text/plain": [
       "\u001b[1;36m[\u001b[0m\u001b[1;36m+\u001b[0m\u001b[1;36m]\u001b[0m\u001b[1;36m Trying \u001b[0m\u001b[1;4;36mhttps://github.com/mingo-app/mingo/tree/master/.github/ISSUE_TEMPLATE\u001b[0m\n"
      ]
     },
     "metadata": {},
     "output_type": "display_data"
    },
    {
     "data": {
      "text/html": [
       "<pre style=\"white-space:pre;overflow-x:auto;line-height:normal;font-family:Menlo,'DejaVu Sans Mono',consolas,'Courier New',monospace\"><span style=\"color: #800000; text-decoration-color: #800000; font-weight: bold\">[💀] Could not find package.json in first-level-subdirs</span>\n",
       "</pre>\n"
      ],
      "text/plain": [
       "\u001b[1;31m[\u001b[0m\u001b[1;31m💀\u001b[0m\u001b[1;31m]\u001b[0m\u001b[1;31m Could not find package.json in first-level-subdirs\u001b[0m\n"
      ]
     },
     "metadata": {},
     "output_type": "display_data"
    },
    {
     "data": {
      "text/html": [
       "<pre style=\"white-space:pre;overflow-x:auto;line-height:normal;font-family:Menlo,'DejaVu Sans Mono',consolas,'Courier New',monospace\"><span style=\"color: #008080; text-decoration-color: #008080; font-weight: bold\">[+] Getting repo: </span><span style=\"color: #008080; text-decoration-color: #008080; font-weight: bold; text-decoration: underline\">https://github.com/samuelmeuli/mini-diary</span>\n",
       "</pre>\n"
      ],
      "text/plain": [
       "\u001b[1;36m[\u001b[0m\u001b[1;36m+\u001b[0m\u001b[1;36m]\u001b[0m\u001b[1;36m Getting repo: \u001b[0m\u001b[1;4;36mhttps://github.com/samuelmeuli/mini-diary\u001b[0m\n"
      ]
     },
     "metadata": {},
     "output_type": "display_data"
    },
    {
     "data": {
      "text/html": [
       "<pre style=\"white-space:pre;overflow-x:auto;line-height:normal;font-family:Menlo,'DejaVu Sans Mono',consolas,'Courier New',monospace\"><span style=\"color: #008080; text-decoration-color: #008080; font-weight: bold\">[+] Successfully retrieved repo: </span><span style=\"color: #008080; text-decoration-color: #008080; font-weight: bold; text-decoration: underline\">https://github.com/samuelmeuli/mini-diary</span>\n",
       "</pre>\n"
      ],
      "text/plain": [
       "\u001b[1;36m[\u001b[0m\u001b[1;36m+\u001b[0m\u001b[1;36m]\u001b[0m\u001b[1;36m Successfully retrieved repo: \u001b[0m\u001b[1;4;36mhttps://github.com/samuelmeuli/mini-diary\u001b[0m\n"
      ]
     },
     "metadata": {},
     "output_type": "display_data"
    },
    {
     "data": {
      "text/html": [
       "<pre style=\"white-space:pre;overflow-x:auto;line-height:normal;font-family:Menlo,'DejaVu Sans Mono',consolas,'Courier New',monospace\"><span style=\"color: #008080; text-decoration-color: #008080; font-weight: bold\">[+] Found package.json at /</span>\n",
       "</pre>\n"
      ],
      "text/plain": [
       "\u001b[1;36m[\u001b[0m\u001b[1;36m+\u001b[0m\u001b[1;36m]\u001b[0m\u001b[1;36m Found package.json at \u001b[0m\u001b[1;36m/\u001b[0m\n"
      ]
     },
     "metadata": {},
     "output_type": "display_data"
    },
    {
     "data": {
      "text/html": [
       "<pre style=\"white-space:pre;overflow-x:auto;line-height:normal;font-family:Menlo,'DejaVu Sans Mono',consolas,'Courier New',monospace\"><span style=\"color: #008080; text-decoration-color: #008080; font-weight: bold\">[+] Getting </span><span style=\"color: #008080; text-decoration-color: #008080; font-weight: bold; text-decoration: underline\">https://github.com/samuelmeuli/mini-diary/blob/master/package.json</span>\n",
       "</pre>\n"
      ],
      "text/plain": [
       "\u001b[1;36m[\u001b[0m\u001b[1;36m+\u001b[0m\u001b[1;36m]\u001b[0m\u001b[1;36m Getting \u001b[0m\u001b[1;4;36mhttps://github.com/samuelmeuli/mini-diary/blob/master/package.json\u001b[0m\n"
      ]
     },
     "metadata": {},
     "output_type": "display_data"
    },
    {
     "data": {
      "text/html": [
       "<pre style=\"white-space:pre;overflow-x:auto;line-height:normal;font-family:Menlo,'DejaVu Sans Mono',consolas,'Courier New',monospace\"><span style=\"color: #008080; text-decoration-color: #008080; font-weight: bold\">[+] Getting repo: </span><span style=\"color: #008080; text-decoration-color: #008080; font-weight: bold; text-decoration: underline\">https://github.com/mjmlio/mjml-app</span>\n",
       "</pre>\n"
      ],
      "text/plain": [
       "\u001b[1;36m[\u001b[0m\u001b[1;36m+\u001b[0m\u001b[1;36m]\u001b[0m\u001b[1;36m Getting repo: \u001b[0m\u001b[1;4;36mhttps://github.com/mjmlio/mjml-app\u001b[0m\n"
      ]
     },
     "metadata": {},
     "output_type": "display_data"
    },
    {
     "data": {
      "text/html": [
       "<pre style=\"white-space:pre;overflow-x:auto;line-height:normal;font-family:Menlo,'DejaVu Sans Mono',consolas,'Courier New',monospace\"><span style=\"color: #008080; text-decoration-color: #008080; font-weight: bold\">[+] Successfully retrieved repo: </span><span style=\"color: #008080; text-decoration-color: #008080; font-weight: bold; text-decoration: underline\">https://github.com/mjmlio/mjml-app</span>\n",
       "</pre>\n"
      ],
      "text/plain": [
       "\u001b[1;36m[\u001b[0m\u001b[1;36m+\u001b[0m\u001b[1;36m]\u001b[0m\u001b[1;36m Successfully retrieved repo: \u001b[0m\u001b[1;4;36mhttps://github.com/mjmlio/mjml-app\u001b[0m\n"
      ]
     },
     "metadata": {},
     "output_type": "display_data"
    },
    {
     "data": {
      "text/html": [
       "<pre style=\"white-space:pre;overflow-x:auto;line-height:normal;font-family:Menlo,'DejaVu Sans Mono',consolas,'Courier New',monospace\"><span style=\"color: #008080; text-decoration-color: #008080; font-weight: bold\">[+] Found package.json at /</span>\n",
       "</pre>\n"
      ],
      "text/plain": [
       "\u001b[1;36m[\u001b[0m\u001b[1;36m+\u001b[0m\u001b[1;36m]\u001b[0m\u001b[1;36m Found package.json at \u001b[0m\u001b[1;36m/\u001b[0m\n"
      ]
     },
     "metadata": {},
     "output_type": "display_data"
    },
    {
     "data": {
      "text/html": [
       "<pre style=\"white-space:pre;overflow-x:auto;line-height:normal;font-family:Menlo,'DejaVu Sans Mono',consolas,'Courier New',monospace\"><span style=\"color: #008080; text-decoration-color: #008080; font-weight: bold\">[+] Getting </span><span style=\"color: #008080; text-decoration-color: #008080; font-weight: bold; text-decoration: underline\">https://github.com/mjmlio/mjml-app/blob/master/package.json</span>\n",
       "</pre>\n"
      ],
      "text/plain": [
       "\u001b[1;36m[\u001b[0m\u001b[1;36m+\u001b[0m\u001b[1;36m]\u001b[0m\u001b[1;36m Getting \u001b[0m\u001b[1;4;36mhttps://github.com/mjmlio/mjml-app/blob/master/package.json\u001b[0m\n"
      ]
     },
     "metadata": {},
     "output_type": "display_data"
    },
    {
     "data": {
      "text/html": [
       "<pre style=\"white-space:pre;overflow-x:auto;line-height:normal;font-family:Menlo,'DejaVu Sans Mono',consolas,'Courier New',monospace\"><span style=\"color: #008080; text-decoration-color: #008080; font-weight: bold\">[+] Getting repo: </span><span style=\"color: #008080; text-decoration-color: #008080; font-weight: bold; text-decoration: underline\">https://github.com/Mobirise/Mobirise</span>\n",
       "</pre>\n"
      ],
      "text/plain": [
       "\u001b[1;36m[\u001b[0m\u001b[1;36m+\u001b[0m\u001b[1;36m]\u001b[0m\u001b[1;36m Getting repo: \u001b[0m\u001b[1;4;36mhttps://github.com/Mobirise/Mobirise\u001b[0m\n"
      ]
     },
     "metadata": {},
     "output_type": "display_data"
    },
    {
     "data": {
      "text/html": [
       "<pre style=\"white-space:pre;overflow-x:auto;line-height:normal;font-family:Menlo,'DejaVu Sans Mono',consolas,'Courier New',monospace\"><span style=\"color: #008080; text-decoration-color: #008080; font-weight: bold\">[+] Successfully retrieved repo: </span><span style=\"color: #008080; text-decoration-color: #008080; font-weight: bold; text-decoration: underline\">https://github.com/Mobirise/Mobirise</span>\n",
       "</pre>\n"
      ],
      "text/plain": [
       "\u001b[1;36m[\u001b[0m\u001b[1;36m+\u001b[0m\u001b[1;36m]\u001b[0m\u001b[1;36m Successfully retrieved repo: \u001b[0m\u001b[1;4;36mhttps://github.com/Mobirise/Mobirise\u001b[0m\n"
      ]
     },
     "metadata": {},
     "output_type": "display_data"
    },
    {
     "data": {
      "text/html": [
       "<pre style=\"white-space:pre;overflow-x:auto;line-height:normal;font-family:Menlo,'DejaVu Sans Mono',consolas,'Courier New',monospace\"><span style=\"color: #ff5f00; text-decoration-color: #ff5f00; font-weight: bold\">[!] Package.json not found at root; trying directories</span>\n",
       "</pre>\n"
      ],
      "text/plain": [
       "\u001b[1;38;5;202m[\u001b[0m\u001b[1;38;5;202m!\u001b[0m\u001b[1;38;5;202m]\u001b[0m\u001b[1;38;5;202m Package.json not found at root; trying directories\u001b[0m\n"
      ]
     },
     "metadata": {},
     "output_type": "display_data"
    },
    {
     "data": {
      "text/html": [
       "<pre style=\"white-space:pre;overflow-x:auto;line-height:normal;font-family:Menlo,'DejaVu Sans Mono',consolas,'Courier New',monospace\"><span style=\"color: #008080; text-decoration-color: #008080; font-weight: bold\">[+] Trying </span><span style=\"color: #008080; text-decoration-color: #008080; font-weight: bold; text-decoration: underline\">https://github.com/Mobirise/Mobirise/tree/master/bootstrap-templates</span>\n",
       "</pre>\n"
      ],
      "text/plain": [
       "\u001b[1;36m[\u001b[0m\u001b[1;36m+\u001b[0m\u001b[1;36m]\u001b[0m\u001b[1;36m Trying \u001b[0m\u001b[1;4;36mhttps://github.com/Mobirise/Mobirise/tree/master/bootstrap-templates\u001b[0m\n"
      ]
     },
     "metadata": {},
     "output_type": "display_data"
    },
    {
     "data": {
      "text/html": [
       "<pre style=\"white-space:pre;overflow-x:auto;line-height:normal;font-family:Menlo,'DejaVu Sans Mono',consolas,'Courier New',monospace\"><span style=\"color: #800000; text-decoration-color: #800000; font-weight: bold\">[💀] Could not find package.json in first-level-subdirs</span>\n",
       "</pre>\n"
      ],
      "text/plain": [
       "\u001b[1;31m[\u001b[0m\u001b[1;31m💀\u001b[0m\u001b[1;31m]\u001b[0m\u001b[1;31m Could not find package.json in first-level-subdirs\u001b[0m\n"
      ]
     },
     "metadata": {},
     "output_type": "display_data"
    },
    {
     "data": {
      "text/html": [
       "<pre style=\"white-space:pre;overflow-x:auto;line-height:normal;font-family:Menlo,'DejaVu Sans Mono',consolas,'Courier New',monospace\"><span style=\"color: #008080; text-decoration-color: #008080; font-weight: bold\">[+] Getting repo: </span><span style=\"color: #008080; text-decoration-color: #008080; font-weight: bold; text-decoration: underline\">https://github.com/255kb/mockoon</span>\n",
       "</pre>\n"
      ],
      "text/plain": [
       "\u001b[1;36m[\u001b[0m\u001b[1;36m+\u001b[0m\u001b[1;36m]\u001b[0m\u001b[1;36m Getting repo: \u001b[0m\u001b[1;4;36mhttps://github.com/255kb/mockoon\u001b[0m\n"
      ]
     },
     "metadata": {},
     "output_type": "display_data"
    },
    {
     "data": {
      "text/html": [
       "<pre style=\"white-space:pre;overflow-x:auto;line-height:normal;font-family:Menlo,'DejaVu Sans Mono',consolas,'Courier New',monospace\"><span style=\"color: #008080; text-decoration-color: #008080; font-weight: bold\">[+] Successfully retrieved repo: </span><span style=\"color: #008080; text-decoration-color: #008080; font-weight: bold; text-decoration: underline\">https://github.com/255kb/mockoon</span>\n",
       "</pre>\n"
      ],
      "text/plain": [
       "\u001b[1;36m[\u001b[0m\u001b[1;36m+\u001b[0m\u001b[1;36m]\u001b[0m\u001b[1;36m Successfully retrieved repo: \u001b[0m\u001b[1;4;36mhttps://github.com/255kb/mockoon\u001b[0m\n"
      ]
     },
     "metadata": {},
     "output_type": "display_data"
    },
    {
     "data": {
      "text/html": [
       "<pre style=\"white-space:pre;overflow-x:auto;line-height:normal;font-family:Menlo,'DejaVu Sans Mono',consolas,'Courier New',monospace\"><span style=\"color: #008080; text-decoration-color: #008080; font-weight: bold\">[+] Found package.json at /</span>\n",
       "</pre>\n"
      ],
      "text/plain": [
       "\u001b[1;36m[\u001b[0m\u001b[1;36m+\u001b[0m\u001b[1;36m]\u001b[0m\u001b[1;36m Found package.json at \u001b[0m\u001b[1;36m/\u001b[0m\n"
      ]
     },
     "metadata": {},
     "output_type": "display_data"
    },
    {
     "data": {
      "text/html": [
       "<pre style=\"white-space:pre;overflow-x:auto;line-height:normal;font-family:Menlo,'DejaVu Sans Mono',consolas,'Courier New',monospace\"><span style=\"color: #008080; text-decoration-color: #008080; font-weight: bold\">[+] Getting </span><span style=\"color: #008080; text-decoration-color: #008080; font-weight: bold; text-decoration: underline\">https://github.com/mockoon/mockoon/blob/main/package.json</span>\n",
       "</pre>\n"
      ],
      "text/plain": [
       "\u001b[1;36m[\u001b[0m\u001b[1;36m+\u001b[0m\u001b[1;36m]\u001b[0m\u001b[1;36m Getting \u001b[0m\u001b[1;4;36mhttps://github.com/mockoon/mockoon/blob/main/package.json\u001b[0m\n"
      ]
     },
     "metadata": {},
     "output_type": "display_data"
    },
    {
     "data": {
      "text/html": [
       "<pre style=\"white-space:pre;overflow-x:auto;line-height:normal;font-family:Menlo,'DejaVu Sans Mono',consolas,'Courier New',monospace\"><span style=\"color: #008080; text-decoration-color: #008080; font-weight: bold\">[+] Getting repo: </span><span style=\"color: #008080; text-decoration-color: #008080; font-weight: bold; text-decoration: underline\">https://github.com/dangeredwolf/ModernDeck</span>\n",
       "</pre>\n"
      ],
      "text/plain": [
       "\u001b[1;36m[\u001b[0m\u001b[1;36m+\u001b[0m\u001b[1;36m]\u001b[0m\u001b[1;36m Getting repo: \u001b[0m\u001b[1;4;36mhttps://github.com/dangeredwolf/ModernDeck\u001b[0m\n"
      ]
     },
     "metadata": {},
     "output_type": "display_data"
    },
    {
     "data": {
      "text/html": [
       "<pre style=\"white-space:pre;overflow-x:auto;line-height:normal;font-family:Menlo,'DejaVu Sans Mono',consolas,'Courier New',monospace\"><span style=\"color: #008080; text-decoration-color: #008080; font-weight: bold\">[+] Successfully retrieved repo: </span><span style=\"color: #008080; text-decoration-color: #008080; font-weight: bold; text-decoration: underline\">https://github.com/dangeredwolf/ModernDeck</span>\n",
       "</pre>\n"
      ],
      "text/plain": [
       "\u001b[1;36m[\u001b[0m\u001b[1;36m+\u001b[0m\u001b[1;36m]\u001b[0m\u001b[1;36m Successfully retrieved repo: \u001b[0m\u001b[1;4;36mhttps://github.com/dangeredwolf/ModernDeck\u001b[0m\n"
      ]
     },
     "metadata": {},
     "output_type": "display_data"
    },
    {
     "data": {
      "text/html": [
       "<pre style=\"white-space:pre;overflow-x:auto;line-height:normal;font-family:Menlo,'DejaVu Sans Mono',consolas,'Courier New',monospace\"><span style=\"color: #008080; text-decoration-color: #008080; font-weight: bold\">[+] Found package.json at /</span>\n",
       "</pre>\n"
      ],
      "text/plain": [
       "\u001b[1;36m[\u001b[0m\u001b[1;36m+\u001b[0m\u001b[1;36m]\u001b[0m\u001b[1;36m Found package.json at \u001b[0m\u001b[1;36m/\u001b[0m\n"
      ]
     },
     "metadata": {},
     "output_type": "display_data"
    },
    {
     "data": {
      "text/html": [
       "<pre style=\"white-space:pre;overflow-x:auto;line-height:normal;font-family:Menlo,'DejaVu Sans Mono',consolas,'Courier New',monospace\"><span style=\"color: #008080; text-decoration-color: #008080; font-weight: bold\">[+] Getting </span><span style=\"color: #008080; text-decoration-color: #008080; font-weight: bold; text-decoration: underline\">https://github.com/dangeredwolf/ModernDeck/blob/master/package.json</span>\n",
       "</pre>\n"
      ],
      "text/plain": [
       "\u001b[1;36m[\u001b[0m\u001b[1;36m+\u001b[0m\u001b[1;36m]\u001b[0m\u001b[1;36m Getting \u001b[0m\u001b[1;4;36mhttps://github.com/dangeredwolf/ModernDeck/blob/master/package.json\u001b[0m\n"
      ]
     },
     "metadata": {},
     "output_type": "display_data"
    },
    {
     "data": {
      "text/html": [
       "<pre style=\"white-space:pre;overflow-x:auto;line-height:normal;font-family:Menlo,'DejaVu Sans Mono',consolas,'Courier New',monospace\"><span style=\"color: #008080; text-decoration-color: #008080; font-weight: bold\">[+] Getting repo: </span><span style=\"color: #008080; text-decoration-color: #008080; font-weight: bold; text-decoration: underline\">https://github.com/kubeshop/monokle</span>\n",
       "</pre>\n"
      ],
      "text/plain": [
       "\u001b[1;36m[\u001b[0m\u001b[1;36m+\u001b[0m\u001b[1;36m]\u001b[0m\u001b[1;36m Getting repo: \u001b[0m\u001b[1;4;36mhttps://github.com/kubeshop/monokle\u001b[0m\n"
      ]
     },
     "metadata": {},
     "output_type": "display_data"
    },
    {
     "data": {
      "text/html": [
       "<pre style=\"white-space:pre;overflow-x:auto;line-height:normal;font-family:Menlo,'DejaVu Sans Mono',consolas,'Courier New',monospace\"><span style=\"color: #008080; text-decoration-color: #008080; font-weight: bold\">[+] Successfully retrieved repo: </span><span style=\"color: #008080; text-decoration-color: #008080; font-weight: bold; text-decoration: underline\">https://github.com/kubeshop/monokle</span>\n",
       "</pre>\n"
      ],
      "text/plain": [
       "\u001b[1;36m[\u001b[0m\u001b[1;36m+\u001b[0m\u001b[1;36m]\u001b[0m\u001b[1;36m Successfully retrieved repo: \u001b[0m\u001b[1;4;36mhttps://github.com/kubeshop/monokle\u001b[0m\n"
      ]
     },
     "metadata": {},
     "output_type": "display_data"
    },
    {
     "data": {
      "text/html": [
       "<pre style=\"white-space:pre;overflow-x:auto;line-height:normal;font-family:Menlo,'DejaVu Sans Mono',consolas,'Courier New',monospace\"><span style=\"color: #008080; text-decoration-color: #008080; font-weight: bold\">[+] Found package.json at /</span>\n",
       "</pre>\n"
      ],
      "text/plain": [
       "\u001b[1;36m[\u001b[0m\u001b[1;36m+\u001b[0m\u001b[1;36m]\u001b[0m\u001b[1;36m Found package.json at \u001b[0m\u001b[1;36m/\u001b[0m\n"
      ]
     },
     "metadata": {},
     "output_type": "display_data"
    },
    {
     "data": {
      "text/html": [
       "<pre style=\"white-space:pre;overflow-x:auto;line-height:normal;font-family:Menlo,'DejaVu Sans Mono',consolas,'Courier New',monospace\"><span style=\"color: #008080; text-decoration-color: #008080; font-weight: bold\">[+] Getting </span><span style=\"color: #008080; text-decoration-color: #008080; font-weight: bold; text-decoration: underline\">https://github.com/kubeshop/monokle/blob/main/package.json</span>\n",
       "</pre>\n"
      ],
      "text/plain": [
       "\u001b[1;36m[\u001b[0m\u001b[1;36m+\u001b[0m\u001b[1;36m]\u001b[0m\u001b[1;36m Getting \u001b[0m\u001b[1;4;36mhttps://github.com/kubeshop/monokle/blob/main/package.json\u001b[0m\n"
      ]
     },
     "metadata": {},
     "output_type": "display_data"
    },
    {
     "data": {
      "text/html": [
       "<pre style=\"white-space:pre;overflow-x:auto;line-height:normal;font-family:Menlo,'DejaVu Sans Mono',consolas,'Courier New',monospace\"><span style=\"color: #008080; text-decoration-color: #008080; font-weight: bold\">[+] Getting repo: </span><span style=\"color: #008080; text-decoration-color: #008080; font-weight: bold; text-decoration: underline\">https://github.com/Haeri/MonolithCode2</span>\n",
       "</pre>\n"
      ],
      "text/plain": [
       "\u001b[1;36m[\u001b[0m\u001b[1;36m+\u001b[0m\u001b[1;36m]\u001b[0m\u001b[1;36m Getting repo: \u001b[0m\u001b[1;4;36mhttps://github.com/Haeri/MonolithCode2\u001b[0m\n"
      ]
     },
     "metadata": {},
     "output_type": "display_data"
    },
    {
     "data": {
      "text/html": [
       "<pre style=\"white-space:pre;overflow-x:auto;line-height:normal;font-family:Menlo,'DejaVu Sans Mono',consolas,'Courier New',monospace\"><span style=\"color: #008080; text-decoration-color: #008080; font-weight: bold\">[+] Successfully retrieved repo: </span><span style=\"color: #008080; text-decoration-color: #008080; font-weight: bold; text-decoration: underline\">https://github.com/Haeri/MonolithCode2</span>\n",
       "</pre>\n"
      ],
      "text/plain": [
       "\u001b[1;36m[\u001b[0m\u001b[1;36m+\u001b[0m\u001b[1;36m]\u001b[0m\u001b[1;36m Successfully retrieved repo: \u001b[0m\u001b[1;4;36mhttps://github.com/Haeri/MonolithCode2\u001b[0m\n"
      ]
     },
     "metadata": {},
     "output_type": "display_data"
    },
    {
     "data": {
      "text/html": [
       "<pre style=\"white-space:pre;overflow-x:auto;line-height:normal;font-family:Menlo,'DejaVu Sans Mono',consolas,'Courier New',monospace\"><span style=\"color: #008080; text-decoration-color: #008080; font-weight: bold\">[+] Found package.json at /</span>\n",
       "</pre>\n"
      ],
      "text/plain": [
       "\u001b[1;36m[\u001b[0m\u001b[1;36m+\u001b[0m\u001b[1;36m]\u001b[0m\u001b[1;36m Found package.json at \u001b[0m\u001b[1;36m/\u001b[0m\n"
      ]
     },
     "metadata": {},
     "output_type": "display_data"
    },
    {
     "data": {
      "text/html": [
       "<pre style=\"white-space:pre;overflow-x:auto;line-height:normal;font-family:Menlo,'DejaVu Sans Mono',consolas,'Courier New',monospace\"><span style=\"color: #008080; text-decoration-color: #008080; font-weight: bold\">[+] Getting </span><span style=\"color: #008080; text-decoration-color: #008080; font-weight: bold; text-decoration: underline\">https://github.com/Haeri/monolith-code/blob/master/package.json</span>\n",
       "</pre>\n"
      ],
      "text/plain": [
       "\u001b[1;36m[\u001b[0m\u001b[1;36m+\u001b[0m\u001b[1;36m]\u001b[0m\u001b[1;36m Getting \u001b[0m\u001b[1;4;36mhttps://github.com/Haeri/monolith-code/blob/master/package.json\u001b[0m\n"
      ]
     },
     "metadata": {},
     "output_type": "display_data"
    },
    {
     "data": {
      "text/html": [
       "<pre style=\"white-space:pre;overflow-x:auto;line-height:normal;font-family:Menlo,'DejaVu Sans Mono',consolas,'Courier New',monospace\"><span style=\"color: #008080; text-decoration-color: #008080; font-weight: bold\">[+] Getting repo: </span><span style=\"color: #008080; text-decoration-color: #008080; font-weight: bold; text-decoration: underline\">https://github.com/Moosync/Moosync</span>\n",
       "</pre>\n"
      ],
      "text/plain": [
       "\u001b[1;36m[\u001b[0m\u001b[1;36m+\u001b[0m\u001b[1;36m]\u001b[0m\u001b[1;36m Getting repo: \u001b[0m\u001b[1;4;36mhttps://github.com/Moosync/Moosync\u001b[0m\n"
      ]
     },
     "metadata": {},
     "output_type": "display_data"
    },
    {
     "data": {
      "text/html": [
       "<pre style=\"white-space:pre;overflow-x:auto;line-height:normal;font-family:Menlo,'DejaVu Sans Mono',consolas,'Courier New',monospace\"><span style=\"color: #008080; text-decoration-color: #008080; font-weight: bold\">[+] Successfully retrieved repo: </span><span style=\"color: #008080; text-decoration-color: #008080; font-weight: bold; text-decoration: underline\">https://github.com/Moosync/Moosync</span>\n",
       "</pre>\n"
      ],
      "text/plain": [
       "\u001b[1;36m[\u001b[0m\u001b[1;36m+\u001b[0m\u001b[1;36m]\u001b[0m\u001b[1;36m Successfully retrieved repo: \u001b[0m\u001b[1;4;36mhttps://github.com/Moosync/Moosync\u001b[0m\n"
      ]
     },
     "metadata": {},
     "output_type": "display_data"
    },
    {
     "data": {
      "text/html": [
       "<pre style=\"white-space:pre;overflow-x:auto;line-height:normal;font-family:Menlo,'DejaVu Sans Mono',consolas,'Courier New',monospace\"><span style=\"color: #008080; text-decoration-color: #008080; font-weight: bold\">[+] Found package.json at /</span>\n",
       "</pre>\n"
      ],
      "text/plain": [
       "\u001b[1;36m[\u001b[0m\u001b[1;36m+\u001b[0m\u001b[1;36m]\u001b[0m\u001b[1;36m Found package.json at \u001b[0m\u001b[1;36m/\u001b[0m\n"
      ]
     },
     "metadata": {},
     "output_type": "display_data"
    },
    {
     "data": {
      "text/html": [
       "<pre style=\"white-space:pre;overflow-x:auto;line-height:normal;font-family:Menlo,'DejaVu Sans Mono',consolas,'Courier New',monospace\"><span style=\"color: #008080; text-decoration-color: #008080; font-weight: bold\">[+] Getting </span><span style=\"color: #008080; text-decoration-color: #008080; font-weight: bold; text-decoration: underline\">https://github.com/Moosync/Moosync/blob/main/package.json</span>\n",
       "</pre>\n"
      ],
      "text/plain": [
       "\u001b[1;36m[\u001b[0m\u001b[1;36m+\u001b[0m\u001b[1;36m]\u001b[0m\u001b[1;36m Getting \u001b[0m\u001b[1;4;36mhttps://github.com/Moosync/Moosync/blob/main/package.json\u001b[0m\n"
      ]
     },
     "metadata": {},
     "output_type": "display_data"
    },
    {
     "data": {
      "text/html": [
       "<pre style=\"white-space:pre;overflow-x:auto;line-height:normal;font-family:Menlo,'DejaVu Sans Mono',consolas,'Courier New',monospace\"><span style=\"color: #008080; text-decoration-color: #008080; font-weight: bold\">[+] Getting repo: </span><span style=\"color: #008080; text-decoration-color: #008080; font-weight: bold; text-decoration: underline\">https://github.com/agalwood/Motrix</span>\n",
       "</pre>\n"
      ],
      "text/plain": [
       "\u001b[1;36m[\u001b[0m\u001b[1;36m+\u001b[0m\u001b[1;36m]\u001b[0m\u001b[1;36m Getting repo: \u001b[0m\u001b[1;4;36mhttps://github.com/agalwood/Motrix\u001b[0m\n"
      ]
     },
     "metadata": {},
     "output_type": "display_data"
    },
    {
     "data": {
      "text/html": [
       "<pre style=\"white-space:pre;overflow-x:auto;line-height:normal;font-family:Menlo,'DejaVu Sans Mono',consolas,'Courier New',monospace\"><span style=\"color: #008080; text-decoration-color: #008080; font-weight: bold\">[+] Successfully retrieved repo: </span><span style=\"color: #008080; text-decoration-color: #008080; font-weight: bold; text-decoration: underline\">https://github.com/agalwood/Motrix</span>\n",
       "</pre>\n"
      ],
      "text/plain": [
       "\u001b[1;36m[\u001b[0m\u001b[1;36m+\u001b[0m\u001b[1;36m]\u001b[0m\u001b[1;36m Successfully retrieved repo: \u001b[0m\u001b[1;4;36mhttps://github.com/agalwood/Motrix\u001b[0m\n"
      ]
     },
     "metadata": {},
     "output_type": "display_data"
    },
    {
     "data": {
      "text/html": [
       "<pre style=\"white-space:pre;overflow-x:auto;line-height:normal;font-family:Menlo,'DejaVu Sans Mono',consolas,'Courier New',monospace\"><span style=\"color: #008080; text-decoration-color: #008080; font-weight: bold\">[+] Found package.json at /</span>\n",
       "</pre>\n"
      ],
      "text/plain": [
       "\u001b[1;36m[\u001b[0m\u001b[1;36m+\u001b[0m\u001b[1;36m]\u001b[0m\u001b[1;36m Found package.json at \u001b[0m\u001b[1;36m/\u001b[0m\n"
      ]
     },
     "metadata": {},
     "output_type": "display_data"
    },
    {
     "data": {
      "text/html": [
       "<pre style=\"white-space:pre;overflow-x:auto;line-height:normal;font-family:Menlo,'DejaVu Sans Mono',consolas,'Courier New',monospace\"><span style=\"color: #008080; text-decoration-color: #008080; font-weight: bold\">[+] Getting </span><span style=\"color: #008080; text-decoration-color: #008080; font-weight: bold; text-decoration: underline\">https://github.com/agalwood/Motrix/blob/master/package.json</span>\n",
       "</pre>\n"
      ],
      "text/plain": [
       "\u001b[1;36m[\u001b[0m\u001b[1;36m+\u001b[0m\u001b[1;36m]\u001b[0m\u001b[1;36m Getting \u001b[0m\u001b[1;4;36mhttps://github.com/agalwood/Motrix/blob/master/package.json\u001b[0m\n"
      ]
     },
     "metadata": {},
     "output_type": "display_data"
    },
    {
     "data": {
      "text/html": [
       "<pre style=\"white-space:pre;overflow-x:auto;line-height:normal;font-family:Menlo,'DejaVu Sans Mono',consolas,'Courier New',monospace\"><span style=\"color: #008080; text-decoration-color: #008080; font-weight: bold\">[+] Getting repo: </span><span style=\"color: #008080; text-decoration-color: #008080; font-weight: bold; text-decoration: underline\">https://github.com/fakob/MoviePrint_v004</span>\n",
       "</pre>\n"
      ],
      "text/plain": [
       "\u001b[1;36m[\u001b[0m\u001b[1;36m+\u001b[0m\u001b[1;36m]\u001b[0m\u001b[1;36m Getting repo: \u001b[0m\u001b[1;4;36mhttps://github.com/fakob/MoviePrint_v004\u001b[0m\n"
      ]
     },
     "metadata": {},
     "output_type": "display_data"
    },
    {
     "data": {
      "text/html": [
       "<pre style=\"white-space:pre;overflow-x:auto;line-height:normal;font-family:Menlo,'DejaVu Sans Mono',consolas,'Courier New',monospace\"><span style=\"color: #008080; text-decoration-color: #008080; font-weight: bold\">[+] Successfully retrieved repo: </span><span style=\"color: #008080; text-decoration-color: #008080; font-weight: bold; text-decoration: underline\">https://github.com/fakob/MoviePrint_v004</span>\n",
       "</pre>\n"
      ],
      "text/plain": [
       "\u001b[1;36m[\u001b[0m\u001b[1;36m+\u001b[0m\u001b[1;36m]\u001b[0m\u001b[1;36m Successfully retrieved repo: \u001b[0m\u001b[1;4;36mhttps://github.com/fakob/MoviePrint_v004\u001b[0m\n"
      ]
     },
     "metadata": {},
     "output_type": "display_data"
    },
    {
     "data": {
      "text/html": [
       "<pre style=\"white-space:pre;overflow-x:auto;line-height:normal;font-family:Menlo,'DejaVu Sans Mono',consolas,'Courier New',monospace\"><span style=\"color: #008080; text-decoration-color: #008080; font-weight: bold\">[+] Found package.json at /</span>\n",
       "</pre>\n"
      ],
      "text/plain": [
       "\u001b[1;36m[\u001b[0m\u001b[1;36m+\u001b[0m\u001b[1;36m]\u001b[0m\u001b[1;36m Found package.json at \u001b[0m\u001b[1;36m/\u001b[0m\n"
      ]
     },
     "metadata": {},
     "output_type": "display_data"
    },
    {
     "data": {
      "text/html": [
       "<pre style=\"white-space:pre;overflow-x:auto;line-height:normal;font-family:Menlo,'DejaVu Sans Mono',consolas,'Courier New',monospace\"><span style=\"color: #008080; text-decoration-color: #008080; font-weight: bold\">[+] Getting </span><span style=\"color: #008080; text-decoration-color: #008080; font-weight: bold; text-decoration: underline\">https://github.com/fakob/MoviePrint_v004/blob/master/package.json</span>\n",
       "</pre>\n"
      ],
      "text/plain": [
       "\u001b[1;36m[\u001b[0m\u001b[1;36m+\u001b[0m\u001b[1;36m]\u001b[0m\u001b[1;36m Getting \u001b[0m\u001b[1;4;36mhttps://github.com/fakob/MoviePrint_v004/blob/master/package.json\u001b[0m\n"
      ]
     },
     "metadata": {},
     "output_type": "display_data"
    },
    {
     "data": {
      "text/html": [
       "<pre style=\"white-space:pre;overflow-x:auto;line-height:normal;font-family:Menlo,'DejaVu Sans Mono',consolas,'Courier New',monospace\"><span style=\"color: #008080; text-decoration-color: #008080; font-weight: bold\">[+] Getting repo: </span><span style=\"color: #008080; text-decoration-color: #008080; font-weight: bold; text-decoration: underline\">https://github.com/scris/mrnoplay</span>\n",
       "</pre>\n"
      ],
      "text/plain": [
       "\u001b[1;36m[\u001b[0m\u001b[1;36m+\u001b[0m\u001b[1;36m]\u001b[0m\u001b[1;36m Getting repo: \u001b[0m\u001b[1;4;36mhttps://github.com/scris/mrnoplay\u001b[0m\n"
      ]
     },
     "metadata": {},
     "output_type": "display_data"
    },
    {
     "data": {
      "text/html": [
       "<pre style=\"white-space:pre;overflow-x:auto;line-height:normal;font-family:Menlo,'DejaVu Sans Mono',consolas,'Courier New',monospace\"><span style=\"color: #008080; text-decoration-color: #008080; font-weight: bold\">[+] Successfully retrieved repo: </span><span style=\"color: #008080; text-decoration-color: #008080; font-weight: bold; text-decoration: underline\">https://github.com/scris/mrnoplay</span>\n",
       "</pre>\n"
      ],
      "text/plain": [
       "\u001b[1;36m[\u001b[0m\u001b[1;36m+\u001b[0m\u001b[1;36m]\u001b[0m\u001b[1;36m Successfully retrieved repo: \u001b[0m\u001b[1;4;36mhttps://github.com/scris/mrnoplay\u001b[0m\n"
      ]
     },
     "metadata": {},
     "output_type": "display_data"
    },
    {
     "data": {
      "text/html": [
       "<pre style=\"white-space:pre;overflow-x:auto;line-height:normal;font-family:Menlo,'DejaVu Sans Mono',consolas,'Courier New',monospace\"><span style=\"color: #008080; text-decoration-color: #008080; font-weight: bold\">[+] Found package.json at /</span>\n",
       "</pre>\n"
      ],
      "text/plain": [
       "\u001b[1;36m[\u001b[0m\u001b[1;36m+\u001b[0m\u001b[1;36m]\u001b[0m\u001b[1;36m Found package.json at \u001b[0m\u001b[1;36m/\u001b[0m\n"
      ]
     },
     "metadata": {},
     "output_type": "display_data"
    },
    {
     "data": {
      "text/html": [
       "<pre style=\"white-space:pre;overflow-x:auto;line-height:normal;font-family:Menlo,'DejaVu Sans Mono',consolas,'Courier New',monospace\"><span style=\"color: #008080; text-decoration-color: #008080; font-weight: bold\">[+] Getting </span><span style=\"color: #008080; text-decoration-color: #008080; font-weight: bold; text-decoration: underline\">https://github.com/mrnoplay/mrnoplay/blob/master/package.json</span>\n",
       "</pre>\n"
      ],
      "text/plain": [
       "\u001b[1;36m[\u001b[0m\u001b[1;36m+\u001b[0m\u001b[1;36m]\u001b[0m\u001b[1;36m Getting \u001b[0m\u001b[1;4;36mhttps://github.com/mrnoplay/mrnoplay/blob/master/package.json\u001b[0m\n"
      ]
     },
     "metadata": {},
     "output_type": "display_data"
    },
    {
     "data": {
      "text/html": [
       "<pre style=\"white-space:pre;overflow-x:auto;line-height:normal;font-family:Menlo,'DejaVu Sans Mono',consolas,'Courier New',monospace\"><span style=\"color: #008080; text-decoration-color: #008080; font-weight: bold\">[+] Getting repo: </span><span style=\"color: #008080; text-decoration-color: #008080; font-weight: bold; text-decoration: underline\">https://github.com/IrosTheBeggar/mStream</span>\n",
       "</pre>\n"
      ],
      "text/plain": [
       "\u001b[1;36m[\u001b[0m\u001b[1;36m+\u001b[0m\u001b[1;36m]\u001b[0m\u001b[1;36m Getting repo: \u001b[0m\u001b[1;4;36mhttps://github.com/IrosTheBeggar/mStream\u001b[0m\n"
      ]
     },
     "metadata": {},
     "output_type": "display_data"
    },
    {
     "data": {
      "text/html": [
       "<pre style=\"white-space:pre;overflow-x:auto;line-height:normal;font-family:Menlo,'DejaVu Sans Mono',consolas,'Courier New',monospace\"><span style=\"color: #008080; text-decoration-color: #008080; font-weight: bold\">[+] Successfully retrieved repo: </span><span style=\"color: #008080; text-decoration-color: #008080; font-weight: bold; text-decoration: underline\">https://github.com/IrosTheBeggar/mStream</span>\n",
       "</pre>\n"
      ],
      "text/plain": [
       "\u001b[1;36m[\u001b[0m\u001b[1;36m+\u001b[0m\u001b[1;36m]\u001b[0m\u001b[1;36m Successfully retrieved repo: \u001b[0m\u001b[1;4;36mhttps://github.com/IrosTheBeggar/mStream\u001b[0m\n"
      ]
     },
     "metadata": {},
     "output_type": "display_data"
    },
    {
     "data": {
      "text/html": [
       "<pre style=\"white-space:pre;overflow-x:auto;line-height:normal;font-family:Menlo,'DejaVu Sans Mono',consolas,'Courier New',monospace\"><span style=\"color: #008080; text-decoration-color: #008080; font-weight: bold\">[+] Found package.json at /</span>\n",
       "</pre>\n"
      ],
      "text/plain": [
       "\u001b[1;36m[\u001b[0m\u001b[1;36m+\u001b[0m\u001b[1;36m]\u001b[0m\u001b[1;36m Found package.json at \u001b[0m\u001b[1;36m/\u001b[0m\n"
      ]
     },
     "metadata": {},
     "output_type": "display_data"
    },
    {
     "data": {
      "text/html": [
       "<pre style=\"white-space:pre;overflow-x:auto;line-height:normal;font-family:Menlo,'DejaVu Sans Mono',consolas,'Courier New',monospace\"><span style=\"color: #008080; text-decoration-color: #008080; font-weight: bold\">[+] Getting </span><span style=\"color: #008080; text-decoration-color: #008080; font-weight: bold; text-decoration: underline\">https://github.com/IrosTheBeggar/mStream/blob/master/package.json</span>\n",
       "</pre>\n"
      ],
      "text/plain": [
       "\u001b[1;36m[\u001b[0m\u001b[1;36m+\u001b[0m\u001b[1;36m]\u001b[0m\u001b[1;36m Getting \u001b[0m\u001b[1;4;36mhttps://github.com/IrosTheBeggar/mStream/blob/master/package.json\u001b[0m\n"
      ]
     },
     "metadata": {},
     "output_type": "display_data"
    },
    {
     "data": {
      "text/html": [
       "<pre style=\"white-space:pre;overflow-x:auto;line-height:normal;font-family:Menlo,'DejaVu Sans Mono',consolas,'Courier New',monospace\"><span style=\"color: #008080; text-decoration-color: #008080; font-weight: bold\">[+] Getting repo: </span><span style=\"color: #008080; text-decoration-color: #008080; font-weight: bold; text-decoration: underline\">https://github.com/martpie/museeks</span>\n",
       "</pre>\n"
      ],
      "text/plain": [
       "\u001b[1;36m[\u001b[0m\u001b[1;36m+\u001b[0m\u001b[1;36m]\u001b[0m\u001b[1;36m Getting repo: \u001b[0m\u001b[1;4;36mhttps://github.com/martpie/museeks\u001b[0m\n"
      ]
     },
     "metadata": {},
     "output_type": "display_data"
    },
    {
     "data": {
      "text/html": [
       "<pre style=\"white-space:pre;overflow-x:auto;line-height:normal;font-family:Menlo,'DejaVu Sans Mono',consolas,'Courier New',monospace\"><span style=\"color: #008080; text-decoration-color: #008080; font-weight: bold\">[+] Successfully retrieved repo: </span><span style=\"color: #008080; text-decoration-color: #008080; font-weight: bold; text-decoration: underline\">https://github.com/martpie/museeks</span>\n",
       "</pre>\n"
      ],
      "text/plain": [
       "\u001b[1;36m[\u001b[0m\u001b[1;36m+\u001b[0m\u001b[1;36m]\u001b[0m\u001b[1;36m Successfully retrieved repo: \u001b[0m\u001b[1;4;36mhttps://github.com/martpie/museeks\u001b[0m\n"
      ]
     },
     "metadata": {},
     "output_type": "display_data"
    },
    {
     "data": {
      "text/html": [
       "<pre style=\"white-space:pre;overflow-x:auto;line-height:normal;font-family:Menlo,'DejaVu Sans Mono',consolas,'Courier New',monospace\"><span style=\"color: #008080; text-decoration-color: #008080; font-weight: bold\">[+] Found package.json at /</span>\n",
       "</pre>\n"
      ],
      "text/plain": [
       "\u001b[1;36m[\u001b[0m\u001b[1;36m+\u001b[0m\u001b[1;36m]\u001b[0m\u001b[1;36m Found package.json at \u001b[0m\u001b[1;36m/\u001b[0m\n"
      ]
     },
     "metadata": {},
     "output_type": "display_data"
    },
    {
     "data": {
      "text/html": [
       "<pre style=\"white-space:pre;overflow-x:auto;line-height:normal;font-family:Menlo,'DejaVu Sans Mono',consolas,'Courier New',monospace\"><span style=\"color: #008080; text-decoration-color: #008080; font-weight: bold\">[+] Getting </span><span style=\"color: #008080; text-decoration-color: #008080; font-weight: bold; text-decoration: underline\">https://github.com/martpie/museeks/blob/master/package.json</span>\n",
       "</pre>\n"
      ],
      "text/plain": [
       "\u001b[1;36m[\u001b[0m\u001b[1;36m+\u001b[0m\u001b[1;36m]\u001b[0m\u001b[1;36m Getting \u001b[0m\u001b[1;4;36mhttps://github.com/martpie/museeks/blob/master/package.json\u001b[0m\n"
      ]
     },
     "metadata": {},
     "output_type": "display_data"
    },
    {
     "data": {
      "text/html": [
       "<pre style=\"white-space:pre;overflow-x:auto;line-height:normal;font-family:Menlo,'DejaVu Sans Mono',consolas,'Courier New',monospace\"><span style=\"color: #008080; text-decoration-color: #008080; font-weight: bold\">[+] Getting repo: </span><span style=\"color: #008080; text-decoration-color: #008080; font-weight: bold; text-decoration: underline\">https://github.com/Tenpi/Music-Player</span>\n",
       "</pre>\n"
      ],
      "text/plain": [
       "\u001b[1;36m[\u001b[0m\u001b[1;36m+\u001b[0m\u001b[1;36m]\u001b[0m\u001b[1;36m Getting repo: \u001b[0m\u001b[1;4;36mhttps://github.com/Tenpi/Music-Player\u001b[0m\n"
      ]
     },
     "metadata": {},
     "output_type": "display_data"
    },
    {
     "data": {
      "text/html": [
       "<pre style=\"white-space:pre;overflow-x:auto;line-height:normal;font-family:Menlo,'DejaVu Sans Mono',consolas,'Courier New',monospace\"><span style=\"color: #008080; text-decoration-color: #008080; font-weight: bold\">[+] Successfully retrieved repo: </span><span style=\"color: #008080; text-decoration-color: #008080; font-weight: bold; text-decoration: underline\">https://github.com/Tenpi/Music-Player</span>\n",
       "</pre>\n"
      ],
      "text/plain": [
       "\u001b[1;36m[\u001b[0m\u001b[1;36m+\u001b[0m\u001b[1;36m]\u001b[0m\u001b[1;36m Successfully retrieved repo: \u001b[0m\u001b[1;4;36mhttps://github.com/Tenpi/Music-Player\u001b[0m\n"
      ]
     },
     "metadata": {},
     "output_type": "display_data"
    },
    {
     "data": {
      "text/html": [
       "<pre style=\"white-space:pre;overflow-x:auto;line-height:normal;font-family:Menlo,'DejaVu Sans Mono',consolas,'Courier New',monospace\"><span style=\"color: #008080; text-decoration-color: #008080; font-weight: bold\">[+] Found package.json at /</span>\n",
       "</pre>\n"
      ],
      "text/plain": [
       "\u001b[1;36m[\u001b[0m\u001b[1;36m+\u001b[0m\u001b[1;36m]\u001b[0m\u001b[1;36m Found package.json at \u001b[0m\u001b[1;36m/\u001b[0m\n"
      ]
     },
     "metadata": {},
     "output_type": "display_data"
    },
    {
     "data": {
      "text/html": [
       "<pre style=\"white-space:pre;overflow-x:auto;line-height:normal;font-family:Menlo,'DejaVu Sans Mono',consolas,'Courier New',monospace\"><span style=\"color: #008080; text-decoration-color: #008080; font-weight: bold\">[+] Getting </span><span style=\"color: #008080; text-decoration-color: #008080; font-weight: bold; text-decoration: underline\">https://github.com/Tenpi/Music-Player/blob/master/package.json</span>\n",
       "</pre>\n"
      ],
      "text/plain": [
       "\u001b[1;36m[\u001b[0m\u001b[1;36m+\u001b[0m\u001b[1;36m]\u001b[0m\u001b[1;36m Getting \u001b[0m\u001b[1;4;36mhttps://github.com/Tenpi/Music-Player/blob/master/package.json\u001b[0m\n"
      ]
     },
     "metadata": {},
     "output_type": "display_data"
    },
    {
     "data": {
      "text/html": [
       "<pre style=\"white-space:pre;overflow-x:auto;line-height:normal;font-family:Menlo,'DejaVu Sans Mono',consolas,'Courier New',monospace\"><span style=\"color: #008080; text-decoration-color: #008080; font-weight: bold\">[+] Getting repo: </span><span style=\"color: #008080; text-decoration-color: #008080; font-weight: bold; text-decoration: underline\">https://github.com/Aveek-Saha/MusicPlayer</span>\n",
       "</pre>\n"
      ],
      "text/plain": [
       "\u001b[1;36m[\u001b[0m\u001b[1;36m+\u001b[0m\u001b[1;36m]\u001b[0m\u001b[1;36m Getting repo: \u001b[0m\u001b[1;4;36mhttps://github.com/Aveek-Saha/MusicPlayer\u001b[0m\n"
      ]
     },
     "metadata": {},
     "output_type": "display_data"
    },
    {
     "data": {
      "text/html": [
       "<pre style=\"white-space:pre;overflow-x:auto;line-height:normal;font-family:Menlo,'DejaVu Sans Mono',consolas,'Courier New',monospace\"><span style=\"color: #008080; text-decoration-color: #008080; font-weight: bold\">[+] Successfully retrieved repo: </span><span style=\"color: #008080; text-decoration-color: #008080; font-weight: bold; text-decoration: underline\">https://github.com/Aveek-Saha/MusicPlayer</span>\n",
       "</pre>\n"
      ],
      "text/plain": [
       "\u001b[1;36m[\u001b[0m\u001b[1;36m+\u001b[0m\u001b[1;36m]\u001b[0m\u001b[1;36m Successfully retrieved repo: \u001b[0m\u001b[1;4;36mhttps://github.com/Aveek-Saha/MusicPlayer\u001b[0m\n"
      ]
     },
     "metadata": {},
     "output_type": "display_data"
    },
    {
     "data": {
      "text/html": [
       "<pre style=\"white-space:pre;overflow-x:auto;line-height:normal;font-family:Menlo,'DejaVu Sans Mono',consolas,'Courier New',monospace\"><span style=\"color: #008080; text-decoration-color: #008080; font-weight: bold\">[+] Found package.json at /</span>\n",
       "</pre>\n"
      ],
      "text/plain": [
       "\u001b[1;36m[\u001b[0m\u001b[1;36m+\u001b[0m\u001b[1;36m]\u001b[0m\u001b[1;36m Found package.json at \u001b[0m\u001b[1;36m/\u001b[0m\n"
      ]
     },
     "metadata": {},
     "output_type": "display_data"
    },
    {
     "data": {
      "text/html": [
       "<pre style=\"white-space:pre;overflow-x:auto;line-height:normal;font-family:Menlo,'DejaVu Sans Mono',consolas,'Courier New',monospace\"><span style=\"color: #008080; text-decoration-color: #008080; font-weight: bold\">[+] Getting </span><span style=\"color: #008080; text-decoration-color: #008080; font-weight: bold; text-decoration: underline\">https://github.com/Aveek-Saha/DuskPlayer/blob/master/package.json</span>\n",
       "</pre>\n"
      ],
      "text/plain": [
       "\u001b[1;36m[\u001b[0m\u001b[1;36m+\u001b[0m\u001b[1;36m]\u001b[0m\u001b[1;36m Getting \u001b[0m\u001b[1;4;36mhttps://github.com/Aveek-Saha/DuskPlayer/blob/master/package.json\u001b[0m\n"
      ]
     },
     "metadata": {},
     "output_type": "display_data"
    },
    {
     "data": {
      "text/html": [
       "<pre style=\"white-space:pre;overflow-x:auto;line-height:normal;font-family:Menlo,'DejaVu Sans Mono',consolas,'Courier New',monospace\"><span style=\"color: #008080; text-decoration-color: #008080; font-weight: bold\">[+] Getting repo: </span><span style=\"color: #008080; text-decoration-color: #008080; font-weight: bold; text-decoration: underline\">https://github.com/SrGMC/musify</span>\n",
       "</pre>\n"
      ],
      "text/plain": [
       "\u001b[1;36m[\u001b[0m\u001b[1;36m+\u001b[0m\u001b[1;36m]\u001b[0m\u001b[1;36m Getting repo: \u001b[0m\u001b[1;4;36mhttps://github.com/SrGMC/musify\u001b[0m\n"
      ]
     },
     "metadata": {},
     "output_type": "display_data"
    },
    {
     "data": {
      "text/html": [
       "<pre style=\"white-space:pre;overflow-x:auto;line-height:normal;font-family:Menlo,'DejaVu Sans Mono',consolas,'Courier New',monospace\"><span style=\"color: #008080; text-decoration-color: #008080; font-weight: bold\">[+] Successfully retrieved repo: </span><span style=\"color: #008080; text-decoration-color: #008080; font-weight: bold; text-decoration: underline\">https://github.com/SrGMC/musify</span>\n",
       "</pre>\n"
      ],
      "text/plain": [
       "\u001b[1;36m[\u001b[0m\u001b[1;36m+\u001b[0m\u001b[1;36m]\u001b[0m\u001b[1;36m Successfully retrieved repo: \u001b[0m\u001b[1;4;36mhttps://github.com/SrGMC/musify\u001b[0m\n"
      ]
     },
     "metadata": {},
     "output_type": "display_data"
    },
    {
     "data": {
      "text/html": [
       "<pre style=\"white-space:pre;overflow-x:auto;line-height:normal;font-family:Menlo,'DejaVu Sans Mono',consolas,'Courier New',monospace\"><span style=\"color: #008080; text-decoration-color: #008080; font-weight: bold\">[+] Found package.json at /</span>\n",
       "</pre>\n"
      ],
      "text/plain": [
       "\u001b[1;36m[\u001b[0m\u001b[1;36m+\u001b[0m\u001b[1;36m]\u001b[0m\u001b[1;36m Found package.json at \u001b[0m\u001b[1;36m/\u001b[0m\n"
      ]
     },
     "metadata": {},
     "output_type": "display_data"
    },
    {
     "data": {
      "text/html": [
       "<pre style=\"white-space:pre;overflow-x:auto;line-height:normal;font-family:Menlo,'DejaVu Sans Mono',consolas,'Courier New',monospace\"><span style=\"color: #008080; text-decoration-color: #008080; font-weight: bold\">[+] Getting </span><span style=\"color: #008080; text-decoration-color: #008080; font-weight: bold; text-decoration: underline\">https://github.com/SrGMC/musify/blob/master/package.json</span>\n",
       "</pre>\n"
      ],
      "text/plain": [
       "\u001b[1;36m[\u001b[0m\u001b[1;36m+\u001b[0m\u001b[1;36m]\u001b[0m\u001b[1;36m Getting \u001b[0m\u001b[1;4;36mhttps://github.com/SrGMC/musify/blob/master/package.json\u001b[0m\n"
      ]
     },
     "metadata": {},
     "output_type": "display_data"
    },
    {
     "data": {
      "text/html": [
       "<pre style=\"white-space:pre;overflow-x:auto;line-height:normal;font-family:Menlo,'DejaVu Sans Mono',consolas,'Courier New',monospace\"><span style=\"color: #008080; text-decoration-color: #008080; font-weight: bold\">[+] Getting repo: </span><span style=\"color: #008080; text-decoration-color: #008080; font-weight: bold; text-decoration: underline\">https://gitee.com/gemron/myLottery</span>\n",
       "</pre>\n"
      ],
      "text/plain": [
       "\u001b[1;36m[\u001b[0m\u001b[1;36m+\u001b[0m\u001b[1;36m]\u001b[0m\u001b[1;36m Getting repo: \u001b[0m\u001b[1;4;36mhttps://gitee.com/gemron/myLottery\u001b[0m\n"
      ]
     },
     "metadata": {},
     "output_type": "display_data"
    },
    {
     "data": {
      "text/html": [
       "<pre style=\"white-space:pre;overflow-x:auto;line-height:normal;font-family:Menlo,'DejaVu Sans Mono',consolas,'Courier New',monospace\"><span style=\"color: #008080; text-decoration-color: #008080; font-weight: bold\">[+] Successfully retrieved repo: </span><span style=\"color: #008080; text-decoration-color: #008080; font-weight: bold; text-decoration: underline\">https://gitee.com/gemron/myLottery</span>\n",
       "</pre>\n"
      ],
      "text/plain": [
       "\u001b[1;36m[\u001b[0m\u001b[1;36m+\u001b[0m\u001b[1;36m]\u001b[0m\u001b[1;36m Successfully retrieved repo: \u001b[0m\u001b[1;4;36mhttps://gitee.com/gemron/myLottery\u001b[0m\n"
      ]
     },
     "metadata": {},
     "output_type": "display_data"
    },
    {
     "data": {
      "text/html": [
       "<pre style=\"white-space:pre;overflow-x:auto;line-height:normal;font-family:Menlo,'DejaVu Sans Mono',consolas,'Courier New',monospace\"><span style=\"color: #008080; text-decoration-color: #008080; font-weight: bold\">[+] Found package.json at /</span>\n",
       "</pre>\n"
      ],
      "text/plain": [
       "\u001b[1;36m[\u001b[0m\u001b[1;36m+\u001b[0m\u001b[1;36m]\u001b[0m\u001b[1;36m Found package.json at \u001b[0m\u001b[1;36m/\u001b[0m\n"
      ]
     },
     "metadata": {},
     "output_type": "display_data"
    },
    {
     "data": {
      "text/html": [
       "<pre style=\"white-space:pre;overflow-x:auto;line-height:normal;font-family:Menlo,'DejaVu Sans Mono',consolas,'Courier New',monospace\"><span style=\"color: #008080; text-decoration-color: #008080; font-weight: bold\">[+] Getting </span><span style=\"color: #008080; text-decoration-color: #008080; font-weight: bold; text-decoration: underline\">https://gitee.com/gemron/myLottery/blob/master/package.json</span>\n",
       "</pre>\n"
      ],
      "text/plain": [
       "\u001b[1;36m[\u001b[0m\u001b[1;36m+\u001b[0m\u001b[1;36m]\u001b[0m\u001b[1;36m Getting \u001b[0m\u001b[1;4;36mhttps://gitee.com/gemron/myLottery/blob/master/package.json\u001b[0m\n"
      ]
     },
     "metadata": {},
     "output_type": "display_data"
    },
    {
     "ename": "JSONDecodeError",
     "evalue": "Expecting value: line 1 column 1 (char 0)",
     "output_type": "error",
     "traceback": [
      "\u001b[0;31m---------------------------------------------------------------------------\u001b[0m",
      "\u001b[0;31mJSONDecodeError\u001b[0m                           Traceback (most recent call last)",
      "File \u001b[0;32m~/.pyenv/versions/3.11.5/lib/python3.11/site-packages/requests/models.py:971\u001b[0m, in \u001b[0;36mResponse.json\u001b[0;34m(self, **kwargs)\u001b[0m\n\u001b[1;32m    970\u001b[0m \u001b[38;5;28;01mtry\u001b[39;00m:\n\u001b[0;32m--> 971\u001b[0m     \u001b[38;5;28;01mreturn\u001b[39;00m \u001b[43mcomplexjson\u001b[49m\u001b[38;5;241;43m.\u001b[39;49m\u001b[43mloads\u001b[49m\u001b[43m(\u001b[49m\u001b[38;5;28;43mself\u001b[39;49m\u001b[38;5;241;43m.\u001b[39;49m\u001b[43mtext\u001b[49m\u001b[43m,\u001b[49m\u001b[43m \u001b[49m\u001b[38;5;241;43m*\u001b[39;49m\u001b[38;5;241;43m*\u001b[39;49m\u001b[43mkwargs\u001b[49m\u001b[43m)\u001b[49m\n\u001b[1;32m    972\u001b[0m \u001b[38;5;28;01mexcept\u001b[39;00m JSONDecodeError \u001b[38;5;28;01mas\u001b[39;00m e:\n\u001b[1;32m    973\u001b[0m     \u001b[38;5;66;03m# Catch JSON-related errors and raise as requests.JSONDecodeError\u001b[39;00m\n\u001b[1;32m    974\u001b[0m     \u001b[38;5;66;03m# This aliases json.JSONDecodeError and simplejson.JSONDecodeError\u001b[39;00m\n",
      "File \u001b[0;32m~/.pyenv/versions/3.11.5/lib/python3.11/json/__init__.py:346\u001b[0m, in \u001b[0;36mloads\u001b[0;34m(s, cls, object_hook, parse_float, parse_int, parse_constant, object_pairs_hook, **kw)\u001b[0m\n\u001b[1;32m    343\u001b[0m \u001b[38;5;28;01mif\u001b[39;00m (\u001b[38;5;28mcls\u001b[39m \u001b[38;5;129;01mis\u001b[39;00m \u001b[38;5;28;01mNone\u001b[39;00m \u001b[38;5;129;01mand\u001b[39;00m object_hook \u001b[38;5;129;01mis\u001b[39;00m \u001b[38;5;28;01mNone\u001b[39;00m \u001b[38;5;129;01mand\u001b[39;00m\n\u001b[1;32m    344\u001b[0m         parse_int \u001b[38;5;129;01mis\u001b[39;00m \u001b[38;5;28;01mNone\u001b[39;00m \u001b[38;5;129;01mand\u001b[39;00m parse_float \u001b[38;5;129;01mis\u001b[39;00m \u001b[38;5;28;01mNone\u001b[39;00m \u001b[38;5;129;01mand\u001b[39;00m\n\u001b[1;32m    345\u001b[0m         parse_constant \u001b[38;5;129;01mis\u001b[39;00m \u001b[38;5;28;01mNone\u001b[39;00m \u001b[38;5;129;01mand\u001b[39;00m object_pairs_hook \u001b[38;5;129;01mis\u001b[39;00m \u001b[38;5;28;01mNone\u001b[39;00m \u001b[38;5;129;01mand\u001b[39;00m \u001b[38;5;129;01mnot\u001b[39;00m kw):\n\u001b[0;32m--> 346\u001b[0m     \u001b[38;5;28;01mreturn\u001b[39;00m \u001b[43m_default_decoder\u001b[49m\u001b[38;5;241;43m.\u001b[39;49m\u001b[43mdecode\u001b[49m\u001b[43m(\u001b[49m\u001b[43ms\u001b[49m\u001b[43m)\u001b[49m\n\u001b[1;32m    347\u001b[0m \u001b[38;5;28;01mif\u001b[39;00m \u001b[38;5;28mcls\u001b[39m \u001b[38;5;129;01mis\u001b[39;00m \u001b[38;5;28;01mNone\u001b[39;00m:\n",
      "File \u001b[0;32m~/.pyenv/versions/3.11.5/lib/python3.11/json/decoder.py:337\u001b[0m, in \u001b[0;36mJSONDecoder.decode\u001b[0;34m(self, s, _w)\u001b[0m\n\u001b[1;32m    333\u001b[0m \u001b[38;5;250m\u001b[39m\u001b[38;5;124;03m\"\"\"Return the Python representation of ``s`` (a ``str`` instance\u001b[39;00m\n\u001b[1;32m    334\u001b[0m \u001b[38;5;124;03mcontaining a JSON document).\u001b[39;00m\n\u001b[1;32m    335\u001b[0m \n\u001b[1;32m    336\u001b[0m \u001b[38;5;124;03m\"\"\"\u001b[39;00m\n\u001b[0;32m--> 337\u001b[0m obj, end \u001b[38;5;241m=\u001b[39m \u001b[38;5;28;43mself\u001b[39;49m\u001b[38;5;241;43m.\u001b[39;49m\u001b[43mraw_decode\u001b[49m\u001b[43m(\u001b[49m\u001b[43ms\u001b[49m\u001b[43m,\u001b[49m\u001b[43m \u001b[49m\u001b[43midx\u001b[49m\u001b[38;5;241;43m=\u001b[39;49m\u001b[43m_w\u001b[49m\u001b[43m(\u001b[49m\u001b[43ms\u001b[49m\u001b[43m,\u001b[49m\u001b[43m \u001b[49m\u001b[38;5;241;43m0\u001b[39;49m\u001b[43m)\u001b[49m\u001b[38;5;241;43m.\u001b[39;49m\u001b[43mend\u001b[49m\u001b[43m(\u001b[49m\u001b[43m)\u001b[49m\u001b[43m)\u001b[49m\n\u001b[1;32m    338\u001b[0m end \u001b[38;5;241m=\u001b[39m _w(s, end)\u001b[38;5;241m.\u001b[39mend()\n",
      "File \u001b[0;32m~/.pyenv/versions/3.11.5/lib/python3.11/json/decoder.py:355\u001b[0m, in \u001b[0;36mJSONDecoder.raw_decode\u001b[0;34m(self, s, idx)\u001b[0m\n\u001b[1;32m    354\u001b[0m \u001b[38;5;28;01mexcept\u001b[39;00m \u001b[38;5;167;01mStopIteration\u001b[39;00m \u001b[38;5;28;01mas\u001b[39;00m err:\n\u001b[0;32m--> 355\u001b[0m     \u001b[38;5;28;01mraise\u001b[39;00m JSONDecodeError(\u001b[38;5;124m\"\u001b[39m\u001b[38;5;124mExpecting value\u001b[39m\u001b[38;5;124m\"\u001b[39m, s, err\u001b[38;5;241m.\u001b[39mvalue) \u001b[38;5;28;01mfrom\u001b[39;00m \u001b[38;5;28;01mNone\u001b[39;00m\n\u001b[1;32m    356\u001b[0m \u001b[38;5;28;01mreturn\u001b[39;00m obj, end\n",
      "\u001b[0;31mJSONDecodeError\u001b[0m: Expecting value: line 1 column 1 (char 0)",
      "\nDuring handling of the above exception, another exception occurred:\n",
      "\u001b[0;31mJSONDecodeError\u001b[0m                           Traceback (most recent call last)",
      "Cell \u001b[0;32mIn[196], line 4\u001b[0m\n\u001b[1;32m      2\u001b[0m package_url \u001b[38;5;241m=\u001b[39m search_package_json(a[\u001b[38;5;124m\"\u001b[39m\u001b[38;5;124mrepo\u001b[39m\u001b[38;5;124m\"\u001b[39m])\n\u001b[1;32m      3\u001b[0m \u001b[38;5;28;01mif\u001b[39;00m package_url:\n\u001b[0;32m----> 4\u001b[0m     electron_version \u001b[38;5;241m=\u001b[39m \u001b[43mget_electron_version\u001b[49m\u001b[43m(\u001b[49m\u001b[43mpackage_url\u001b[49m\u001b[43m)\u001b[49m\n\u001b[1;32m      5\u001b[0m     a[\u001b[38;5;124m\"\u001b[39m\u001b[38;5;124melectron_version\u001b[39m\u001b[38;5;124m\"\u001b[39m] \u001b[38;5;241m=\u001b[39m electron_version\n\u001b[1;32m      6\u001b[0m     a[\u001b[38;5;124m\"\u001b[39m\u001b[38;5;124mdate_accessed\u001b[39m\u001b[38;5;124m\"\u001b[39m] \u001b[38;5;241m=\u001b[39m time\u001b[38;5;241m.\u001b[39mstrftime(\u001b[38;5;124m\"\u001b[39m\u001b[38;5;124m%\u001b[39m\u001b[38;5;124mY-\u001b[39m\u001b[38;5;124m%\u001b[39m\u001b[38;5;124mm-\u001b[39m\u001b[38;5;132;01m%d\u001b[39;00m\u001b[38;5;124m \u001b[39m\u001b[38;5;124m%\u001b[39m\u001b[38;5;124mH:\u001b[39m\u001b[38;5;124m%\u001b[39m\u001b[38;5;124mM:\u001b[39m\u001b[38;5;124m%\u001b[39m\u001b[38;5;124mS\u001b[39m\u001b[38;5;124m%\u001b[39m\u001b[38;5;124mz\u001b[39m\u001b[38;5;124m\"\u001b[39m)\n",
      "Cell \u001b[0;32mIn[155], line 65\u001b[0m, in \u001b[0;36mget_electron_version\u001b[0;34m(package_json_url)\u001b[0m\n\u001b[1;32m     63\u001b[0m package_res \u001b[38;5;241m=\u001b[39m requests\u001b[38;5;241m.\u001b[39mget(package_json_url)\n\u001b[1;32m     64\u001b[0m \u001b[38;5;28;01mif\u001b[39;00m package_res\u001b[38;5;241m.\u001b[39mstatus_code \u001b[38;5;241m==\u001b[39m \u001b[38;5;241m200\u001b[39m:\n\u001b[0;32m---> 65\u001b[0m     package_json_data \u001b[38;5;241m=\u001b[39m json\u001b[38;5;241m.\u001b[39mloads(\u001b[38;5;124m\"\u001b[39m\u001b[38;5;124m\"\u001b[39m\u001b[38;5;241m.\u001b[39mjoin(\u001b[43mpackage_res\u001b[49m\u001b[38;5;241;43m.\u001b[39;49m\u001b[43mjson\u001b[49m\u001b[43m(\u001b[49m\u001b[43m)\u001b[49m[\u001b[38;5;124m\"\u001b[39m\u001b[38;5;124mpayload\u001b[39m\u001b[38;5;124m\"\u001b[39m][\u001b[38;5;124m\"\u001b[39m\u001b[38;5;124mblob\u001b[39m\u001b[38;5;124m\"\u001b[39m][\u001b[38;5;124m\"\u001b[39m\u001b[38;5;124mrawLines\u001b[39m\u001b[38;5;124m\"\u001b[39m]))\n\u001b[1;32m     66\u001b[0m     \u001b[38;5;28;01mfor\u001b[39;00m k \u001b[38;5;129;01min\u001b[39;00m [\u001b[38;5;124m\"\u001b[39m\u001b[38;5;124mdevDependencies\u001b[39m\u001b[38;5;124m\"\u001b[39m, \u001b[38;5;124m\"\u001b[39m\u001b[38;5;124mdependencies\u001b[39m\u001b[38;5;124m\"\u001b[39m]:\n\u001b[1;32m     67\u001b[0m         \u001b[38;5;28;01mif\u001b[39;00m k \u001b[38;5;129;01min\u001b[39;00m package_json_data\u001b[38;5;241m.\u001b[39mkeys():\n",
      "File \u001b[0;32m~/.pyenv/versions/3.11.5/lib/python3.11/site-packages/requests/models.py:975\u001b[0m, in \u001b[0;36mResponse.json\u001b[0;34m(self, **kwargs)\u001b[0m\n\u001b[1;32m    971\u001b[0m     \u001b[38;5;28;01mreturn\u001b[39;00m complexjson\u001b[38;5;241m.\u001b[39mloads(\u001b[38;5;28mself\u001b[39m\u001b[38;5;241m.\u001b[39mtext, \u001b[38;5;241m*\u001b[39m\u001b[38;5;241m*\u001b[39mkwargs)\n\u001b[1;32m    972\u001b[0m \u001b[38;5;28;01mexcept\u001b[39;00m JSONDecodeError \u001b[38;5;28;01mas\u001b[39;00m e:\n\u001b[1;32m    973\u001b[0m     \u001b[38;5;66;03m# Catch JSON-related errors and raise as requests.JSONDecodeError\u001b[39;00m\n\u001b[1;32m    974\u001b[0m     \u001b[38;5;66;03m# This aliases json.JSONDecodeError and simplejson.JSONDecodeError\u001b[39;00m\n\u001b[0;32m--> 975\u001b[0m     \u001b[38;5;28;01mraise\u001b[39;00m RequestsJSONDecodeError(e\u001b[38;5;241m.\u001b[39mmsg, e\u001b[38;5;241m.\u001b[39mdoc, e\u001b[38;5;241m.\u001b[39mpos)\n",
      "\u001b[0;31mJSONDecodeError\u001b[0m: Expecting value: line 1 column 1 (char 0)"
     ]
    }
   ],
   "source": [
    "for a in apps_with_repos:\n",
    "    package_url = search_package_json(a[\"repo\"])\n",
    "    if package_url:\n",
    "        electron_version = get_electron_version(package_url)\n",
    "        a[\"electron_version\"] = electron_version\n",
    "        a[\"date_accessed\"] = time.strftime(\"%Y-%m-%d %H:%M:%S%z\")"
   ]
  },
  {
   "cell_type": "code",
   "execution_count": 175,
   "id": "d4642d90-28f1-4d4a-9cff-615297c1ce7e",
   "metadata": {
    "tags": []
   },
   "outputs": [],
   "source": [
    "import datetime\n",
    "import time"
   ]
  },
  {
   "cell_type": "code",
   "execution_count": 192,
   "id": "63bf2429-eaa5-4ed0-88c1-ffc7d5da6286",
   "metadata": {
    "tags": []
   },
   "outputs": [
    {
     "data": {
      "text/plain": [
       "'2023-10-02 16:01:09-0700'"
      ]
     },
     "execution_count": 192,
     "metadata": {},
     "output_type": "execute_result"
    }
   ],
   "source": [
    "time.strftime(\"%Y-%m-%d %H:%M:%S%z\")"
   ]
  },
  {
   "cell_type": "code",
   "execution_count": 193,
   "id": "88a94e67-e230-4d24-b3b3-190872820519",
   "metadata": {
    "tags": []
   },
   "outputs": [
    {
     "data": {
      "text/plain": [
       "time.struct_time(tm_year=2023, tm_mon=10, tm_mday=2, tm_hour=15, tm_min=59, tm_sec=3, tm_wday=0, tm_yday=275, tm_isdst=-1)"
      ]
     },
     "execution_count": 193,
     "metadata": {},
     "output_type": "execute_result"
    }
   ],
   "source": [
    "time.strptime('2023-10-02 15:59:03-0700',\"%Y-%m-%d %H:%M:%S%z\")"
   ]
  },
  {
   "cell_type": "code",
   "execution_count": 21,
   "id": "232f82f3-72eb-4ab6-b292-10a6fff5d307",
   "metadata": {
    "tags": []
   },
   "outputs": [],
   "source": [
    "okay_versions = [ \"22.3.24\", \"24.8.3\", \"25.8.1\", \"26.2.1\"]\n",
    "for a in [a for a in apps if \"electron_version\" in a.keys()]:\n",
    "    if a[\"electron_version\"].replace(\"^\",\"\") in okay_versions:\n",
    "        a[\"vulnerable\"] = False\n",
    "    else:\n",
    "        a[\"vulnerable\"] = True"
   ]
  },
  {
   "cell_type": "code",
   "execution_count": 30,
   "id": "88585b4b-35c0-452e-801f-83df3e7eb3d0",
   "metadata": {
    "tags": []
   },
   "outputs": [],
   "source": [
    "with open(\"20230927_electron-versions.csv\",\"w\") as f:\n",
    "    writer = csv.DictWriter(f, [\"app_name\",\"repo\",\"electron_version\",\"vulnerable\"])\n",
    "    writer.writeheader()\n",
    "    writer.writerows(apps)"
   ]
  }
 ],
 "metadata": {
  "kernelspec": {
   "display_name": "Python 3 (ipykernel)",
   "language": "python",
   "name": "python3"
  },
  "language_info": {
   "codemirror_mode": {
    "name": "ipython",
    "version": 3
   },
   "file_extension": ".py",
   "mimetype": "text/x-python",
   "name": "python",
   "nbconvert_exporter": "python",
   "pygments_lexer": "ipython3",
   "version": "3.11.5"
  }
 },
 "nbformat": 4,
 "nbformat_minor": 5
}
