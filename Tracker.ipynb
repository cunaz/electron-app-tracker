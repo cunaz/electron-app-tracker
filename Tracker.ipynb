{
 "cells": [
  {
   "cell_type": "markdown",
   "id": "a87e1929-bbb8-4f3b-8e19-faaf9e5aa092",
   "metadata": {},
   "source": [
    "# Electron Vulnerability Tracker: The Notebook\n",
    "\n",
    "This notebook serves as a PoC as well proof of execution of the code.\n",
    "\n",
    "This notebook can be run by anyone, provided the dependencies listed in `pyproject.toml` are installed."
   ]
  },
  {
   "cell_type": "markdown",
   "id": "aacc19c7-2780-4009-9c76-b0f71fddb311",
   "metadata": {},
   "source": [
    "We'll start with some prerequisite code"
   ]
  },
  {
   "cell_type": "code",
   "execution_count": 1,
   "id": "4f66512b-d32f-467f-a120-68219f989e81",
   "metadata": {
    "tags": []
   },
   "outputs": [],
   "source": [
    "# Set Autreload\n",
    "%load_ext autoreload\n",
    "%autoreload 2"
   ]
  },
  {
   "cell_type": "code",
   "execution_count": 81,
   "id": "6319ece1-191a-457c-b497-747e04893c7c",
   "metadata": {
    "tags": []
   },
   "outputs": [],
   "source": [
    "# Import Deps\n",
    "import csv\n",
    "import json\n",
    "import time\n",
    "from electron_tracker import logger, vulncheck, scraper\n",
    "# Set Logging Level\n",
    "logger.LOG_LEVEL = logger.INFO"
   ]
  },
  {
   "cell_type": "markdown",
   "id": "c92028a8-960e-4b9f-9771-e2ddc380a1c5",
   "metadata": {},
   "source": [
    "Now to load our data"
   ]
  },
  {
   "cell_type": "code",
   "execution_count": 84,
   "id": "d0294dd1-cdc2-4826-b4f1-fc1ecfbed941",
   "metadata": {
    "tags": []
   },
   "outputs": [],
   "source": [
    "# Load App data\n",
    "with open(\"electron_apps.csv\") as f:\n",
    "    reader = csv.DictReader(f)\n",
    "    apps = [l for l in reader]"
   ]
  },
  {
   "cell_type": "markdown",
   "id": "c281a715-cd73-4c39-8090-da256bc9f3f5",
   "metadata": {},
   "source": [
    "## Filtering Data\n",
    "\n",
    "We only want to run against apps with repos that are set to \"programmatic\" access. This prevents automated processes from overriding human intelligence. In some cases, we known an app is patched, even if this algorithm can't easily discover that fact."
   ]
  },
  {
   "cell_type": "code",
   "execution_count": 85,
   "id": "8b4429c5-2393-4fbb-80c5-5f4d730822db",
   "metadata": {
    "tags": []
   },
   "outputs": [],
   "source": [
    "# Filter for only apps with listed repos\n",
    "apps_with_repos = [a for a in apps if a[\"repo\"] != \"\"]"
   ]
  },
  {
   "cell_type": "code",
   "execution_count": 86,
   "id": "200d6715-013c-48dc-a043-d73d3c6846f7",
   "metadata": {},
   "outputs": [],
   "source": [
    "# Further filter to exclude manual apps\n",
    "non_manual_apps = [a for a in apps_with_repos if a[\"access_type\"] == \"programmatic\"]"
   ]
  },
  {
   "cell_type": "markdown",
   "id": "e00664d2-6160-46ef-a7e4-7ef9fb42426f",
   "metadata": {},
   "source": [
    "## Scraping Repos\n",
    "\n",
    "Now we make a bunch of HTTPS requests to scrape public repos for their contents, using the responses (at least from GitHub), to determine whether the app is vulnerable."
   ]
  },
  {
   "cell_type": "code",
   "execution_count": 71,
   "id": "4c782105-de26-44d7-b989-1d9e1f69e1e7",
   "metadata": {},
   "outputs": [
    {
     "data": {
      "text/html": [
       "<pre style=\"white-space:pre;overflow-x:auto;line-height:normal;font-family:Menlo,'DejaVu Sans Mono',consolas,'Courier New',monospace\"><span style=\"color: #ff5f00; text-decoration-color: #ff5f00; font-weight: bold\">[!] Package.json not found at root of </span><span style=\"color: #ff5f00; text-decoration-color: #ff5f00; font-weight: bold; text-decoration: underline\">https://github.com/wiziple/1clipboard;</span><span style=\"color: #ff5f00; text-decoration-color: #ff5f00; font-weight: bold\"> trying directories</span>\n",
       "</pre>\n"
      ],
      "text/plain": [
       "\u001b[1;38;5;202m[\u001b[0m\u001b[1;38;5;202m!\u001b[0m\u001b[1;38;5;202m]\u001b[0m\u001b[1;38;5;202m Package.json not found at root of \u001b[0m\u001b[1;4;38;5;202mhttps://github.com/wiziple/1clipboard;\u001b[0m\u001b[1;38;5;202m trying directories\u001b[0m\n"
      ]
     },
     "metadata": {},
     "output_type": "display_data"
    },
    {
     "data": {
      "text/html": [
       "<pre style=\"white-space:pre;overflow-x:auto;line-height:normal;font-family:Menlo,'DejaVu Sans Mono',consolas,'Courier New',monospace\"><span style=\"color: #800000; text-decoration-color: #800000; font-weight: bold\">[💀] Could not find package.json in first-level-subdirs</span>\n",
       "</pre>\n"
      ],
      "text/plain": [
       "\u001b[1;31m[\u001b[0m\u001b[1;31m💀\u001b[0m\u001b[1;31m]\u001b[0m\u001b[1;31m Could not find package.json in first-level-subdirs\u001b[0m\n"
      ]
     },
     "metadata": {},
     "output_type": "display_data"
    },
    {
     "data": {
      "text/html": [
       "<pre style=\"white-space:pre;overflow-x:auto;line-height:normal;font-family:Menlo,'DejaVu Sans Mono',consolas,'Courier New',monospace\"><span style=\"color: #ff5f00; text-decoration-color: #ff5f00; font-weight: bold\">[!] Package.json not found at root of </span><span style=\"color: #ff5f00; text-decoration-color: #ff5f00; font-weight: bold; text-decoration: underline\">https://github.com/aethereans/aether-app;</span><span style=\"color: #ff5f00; text-decoration-color: #ff5f00; font-weight: bold\"> trying directories</span>\n",
       "</pre>\n"
      ],
      "text/plain": [
       "\u001b[1;38;5;202m[\u001b[0m\u001b[1;38;5;202m!\u001b[0m\u001b[1;38;5;202m]\u001b[0m\u001b[1;38;5;202m Package.json not found at root of \u001b[0m\u001b[1;4;38;5;202mhttps://github.com/aethereans/aether-app;\u001b[0m\u001b[1;38;5;202m trying directories\u001b[0m\n"
      ]
     },
     "metadata": {},
     "output_type": "display_data"
    },
    {
     "data": {
      "text/html": [
       "<pre style=\"white-space:pre;overflow-x:auto;line-height:normal;font-family:Menlo,'DejaVu Sans Mono',consolas,'Courier New',monospace\"><span style=\"color: #800000; text-decoration-color: #800000; font-weight: bold\">[💀] Could not find package.json in first-level-subdirs</span>\n",
       "</pre>\n"
      ],
      "text/plain": [
       "\u001b[1;31m[\u001b[0m\u001b[1;31m💀\u001b[0m\u001b[1;31m]\u001b[0m\u001b[1;31m Could not find package.json in first-level-subdirs\u001b[0m\n"
      ]
     },
     "metadata": {},
     "output_type": "display_data"
    },
    {
     "data": {
      "text/html": [
       "<pre style=\"white-space:pre;overflow-x:auto;line-height:normal;font-family:Menlo,'DejaVu Sans Mono',consolas,'Courier New',monospace\"><span style=\"color: #ff5f00; text-decoration-color: #ff5f00; font-weight: bold\">[!] Invalid Semantic version: </span><span style=\"color: #ff5f00; text-decoration-color: #ff5f00; font-weight: bold\">10.0</span>\n",
       "</pre>\n"
      ],
      "text/plain": [
       "\u001b[1;38;5;202m[\u001b[0m\u001b[1;38;5;202m!\u001b[0m\u001b[1;38;5;202m]\u001b[0m\u001b[1;38;5;202m Invalid Semantic version: \u001b[0m\u001b[1;38;5;202m10.0\u001b[0m\n"
      ]
     },
     "metadata": {},
     "output_type": "display_data"
    },
    {
     "data": {
      "text/html": [
       "<pre style=\"white-space:pre;overflow-x:auto;line-height:normal;font-family:Menlo,'DejaVu Sans Mono',consolas,'Courier New',monospace\"><span style=\"color: #ff5f00; text-decoration-color: #ff5f00; font-weight: bold\">[!] Invalid Semantic version: </span><span style=\"color: #ff5f00; text-decoration-color: #ff5f00; font-weight: bold\">10.0</span>\n",
       "</pre>\n"
      ],
      "text/plain": [
       "\u001b[1;38;5;202m[\u001b[0m\u001b[1;38;5;202m!\u001b[0m\u001b[1;38;5;202m]\u001b[0m\u001b[1;38;5;202m Invalid Semantic version: \u001b[0m\u001b[1;38;5;202m10.0\u001b[0m\n"
      ]
     },
     "metadata": {},
     "output_type": "display_data"
    },
    {
     "data": {
      "text/html": [
       "<pre style=\"white-space:pre;overflow-x:auto;line-height:normal;font-family:Menlo,'DejaVu Sans Mono',consolas,'Courier New',monospace\"><span style=\"color: #ff5f00; text-decoration-color: #ff5f00; font-weight: bold\">[!] Package.json not found at root of </span><span style=\"color: #ff5f00; text-decoration-color: #ff5f00; font-weight: bold; text-decoration: underline\">https://github.com/beakerbrowser/beaker;</span><span style=\"color: #ff5f00; text-decoration-color: #ff5f00; font-weight: bold\"> trying directories</span>\n",
       "</pre>\n"
      ],
      "text/plain": [
       "\u001b[1;38;5;202m[\u001b[0m\u001b[1;38;5;202m!\u001b[0m\u001b[1;38;5;202m]\u001b[0m\u001b[1;38;5;202m Package.json not found at root of \u001b[0m\u001b[1;4;38;5;202mhttps://github.com/beakerbrowser/beaker;\u001b[0m\u001b[1;38;5;202m trying directories\u001b[0m\n"
      ]
     },
     "metadata": {},
     "output_type": "display_data"
    },
    {
     "data": {
      "text/html": [
       "<pre style=\"white-space:pre;overflow-x:auto;line-height:normal;font-family:Menlo,'DejaVu Sans Mono',consolas,'Courier New',monospace\"><span style=\"color: #800000; text-decoration-color: #800000; font-weight: bold\">[💀] Could not find package.json in first-level-subdirs</span>\n",
       "</pre>\n"
      ],
      "text/plain": [
       "\u001b[1;31m[\u001b[0m\u001b[1;31m💀\u001b[0m\u001b[1;31m]\u001b[0m\u001b[1;31m Could not find package.json in first-level-subdirs\u001b[0m\n"
      ]
     },
     "metadata": {},
     "output_type": "display_data"
    },
    {
     "data": {
      "text/html": [
       "<pre style=\"white-space:pre;overflow-x:auto;line-height:normal;font-family:Menlo,'DejaVu Sans Mono',consolas,'Courier New',monospace\"><span style=\"color: #ff5f00; text-decoration-color: #ff5f00; font-weight: bold\">[!] Package.json not found at root of </span><span style=\"color: #ff5f00; text-decoration-color: #ff5f00; font-weight: bold; text-decoration: underline\">https://github.com/andreafeccomandi/bibisco/;</span><span style=\"color: #ff5f00; text-decoration-color: #ff5f00; font-weight: bold\"> trying directories</span>\n",
       "</pre>\n"
      ],
      "text/plain": [
       "\u001b[1;38;5;202m[\u001b[0m\u001b[1;38;5;202m!\u001b[0m\u001b[1;38;5;202m]\u001b[0m\u001b[1;38;5;202m Package.json not found at root of \u001b[0m\u001b[1;4;38;5;202mhttps://github.com/andreafeccomandi/bibisco/;\u001b[0m\u001b[1;38;5;202m trying directories\u001b[0m\n"
      ]
     },
     "metadata": {},
     "output_type": "display_data"
    },
    {
     "data": {
      "text/html": [
       "<pre style=\"white-space:pre;overflow-x:auto;line-height:normal;font-family:Menlo,'DejaVu Sans Mono',consolas,'Courier New',monospace\"><span style=\"color: #800000; text-decoration-color: #800000; font-weight: bold\">[💀] Could not find package.json in first-level-subdirs</span>\n",
       "</pre>\n"
      ],
      "text/plain": [
       "\u001b[1;31m[\u001b[0m\u001b[1;31m💀\u001b[0m\u001b[1;31m]\u001b[0m\u001b[1;31m Could not find package.json in first-level-subdirs\u001b[0m\n"
      ]
     },
     "metadata": {},
     "output_type": "display_data"
    },
    {
     "data": {
      "text/html": [
       "<pre style=\"white-space:pre;overflow-x:auto;line-height:normal;font-family:Menlo,'DejaVu Sans Mono',consolas,'Courier New',monospace\"><span style=\"color: #ff5f00; text-decoration-color: #ff5f00; font-weight: bold\">[!] Invalid Semantic version: github:castlabs/electron-releases</span>\n",
       "</pre>\n"
      ],
      "text/plain": [
       "\u001b[1;38;5;202m[\u001b[0m\u001b[1;38;5;202m!\u001b[0m\u001b[1;38;5;202m]\u001b[0m\u001b[1;38;5;202m Invalid Semantic version: githu\u001b[0m\u001b[1;38;5;202mb:ca\u001b[0m\u001b[1;38;5;202mstlabs/electron-releases\u001b[0m\n"
      ]
     },
     "metadata": {},
     "output_type": "display_data"
    },
    {
     "data": {
      "text/html": [
       "<pre style=\"white-space:pre;overflow-x:auto;line-height:normal;font-family:Menlo,'DejaVu Sans Mono',consolas,'Courier New',monospace\"><span style=\"color: #ff5f00; text-decoration-color: #ff5f00; font-weight: bold\">[!] Invalid Semantic version: github:castlabs/electron-releases</span>\n",
       "</pre>\n"
      ],
      "text/plain": [
       "\u001b[1;38;5;202m[\u001b[0m\u001b[1;38;5;202m!\u001b[0m\u001b[1;38;5;202m]\u001b[0m\u001b[1;38;5;202m Invalid Semantic version: githu\u001b[0m\u001b[1;38;5;202mb:ca\u001b[0m\u001b[1;38;5;202mstlabs/electron-releases\u001b[0m\n"
      ]
     },
     "metadata": {},
     "output_type": "display_data"
    },
    {
     "data": {
      "text/html": [
       "<pre style=\"white-space:pre;overflow-x:auto;line-height:normal;font-family:Menlo,'DejaVu Sans Mono',consolas,'Courier New',monospace\"><span style=\"color: #ff5f00; text-decoration-color: #ff5f00; font-weight: bold\">[!] Package.json not found at root of </span><span style=\"color: #ff5f00; text-decoration-color: #ff5f00; font-weight: bold; text-decoration: underline\">https://github.com/caesiumstudio/csBooks-updates.git;</span><span style=\"color: #ff5f00; text-decoration-color: #ff5f00; font-weight: bold\"> trying directories</span>\n",
       "</pre>\n"
      ],
      "text/plain": [
       "\u001b[1;38;5;202m[\u001b[0m\u001b[1;38;5;202m!\u001b[0m\u001b[1;38;5;202m]\u001b[0m\u001b[1;38;5;202m Package.json not found at root of \u001b[0m\u001b[1;4;38;5;202mhttps://github.com/caesiumstudio/csBooks-updates.git;\u001b[0m\u001b[1;38;5;202m trying directories\u001b[0m\n"
      ]
     },
     "metadata": {},
     "output_type": "display_data"
    },
    {
     "data": {
      "text/html": [
       "<pre style=\"white-space:pre;overflow-x:auto;line-height:normal;font-family:Menlo,'DejaVu Sans Mono',consolas,'Courier New',monospace\"><span style=\"color: #800000; text-decoration-color: #800000; font-weight: bold\">[💀] Could not find package.json in first-level-subdirs</span>\n",
       "</pre>\n"
      ],
      "text/plain": [
       "\u001b[1;31m[\u001b[0m\u001b[1;31m💀\u001b[0m\u001b[1;31m]\u001b[0m\u001b[1;31m Could not find package.json in first-level-subdirs\u001b[0m\n"
      ]
     },
     "metadata": {},
     "output_type": "display_data"
    },
    {
     "data": {
      "text/html": [
       "<pre style=\"white-space:pre;overflow-x:auto;line-height:normal;font-family:Menlo,'DejaVu Sans Mono',consolas,'Courier New',monospace\"><span style=\"color: #ff5f00; text-decoration-color: #ff5f00; font-weight: bold\">[!] Package.json not found at root of </span><span style=\"color: #ff5f00; text-decoration-color: #ff5f00; font-weight: bold; text-decoration: underline\">https://github.com/felipeleivav/dbcloner-app;</span><span style=\"color: #ff5f00; text-decoration-color: #ff5f00; font-weight: bold\"> trying directories</span>\n",
       "</pre>\n"
      ],
      "text/plain": [
       "\u001b[1;38;5;202m[\u001b[0m\u001b[1;38;5;202m!\u001b[0m\u001b[1;38;5;202m]\u001b[0m\u001b[1;38;5;202m Package.json not found at root of \u001b[0m\u001b[1;4;38;5;202mhttps://github.com/felipeleivav/dbcloner-app;\u001b[0m\u001b[1;38;5;202m trying directories\u001b[0m\n"
      ]
     },
     "metadata": {},
     "output_type": "display_data"
    },
    {
     "data": {
      "text/html": [
       "<pre style=\"white-space:pre;overflow-x:auto;line-height:normal;font-family:Menlo,'DejaVu Sans Mono',consolas,'Courier New',monospace\"><span style=\"color: #800000; text-decoration-color: #800000; font-weight: bold\">[💀] Could not find package.json in first-level-subdirs</span>\n",
       "</pre>\n"
      ],
      "text/plain": [
       "\u001b[1;31m[\u001b[0m\u001b[1;31m💀\u001b[0m\u001b[1;31m]\u001b[0m\u001b[1;31m Could not find package.json in first-level-subdirs\u001b[0m\n"
      ]
     },
     "metadata": {},
     "output_type": "display_data"
    },
    {
     "data": {
      "text/html": [
       "<pre style=\"white-space:pre;overflow-x:auto;line-height:normal;font-family:Menlo,'DejaVu Sans Mono',consolas,'Courier New',monospace\"><span style=\"color: #ff5f00; text-decoration-color: #ff5f00; font-weight: bold\">[!] Package.json not found at root of </span><span style=\"color: #ff5f00; text-decoration-color: #ff5f00; font-weight: bold; text-decoration: underline\">https://github.com/rivafarabi/deckboard;</span><span style=\"color: #ff5f00; text-decoration-color: #ff5f00; font-weight: bold\"> trying directories</span>\n",
       "</pre>\n"
      ],
      "text/plain": [
       "\u001b[1;38;5;202m[\u001b[0m\u001b[1;38;5;202m!\u001b[0m\u001b[1;38;5;202m]\u001b[0m\u001b[1;38;5;202m Package.json not found at root of \u001b[0m\u001b[1;4;38;5;202mhttps://github.com/rivafarabi/deckboard;\u001b[0m\u001b[1;38;5;202m trying directories\u001b[0m\n"
      ]
     },
     "metadata": {},
     "output_type": "display_data"
    },
    {
     "data": {
      "text/html": [
       "<pre style=\"white-space:pre;overflow-x:auto;line-height:normal;font-family:Menlo,'DejaVu Sans Mono',consolas,'Courier New',monospace\"><span style=\"color: #800000; text-decoration-color: #800000; font-weight: bold\">[💀] Could not find package.json in first-level-subdirs</span>\n",
       "</pre>\n"
      ],
      "text/plain": [
       "\u001b[1;31m[\u001b[0m\u001b[1;31m💀\u001b[0m\u001b[1;31m]\u001b[0m\u001b[1;31m Could not find package.json in first-level-subdirs\u001b[0m\n"
      ]
     },
     "metadata": {},
     "output_type": "display_data"
    },
    {
     "data": {
      "text/html": [
       "<pre style=\"white-space:pre;overflow-x:auto;line-height:normal;font-family:Menlo,'DejaVu Sans Mono',consolas,'Courier New',monospace\"><span style=\"color: #ff5f00; text-decoration-color: #ff5f00; font-weight: bold\">[!] Package.json not found at root of </span><span style=\"color: #ff5f00; text-decoration-color: #ff5f00; font-weight: bold; text-decoration: underline\">https://github.com/decosoftware/deco-ide;</span><span style=\"color: #ff5f00; text-decoration-color: #ff5f00; font-weight: bold\"> trying directories</span>\n",
       "</pre>\n"
      ],
      "text/plain": [
       "\u001b[1;38;5;202m[\u001b[0m\u001b[1;38;5;202m!\u001b[0m\u001b[1;38;5;202m]\u001b[0m\u001b[1;38;5;202m Package.json not found at root of \u001b[0m\u001b[1;4;38;5;202mhttps://github.com/decosoftware/deco-ide;\u001b[0m\u001b[1;38;5;202m trying directories\u001b[0m\n"
      ]
     },
     "metadata": {},
     "output_type": "display_data"
    },
    {
     "data": {
      "text/html": [
       "<pre style=\"white-space:pre;overflow-x:auto;line-height:normal;font-family:Menlo,'DejaVu Sans Mono',consolas,'Courier New',monospace\"><span style=\"color: #800000; text-decoration-color: #800000; font-weight: bold\">[💀] Could not find package.json in first-level-subdirs</span>\n",
       "</pre>\n"
      ],
      "text/plain": [
       "\u001b[1;31m[\u001b[0m\u001b[1;31m💀\u001b[0m\u001b[1;31m]\u001b[0m\u001b[1;31m Could not find package.json in first-level-subdirs\u001b[0m\n"
      ]
     },
     "metadata": {},
     "output_type": "display_data"
    },
    {
     "data": {
      "text/html": [
       "<pre style=\"white-space:pre;overflow-x:auto;line-height:normal;font-family:Menlo,'DejaVu Sans Mono',consolas,'Courier New',monospace\"><span style=\"color: #ff5f00; text-decoration-color: #ff5f00; font-weight: bold\">[!] Package.json not found at root of </span><span style=\"color: #ff5f00; text-decoration-color: #ff5f00; font-weight: bold; text-decoration: underline\">https://github.com/dixahq/dixa-desktop-app-release;</span><span style=\"color: #ff5f00; text-decoration-color: #ff5f00; font-weight: bold\"> trying directories</span>\n",
       "</pre>\n"
      ],
      "text/plain": [
       "\u001b[1;38;5;202m[\u001b[0m\u001b[1;38;5;202m!\u001b[0m\u001b[1;38;5;202m]\u001b[0m\u001b[1;38;5;202m Package.json not found at root of \u001b[0m\u001b[1;4;38;5;202mhttps://github.com/dixahq/dixa-desktop-app-release;\u001b[0m\u001b[1;38;5;202m trying directories\u001b[0m\n"
      ]
     },
     "metadata": {},
     "output_type": "display_data"
    },
    {
     "data": {
      "text/html": [
       "<pre style=\"white-space:pre;overflow-x:auto;line-height:normal;font-family:Menlo,'DejaVu Sans Mono',consolas,'Courier New',monospace\"><span style=\"color: #800000; text-decoration-color: #800000; font-weight: bold\">[💀] Could not find package.json in first-level-subdirs</span>\n",
       "</pre>\n"
      ],
      "text/plain": [
       "\u001b[1;31m[\u001b[0m\u001b[1;31m💀\u001b[0m\u001b[1;31m]\u001b[0m\u001b[1;31m Could not find package.json in first-level-subdirs\u001b[0m\n"
      ]
     },
     "metadata": {},
     "output_type": "display_data"
    },
    {
     "data": {
      "text/html": [
       "<pre style=\"white-space:pre;overflow-x:auto;line-height:normal;font-family:Menlo,'DejaVu Sans Mono',consolas,'Courier New',monospace\"><span style=\"color: #ff5f00; text-decoration-color: #ff5f00; font-weight: bold\">[!] Package.json not found at root of </span><span style=\"color: #ff5f00; text-decoration-color: #ff5f00; font-weight: bold; text-decoration: underline\">https://github.com/darawish/domainbook;</span><span style=\"color: #ff5f00; text-decoration-color: #ff5f00; font-weight: bold\"> trying directories</span>\n",
       "</pre>\n"
      ],
      "text/plain": [
       "\u001b[1;38;5;202m[\u001b[0m\u001b[1;38;5;202m!\u001b[0m\u001b[1;38;5;202m]\u001b[0m\u001b[1;38;5;202m Package.json not found at root of \u001b[0m\u001b[1;4;38;5;202mhttps://github.com/darawish/domainbook;\u001b[0m\u001b[1;38;5;202m trying directories\u001b[0m\n"
      ]
     },
     "metadata": {},
     "output_type": "display_data"
    },
    {
     "data": {
      "text/html": [
       "<pre style=\"white-space:pre;overflow-x:auto;line-height:normal;font-family:Menlo,'DejaVu Sans Mono',consolas,'Courier New',monospace\"><span style=\"color: #800000; text-decoration-color: #800000; font-weight: bold\">[💀] Could not find package.json in first-level-subdirs</span>\n",
       "</pre>\n"
      ],
      "text/plain": [
       "\u001b[1;31m[\u001b[0m\u001b[1;31m💀\u001b[0m\u001b[1;31m]\u001b[0m\u001b[1;31m Could not find package.json in first-level-subdirs\u001b[0m\n"
      ]
     },
     "metadata": {},
     "output_type": "display_data"
    },
    {
     "data": {
      "text/html": [
       "<pre style=\"white-space:pre;overflow-x:auto;line-height:normal;font-family:Menlo,'DejaVu Sans Mono',consolas,'Courier New',monospace\"><span style=\"color: #ff5f00; text-decoration-color: #ff5f00; font-weight: bold\">[!] Invalid Semantic version: </span><span style=\"color: #ff5f00; text-decoration-color: #ff5f00; font-weight: bold\">6</span>\n",
       "</pre>\n"
      ],
      "text/plain": [
       "\u001b[1;38;5;202m[\u001b[0m\u001b[1;38;5;202m!\u001b[0m\u001b[1;38;5;202m]\u001b[0m\u001b[1;38;5;202m Invalid Semantic version: \u001b[0m\u001b[1;38;5;202m6\u001b[0m\n"
      ]
     },
     "metadata": {},
     "output_type": "display_data"
    },
    {
     "data": {
      "text/html": [
       "<pre style=\"white-space:pre;overflow-x:auto;line-height:normal;font-family:Menlo,'DejaVu Sans Mono',consolas,'Courier New',monospace\"><span style=\"color: #ff5f00; text-decoration-color: #ff5f00; font-weight: bold\">[!] Invalid Semantic version: </span><span style=\"color: #ff5f00; text-decoration-color: #ff5f00; font-weight: bold\">6</span>\n",
       "</pre>\n"
      ],
      "text/plain": [
       "\u001b[1;38;5;202m[\u001b[0m\u001b[1;38;5;202m!\u001b[0m\u001b[1;38;5;202m]\u001b[0m\u001b[1;38;5;202m Invalid Semantic version: \u001b[0m\u001b[1;38;5;202m6\u001b[0m\n"
      ]
     },
     "metadata": {},
     "output_type": "display_data"
    },
    {
     "data": {
      "text/html": [
       "<pre style=\"white-space:pre;overflow-x:auto;line-height:normal;font-family:Menlo,'DejaVu Sans Mono',consolas,'Courier New',monospace\"><span style=\"color: #ff5f00; text-decoration-color: #ff5f00; font-weight: bold\">[!] Invalid Semantic version: </span><span style=\"color: #ff5f00; text-decoration-color: #ff5f00; font-weight: bold\">11.0</span>\n",
       "</pre>\n"
      ],
      "text/plain": [
       "\u001b[1;38;5;202m[\u001b[0m\u001b[1;38;5;202m!\u001b[0m\u001b[1;38;5;202m]\u001b[0m\u001b[1;38;5;202m Invalid Semantic version: \u001b[0m\u001b[1;38;5;202m11.0\u001b[0m\n"
      ]
     },
     "metadata": {},
     "output_type": "display_data"
    },
    {
     "data": {
      "text/html": [
       "<pre style=\"white-space:pre;overflow-x:auto;line-height:normal;font-family:Menlo,'DejaVu Sans Mono',consolas,'Courier New',monospace\"><span style=\"color: #ff5f00; text-decoration-color: #ff5f00; font-weight: bold\">[!] Invalid Semantic version: </span><span style=\"color: #ff5f00; text-decoration-color: #ff5f00; font-weight: bold\">11.0</span>\n",
       "</pre>\n"
      ],
      "text/plain": [
       "\u001b[1;38;5;202m[\u001b[0m\u001b[1;38;5;202m!\u001b[0m\u001b[1;38;5;202m]\u001b[0m\u001b[1;38;5;202m Invalid Semantic version: \u001b[0m\u001b[1;38;5;202m11.0\u001b[0m\n"
      ]
     },
     "metadata": {},
     "output_type": "display_data"
    },
    {
     "data": {
      "text/html": [
       "<pre style=\"white-space:pre;overflow-x:auto;line-height:normal;font-family:Menlo,'DejaVu Sans Mono',consolas,'Courier New',monospace\"><span style=\"color: #800000; text-decoration-color: #800000; font-weight: bold\">[💀] Could not connect to </span><span style=\"color: #800000; text-decoration-color: #800000; font-weight: bold; text-decoration: underline\">https://github.com/getferdi/ferdi</span>\n",
       "</pre>\n"
      ],
      "text/plain": [
       "\u001b[1;31m[\u001b[0m\u001b[1;31m💀\u001b[0m\u001b[1;31m]\u001b[0m\u001b[1;31m Could not connect to \u001b[0m\u001b[1;4;31mhttps://github.com/getferdi/ferdi\u001b[0m\n"
      ]
     },
     "metadata": {},
     "output_type": "display_data"
    },
    {
     "data": {
      "text/html": [
       "<pre style=\"white-space:pre;overflow-x:auto;line-height:normal;font-family:Menlo,'DejaVu Sans Mono',consolas,'Courier New',monospace\"><span style=\"color: #ff5f00; text-decoration-color: #ff5f00; font-weight: bold\">[!] Package.json not found at root of </span><span style=\"color: #ff5f00; text-decoration-color: #ff5f00; font-weight: bold; text-decoration: underline\">https://github.com/4ian/GDevelop;</span><span style=\"color: #ff5f00; text-decoration-color: #ff5f00; font-weight: bold\"> trying directories</span>\n",
       "</pre>\n"
      ],
      "text/plain": [
       "\u001b[1;38;5;202m[\u001b[0m\u001b[1;38;5;202m!\u001b[0m\u001b[1;38;5;202m]\u001b[0m\u001b[1;38;5;202m Package.json not found at root of \u001b[0m\u001b[1;4;38;5;202mhttps://github.com/4ian/GDevelop;\u001b[0m\u001b[1;38;5;202m trying directories\u001b[0m\n"
      ]
     },
     "metadata": {},
     "output_type": "display_data"
    },
    {
     "data": {
      "text/html": [
       "<pre style=\"white-space:pre;overflow-x:auto;line-height:normal;font-family:Menlo,'DejaVu Sans Mono',consolas,'Courier New',monospace\"><span style=\"color: #800000; text-decoration-color: #800000; font-weight: bold\">[💀] Could not find package.json in first-level-subdirs</span>\n",
       "</pre>\n"
      ],
      "text/plain": [
       "\u001b[1;31m[\u001b[0m\u001b[1;31m💀\u001b[0m\u001b[1;31m]\u001b[0m\u001b[1;31m Could not find package.json in first-level-subdirs\u001b[0m\n"
      ]
     },
     "metadata": {},
     "output_type": "display_data"
    },
    {
     "data": {
      "text/html": [
       "<pre style=\"white-space:pre;overflow-x:auto;line-height:normal;font-family:Menlo,'DejaVu Sans Mono',consolas,'Courier New',monospace\"><span style=\"color: #ff5f00; text-decoration-color: #ff5f00; font-weight: bold\">[!] Package.json not found at root of </span><span style=\"color: #ff5f00; text-decoration-color: #ff5f00; font-weight: bold; text-decoration: underline\">https://github.com/virejdasani/Geniemoji;</span><span style=\"color: #ff5f00; text-decoration-color: #ff5f00; font-weight: bold\"> trying directories</span>\n",
       "</pre>\n"
      ],
      "text/plain": [
       "\u001b[1;38;5;202m[\u001b[0m\u001b[1;38;5;202m!\u001b[0m\u001b[1;38;5;202m]\u001b[0m\u001b[1;38;5;202m Package.json not found at root of \u001b[0m\u001b[1;4;38;5;202mhttps://github.com/virejdasani/Geniemoji;\u001b[0m\u001b[1;38;5;202m trying directories\u001b[0m\n"
      ]
     },
     "metadata": {},
     "output_type": "display_data"
    },
    {
     "data": {
      "text/html": [
       "<pre style=\"white-space:pre;overflow-x:auto;line-height:normal;font-family:Menlo,'DejaVu Sans Mono',consolas,'Courier New',monospace\"><span style=\"color: #800000; text-decoration-color: #800000; font-weight: bold\">[💀] Could not find package.json in first-level-subdirs</span>\n",
       "</pre>\n"
      ],
      "text/plain": [
       "\u001b[1;31m[\u001b[0m\u001b[1;31m💀\u001b[0m\u001b[1;31m]\u001b[0m\u001b[1;31m Could not find package.json in first-level-subdirs\u001b[0m\n"
      ]
     },
     "metadata": {},
     "output_type": "display_data"
    },
    {
     "data": {
      "text/html": [
       "<pre style=\"white-space:pre;overflow-x:auto;line-height:normal;font-family:Menlo,'DejaVu Sans Mono',consolas,'Courier New',monospace\"><span style=\"color: #ff5f00; text-decoration-color: #ff5f00; font-weight: bold\">[!] Package.json not found at root of </span><span style=\"color: #ff5f00; text-decoration-color: #ff5f00; font-weight: bold; text-decoration: underline\">https://github.com/SmartHoldemDAPPs/heads-tails;</span><span style=\"color: #ff5f00; text-decoration-color: #ff5f00; font-weight: bold\"> trying directories</span>\n",
       "</pre>\n"
      ],
      "text/plain": [
       "\u001b[1;38;5;202m[\u001b[0m\u001b[1;38;5;202m!\u001b[0m\u001b[1;38;5;202m]\u001b[0m\u001b[1;38;5;202m Package.json not found at root of \u001b[0m\u001b[1;4;38;5;202mhttps://github.com/SmartHoldemDAPPs/heads-tails;\u001b[0m\u001b[1;38;5;202m trying directories\u001b[0m\n"
      ]
     },
     "metadata": {},
     "output_type": "display_data"
    },
    {
     "data": {
      "text/html": [
       "<pre style=\"white-space:pre;overflow-x:auto;line-height:normal;font-family:Menlo,'DejaVu Sans Mono',consolas,'Courier New',monospace\"><span style=\"color: #800000; text-decoration-color: #800000; font-weight: bold\">[💀] Could not find package.json in first-level-subdirs</span>\n",
       "</pre>\n"
      ],
      "text/plain": [
       "\u001b[1;31m[\u001b[0m\u001b[1;31m💀\u001b[0m\u001b[1;31m]\u001b[0m\u001b[1;31m Could not find package.json in first-level-subdirs\u001b[0m\n"
      ]
     },
     "metadata": {},
     "output_type": "display_data"
    },
    {
     "data": {
      "text/html": [
       "<pre style=\"white-space:pre;overflow-x:auto;line-height:normal;font-family:Menlo,'DejaVu Sans Mono',consolas,'Courier New',monospace\"><span style=\"color: #ff5f00; text-decoration-color: #ff5f00; font-weight: bold\">[!] Package.json not found at root of </span><span style=\"color: #ff5f00; text-decoration-color: #ff5f00; font-weight: bold; text-decoration: underline\">https://github.com/httptoolkit;</span><span style=\"color: #ff5f00; text-decoration-color: #ff5f00; font-weight: bold\"> trying directories</span>\n",
       "</pre>\n"
      ],
      "text/plain": [
       "\u001b[1;38;5;202m[\u001b[0m\u001b[1;38;5;202m!\u001b[0m\u001b[1;38;5;202m]\u001b[0m\u001b[1;38;5;202m Package.json not found at root of \u001b[0m\u001b[1;4;38;5;202mhttps://github.com/httptoolkit;\u001b[0m\u001b[1;38;5;202m trying directories\u001b[0m\n"
      ]
     },
     "metadata": {},
     "output_type": "display_data"
    },
    {
     "data": {
      "text/html": [
       "<pre style=\"white-space:pre;overflow-x:auto;line-height:normal;font-family:Menlo,'DejaVu Sans Mono',consolas,'Courier New',monospace\"><span style=\"color: #800000; text-decoration-color: #800000; font-weight: bold\">[💀] Could not find package.json in first-level-subdirs</span>\n",
       "</pre>\n"
      ],
      "text/plain": [
       "\u001b[1;31m[\u001b[0m\u001b[1;31m💀\u001b[0m\u001b[1;31m]\u001b[0m\u001b[1;31m Could not find package.json in first-level-subdirs\u001b[0m\n"
      ]
     },
     "metadata": {},
     "output_type": "display_data"
    },
    {
     "data": {
      "text/html": [
       "<pre style=\"white-space:pre;overflow-x:auto;line-height:normal;font-family:Menlo,'DejaVu Sans Mono',consolas,'Courier New',monospace\"><span style=\"color: #ff5f00; text-decoration-color: #ff5f00; font-weight: bold\">[!] Invalid Semantic version: </span><span style=\"color: #ff5f00; text-decoration-color: #ff5f00; font-weight: bold\">3.0</span>\n",
       "</pre>\n"
      ],
      "text/plain": [
       "\u001b[1;38;5;202m[\u001b[0m\u001b[1;38;5;202m!\u001b[0m\u001b[1;38;5;202m]\u001b[0m\u001b[1;38;5;202m Invalid Semantic version: \u001b[0m\u001b[1;38;5;202m3.0\u001b[0m\n"
      ]
     },
     "metadata": {},
     "output_type": "display_data"
    },
    {
     "data": {
      "text/html": [
       "<pre style=\"white-space:pre;overflow-x:auto;line-height:normal;font-family:Menlo,'DejaVu Sans Mono',consolas,'Courier New',monospace\"><span style=\"color: #ff5f00; text-decoration-color: #ff5f00; font-weight: bold\">[!] Invalid Semantic version: </span><span style=\"color: #ff5f00; text-decoration-color: #ff5f00; font-weight: bold\">3.0</span>\n",
       "</pre>\n"
      ],
      "text/plain": [
       "\u001b[1;38;5;202m[\u001b[0m\u001b[1;38;5;202m!\u001b[0m\u001b[1;38;5;202m]\u001b[0m\u001b[1;38;5;202m Invalid Semantic version: \u001b[0m\u001b[1;38;5;202m3.0\u001b[0m\n"
      ]
     },
     "metadata": {},
     "output_type": "display_data"
    },
    {
     "data": {
      "text/html": [
       "<pre style=\"white-space:pre;overflow-x:auto;line-height:normal;font-family:Menlo,'DejaVu Sans Mono',consolas,'Courier New',monospace\"><span style=\"color: #ff5f00; text-decoration-color: #ff5f00; font-weight: bold\">[!] Package.json not found at root of </span><span style=\"color: #ff5f00; text-decoration-color: #ff5f00; font-weight: bold; text-decoration: underline\">https://github.com/jamovi/jamovi;</span><span style=\"color: #ff5f00; text-decoration-color: #ff5f00; font-weight: bold\"> trying directories</span>\n",
       "</pre>\n"
      ],
      "text/plain": [
       "\u001b[1;38;5;202m[\u001b[0m\u001b[1;38;5;202m!\u001b[0m\u001b[1;38;5;202m]\u001b[0m\u001b[1;38;5;202m Package.json not found at root of \u001b[0m\u001b[1;4;38;5;202mhttps://github.com/jamovi/jamovi;\u001b[0m\u001b[1;38;5;202m trying directories\u001b[0m\n"
      ]
     },
     "metadata": {},
     "output_type": "display_data"
    },
    {
     "data": {
      "text/html": [
       "<pre style=\"white-space:pre;overflow-x:auto;line-height:normal;font-family:Menlo,'DejaVu Sans Mono',consolas,'Courier New',monospace\"><span style=\"color: #800000; text-decoration-color: #800000; font-weight: bold\">[💀] Could not find package.json in first-level-subdirs</span>\n",
       "</pre>\n"
      ],
      "text/plain": [
       "\u001b[1;31m[\u001b[0m\u001b[1;31m💀\u001b[0m\u001b[1;31m]\u001b[0m\u001b[1;31m Could not find package.json in first-level-subdirs\u001b[0m\n"
      ]
     },
     "metadata": {},
     "output_type": "display_data"
    },
    {
     "data": {
      "text/html": [
       "<pre style=\"white-space:pre;overflow-x:auto;line-height:normal;font-family:Menlo,'DejaVu Sans Mono',consolas,'Courier New',monospace\"><span style=\"color: #ff5f00; text-decoration-color: #ff5f00; font-weight: bold\">[!] Package.json not found at root of </span><span style=\"color: #ff5f00; text-decoration-color: #ff5f00; font-weight: bold; text-decoration: underline\">https://github.com/kaplanPRO/kaplan-desktop;</span><span style=\"color: #ff5f00; text-decoration-color: #ff5f00; font-weight: bold\"> trying directories</span>\n",
       "</pre>\n"
      ],
      "text/plain": [
       "\u001b[1;38;5;202m[\u001b[0m\u001b[1;38;5;202m!\u001b[0m\u001b[1;38;5;202m]\u001b[0m\u001b[1;38;5;202m Package.json not found at root of \u001b[0m\u001b[1;4;38;5;202mhttps://github.com/kaplanPRO/kaplan-desktop;\u001b[0m\u001b[1;38;5;202m trying directories\u001b[0m\n"
      ]
     },
     "metadata": {},
     "output_type": "display_data"
    },
    {
     "data": {
      "text/html": [
       "<pre style=\"white-space:pre;overflow-x:auto;line-height:normal;font-family:Menlo,'DejaVu Sans Mono',consolas,'Courier New',monospace\"><span style=\"color: #800000; text-decoration-color: #800000; font-weight: bold\">[💀] Could not find package.json in first-level-subdirs</span>\n",
       "</pre>\n"
      ],
      "text/plain": [
       "\u001b[1;31m[\u001b[0m\u001b[1;31m💀\u001b[0m\u001b[1;31m]\u001b[0m\u001b[1;31m Could not find package.json in first-level-subdirs\u001b[0m\n"
      ]
     },
     "metadata": {},
     "output_type": "display_data"
    },
    {
     "data": {
      "text/html": [
       "<pre style=\"white-space:pre;overflow-x:auto;line-height:normal;font-family:Menlo,'DejaVu Sans Mono',consolas,'Courier New',monospace\"><span style=\"color: #ff5f00; text-decoration-color: #ff5f00; font-weight: bold\">[!] Package.json not found at root of </span><span style=\"color: #ff5f00; text-decoration-color: #ff5f00; font-weight: bold; text-decoration: underline\">https://gitlab.com/karaokemugen/karaokemugen-app;</span><span style=\"color: #ff5f00; text-decoration-color: #ff5f00; font-weight: bold\"> trying directories</span>\n",
       "</pre>\n"
      ],
      "text/plain": [
       "\u001b[1;38;5;202m[\u001b[0m\u001b[1;38;5;202m!\u001b[0m\u001b[1;38;5;202m]\u001b[0m\u001b[1;38;5;202m Package.json not found at root of \u001b[0m\u001b[1;4;38;5;202mhttps://gitlab.com/karaokemugen/karaokemugen-app;\u001b[0m\u001b[1;38;5;202m trying directories\u001b[0m\n"
      ]
     },
     "metadata": {},
     "output_type": "display_data"
    },
    {
     "data": {
      "text/html": [
       "<pre style=\"white-space:pre;overflow-x:auto;line-height:normal;font-family:Menlo,'DejaVu Sans Mono',consolas,'Courier New',monospace\"><span style=\"color: #800000; text-decoration-color: #800000; font-weight: bold\">[💀] Could not find package.json in first-level-subdirs</span>\n",
       "</pre>\n"
      ],
      "text/plain": [
       "\u001b[1;31m[\u001b[0m\u001b[1;31m💀\u001b[0m\u001b[1;31m]\u001b[0m\u001b[1;31m Could not find package.json in first-level-subdirs\u001b[0m\n"
      ]
     },
     "metadata": {},
     "output_type": "display_data"
    },
    {
     "data": {
      "text/html": [
       "<pre style=\"white-space:pre;overflow-x:auto;line-height:normal;font-family:Menlo,'DejaVu Sans Mono',consolas,'Courier New',monospace\"><span style=\"color: #ff5f00; text-decoration-color: #ff5f00; font-weight: bold\">[!] Package.json not found at root of </span><span style=\"color: #ff5f00; text-decoration-color: #ff5f00; font-weight: bold; text-decoration: underline\">https://github.com/tkainrad/keycombiner;</span><span style=\"color: #ff5f00; text-decoration-color: #ff5f00; font-weight: bold\"> trying directories</span>\n",
       "</pre>\n"
      ],
      "text/plain": [
       "\u001b[1;38;5;202m[\u001b[0m\u001b[1;38;5;202m!\u001b[0m\u001b[1;38;5;202m]\u001b[0m\u001b[1;38;5;202m Package.json not found at root of \u001b[0m\u001b[1;4;38;5;202mhttps://github.com/tkainrad/keycombiner;\u001b[0m\u001b[1;38;5;202m trying directories\u001b[0m\n"
      ]
     },
     "metadata": {},
     "output_type": "display_data"
    },
    {
     "data": {
      "text/html": [
       "<pre style=\"white-space:pre;overflow-x:auto;line-height:normal;font-family:Menlo,'DejaVu Sans Mono',consolas,'Courier New',monospace\"><span style=\"color: #800000; text-decoration-color: #800000; font-weight: bold\">[💀] Could not find package.json in first-level-subdirs</span>\n",
       "</pre>\n"
      ],
      "text/plain": [
       "\u001b[1;31m[\u001b[0m\u001b[1;31m💀\u001b[0m\u001b[1;31m]\u001b[0m\u001b[1;31m Could not find package.json in first-level-subdirs\u001b[0m\n"
      ]
     },
     "metadata": {},
     "output_type": "display_data"
    },
    {
     "data": {
      "text/html": [
       "<pre style=\"white-space:pre;overflow-x:auto;line-height:normal;font-family:Menlo,'DejaVu Sans Mono',consolas,'Courier New',monospace\"><span style=\"color: #ff5f00; text-decoration-color: #ff5f00; font-weight: bold\">[!] Package.json not found at root of </span><span style=\"color: #ff5f00; text-decoration-color: #ff5f00; font-weight: bold; text-decoration: underline\">https://github.com/Kinesis-CI/education-and-innovation;</span><span style=\"color: #ff5f00; text-decoration-color: #ff5f00; font-weight: bold\"> trying directories</span>\n",
       "</pre>\n"
      ],
      "text/plain": [
       "\u001b[1;38;5;202m[\u001b[0m\u001b[1;38;5;202m!\u001b[0m\u001b[1;38;5;202m]\u001b[0m\u001b[1;38;5;202m Package.json not found at root of \u001b[0m\u001b[1;4;38;5;202mhttps://github.com/Kinesis-CI/education-and-innovation;\u001b[0m\u001b[1;38;5;202m trying directories\u001b[0m\n"
      ]
     },
     "metadata": {},
     "output_type": "display_data"
    },
    {
     "data": {
      "text/html": [
       "<pre style=\"white-space:pre;overflow-x:auto;line-height:normal;font-family:Menlo,'DejaVu Sans Mono',consolas,'Courier New',monospace\"><span style=\"color: #800000; text-decoration-color: #800000; font-weight: bold\">[💀] Could not find package.json in first-level-subdirs</span>\n",
       "</pre>\n"
      ],
      "text/plain": [
       "\u001b[1;31m[\u001b[0m\u001b[1;31m💀\u001b[0m\u001b[1;31m]\u001b[0m\u001b[1;31m Could not find package.json in first-level-subdirs\u001b[0m\n"
      ]
     },
     "metadata": {},
     "output_type": "display_data"
    },
    {
     "data": {
      "text/html": [
       "<pre style=\"white-space:pre;overflow-x:auto;line-height:normal;font-family:Menlo,'DejaVu Sans Mono',consolas,'Courier New',monospace\"><span style=\"color: #ff5f00; text-decoration-color: #ff5f00; font-weight: bold\">[!] Package.json not found at root of </span><span style=\"color: #ff5f00; text-decoration-color: #ff5f00; font-weight: bold; text-decoration: underline\">https://hundredrabbits.itch.io/left;</span><span style=\"color: #ff5f00; text-decoration-color: #ff5f00; font-weight: bold\"> trying directories</span>\n",
       "</pre>\n"
      ],
      "text/plain": [
       "\u001b[1;38;5;202m[\u001b[0m\u001b[1;38;5;202m!\u001b[0m\u001b[1;38;5;202m]\u001b[0m\u001b[1;38;5;202m Package.json not found at root of \u001b[0m\u001b[1;4;38;5;202mhttps://hundredrabbits.itch.io/left;\u001b[0m\u001b[1;38;5;202m trying directories\u001b[0m\n"
      ]
     },
     "metadata": {},
     "output_type": "display_data"
    },
    {
     "data": {
      "text/html": [
       "<pre style=\"white-space:pre;overflow-x:auto;line-height:normal;font-family:Menlo,'DejaVu Sans Mono',consolas,'Courier New',monospace\"><span style=\"color: #800000; text-decoration-color: #800000; font-weight: bold\">[💀] Could not find package.json in first-level-subdirs</span>\n",
       "</pre>\n"
      ],
      "text/plain": [
       "\u001b[1;31m[\u001b[0m\u001b[1;31m💀\u001b[0m\u001b[1;31m]\u001b[0m\u001b[1;31m Could not find package.json in first-level-subdirs\u001b[0m\n"
      ]
     },
     "metadata": {},
     "output_type": "display_data"
    },
    {
     "data": {
      "text/html": [
       "<pre style=\"white-space:pre;overflow-x:auto;line-height:normal;font-family:Menlo,'DejaVu Sans Mono',consolas,'Courier New',monospace\"><span style=\"color: #ff5f00; text-decoration-color: #ff5f00; font-weight: bold\">[!] Package.json not found at root of </span><span style=\"color: #ff5f00; text-decoration-color: #ff5f00; font-weight: bold; text-decoration: underline\">https://github.com/LogSnag/LogSnag;</span><span style=\"color: #ff5f00; text-decoration-color: #ff5f00; font-weight: bold\"> trying directories</span>\n",
       "</pre>\n"
      ],
      "text/plain": [
       "\u001b[1;38;5;202m[\u001b[0m\u001b[1;38;5;202m!\u001b[0m\u001b[1;38;5;202m]\u001b[0m\u001b[1;38;5;202m Package.json not found at root of \u001b[0m\u001b[1;4;38;5;202mhttps://github.com/LogSnag/LogSnag;\u001b[0m\u001b[1;38;5;202m trying directories\u001b[0m\n"
      ]
     },
     "metadata": {},
     "output_type": "display_data"
    },
    {
     "data": {
      "text/html": [
       "<pre style=\"white-space:pre;overflow-x:auto;line-height:normal;font-family:Menlo,'DejaVu Sans Mono',consolas,'Courier New',monospace\"><span style=\"color: #800000; text-decoration-color: #800000; font-weight: bold\">[💀] Could not find package.json in first-level-subdirs</span>\n",
       "</pre>\n"
      ],
      "text/plain": [
       "\u001b[1;31m[\u001b[0m\u001b[1;31m💀\u001b[0m\u001b[1;31m]\u001b[0m\u001b[1;31m Could not find package.json in first-level-subdirs\u001b[0m\n"
      ]
     },
     "metadata": {},
     "output_type": "display_data"
    },
    {
     "data": {
      "text/html": [
       "<pre style=\"white-space:pre;overflow-x:auto;line-height:normal;font-family:Menlo,'DejaVu Sans Mono',consolas,'Courier New',monospace\"><span style=\"color: #ff5f00; text-decoration-color: #ff5f00; font-weight: bold\">[!] Package.json not found at root of </span><span style=\"color: #ff5f00; text-decoration-color: #ff5f00; font-weight: bold; text-decoration: underline\">https://github.com/Jisco/LotOfThings;</span><span style=\"color: #ff5f00; text-decoration-color: #ff5f00; font-weight: bold\"> trying directories</span>\n",
       "</pre>\n"
      ],
      "text/plain": [
       "\u001b[1;38;5;202m[\u001b[0m\u001b[1;38;5;202m!\u001b[0m\u001b[1;38;5;202m]\u001b[0m\u001b[1;38;5;202m Package.json not found at root of \u001b[0m\u001b[1;4;38;5;202mhttps://github.com/Jisco/LotOfThings;\u001b[0m\u001b[1;38;5;202m trying directories\u001b[0m\n"
      ]
     },
     "metadata": {},
     "output_type": "display_data"
    },
    {
     "data": {
      "text/html": [
       "<pre style=\"white-space:pre;overflow-x:auto;line-height:normal;font-family:Menlo,'DejaVu Sans Mono',consolas,'Courier New',monospace\"><span style=\"color: #800000; text-decoration-color: #800000; font-weight: bold\">[💀] Could not find package.json in first-level-subdirs</span>\n",
       "</pre>\n"
      ],
      "text/plain": [
       "\u001b[1;31m[\u001b[0m\u001b[1;31m💀\u001b[0m\u001b[1;31m]\u001b[0m\u001b[1;31m Could not find package.json in first-level-subdirs\u001b[0m\n"
      ]
     },
     "metadata": {},
     "output_type": "display_data"
    },
    {
     "data": {
      "text/html": [
       "<pre style=\"white-space:pre;overflow-x:auto;line-height:normal;font-family:Menlo,'DejaVu Sans Mono',consolas,'Courier New',monospace\"><span style=\"color: #ff5f00; text-decoration-color: #ff5f00; font-weight: bold\">[!] Package.json not found at root of </span><span style=\"color: #ff5f00; text-decoration-color: #ff5f00; font-weight: bold; text-decoration: underline\">https://gitlab.com/staltz/manyverse;</span><span style=\"color: #ff5f00; text-decoration-color: #ff5f00; font-weight: bold\"> trying directories</span>\n",
       "</pre>\n"
      ],
      "text/plain": [
       "\u001b[1;38;5;202m[\u001b[0m\u001b[1;38;5;202m!\u001b[0m\u001b[1;38;5;202m]\u001b[0m\u001b[1;38;5;202m Package.json not found at root of \u001b[0m\u001b[1;4;38;5;202mhttps://gitlab.com/staltz/manyverse;\u001b[0m\u001b[1;38;5;202m trying directories\u001b[0m\n"
      ]
     },
     "metadata": {},
     "output_type": "display_data"
    },
    {
     "data": {
      "text/html": [
       "<pre style=\"white-space:pre;overflow-x:auto;line-height:normal;font-family:Menlo,'DejaVu Sans Mono',consolas,'Courier New',monospace\"><span style=\"color: #800000; text-decoration-color: #800000; font-weight: bold\">[💀] Could not find package.json in first-level-subdirs</span>\n",
       "</pre>\n"
      ],
      "text/plain": [
       "\u001b[1;31m[\u001b[0m\u001b[1;31m💀\u001b[0m\u001b[1;31m]\u001b[0m\u001b[1;31m Could not find package.json in first-level-subdirs\u001b[0m\n"
      ]
     },
     "metadata": {},
     "output_type": "display_data"
    },
    {
     "data": {
      "text/html": [
       "<pre style=\"white-space:pre;overflow-x:auto;line-height:normal;font-family:Menlo,'DejaVu Sans Mono',consolas,'Courier New',monospace\"><span style=\"color: #ff5f00; text-decoration-color: #ff5f00; font-weight: bold\">[!] Package.json not found at root of </span><span style=\"color: #ff5f00; text-decoration-color: #ff5f00; font-weight: bold; text-decoration: underline\">https://github.com/mingo-app/mingo;</span><span style=\"color: #ff5f00; text-decoration-color: #ff5f00; font-weight: bold\"> trying directories</span>\n",
       "</pre>\n"
      ],
      "text/plain": [
       "\u001b[1;38;5;202m[\u001b[0m\u001b[1;38;5;202m!\u001b[0m\u001b[1;38;5;202m]\u001b[0m\u001b[1;38;5;202m Package.json not found at root of \u001b[0m\u001b[1;4;38;5;202mhttps://github.com/mingo-app/mingo;\u001b[0m\u001b[1;38;5;202m trying directories\u001b[0m\n"
      ]
     },
     "metadata": {},
     "output_type": "display_data"
    },
    {
     "data": {
      "text/html": [
       "<pre style=\"white-space:pre;overflow-x:auto;line-height:normal;font-family:Menlo,'DejaVu Sans Mono',consolas,'Courier New',monospace\"><span style=\"color: #800000; text-decoration-color: #800000; font-weight: bold\">[💀] Could not find package.json in first-level-subdirs</span>\n",
       "</pre>\n"
      ],
      "text/plain": [
       "\u001b[1;31m[\u001b[0m\u001b[1;31m💀\u001b[0m\u001b[1;31m]\u001b[0m\u001b[1;31m Could not find package.json in first-level-subdirs\u001b[0m\n"
      ]
     },
     "metadata": {},
     "output_type": "display_data"
    },
    {
     "data": {
      "text/html": [
       "<pre style=\"white-space:pre;overflow-x:auto;line-height:normal;font-family:Menlo,'DejaVu Sans Mono',consolas,'Courier New',monospace\"><span style=\"color: #ff5f00; text-decoration-color: #ff5f00; font-weight: bold\">[!] Package.json not found at root of </span><span style=\"color: #ff5f00; text-decoration-color: #ff5f00; font-weight: bold; text-decoration: underline\">https://github.com/Mobirise/Mobirise;</span><span style=\"color: #ff5f00; text-decoration-color: #ff5f00; font-weight: bold\"> trying directories</span>\n",
       "</pre>\n"
      ],
      "text/plain": [
       "\u001b[1;38;5;202m[\u001b[0m\u001b[1;38;5;202m!\u001b[0m\u001b[1;38;5;202m]\u001b[0m\u001b[1;38;5;202m Package.json not found at root of \u001b[0m\u001b[1;4;38;5;202mhttps://github.com/Mobirise/Mobirise;\u001b[0m\u001b[1;38;5;202m trying directories\u001b[0m\n"
      ]
     },
     "metadata": {},
     "output_type": "display_data"
    },
    {
     "data": {
      "text/html": [
       "<pre style=\"white-space:pre;overflow-x:auto;line-height:normal;font-family:Menlo,'DejaVu Sans Mono',consolas,'Courier New',monospace\"><span style=\"color: #800000; text-decoration-color: #800000; font-weight: bold\">[💀] Could not find package.json in first-level-subdirs</span>\n",
       "</pre>\n"
      ],
      "text/plain": [
       "\u001b[1;31m[\u001b[0m\u001b[1;31m💀\u001b[0m\u001b[1;31m]\u001b[0m\u001b[1;31m Could not find package.json in first-level-subdirs\u001b[0m\n"
      ]
     },
     "metadata": {},
     "output_type": "display_data"
    },
    {
     "data": {
      "text/html": [
       "<pre style=\"white-space:pre;overflow-x:auto;line-height:normal;font-family:Menlo,'DejaVu Sans Mono',consolas,'Courier New',monospace\"><span style=\"color: #800000; text-decoration-color: #800000; font-weight: bold\">[💀] Could not retrieve electron version from f</span><span style=\"color: #800000; text-decoration-color: #800000; font-weight: bold; text-decoration: underline\">https://gitee.com/gemron/myLottery/blob/master/package.json</span>\n",
       "</pre>\n"
      ],
      "text/plain": [
       "\u001b[1;31m[\u001b[0m\u001b[1;31m💀\u001b[0m\u001b[1;31m]\u001b[0m\u001b[1;31m Could not retrieve electron version from f\u001b[0m\u001b[1;4;31mhttps://gitee.com/gemron/myLottery/blob/master/package.json\u001b[0m\n"
      ]
     },
     "metadata": {},
     "output_type": "display_data"
    },
    {
     "data": {
      "text/html": [
       "<pre style=\"white-space:pre;overflow-x:auto;line-height:normal;font-family:Menlo,'DejaVu Sans Mono',consolas,'Courier New',monospace\"><span style=\"color: #ff5f00; text-decoration-color: #ff5f00; font-weight: bold\">[!] Package.json not found at root of </span><span style=\"color: #ff5f00; text-decoration-color: #ff5f00; font-weight: bold; text-decoration: underline\">https://github.com/NicepageApp/Nicepage;</span><span style=\"color: #ff5f00; text-decoration-color: #ff5f00; font-weight: bold\"> trying directories</span>\n",
       "</pre>\n"
      ],
      "text/plain": [
       "\u001b[1;38;5;202m[\u001b[0m\u001b[1;38;5;202m!\u001b[0m\u001b[1;38;5;202m]\u001b[0m\u001b[1;38;5;202m Package.json not found at root of \u001b[0m\u001b[1;4;38;5;202mhttps://github.com/NicepageApp/Nicepage;\u001b[0m\u001b[1;38;5;202m trying directories\u001b[0m\n"
      ]
     },
     "metadata": {},
     "output_type": "display_data"
    },
    {
     "data": {
      "text/html": [
       "<pre style=\"white-space:pre;overflow-x:auto;line-height:normal;font-family:Menlo,'DejaVu Sans Mono',consolas,'Courier New',monospace\"><span style=\"color: #800000; text-decoration-color: #800000; font-weight: bold\">[💀] Could not find package.json in first-level-subdirs</span>\n",
       "</pre>\n"
      ],
      "text/plain": [
       "\u001b[1;31m[\u001b[0m\u001b[1;31m💀\u001b[0m\u001b[1;31m]\u001b[0m\u001b[1;31m Could not find package.json in first-level-subdirs\u001b[0m\n"
      ]
     },
     "metadata": {},
     "output_type": "display_data"
    },
    {
     "data": {
      "text/html": [
       "<pre style=\"white-space:pre;overflow-x:auto;line-height:normal;font-family:Menlo,'DejaVu Sans Mono',consolas,'Courier New',monospace\"><span style=\"color: #ff5f00; text-decoration-color: #ff5f00; font-weight: bold\">[!] Package.json not found at root of </span><span style=\"color: #ff5f00; text-decoration-color: #ff5f00; font-weight: bold; text-decoration: underline\">https://github.com/nimblenote/nimblenote;</span><span style=\"color: #ff5f00; text-decoration-color: #ff5f00; font-weight: bold\"> trying directories</span>\n",
       "</pre>\n"
      ],
      "text/plain": [
       "\u001b[1;38;5;202m[\u001b[0m\u001b[1;38;5;202m!\u001b[0m\u001b[1;38;5;202m]\u001b[0m\u001b[1;38;5;202m Package.json not found at root of \u001b[0m\u001b[1;4;38;5;202mhttps://github.com/nimblenote/nimblenote;\u001b[0m\u001b[1;38;5;202m trying directories\u001b[0m\n"
      ]
     },
     "metadata": {},
     "output_type": "display_data"
    },
    {
     "data": {
      "text/html": [
       "<pre style=\"white-space:pre;overflow-x:auto;line-height:normal;font-family:Menlo,'DejaVu Sans Mono',consolas,'Courier New',monospace\"><span style=\"color: #800000; text-decoration-color: #800000; font-weight: bold\">[💀] Could not find package.json in first-level-subdirs</span>\n",
       "</pre>\n"
      ],
      "text/plain": [
       "\u001b[1;31m[\u001b[0m\u001b[1;31m💀\u001b[0m\u001b[1;31m]\u001b[0m\u001b[1;31m Could not find package.json in first-level-subdirs\u001b[0m\n"
      ]
     },
     "metadata": {},
     "output_type": "display_data"
    },
    {
     "data": {
      "text/html": [
       "<pre style=\"white-space:pre;overflow-x:auto;line-height:normal;font-family:Menlo,'DejaVu Sans Mono',consolas,'Courier New',monospace\"><span style=\"color: #ff5f00; text-decoration-color: #ff5f00; font-weight: bold\">[!] Package.json not found at root of </span><span style=\"color: #ff5f00; text-decoration-color: #ff5f00; font-weight: bold; text-decoration: underline\">https://github.com/nodemailer/nodemailer-app;</span><span style=\"color: #ff5f00; text-decoration-color: #ff5f00; font-weight: bold\"> trying directories</span>\n",
       "</pre>\n"
      ],
      "text/plain": [
       "\u001b[1;38;5;202m[\u001b[0m\u001b[1;38;5;202m!\u001b[0m\u001b[1;38;5;202m]\u001b[0m\u001b[1;38;5;202m Package.json not found at root of \u001b[0m\u001b[1;4;38;5;202mhttps://github.com/nodemailer/nodemailer-app;\u001b[0m\u001b[1;38;5;202m trying directories\u001b[0m\n"
      ]
     },
     "metadata": {},
     "output_type": "display_data"
    },
    {
     "data": {
      "text/html": [
       "<pre style=\"white-space:pre;overflow-x:auto;line-height:normal;font-family:Menlo,'DejaVu Sans Mono',consolas,'Courier New',monospace\"><span style=\"color: #800000; text-decoration-color: #800000; font-weight: bold\">[💀] Could not find package.json in first-level-subdirs</span>\n",
       "</pre>\n"
      ],
      "text/plain": [
       "\u001b[1;31m[\u001b[0m\u001b[1;31m💀\u001b[0m\u001b[1;31m]\u001b[0m\u001b[1;31m Could not find package.json in first-level-subdirs\u001b[0m\n"
      ]
     },
     "metadata": {},
     "output_type": "display_data"
    },
    {
     "data": {
      "text/html": [
       "<pre style=\"white-space:pre;overflow-x:auto;line-height:normal;font-family:Menlo,'DejaVu Sans Mono',consolas,'Courier New',monospace\"><span style=\"color: #ff5f00; text-decoration-color: #ff5f00; font-weight: bold\">[!] Package.json not found at root of </span><span style=\"color: #ff5f00; text-decoration-color: #ff5f00; font-weight: bold; text-decoration: underline\">https://github.com/notaapp/releases;</span><span style=\"color: #ff5f00; text-decoration-color: #ff5f00; font-weight: bold\"> trying directories</span>\n",
       "</pre>\n"
      ],
      "text/plain": [
       "\u001b[1;38;5;202m[\u001b[0m\u001b[1;38;5;202m!\u001b[0m\u001b[1;38;5;202m]\u001b[0m\u001b[1;38;5;202m Package.json not found at root of \u001b[0m\u001b[1;4;38;5;202mhttps://github.com/notaapp/releases;\u001b[0m\u001b[1;38;5;202m trying directories\u001b[0m\n"
      ]
     },
     "metadata": {},
     "output_type": "display_data"
    },
    {
     "data": {
      "text/html": [
       "<pre style=\"white-space:pre;overflow-x:auto;line-height:normal;font-family:Menlo,'DejaVu Sans Mono',consolas,'Courier New',monospace\"><span style=\"color: #800000; text-decoration-color: #800000; font-weight: bold\">[💀] Could not find package.json in first-level-subdirs</span>\n",
       "</pre>\n"
      ],
      "text/plain": [
       "\u001b[1;31m[\u001b[0m\u001b[1;31m💀\u001b[0m\u001b[1;31m]\u001b[0m\u001b[1;31m Could not find package.json in first-level-subdirs\u001b[0m\n"
      ]
     },
     "metadata": {},
     "output_type": "display_data"
    },
    {
     "data": {
      "text/html": [
       "<pre style=\"white-space:pre;overflow-x:auto;line-height:normal;font-family:Menlo,'DejaVu Sans Mono',consolas,'Courier New',monospace\"><span style=\"color: #ff5f00; text-decoration-color: #ff5f00; font-weight: bold\">[!] Package.json not found at root of </span><span style=\"color: #ff5f00; text-decoration-color: #ff5f00; font-weight: bold; text-decoration: underline\">https://github.com/notable/notable;</span><span style=\"color: #ff5f00; text-decoration-color: #ff5f00; font-weight: bold\"> trying directories</span>\n",
       "</pre>\n"
      ],
      "text/plain": [
       "\u001b[1;38;5;202m[\u001b[0m\u001b[1;38;5;202m!\u001b[0m\u001b[1;38;5;202m]\u001b[0m\u001b[1;38;5;202m Package.json not found at root of \u001b[0m\u001b[1;4;38;5;202mhttps://github.com/notable/notable;\u001b[0m\u001b[1;38;5;202m trying directories\u001b[0m\n"
      ]
     },
     "metadata": {},
     "output_type": "display_data"
    },
    {
     "data": {
      "text/html": [
       "<pre style=\"white-space:pre;overflow-x:auto;line-height:normal;font-family:Menlo,'DejaVu Sans Mono',consolas,'Courier New',monospace\"><span style=\"color: #800000; text-decoration-color: #800000; font-weight: bold\">[💀] Could not find package.json in first-level-subdirs</span>\n",
       "</pre>\n"
      ],
      "text/plain": [
       "\u001b[1;31m[\u001b[0m\u001b[1;31m💀\u001b[0m\u001b[1;31m]\u001b[0m\u001b[1;31m Could not find package.json in first-level-subdirs\u001b[0m\n"
      ]
     },
     "metadata": {},
     "output_type": "display_data"
    },
    {
     "data": {
      "text/html": [
       "<pre style=\"white-space:pre;overflow-x:auto;line-height:normal;font-family:Menlo,'DejaVu Sans Mono',consolas,'Courier New',monospace\"><span style=\"color: #ff5f00; text-decoration-color: #ff5f00; font-weight: bold\">[!] Package.json not found at root of </span><span style=\"color: #ff5f00; text-decoration-color: #ff5f00; font-weight: bold; text-decoration: underline\">https://github.com/OutsourcedGuru/octopi-init/blob/master/electron_README.md;</span>\n",
       "<span style=\"color: #ff5f00; text-decoration-color: #ff5f00; font-weight: bold\">trying directories</span>\n",
       "</pre>\n"
      ],
      "text/plain": [
       "\u001b[1;38;5;202m[\u001b[0m\u001b[1;38;5;202m!\u001b[0m\u001b[1;38;5;202m]\u001b[0m\u001b[1;38;5;202m Package.json not found at root of \u001b[0m\u001b[1;4;38;5;202mhttps://github.com/OutsourcedGuru/octopi-init/blob/master/electron_README.md;\u001b[0m\n",
       "\u001b[1;38;5;202mtrying directories\u001b[0m\n"
      ]
     },
     "metadata": {},
     "output_type": "display_data"
    },
    {
     "data": {
      "text/html": [
       "<pre style=\"white-space:pre;overflow-x:auto;line-height:normal;font-family:Menlo,'DejaVu Sans Mono',consolas,'Courier New',monospace\"><span style=\"color: #800000; text-decoration-color: #800000; font-weight: bold\">[💀] Could not find package.json in first-level-subdirs</span>\n",
       "</pre>\n"
      ],
      "text/plain": [
       "\u001b[1;31m[\u001b[0m\u001b[1;31m💀\u001b[0m\u001b[1;31m]\u001b[0m\u001b[1;31m Could not find package.json in first-level-subdirs\u001b[0m\n"
      ]
     },
     "metadata": {},
     "output_type": "display_data"
    },
    {
     "data": {
      "text/html": [
       "<pre style=\"white-space:pre;overflow-x:auto;line-height:normal;font-family:Menlo,'DejaVu Sans Mono',consolas,'Courier New',monospace\"><span style=\"color: #ff5f00; text-decoration-color: #ff5f00; font-weight: bold\">[!] Package.json not found at root of </span><span style=\"color: #ff5f00; text-decoration-color: #ff5f00; font-weight: bold; text-decoration: underline\">https://github.com/openspeedtest/Speed-Test;</span><span style=\"color: #ff5f00; text-decoration-color: #ff5f00; font-weight: bold\"> trying directories</span>\n",
       "</pre>\n"
      ],
      "text/plain": [
       "\u001b[1;38;5;202m[\u001b[0m\u001b[1;38;5;202m!\u001b[0m\u001b[1;38;5;202m]\u001b[0m\u001b[1;38;5;202m Package.json not found at root of \u001b[0m\u001b[1;4;38;5;202mhttps://github.com/openspeedtest/Speed-Test;\u001b[0m\u001b[1;38;5;202m trying directories\u001b[0m\n"
      ]
     },
     "metadata": {},
     "output_type": "display_data"
    },
    {
     "data": {
      "text/html": [
       "<pre style=\"white-space:pre;overflow-x:auto;line-height:normal;font-family:Menlo,'DejaVu Sans Mono',consolas,'Courier New',monospace\"><span style=\"color: #800000; text-decoration-color: #800000; font-weight: bold\">[💀] Could not find package.json in first-level-subdirs</span>\n",
       "</pre>\n"
      ],
      "text/plain": [
       "\u001b[1;31m[\u001b[0m\u001b[1;31m💀\u001b[0m\u001b[1;31m]\u001b[0m\u001b[1;31m Could not find package.json in first-level-subdirs\u001b[0m\n"
      ]
     },
     "metadata": {},
     "output_type": "display_data"
    },
    {
     "data": {
      "text/html": [
       "<pre style=\"white-space:pre;overflow-x:auto;line-height:normal;font-family:Menlo,'DejaVu Sans Mono',consolas,'Courier New',monospace\"><span style=\"color: #ff5f00; text-decoration-color: #ff5f00; font-weight: bold\">[!] Package.json not found at root of </span><span style=\"color: #ff5f00; text-decoration-color: #ff5f00; font-weight: bold; text-decoration: underline\">https://github.com/HydroCarbons/ProSecrec;</span><span style=\"color: #ff5f00; text-decoration-color: #ff5f00; font-weight: bold\"> trying directories</span>\n",
       "</pre>\n"
      ],
      "text/plain": [
       "\u001b[1;38;5;202m[\u001b[0m\u001b[1;38;5;202m!\u001b[0m\u001b[1;38;5;202m]\u001b[0m\u001b[1;38;5;202m Package.json not found at root of \u001b[0m\u001b[1;4;38;5;202mhttps://github.com/HydroCarbons/ProSecrec;\u001b[0m\u001b[1;38;5;202m trying directories\u001b[0m\n"
      ]
     },
     "metadata": {},
     "output_type": "display_data"
    },
    {
     "data": {
      "text/html": [
       "<pre style=\"white-space:pre;overflow-x:auto;line-height:normal;font-family:Menlo,'DejaVu Sans Mono',consolas,'Courier New',monospace\"><span style=\"color: #800000; text-decoration-color: #800000; font-weight: bold\">[💀] Could not find package.json in first-level-subdirs</span>\n",
       "</pre>\n"
      ],
      "text/plain": [
       "\u001b[1;31m[\u001b[0m\u001b[1;31m💀\u001b[0m\u001b[1;31m]\u001b[0m\u001b[1;31m Could not find package.json in first-level-subdirs\u001b[0m\n"
      ]
     },
     "metadata": {},
     "output_type": "display_data"
    },
    {
     "data": {
      "text/html": [
       "<pre style=\"white-space:pre;overflow-x:auto;line-height:normal;font-family:Menlo,'DejaVu Sans Mono',consolas,'Courier New',monospace\"><span style=\"color: #ff5f00; text-decoration-color: #ff5f00; font-weight: bold\">[!] Package.json not found at root of </span><span style=\"color: #ff5f00; text-decoration-color: #ff5f00; font-weight: bold; text-decoration: underline\">https://github.com/Toooorch/q-player/;</span><span style=\"color: #ff5f00; text-decoration-color: #ff5f00; font-weight: bold\"> trying directories</span>\n",
       "</pre>\n"
      ],
      "text/plain": [
       "\u001b[1;38;5;202m[\u001b[0m\u001b[1;38;5;202m!\u001b[0m\u001b[1;38;5;202m]\u001b[0m\u001b[1;38;5;202m Package.json not found at root of \u001b[0m\u001b[1;4;38;5;202mhttps://github.com/Toooorch/q-player/;\u001b[0m\u001b[1;38;5;202m trying directories\u001b[0m\n"
      ]
     },
     "metadata": {},
     "output_type": "display_data"
    },
    {
     "data": {
      "text/html": [
       "<pre style=\"white-space:pre;overflow-x:auto;line-height:normal;font-family:Menlo,'DejaVu Sans Mono',consolas,'Courier New',monospace\"><span style=\"color: #800000; text-decoration-color: #800000; font-weight: bold\">[💀] Could not find package.json in first-level-subdirs</span>\n",
       "</pre>\n"
      ],
      "text/plain": [
       "\u001b[1;31m[\u001b[0m\u001b[1;31m💀\u001b[0m\u001b[1;31m]\u001b[0m\u001b[1;31m Could not find package.json in first-level-subdirs\u001b[0m\n"
      ]
     },
     "metadata": {},
     "output_type": "display_data"
    },
    {
     "data": {
      "text/html": [
       "<pre style=\"white-space:pre;overflow-x:auto;line-height:normal;font-family:Menlo,'DejaVu Sans Mono',consolas,'Courier New',monospace\"><span style=\"color: #ff5f00; text-decoration-color: #ff5f00; font-weight: bold\">[!] Package.json not found at root of </span><span style=\"color: #ff5f00; text-decoration-color: #ff5f00; font-weight: bold; text-decoration: underline\">https://github.com/racompass/racompass;</span><span style=\"color: #ff5f00; text-decoration-color: #ff5f00; font-weight: bold\"> trying directories</span>\n",
       "</pre>\n"
      ],
      "text/plain": [
       "\u001b[1;38;5;202m[\u001b[0m\u001b[1;38;5;202m!\u001b[0m\u001b[1;38;5;202m]\u001b[0m\u001b[1;38;5;202m Package.json not found at root of \u001b[0m\u001b[1;4;38;5;202mhttps://github.com/racompass/racompass;\u001b[0m\u001b[1;38;5;202m trying directories\u001b[0m\n"
      ]
     },
     "metadata": {},
     "output_type": "display_data"
    },
    {
     "data": {
      "text/html": [
       "<pre style=\"white-space:pre;overflow-x:auto;line-height:normal;font-family:Menlo,'DejaVu Sans Mono',consolas,'Courier New',monospace\"><span style=\"color: #800000; text-decoration-color: #800000; font-weight: bold\">[💀] Could not find package.json in first-level-subdirs</span>\n",
       "</pre>\n"
      ],
      "text/plain": [
       "\u001b[1;31m[\u001b[0m\u001b[1;31m💀\u001b[0m\u001b[1;31m]\u001b[0m\u001b[1;31m Could not find package.json in first-level-subdirs\u001b[0m\n"
      ]
     },
     "metadata": {},
     "output_type": "display_data"
    },
    {
     "data": {
      "text/html": [
       "<pre style=\"white-space:pre;overflow-x:auto;line-height:normal;font-family:Menlo,'DejaVu Sans Mono',consolas,'Courier New',monospace\"><span style=\"color: #800000; text-decoration-color: #800000; font-weight: bold\">[💀] Could not connect to </span><span style=\"color: #800000; text-decoration-color: #800000; font-weight: bold; text-decoration: underline\">https://github.com/AssetKid/raider-release</span>\n",
       "</pre>\n"
      ],
      "text/plain": [
       "\u001b[1;31m[\u001b[0m\u001b[1;31m💀\u001b[0m\u001b[1;31m]\u001b[0m\u001b[1;31m Could not connect to \u001b[0m\u001b[1;4;31mhttps://github.com/AssetKid/raider-release\u001b[0m\n"
      ]
     },
     "metadata": {},
     "output_type": "display_data"
    },
    {
     "data": {
      "text/html": [
       "<pre style=\"white-space:pre;overflow-x:auto;line-height:normal;font-family:Menlo,'DejaVu Sans Mono',consolas,'Courier New',monospace\"><span style=\"color: #ff5f00; text-decoration-color: #ff5f00; font-weight: bold\">[!] Package.json not found at root of </span><span style=\"color: #ff5f00; text-decoration-color: #ff5f00; font-weight: bold; text-decoration: underline\">https://github.com/Recollectr/releases;</span><span style=\"color: #ff5f00; text-decoration-color: #ff5f00; font-weight: bold\"> trying directories</span>\n",
       "</pre>\n"
      ],
      "text/plain": [
       "\u001b[1;38;5;202m[\u001b[0m\u001b[1;38;5;202m!\u001b[0m\u001b[1;38;5;202m]\u001b[0m\u001b[1;38;5;202m Package.json not found at root of \u001b[0m\u001b[1;4;38;5;202mhttps://github.com/Recollectr/releases;\u001b[0m\u001b[1;38;5;202m trying directories\u001b[0m\n"
      ]
     },
     "metadata": {},
     "output_type": "display_data"
    },
    {
     "data": {
      "text/html": [
       "<pre style=\"white-space:pre;overflow-x:auto;line-height:normal;font-family:Menlo,'DejaVu Sans Mono',consolas,'Courier New',monospace\"><span style=\"color: #800000; text-decoration-color: #800000; font-weight: bold\">[💀] Could not find package.json in first-level-subdirs</span>\n",
       "</pre>\n"
      ],
      "text/plain": [
       "\u001b[1;31m[\u001b[0m\u001b[1;31m💀\u001b[0m\u001b[1;31m]\u001b[0m\u001b[1;31m Could not find package.json in first-level-subdirs\u001b[0m\n"
      ]
     },
     "metadata": {},
     "output_type": "display_data"
    },
    {
     "data": {
      "text/html": [
       "<pre style=\"white-space:pre;overflow-x:auto;line-height:normal;font-family:Menlo,'DejaVu Sans Mono',consolas,'Courier New',monospace\"><span style=\"color: #ff5f00; text-decoration-color: #ff5f00; font-weight: bold\">[!] Package.json not found at root of </span><span style=\"color: #ff5f00; text-decoration-color: #ff5f00; font-weight: bold; text-decoration: underline\">https://github.com/MrDavidRios/remindr_releases;</span><span style=\"color: #ff5f00; text-decoration-color: #ff5f00; font-weight: bold\"> trying directories</span>\n",
       "</pre>\n"
      ],
      "text/plain": [
       "\u001b[1;38;5;202m[\u001b[0m\u001b[1;38;5;202m!\u001b[0m\u001b[1;38;5;202m]\u001b[0m\u001b[1;38;5;202m Package.json not found at root of \u001b[0m\u001b[1;4;38;5;202mhttps://github.com/MrDavidRios/remindr_releases;\u001b[0m\u001b[1;38;5;202m trying directories\u001b[0m\n"
      ]
     },
     "metadata": {},
     "output_type": "display_data"
    },
    {
     "data": {
      "text/html": [
       "<pre style=\"white-space:pre;overflow-x:auto;line-height:normal;font-family:Menlo,'DejaVu Sans Mono',consolas,'Courier New',monospace\"><span style=\"color: #800000; text-decoration-color: #800000; font-weight: bold\">[💀] Could not find package.json in first-level-subdirs</span>\n",
       "</pre>\n"
      ],
      "text/plain": [
       "\u001b[1;31m[\u001b[0m\u001b[1;31m💀\u001b[0m\u001b[1;31m]\u001b[0m\u001b[1;31m Could not find package.json in first-level-subdirs\u001b[0m\n"
      ]
     },
     "metadata": {},
     "output_type": "display_data"
    },
    {
     "data": {
      "text/html": [
       "<pre style=\"white-space:pre;overflow-x:auto;line-height:normal;font-family:Menlo,'DejaVu Sans Mono',consolas,'Courier New',monospace\"><span style=\"color: #ff5f00; text-decoration-color: #ff5f00; font-weight: bold\">[!] Package.json not found at root of </span><span style=\"color: #ff5f00; text-decoration-color: #ff5f00; font-weight: bold; text-decoration: underline\">https://github.com/manojVivek/responsively-app;</span><span style=\"color: #ff5f00; text-decoration-color: #ff5f00; font-weight: bold\"> trying directories</span>\n",
       "</pre>\n"
      ],
      "text/plain": [
       "\u001b[1;38;5;202m[\u001b[0m\u001b[1;38;5;202m!\u001b[0m\u001b[1;38;5;202m]\u001b[0m\u001b[1;38;5;202m Package.json not found at root of \u001b[0m\u001b[1;4;38;5;202mhttps://github.com/manojVivek/responsively-app;\u001b[0m\u001b[1;38;5;202m trying directories\u001b[0m\n"
      ]
     },
     "metadata": {},
     "output_type": "display_data"
    },
    {
     "data": {
      "text/html": [
       "<pre style=\"white-space:pre;overflow-x:auto;line-height:normal;font-family:Menlo,'DejaVu Sans Mono',consolas,'Courier New',monospace\"><span style=\"color: #800000; text-decoration-color: #800000; font-weight: bold\">[💀] Could not find package.json in first-level-subdirs</span>\n",
       "</pre>\n"
      ],
      "text/plain": [
       "\u001b[1;31m[\u001b[0m\u001b[1;31m💀\u001b[0m\u001b[1;31m]\u001b[0m\u001b[1;31m Could not find package.json in first-level-subdirs\u001b[0m\n"
      ]
     },
     "metadata": {},
     "output_type": "display_data"
    },
    {
     "data": {
      "text/html": [
       "<pre style=\"white-space:pre;overflow-x:auto;line-height:normal;font-family:Menlo,'DejaVu Sans Mono',consolas,'Courier New',monospace\"><span style=\"color: #ff5f00; text-decoration-color: #ff5f00; font-weight: bold\">[!] Package.json not found at root of </span><span style=\"color: #ff5f00; text-decoration-color: #ff5f00; font-weight: bold; text-decoration: underline\">https://github.com/runletapp/runlet;</span><span style=\"color: #ff5f00; text-decoration-color: #ff5f00; font-weight: bold\"> trying directories</span>\n",
       "</pre>\n"
      ],
      "text/plain": [
       "\u001b[1;38;5;202m[\u001b[0m\u001b[1;38;5;202m!\u001b[0m\u001b[1;38;5;202m]\u001b[0m\u001b[1;38;5;202m Package.json not found at root of \u001b[0m\u001b[1;4;38;5;202mhttps://github.com/runletapp/runlet;\u001b[0m\u001b[1;38;5;202m trying directories\u001b[0m\n"
      ]
     },
     "metadata": {},
     "output_type": "display_data"
    },
    {
     "data": {
      "text/html": [
       "<pre style=\"white-space:pre;overflow-x:auto;line-height:normal;font-family:Menlo,'DejaVu Sans Mono',consolas,'Courier New',monospace\"><span style=\"color: #800000; text-decoration-color: #800000; font-weight: bold\">[💀] Could not find package.json in first-level-subdirs</span>\n",
       "</pre>\n"
      ],
      "text/plain": [
       "\u001b[1;31m[\u001b[0m\u001b[1;31m💀\u001b[0m\u001b[1;31m]\u001b[0m\u001b[1;31m Could not find package.json in first-level-subdirs\u001b[0m\n"
      ]
     },
     "metadata": {},
     "output_type": "display_data"
    },
    {
     "data": {
      "text/html": [
       "<pre style=\"white-space:pre;overflow-x:auto;line-height:normal;font-family:Menlo,'DejaVu Sans Mono',consolas,'Courier New',monospace\"><span style=\"color: #ff5f00; text-decoration-color: #ff5f00; font-weight: bold\">[!] Package.json not found at root of </span><span style=\"color: #ff5f00; text-decoration-color: #ff5f00; font-weight: bold; text-decoration: underline\">https://github.com/rstudio/rstudio;</span><span style=\"color: #ff5f00; text-decoration-color: #ff5f00; font-weight: bold\"> trying directories</span>\n",
       "</pre>\n"
      ],
      "text/plain": [
       "\u001b[1;38;5;202m[\u001b[0m\u001b[1;38;5;202m!\u001b[0m\u001b[1;38;5;202m]\u001b[0m\u001b[1;38;5;202m Package.json not found at root of \u001b[0m\u001b[1;4;38;5;202mhttps://github.com/rstudio/rstudio;\u001b[0m\u001b[1;38;5;202m trying directories\u001b[0m\n"
      ]
     },
     "metadata": {},
     "output_type": "display_data"
    },
    {
     "data": {
      "text/html": [
       "<pre style=\"white-space:pre;overflow-x:auto;line-height:normal;font-family:Menlo,'DejaVu Sans Mono',consolas,'Courier New',monospace\"><span style=\"color: #800000; text-decoration-color: #800000; font-weight: bold\">[💀] Could not find package.json in first-level-subdirs</span>\n",
       "</pre>\n"
      ],
      "text/plain": [
       "\u001b[1;31m[\u001b[0m\u001b[1;31m💀\u001b[0m\u001b[1;31m]\u001b[0m\u001b[1;31m Could not find package.json in first-level-subdirs\u001b[0m\n"
      ]
     },
     "metadata": {},
     "output_type": "display_data"
    },
    {
     "data": {
      "text/html": [
       "<pre style=\"white-space:pre;overflow-x:auto;line-height:normal;font-family:Menlo,'DejaVu Sans Mono',consolas,'Courier New',monospace\"><span style=\"color: #ff5f00; text-decoration-color: #ff5f00; font-weight: bold\">[!] Package.json not found at root of </span><span style=\"color: #ff5f00; text-decoration-color: #ff5f00; font-weight: bold; text-decoration: underline\">https://github.com/DSnopov/screentray-distribution;</span><span style=\"color: #ff5f00; text-decoration-color: #ff5f00; font-weight: bold\"> trying directories</span>\n",
       "</pre>\n"
      ],
      "text/plain": [
       "\u001b[1;38;5;202m[\u001b[0m\u001b[1;38;5;202m!\u001b[0m\u001b[1;38;5;202m]\u001b[0m\u001b[1;38;5;202m Package.json not found at root of \u001b[0m\u001b[1;4;38;5;202mhttps://github.com/DSnopov/screentray-distribution;\u001b[0m\u001b[1;38;5;202m trying directories\u001b[0m\n"
      ]
     },
     "metadata": {},
     "output_type": "display_data"
    },
    {
     "data": {
      "text/html": [
       "<pre style=\"white-space:pre;overflow-x:auto;line-height:normal;font-family:Menlo,'DejaVu Sans Mono',consolas,'Courier New',monospace\"><span style=\"color: #800000; text-decoration-color: #800000; font-weight: bold\">[💀] Could not find package.json in first-level-subdirs</span>\n",
       "</pre>\n"
      ],
      "text/plain": [
       "\u001b[1;31m[\u001b[0m\u001b[1;31m💀\u001b[0m\u001b[1;31m]\u001b[0m\u001b[1;31m Could not find package.json in first-level-subdirs\u001b[0m\n"
      ]
     },
     "metadata": {},
     "output_type": "display_data"
    },
    {
     "data": {
      "text/html": [
       "<pre style=\"white-space:pre;overflow-x:auto;line-height:normal;font-family:Menlo,'DejaVu Sans Mono',consolas,'Courier New',monospace\"><span style=\"color: #ff5f00; text-decoration-color: #ff5f00; font-weight: bold\">[!] Package.json not found at root of </span><span style=\"color: #ff5f00; text-decoration-color: #ff5f00; font-weight: bold; text-decoration: underline\">https://github.com/itsjustaplant/spofly;</span><span style=\"color: #ff5f00; text-decoration-color: #ff5f00; font-weight: bold\"> trying directories</span>\n",
       "</pre>\n"
      ],
      "text/plain": [
       "\u001b[1;38;5;202m[\u001b[0m\u001b[1;38;5;202m!\u001b[0m\u001b[1;38;5;202m]\u001b[0m\u001b[1;38;5;202m Package.json not found at root of \u001b[0m\u001b[1;4;38;5;202mhttps://github.com/itsjustaplant/spofly;\u001b[0m\u001b[1;38;5;202m trying directories\u001b[0m\n"
      ]
     },
     "metadata": {},
     "output_type": "display_data"
    },
    {
     "data": {
      "text/html": [
       "<pre style=\"white-space:pre;overflow-x:auto;line-height:normal;font-family:Menlo,'DejaVu Sans Mono',consolas,'Courier New',monospace\"><span style=\"color: #800000; text-decoration-color: #800000; font-weight: bold\">[💀] Could not find package.json in first-level-subdirs</span>\n",
       "</pre>\n"
      ],
      "text/plain": [
       "\u001b[1;31m[\u001b[0m\u001b[1;31m💀\u001b[0m\u001b[1;31m]\u001b[0m\u001b[1;31m Could not find package.json in first-level-subdirs\u001b[0m\n"
      ]
     },
     "metadata": {},
     "output_type": "display_data"
    },
    {
     "data": {
      "text/html": [
       "<pre style=\"white-space:pre;overflow-x:auto;line-height:normal;font-family:Menlo,'DejaVu Sans Mono',consolas,'Courier New',monospace\"><span style=\"color: #ff5f00; text-decoration-color: #ff5f00; font-weight: bold\">[!] Package.json not found at root of </span><span style=\"color: #ff5f00; text-decoration-color: #ff5f00; font-weight: bold; text-decoration: underline\">https://github.com/StormSDK/StormApp;</span><span style=\"color: #ff5f00; text-decoration-color: #ff5f00; font-weight: bold\"> trying directories</span>\n",
       "</pre>\n"
      ],
      "text/plain": [
       "\u001b[1;38;5;202m[\u001b[0m\u001b[1;38;5;202m!\u001b[0m\u001b[1;38;5;202m]\u001b[0m\u001b[1;38;5;202m Package.json not found at root of \u001b[0m\u001b[1;4;38;5;202mhttps://github.com/StormSDK/StormApp;\u001b[0m\u001b[1;38;5;202m trying directories\u001b[0m\n"
      ]
     },
     "metadata": {},
     "output_type": "display_data"
    },
    {
     "data": {
      "text/html": [
       "<pre style=\"white-space:pre;overflow-x:auto;line-height:normal;font-family:Menlo,'DejaVu Sans Mono',consolas,'Courier New',monospace\"><span style=\"color: #800000; text-decoration-color: #800000; font-weight: bold\">[💀] Could not find package.json in first-level-subdirs</span>\n",
       "</pre>\n"
      ],
      "text/plain": [
       "\u001b[1;31m[\u001b[0m\u001b[1;31m💀\u001b[0m\u001b[1;31m]\u001b[0m\u001b[1;31m Could not find package.json in first-level-subdirs\u001b[0m\n"
      ]
     },
     "metadata": {},
     "output_type": "display_data"
    },
    {
     "data": {
      "text/html": [
       "<pre style=\"white-space:pre;overflow-x:auto;line-height:normal;font-family:Menlo,'DejaVu Sans Mono',consolas,'Courier New',monospace\"><span style=\"color: #ff5f00; text-decoration-color: #ff5f00; font-weight: bold\">[!] Package.json not found at root of </span><span style=\"color: #ff5f00; text-decoration-color: #ff5f00; font-weight: bold; text-decoration: underline\">https://github.com/sturdy-dev/sturdy;</span><span style=\"color: #ff5f00; text-decoration-color: #ff5f00; font-weight: bold\"> trying directories</span>\n",
       "</pre>\n"
      ],
      "text/plain": [
       "\u001b[1;38;5;202m[\u001b[0m\u001b[1;38;5;202m!\u001b[0m\u001b[1;38;5;202m]\u001b[0m\u001b[1;38;5;202m Package.json not found at root of \u001b[0m\u001b[1;4;38;5;202mhttps://github.com/sturdy-dev/sturdy;\u001b[0m\u001b[1;38;5;202m trying directories\u001b[0m\n"
      ]
     },
     "metadata": {},
     "output_type": "display_data"
    },
    {
     "data": {
      "text/html": [
       "<pre style=\"white-space:pre;overflow-x:auto;line-height:normal;font-family:Menlo,'DejaVu Sans Mono',consolas,'Courier New',monospace\"><span style=\"color: #800000; text-decoration-color: #800000; font-weight: bold\">[💀] Could not extract raw lines from f</span><span style=\"color: #800000; text-decoration-color: #800000; font-weight: bold; text-decoration: underline\">https://github.com/sturdy-dev/sturdy/tree/main/app</span>\n",
       "</pre>\n"
      ],
      "text/plain": [
       "\u001b[1;31m[\u001b[0m\u001b[1;31m💀\u001b[0m\u001b[1;31m]\u001b[0m\u001b[1;31m Could not extract raw lines from f\u001b[0m\u001b[1;4;31mhttps://github.com/sturdy-dev/sturdy/tree/main/app\u001b[0m\n"
      ]
     },
     "metadata": {},
     "output_type": "display_data"
    },
    {
     "data": {
      "text/html": [
       "<pre style=\"white-space:pre;overflow-x:auto;line-height:normal;font-family:Menlo,'DejaVu Sans Mono',consolas,'Courier New',monospace\"><span style=\"color: #ff5f00; text-decoration-color: #ff5f00; font-weight: bold\">[!] Invalid Semantic version: </span><span style=\"color: #ff5f00; text-decoration-color: #ff5f00; font-weight: bold\">8</span>\n",
       "</pre>\n"
      ],
      "text/plain": [
       "\u001b[1;38;5;202m[\u001b[0m\u001b[1;38;5;202m!\u001b[0m\u001b[1;38;5;202m]\u001b[0m\u001b[1;38;5;202m Invalid Semantic version: \u001b[0m\u001b[1;38;5;202m8\u001b[0m\n"
      ]
     },
     "metadata": {},
     "output_type": "display_data"
    },
    {
     "data": {
      "text/html": [
       "<pre style=\"white-space:pre;overflow-x:auto;line-height:normal;font-family:Menlo,'DejaVu Sans Mono',consolas,'Courier New',monospace\"><span style=\"color: #ff5f00; text-decoration-color: #ff5f00; font-weight: bold\">[!] Invalid Semantic version: </span><span style=\"color: #ff5f00; text-decoration-color: #ff5f00; font-weight: bold\">8</span>\n",
       "</pre>\n"
      ],
      "text/plain": [
       "\u001b[1;38;5;202m[\u001b[0m\u001b[1;38;5;202m!\u001b[0m\u001b[1;38;5;202m]\u001b[0m\u001b[1;38;5;202m Invalid Semantic version: \u001b[0m\u001b[1;38;5;202m8\u001b[0m\n"
      ]
     },
     "metadata": {},
     "output_type": "display_data"
    },
    {
     "data": {
      "text/html": [
       "<pre style=\"white-space:pre;overflow-x:auto;line-height:normal;font-family:Menlo,'DejaVu Sans Mono',consolas,'Courier New',monospace\"><span style=\"color: #ff5f00; text-decoration-color: #ff5f00; font-weight: bold\">[!] Package.json not found at root of </span><span style=\"color: #ff5f00; text-decoration-color: #ff5f00; font-weight: bold; text-decoration: underline\">https://sourceforge.net/projects/tagstoo/files/Tagstoo__sourcecode/;</span><span style=\"color: #ff5f00; text-decoration-color: #ff5f00; font-weight: bold\"> trying </span>\n",
       "<span style=\"color: #ff5f00; text-decoration-color: #ff5f00; font-weight: bold\">directories</span>\n",
       "</pre>\n"
      ],
      "text/plain": [
       "\u001b[1;38;5;202m[\u001b[0m\u001b[1;38;5;202m!\u001b[0m\u001b[1;38;5;202m]\u001b[0m\u001b[1;38;5;202m Package.json not found at root of \u001b[0m\u001b[1;4;38;5;202mhttps://sourceforge.net/projects/tagstoo/files/Tagstoo__sourcecode/;\u001b[0m\u001b[1;38;5;202m trying \u001b[0m\n",
       "\u001b[1;38;5;202mdirectories\u001b[0m\n"
      ]
     },
     "metadata": {},
     "output_type": "display_data"
    },
    {
     "data": {
      "text/html": [
       "<pre style=\"white-space:pre;overflow-x:auto;line-height:normal;font-family:Menlo,'DejaVu Sans Mono',consolas,'Courier New',monospace\"><span style=\"color: #800000; text-decoration-color: #800000; font-weight: bold\">[💀] Could not find package.json in first-level-subdirs</span>\n",
       "</pre>\n"
      ],
      "text/plain": [
       "\u001b[1;31m[\u001b[0m\u001b[1;31m💀\u001b[0m\u001b[1;31m]\u001b[0m\u001b[1;31m Could not find package.json in first-level-subdirs\u001b[0m\n"
      ]
     },
     "metadata": {},
     "output_type": "display_data"
    },
    {
     "data": {
      "text/html": [
       "<pre style=\"white-space:pre;overflow-x:auto;line-height:normal;font-family:Menlo,'DejaVu Sans Mono',consolas,'Courier New',monospace\"><span style=\"color: #ff5f00; text-decoration-color: #ff5f00; font-weight: bold\">[!] Package.json not found at root of </span><span style=\"color: #ff5f00; text-decoration-color: #ff5f00; font-weight: bold; text-decoration: underline\">https://github.com/TestMace/TestMace-issues;</span><span style=\"color: #ff5f00; text-decoration-color: #ff5f00; font-weight: bold\"> trying directories</span>\n",
       "</pre>\n"
      ],
      "text/plain": [
       "\u001b[1;38;5;202m[\u001b[0m\u001b[1;38;5;202m!\u001b[0m\u001b[1;38;5;202m]\u001b[0m\u001b[1;38;5;202m Package.json not found at root of \u001b[0m\u001b[1;4;38;5;202mhttps://github.com/TestMace/TestMace-issues;\u001b[0m\u001b[1;38;5;202m trying directories\u001b[0m\n"
      ]
     },
     "metadata": {},
     "output_type": "display_data"
    },
    {
     "data": {
      "text/html": [
       "<pre style=\"white-space:pre;overflow-x:auto;line-height:normal;font-family:Menlo,'DejaVu Sans Mono',consolas,'Courier New',monospace\"><span style=\"color: #800000; text-decoration-color: #800000; font-weight: bold\">[💀] Could not find package.json in first-level-subdirs</span>\n",
       "</pre>\n"
      ],
      "text/plain": [
       "\u001b[1;31m[\u001b[0m\u001b[1;31m💀\u001b[0m\u001b[1;31m]\u001b[0m\u001b[1;31m Could not find package.json in first-level-subdirs\u001b[0m\n"
      ]
     },
     "metadata": {},
     "output_type": "display_data"
    },
    {
     "data": {
      "text/html": [
       "<pre style=\"white-space:pre;overflow-x:auto;line-height:normal;font-family:Menlo,'DejaVu Sans Mono',consolas,'Courier New',monospace\"><span style=\"color: #ff5f00; text-decoration-color: #ff5f00; font-weight: bold\">[!] Package.json not found at root of </span><span style=\"color: #ff5f00; text-decoration-color: #ff5f00; font-weight: bold; text-decoration: underline\">https://bitbucket.org/speedydemon/electron_top_browser/;</span><span style=\"color: #ff5f00; text-decoration-color: #ff5f00; font-weight: bold\"> trying directories</span>\n",
       "</pre>\n"
      ],
      "text/plain": [
       "\u001b[1;38;5;202m[\u001b[0m\u001b[1;38;5;202m!\u001b[0m\u001b[1;38;5;202m]\u001b[0m\u001b[1;38;5;202m Package.json not found at root of \u001b[0m\u001b[1;4;38;5;202mhttps://bitbucket.org/speedydemon/electron_top_browser/;\u001b[0m\u001b[1;38;5;202m trying directories\u001b[0m\n"
      ]
     },
     "metadata": {},
     "output_type": "display_data"
    },
    {
     "data": {
      "text/html": [
       "<pre style=\"white-space:pre;overflow-x:auto;line-height:normal;font-family:Menlo,'DejaVu Sans Mono',consolas,'Courier New',monospace\"><span style=\"color: #800000; text-decoration-color: #800000; font-weight: bold\">[💀] Could not find package.json in first-level-subdirs</span>\n",
       "</pre>\n"
      ],
      "text/plain": [
       "\u001b[1;31m[\u001b[0m\u001b[1;31m💀\u001b[0m\u001b[1;31m]\u001b[0m\u001b[1;31m Could not find package.json in first-level-subdirs\u001b[0m\n"
      ]
     },
     "metadata": {},
     "output_type": "display_data"
    },
    {
     "data": {
      "text/html": [
       "<pre style=\"white-space:pre;overflow-x:auto;line-height:normal;font-family:Menlo,'DejaVu Sans Mono',consolas,'Courier New',monospace\"><span style=\"color: #ff5f00; text-decoration-color: #ff5f00; font-weight: bold\">[!] Package.json not found at root of </span><span style=\"color: #ff5f00; text-decoration-color: #ff5f00; font-weight: bold; text-decoration: underline\">https://github.com/Trackabi/desktop-time-tracking;</span><span style=\"color: #ff5f00; text-decoration-color: #ff5f00; font-weight: bold\"> trying directories</span>\n",
       "</pre>\n"
      ],
      "text/plain": [
       "\u001b[1;38;5;202m[\u001b[0m\u001b[1;38;5;202m!\u001b[0m\u001b[1;38;5;202m]\u001b[0m\u001b[1;38;5;202m Package.json not found at root of \u001b[0m\u001b[1;4;38;5;202mhttps://github.com/Trackabi/desktop-time-tracking;\u001b[0m\u001b[1;38;5;202m trying directories\u001b[0m\n"
      ]
     },
     "metadata": {},
     "output_type": "display_data"
    },
    {
     "data": {
      "text/html": [
       "<pre style=\"white-space:pre;overflow-x:auto;line-height:normal;font-family:Menlo,'DejaVu Sans Mono',consolas,'Courier New',monospace\"><span style=\"color: #800000; text-decoration-color: #800000; font-weight: bold\">[💀] Could not find package.json in first-level-subdirs</span>\n",
       "</pre>\n"
      ],
      "text/plain": [
       "\u001b[1;31m[\u001b[0m\u001b[1;31m💀\u001b[0m\u001b[1;31m]\u001b[0m\u001b[1;31m Could not find package.json in first-level-subdirs\u001b[0m\n"
      ]
     },
     "metadata": {},
     "output_type": "display_data"
    },
    {
     "data": {
      "text/html": [
       "<pre style=\"white-space:pre;overflow-x:auto;line-height:normal;font-family:Menlo,'DejaVu Sans Mono',consolas,'Courier New',monospace\"><span style=\"color: #ff5f00; text-decoration-color: #ff5f00; font-weight: bold\">[!] Package.json not found at root of </span><span style=\"color: #ff5f00; text-decoration-color: #ff5f00; font-weight: bold; text-decoration: underline\">https://bitbucket.org/bflower/react-intl-editor;</span><span style=\"color: #ff5f00; text-decoration-color: #ff5f00; font-weight: bold\"> trying directories</span>\n",
       "</pre>\n"
      ],
      "text/plain": [
       "\u001b[1;38;5;202m[\u001b[0m\u001b[1;38;5;202m!\u001b[0m\u001b[1;38;5;202m]\u001b[0m\u001b[1;38;5;202m Package.json not found at root of \u001b[0m\u001b[1;4;38;5;202mhttps://bitbucket.org/bflower/react-intl-editor;\u001b[0m\u001b[1;38;5;202m trying directories\u001b[0m\n"
      ]
     },
     "metadata": {},
     "output_type": "display_data"
    },
    {
     "data": {
      "text/html": [
       "<pre style=\"white-space:pre;overflow-x:auto;line-height:normal;font-family:Menlo,'DejaVu Sans Mono',consolas,'Courier New',monospace\"><span style=\"color: #800000; text-decoration-color: #800000; font-weight: bold\">[💀] Could not find package.json in first-level-subdirs</span>\n",
       "</pre>\n"
      ],
      "text/plain": [
       "\u001b[1;31m[\u001b[0m\u001b[1;31m💀\u001b[0m\u001b[1;31m]\u001b[0m\u001b[1;31m Could not find package.json in first-level-subdirs\u001b[0m\n"
      ]
     },
     "metadata": {},
     "output_type": "display_data"
    },
    {
     "data": {
      "text/html": [
       "<pre style=\"white-space:pre;overflow-x:auto;line-height:normal;font-family:Menlo,'DejaVu Sans Mono',consolas,'Courier New',monospace\"><span style=\"color: #ff5f00; text-decoration-color: #ff5f00; font-weight: bold\">[!] Package.json not found at root of </span><span style=\"color: #ff5f00; text-decoration-color: #ff5f00; font-weight: bold; text-decoration: underline\">https://github.com/thephucit/tunlookup;</span><span style=\"color: #ff5f00; text-decoration-color: #ff5f00; font-weight: bold\"> trying directories</span>\n",
       "</pre>\n"
      ],
      "text/plain": [
       "\u001b[1;38;5;202m[\u001b[0m\u001b[1;38;5;202m!\u001b[0m\u001b[1;38;5;202m]\u001b[0m\u001b[1;38;5;202m Package.json not found at root of \u001b[0m\u001b[1;4;38;5;202mhttps://github.com/thephucit/tunlookup;\u001b[0m\u001b[1;38;5;202m trying directories\u001b[0m\n"
      ]
     },
     "metadata": {},
     "output_type": "display_data"
    },
    {
     "data": {
      "text/html": [
       "<pre style=\"white-space:pre;overflow-x:auto;line-height:normal;font-family:Menlo,'DejaVu Sans Mono',consolas,'Courier New',monospace\"><span style=\"color: #800000; text-decoration-color: #800000; font-weight: bold\">[💀] Could not find package.json in first-level-subdirs</span>\n",
       "</pre>\n"
      ],
      "text/plain": [
       "\u001b[1;31m[\u001b[0m\u001b[1;31m💀\u001b[0m\u001b[1;31m]\u001b[0m\u001b[1;31m Could not find package.json in first-level-subdirs\u001b[0m\n"
      ]
     },
     "metadata": {},
     "output_type": "display_data"
    },
    {
     "data": {
      "text/html": [
       "<pre style=\"white-space:pre;overflow-x:auto;line-height:normal;font-family:Menlo,'DejaVu Sans Mono',consolas,'Courier New',monospace\"><span style=\"color: #800000; text-decoration-color: #800000; font-weight: bold\">[💀] Could not retrieve package.json </span><span style=\"color: #800000; text-decoration-color: #800000; font-weight: bold; text-decoration: underline\">https://code.vikunja.io/vikunja/desktop/src/branch/main/package.json</span>\n",
       "</pre>\n"
      ],
      "text/plain": [
       "\u001b[1;31m[\u001b[0m\u001b[1;31m💀\u001b[0m\u001b[1;31m]\u001b[0m\u001b[1;31m Could not retrieve package.json \u001b[0m\u001b[1;4;31mhttps://code.vikunja.io/vikunja/desktop/src/branch/main/package.json\u001b[0m\n"
      ]
     },
     "metadata": {},
     "output_type": "display_data"
    },
    {
     "data": {
      "text/html": [
       "<pre style=\"white-space:pre;overflow-x:auto;line-height:normal;font-family:Menlo,'DejaVu Sans Mono',consolas,'Courier New',monospace\"><span style=\"color: #ff5f00; text-decoration-color: #ff5f00; font-weight: bold\">[!] Package.json not found at root of </span><span style=\"color: #ff5f00; text-decoration-color: #ff5f00; font-weight: bold; text-decoration: underline\">https://github.com/Jisco/VisualFamilyTree;</span><span style=\"color: #ff5f00; text-decoration-color: #ff5f00; font-weight: bold\"> trying directories</span>\n",
       "</pre>\n"
      ],
      "text/plain": [
       "\u001b[1;38;5;202m[\u001b[0m\u001b[1;38;5;202m!\u001b[0m\u001b[1;38;5;202m]\u001b[0m\u001b[1;38;5;202m Package.json not found at root of \u001b[0m\u001b[1;4;38;5;202mhttps://github.com/Jisco/VisualFamilyTree;\u001b[0m\u001b[1;38;5;202m trying directories\u001b[0m\n"
      ]
     },
     "metadata": {},
     "output_type": "display_data"
    },
    {
     "data": {
      "text/html": [
       "<pre style=\"white-space:pre;overflow-x:auto;line-height:normal;font-family:Menlo,'DejaVu Sans Mono',consolas,'Courier New',monospace\"><span style=\"color: #800000; text-decoration-color: #800000; font-weight: bold\">[💀] Could not find package.json in first-level-subdirs</span>\n",
       "</pre>\n"
      ],
      "text/plain": [
       "\u001b[1;31m[\u001b[0m\u001b[1;31m💀\u001b[0m\u001b[1;31m]\u001b[0m\u001b[1;31m Could not find package.json in first-level-subdirs\u001b[0m\n"
      ]
     },
     "metadata": {},
     "output_type": "display_data"
    },
    {
     "data": {
      "text/html": [
       "<pre style=\"white-space:pre;overflow-x:auto;line-height:normal;font-family:Menlo,'DejaVu Sans Mono',consolas,'Courier New',monospace\"><span style=\"color: #ff5f00; text-decoration-color: #ff5f00; font-weight: bold\">[!] Package.json not found at root of </span><span style=\"color: #ff5f00; text-decoration-color: #ff5f00; font-weight: bold; text-decoration: underline\">https://github.com/Vivify-Ideas/vivifyscrum2-electron/;</span><span style=\"color: #ff5f00; text-decoration-color: #ff5f00; font-weight: bold\"> trying directories</span>\n",
       "</pre>\n"
      ],
      "text/plain": [
       "\u001b[1;38;5;202m[\u001b[0m\u001b[1;38;5;202m!\u001b[0m\u001b[1;38;5;202m]\u001b[0m\u001b[1;38;5;202m Package.json not found at root of \u001b[0m\u001b[1;4;38;5;202mhttps://github.com/Vivify-Ideas/vivifyscrum2-electron/;\u001b[0m\u001b[1;38;5;202m trying directories\u001b[0m\n"
      ]
     },
     "metadata": {},
     "output_type": "display_data"
    },
    {
     "data": {
      "text/html": [
       "<pre style=\"white-space:pre;overflow-x:auto;line-height:normal;font-family:Menlo,'DejaVu Sans Mono',consolas,'Courier New',monospace\"><span style=\"color: #800000; text-decoration-color: #800000; font-weight: bold\">[💀] Could not find package.json in first-level-subdirs</span>\n",
       "</pre>\n"
      ],
      "text/plain": [
       "\u001b[1;31m[\u001b[0m\u001b[1;31m💀\u001b[0m\u001b[1;31m]\u001b[0m\u001b[1;31m Could not find package.json in first-level-subdirs\u001b[0m\n"
      ]
     },
     "metadata": {},
     "output_type": "display_data"
    },
    {
     "data": {
      "text/html": [
       "<pre style=\"white-space:pre;overflow-x:auto;line-height:normal;font-family:Menlo,'DejaVu Sans Mono',consolas,'Courier New',monospace\"><span style=\"color: #ff5f00; text-decoration-color: #ff5f00; font-weight: bold\">[!] Package.json not found at root of </span><span style=\"color: #ff5f00; text-decoration-color: #ff5f00; font-weight: bold; text-decoration: underline\">https://github.com/Webdeskme/wdOS/releases;</span><span style=\"color: #ff5f00; text-decoration-color: #ff5f00; font-weight: bold\"> trying directories</span>\n",
       "</pre>\n"
      ],
      "text/plain": [
       "\u001b[1;38;5;202m[\u001b[0m\u001b[1;38;5;202m!\u001b[0m\u001b[1;38;5;202m]\u001b[0m\u001b[1;38;5;202m Package.json not found at root of \u001b[0m\u001b[1;4;38;5;202mhttps://github.com/Webdeskme/wdOS/releases;\u001b[0m\u001b[1;38;5;202m trying directories\u001b[0m\n"
      ]
     },
     "metadata": {},
     "output_type": "display_data"
    },
    {
     "data": {
      "text/html": [
       "<pre style=\"white-space:pre;overflow-x:auto;line-height:normal;font-family:Menlo,'DejaVu Sans Mono',consolas,'Courier New',monospace\"><span style=\"color: #800000; text-decoration-color: #800000; font-weight: bold\">[💀] Could not find package.json in first-level-subdirs</span>\n",
       "</pre>\n"
      ],
      "text/plain": [
       "\u001b[1;31m[\u001b[0m\u001b[1;31m💀\u001b[0m\u001b[1;31m]\u001b[0m\u001b[1;31m Could not find package.json in first-level-subdirs\u001b[0m\n"
      ]
     },
     "metadata": {},
     "output_type": "display_data"
    },
    {
     "data": {
      "text/html": [
       "<pre style=\"white-space:pre;overflow-x:auto;line-height:normal;font-family:Menlo,'DejaVu Sans Mono',consolas,'Courier New',monospace\"><span style=\"color: #ff5f00; text-decoration-color: #ff5f00; font-weight: bold\">[!] Package.json not found at root of </span><span style=\"color: #ff5f00; text-decoration-color: #ff5f00; font-weight: bold; text-decoration: underline\">https://github.com/MEGAMINDMK;</span><span style=\"color: #ff5f00; text-decoration-color: #ff5f00; font-weight: bold\"> trying directories</span>\n",
       "</pre>\n"
      ],
      "text/plain": [
       "\u001b[1;38;5;202m[\u001b[0m\u001b[1;38;5;202m!\u001b[0m\u001b[1;38;5;202m]\u001b[0m\u001b[1;38;5;202m Package.json not found at root of \u001b[0m\u001b[1;4;38;5;202mhttps://github.com/MEGAMINDMK;\u001b[0m\u001b[1;38;5;202m trying directories\u001b[0m\n"
      ]
     },
     "metadata": {},
     "output_type": "display_data"
    },
    {
     "data": {
      "text/html": [
       "<pre style=\"white-space:pre;overflow-x:auto;line-height:normal;font-family:Menlo,'DejaVu Sans Mono',consolas,'Courier New',monospace\"><span style=\"color: #800000; text-decoration-color: #800000; font-weight: bold\">[💀] Could not find package.json in first-level-subdirs</span>\n",
       "</pre>\n"
      ],
      "text/plain": [
       "\u001b[1;31m[\u001b[0m\u001b[1;31m💀\u001b[0m\u001b[1;31m]\u001b[0m\u001b[1;31m Could not find package.json in first-level-subdirs\u001b[0m\n"
      ]
     },
     "metadata": {},
     "output_type": "display_data"
    },
    {
     "data": {
      "text/html": [
       "<pre style=\"white-space:pre;overflow-x:auto;line-height:normal;font-family:Menlo,'DejaVu Sans Mono',consolas,'Courier New',monospace\"><span style=\"color: #ff5f00; text-decoration-color: #ff5f00; font-weight: bold\">[!] Package.json not found at root of </span><span style=\"color: #ff5f00; text-decoration-color: #ff5f00; font-weight: bold; text-decoration: underline\">https://github.com/getstream/winds;</span><span style=\"color: #ff5f00; text-decoration-color: #ff5f00; font-weight: bold\"> trying directories</span>\n",
       "</pre>\n"
      ],
      "text/plain": [
       "\u001b[1;38;5;202m[\u001b[0m\u001b[1;38;5;202m!\u001b[0m\u001b[1;38;5;202m]\u001b[0m\u001b[1;38;5;202m Package.json not found at root of \u001b[0m\u001b[1;4;38;5;202mhttps://github.com/getstream/winds;\u001b[0m\u001b[1;38;5;202m trying directories\u001b[0m\n"
      ]
     },
     "metadata": {},
     "output_type": "display_data"
    },
    {
     "data": {
      "text/html": [
       "<pre style=\"white-space:pre;overflow-x:auto;line-height:normal;font-family:Menlo,'DejaVu Sans Mono',consolas,'Courier New',monospace\"><span style=\"color: #800000; text-decoration-color: #800000; font-weight: bold\">[💀] Could not find package.json in first-level-subdirs</span>\n",
       "</pre>\n"
      ],
      "text/plain": [
       "\u001b[1;31m[\u001b[0m\u001b[1;31m💀\u001b[0m\u001b[1;31m]\u001b[0m\u001b[1;31m Could not find package.json in first-level-subdirs\u001b[0m\n"
      ]
     },
     "metadata": {},
     "output_type": "display_data"
    },
    {
     "data": {
      "text/html": [
       "<pre style=\"white-space:pre;overflow-x:auto;line-height:normal;font-family:Menlo,'DejaVu Sans Mono',consolas,'Courier New',monospace\"><span style=\"color: #ff5f00; text-decoration-color: #ff5f00; font-weight: bold\">[!] Package.json not found at root of </span><span style=\"color: #ff5f00; text-decoration-color: #ff5f00; font-weight: bold; text-decoration: underline\">https://github.com/wireapp;</span><span style=\"color: #ff5f00; text-decoration-color: #ff5f00; font-weight: bold\"> trying directories</span>\n",
       "</pre>\n"
      ],
      "text/plain": [
       "\u001b[1;38;5;202m[\u001b[0m\u001b[1;38;5;202m!\u001b[0m\u001b[1;38;5;202m]\u001b[0m\u001b[1;38;5;202m Package.json not found at root of \u001b[0m\u001b[1;4;38;5;202mhttps://github.com/wireapp;\u001b[0m\u001b[1;38;5;202m trying directories\u001b[0m\n"
      ]
     },
     "metadata": {},
     "output_type": "display_data"
    },
    {
     "data": {
      "text/html": [
       "<pre style=\"white-space:pre;overflow-x:auto;line-height:normal;font-family:Menlo,'DejaVu Sans Mono',consolas,'Courier New',monospace\"><span style=\"color: #800000; text-decoration-color: #800000; font-weight: bold\">[💀] Could not find package.json in first-level-subdirs</span>\n",
       "</pre>\n"
      ],
      "text/plain": [
       "\u001b[1;31m[\u001b[0m\u001b[1;31m💀\u001b[0m\u001b[1;31m]\u001b[0m\u001b[1;31m Could not find package.json in first-level-subdirs\u001b[0m\n"
      ]
     },
     "metadata": {},
     "output_type": "display_data"
    },
    {
     "data": {
      "text/html": [
       "<pre style=\"white-space:pre;overflow-x:auto;line-height:normal;font-family:Menlo,'DejaVu Sans Mono',consolas,'Courier New',monospace\"><span style=\"color: #ff5f00; text-decoration-color: #ff5f00; font-weight: bold\">[!] Package.json not found at root of </span><span style=\"color: #ff5f00; text-decoration-color: #ff5f00; font-weight: bold; text-decoration: underline\">https://github.com/FalconSoft/worksheets-data.studio;</span><span style=\"color: #ff5f00; text-decoration-color: #ff5f00; font-weight: bold\"> trying directories</span>\n",
       "</pre>\n"
      ],
      "text/plain": [
       "\u001b[1;38;5;202m[\u001b[0m\u001b[1;38;5;202m!\u001b[0m\u001b[1;38;5;202m]\u001b[0m\u001b[1;38;5;202m Package.json not found at root of \u001b[0m\u001b[1;4;38;5;202mhttps://github.com/FalconSoft/worksheets-data.studio;\u001b[0m\u001b[1;38;5;202m trying directories\u001b[0m\n"
      ]
     },
     "metadata": {},
     "output_type": "display_data"
    },
    {
     "data": {
      "text/html": [
       "<pre style=\"white-space:pre;overflow-x:auto;line-height:normal;font-family:Menlo,'DejaVu Sans Mono',consolas,'Courier New',monospace\"><span style=\"color: #800000; text-decoration-color: #800000; font-weight: bold\">[💀] Could not find package.json in first-level-subdirs</span>\n",
       "</pre>\n"
      ],
      "text/plain": [
       "\u001b[1;31m[\u001b[0m\u001b[1;31m💀\u001b[0m\u001b[1;31m]\u001b[0m\u001b[1;31m Could not find package.json in first-level-subdirs\u001b[0m\n"
      ]
     },
     "metadata": {},
     "output_type": "display_data"
    },
    {
     "data": {
      "text/html": [
       "<pre style=\"white-space:pre;overflow-x:auto;line-height:normal;font-family:Menlo,'DejaVu Sans Mono',consolas,'Courier New',monospace\"><span style=\"color: #ff5f00; text-decoration-color: #ff5f00; font-weight: bold\">[!] Package.json not found at root of </span><span style=\"color: #ff5f00; text-decoration-color: #ff5f00; font-weight: bold; text-decoration: underline\">https://github.com/Zefenify/Wolf-Cola;</span><span style=\"color: #ff5f00; text-decoration-color: #ff5f00; font-weight: bold\"> trying directories</span>\n",
       "</pre>\n"
      ],
      "text/plain": [
       "\u001b[1;38;5;202m[\u001b[0m\u001b[1;38;5;202m!\u001b[0m\u001b[1;38;5;202m]\u001b[0m\u001b[1;38;5;202m Package.json not found at root of \u001b[0m\u001b[1;4;38;5;202mhttps://github.com/Zefenify/Wolf-Cola;\u001b[0m\u001b[1;38;5;202m trying directories\u001b[0m\n"
      ]
     },
     "metadata": {},
     "output_type": "display_data"
    },
    {
     "data": {
      "text/html": [
       "<pre style=\"white-space:pre;overflow-x:auto;line-height:normal;font-family:Menlo,'DejaVu Sans Mono',consolas,'Courier New',monospace\"><span style=\"color: #800000; text-decoration-color: #800000; font-weight: bold\">[💀] Could not find package.json in first-level-subdirs</span>\n",
       "</pre>\n"
      ],
      "text/plain": [
       "\u001b[1;31m[\u001b[0m\u001b[1;31m💀\u001b[0m\u001b[1;31m]\u001b[0m\u001b[1;31m Could not find package.json in first-level-subdirs\u001b[0m\n"
      ]
     },
     "metadata": {},
     "output_type": "display_data"
    },
    {
     "data": {
      "text/html": [
       "<pre style=\"white-space:pre;overflow-x:auto;line-height:normal;font-family:Menlo,'DejaVu Sans Mono',consolas,'Courier New',monospace\"><span style=\"color: #ff5f00; text-decoration-color: #ff5f00; font-weight: bold\">[!] Package.json not found at root of </span><span style=\"color: #ff5f00; text-decoration-color: #ff5f00; font-weight: bold; text-decoration: underline\">https://github.com/alagrede/znote-app;</span><span style=\"color: #ff5f00; text-decoration-color: #ff5f00; font-weight: bold\"> trying directories</span>\n",
       "</pre>\n"
      ],
      "text/plain": [
       "\u001b[1;38;5;202m[\u001b[0m\u001b[1;38;5;202m!\u001b[0m\u001b[1;38;5;202m]\u001b[0m\u001b[1;38;5;202m Package.json not found at root of \u001b[0m\u001b[1;4;38;5;202mhttps://github.com/alagrede/znote-app;\u001b[0m\u001b[1;38;5;202m trying directories\u001b[0m\n"
      ]
     },
     "metadata": {},
     "output_type": "display_data"
    },
    {
     "data": {
      "text/html": [
       "<pre style=\"white-space:pre;overflow-x:auto;line-height:normal;font-family:Menlo,'DejaVu Sans Mono',consolas,'Courier New',monospace\"><span style=\"color: #800000; text-decoration-color: #800000; font-weight: bold\">[💀] Could not find package.json in first-level-subdirs</span>\n",
       "</pre>\n"
      ],
      "text/plain": [
       "\u001b[1;31m[\u001b[0m\u001b[1;31m💀\u001b[0m\u001b[1;31m]\u001b[0m\u001b[1;31m Could not find package.json in first-level-subdirs\u001b[0m\n"
      ]
     },
     "metadata": {},
     "output_type": "display_data"
    }
   ],
   "source": [
    "for a in non_manual_apps\n",
    "    package_url = scraper.search_package_json(a[\"repo\"])\n",
    "    if package_url:\n",
    "        electron_version = scraper.get_electron_version(package_url)\n",
    "        if electron_version:\n",
    "            a[\"electron_version\"] = electron_version\n",
    "            for v in vulncheck.PATCHED_VERSIONS:\n",
    "                if vulncheck.is_patched(v, electron_version):\n",
    "                    a[f\"vulnerable_{v}\"] = \"patched\"\n",
    "                else:\n",
    "                    a[f\"vulnerable_{v}\"] = \"vulnerable\"\n",
    "        else:\n",
    "            a[\"electron_version\"] = \"\"\n",
    "            for v in vulncheck.PATCHED_VERSIONS:\n",
    "                a[f\"vulnerable_{v}\"] = \"unknown\"\n",
    "        a[\"date_accessed\"] = time.strftime(\"%Y-%m-%d %H:%M:%S%z\")"
   ]
  },
  {
   "cell_type": "markdown",
   "id": "6f7ce0e0-4ca5-4b7e-9836-593943775ba6",
   "metadata": {},
   "source": [
    "## Saving Data\n",
    "\n",
    "Lastly, we recreate the CSV and JSON files for use by the community!"
   ]
  },
  {
   "cell_type": "code",
   "execution_count": 87,
   "id": "88585b4b-35c0-452e-801f-83df3e7eb3d0",
   "metadata": {
    "tags": []
   },
   "outputs": [],
   "source": [
    "with open(\"electron_apps.csv\",\"w\") as f:\n",
    "    writer = csv.DictWriter(f, apps[0].keys())\n",
    "    writer.writeheader()\n",
    "    writer.writerows(apps)\n",
    "\n",
    "with open(\"electron_apps.json\", \"w\") as f:\n",
    "    json.dump(apps, f, indent=4)"
   ]
  }
 ],
 "metadata": {
  "kernelspec": {
   "display_name": "Python 3 (ipykernel)",
   "language": "python",
   "name": "python3"
  },
  "language_info": {
   "codemirror_mode": {
    "name": "ipython",
    "version": 3
   },
   "file_extension": ".py",
   "mimetype": "text/x-python",
   "name": "python",
   "nbconvert_exporter": "python",
   "pygments_lexer": "ipython3",
   "version": "3.11.4"
  }
 },
 "nbformat": 4,
 "nbformat_minor": 5
}
